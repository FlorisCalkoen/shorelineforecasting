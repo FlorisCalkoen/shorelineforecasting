{
  "nbformat": 4,
  "nbformat_minor": 0,
  "metadata": {
    "colab": {
      "name": "gluonts.ipynb",
      "provenance": []
    },
    "kernelspec": {
      "name": "python3",
      "display_name": "Python 3"
    }
  },
  "cells": [
    {
      "cell_type": "markdown",
      "metadata": {
        "id": "vadCXae7xVBr"
      },
      "source": [
        "## Mount drive"
      ]
    },
    {
      "cell_type": "code",
      "metadata": {
        "id": "lmvEHhjBxR5R",
        "outputId": "a768783c-b94d-426f-c677-2f8fff3c3d49",
        "colab": {
          "base_uri": "https://localhost:8080/",
          "height": 34
        }
      },
      "source": [
        " from google.colab import drive\n",
        " drive.mount('/content/gdrive')"
      ],
      "execution_count": 1,
      "outputs": [
        {
          "output_type": "stream",
          "text": [
            "Mounted at /content/gdrive\n"
          ],
          "name": "stdout"
        }
      ]
    },
    {
      "cell_type": "markdown",
      "metadata": {
        "id": "Ut44LTF_xXQN"
      },
      "source": [
        "## GluonTS Dependencies\n",
        "Run pip commad and then restart runtime to reload libraries such as Pandas to appropriate version. "
      ]
    },
    {
      "cell_type": "code",
      "metadata": {
        "id": "cscynA6dxgqX",
        "outputId": "576ccf4e-ec3b-42e9-ed49-c1ca4b770fe9",
        "colab": {
          "base_uri": "https://localhost:8080/",
          "height": 187
        }
      },
      "source": [
        "!pip install -q --upgrade mxnet==1.6 gluonts"
      ],
      "execution_count": 2,
      "outputs": [
        {
          "output_type": "stream",
          "text": [
            "\u001b[K     |████████████████████████████████| 68.7MB 63kB/s \n",
            "\u001b[K     |████████████████████████████████| 430kB 47.2MB/s \n",
            "\u001b[K     |████████████████████████████████| 8.7MB 46.1MB/s \n",
            "\u001b[K     |████████████████████████████████| 194kB 52.6MB/s \n",
            "\u001b[K     |████████████████████████████████| 92kB 9.1MB/s \n",
            "\u001b[K     |████████████████████████████████| 10.1MB 40.3MB/s \n",
            "\u001b[?25h  Building wheel for ujson (setup.py) ... \u001b[?25l\u001b[?25hdone\n",
            "  Building wheel for holidays (setup.py) ... \u001b[?25l\u001b[?25hdone\n",
            "\u001b[31mERROR: google-colab 1.0.0 has requirement pandas~=1.1.0; python_version >= \"3.0\", but you'll have pandas 1.0.5 which is incompatible.\u001b[0m\n",
            "\u001b[31mERROR: fbprophet 0.7.1 has requirement holidays>=0.10.2, but you'll have holidays 0.9.12 which is incompatible.\u001b[0m\n"
          ],
          "name": "stdout"
        }
      ]
    },
    {
      "cell_type": "code",
      "metadata": {
        "id": "Acvm9dDCxvie"
      },
      "source": [
        "# Third-party imports. Pandas version should be 1.05\n",
        "%matplotlib inline\n",
        "import mxnet as mx\n",
        "from mxnet import gluon\n",
        "import numpy as np\n",
        "import pandas as pd\n",
        "import matplotlib.pyplot as plt\n",
        "import json\n",
        "\n",
        "assert pd.__version__ == \"1.0.5\", \"Pandas version is not 1.05\"\n",
        " "
      ],
      "execution_count": 1,
      "outputs": []
    },
    {
      "cell_type": "markdown",
      "metadata": {
        "id": "HfyGnx2Dx2SU"
      },
      "source": [
        "## Load data"
      ]
    },
    {
      "cell_type": "code",
      "metadata": {
        "id": "pvgZdsdvyjmu",
        "outputId": "6f3010b1-6717-4a59-e843-e0b894a6a2e9",
        "colab": {
          "base_uri": "https://localhost:8080/",
          "height": 34
        }
      },
      "source": [
        "tf = pd.read_csv(\"gdrive/My Drive/data/shorelines/shoreline-positions-preprocessed-sample.csv\", index_col=0)\n",
        "tf.shape"
      ],
      "execution_count": 2,
      "outputs": [
        {
          "output_type": "execute_result",
          "data": {
            "text/plain": [
              "(1000, 33)"
            ]
          },
          "metadata": {
            "tags": []
          },
          "execution_count": 2
        }
      ]
    },
    {
      "cell_type": "markdown",
      "metadata": {
        "id": "gCgTA1fjAfzl"
      },
      "source": [
        "## Define GluonTS parameters"
      ]
    },
    {
      "cell_type": "code",
      "metadata": {
        "id": "RvVM4rj7AfVg"
      },
      "source": [
        "metadata = {'num_series': len(tf),\n",
        "            'num_steps': len(tf.columns),\n",
        "            'prediction_length': 7,\n",
        "            'freq': '1Y',\n",
        "            'start': [pd.Timestamp(\"01-01-1984\", freq='1Y') for _ in range(len(tf))],\n",
        "            'item_id': tf.index.values\n",
        "            }"
      ],
      "execution_count": 21,
      "outputs": []
    },
    {
      "cell_type": "markdown",
      "metadata": {
        "id": "2GlT7sNP_sAW"
      },
      "source": [
        "## Load data into GluonTS"
      ]
    },
    {
      "cell_type": "code",
      "metadata": {
        "id": "uxflxO1M_gd3",
        "outputId": "ab516fc4-19aa-4714-e0a3-0992fb04b2f2",
        "colab": {
          "base_uri": "https://localhost:8080/",
          "height": 255
        }
      },
      "source": [
        "from gluonts.dataset.field_names import FieldName\n",
        "from gluonts.dataset.common import ListDataset\n",
        "\n",
        "\n",
        "[f\"FieldName.{k} = '{v}'\" for k, v in FieldName.__dict__.items() if not k.startswith('_')]"
      ],
      "execution_count": 20,
      "outputs": [
        {
          "output_type": "execute_result",
          "data": {
            "text/plain": [
              "[\"FieldName.ITEM_ID = 'item_id'\",\n",
              " \"FieldName.START = 'start'\",\n",
              " \"FieldName.TARGET = 'target'\",\n",
              " \"FieldName.FEAT_STATIC_CAT = 'feat_static_cat'\",\n",
              " \"FieldName.FEAT_STATIC_REAL = 'feat_static_real'\",\n",
              " \"FieldName.FEAT_DYNAMIC_CAT = 'feat_dynamic_cat'\",\n",
              " \"FieldName.FEAT_DYNAMIC_REAL = 'feat_dynamic_real'\",\n",
              " \"FieldName.FEAT_TIME = 'time_feat'\",\n",
              " \"FieldName.FEAT_CONST = 'feat_dynamic_const'\",\n",
              " \"FieldName.FEAT_AGE = 'feat_dynamic_age'\",\n",
              " \"FieldName.OBSERVED_VALUES = 'observed_values'\",\n",
              " \"FieldName.IS_PAD = 'is_pad'\",\n",
              " \"FieldName.FORECAST_START = 'forecast_start'\",\n",
              " \"FieldName.TARGET_DIM_INDICATOR = 'target_dimension_indicator'\"]"
            ]
          },
          "metadata": {
            "tags": []
          },
          "execution_count": 20
        }
      ]
    },
    {
      "cell_type": "code",
      "metadata": {
        "id": "VkinbcYJAaJf",
        "outputId": "fdc85776-c3e3-435d-d6b5-906a9f042e7e",
        "colab": {
          "base_uri": "https://localhost:8080/",
          "height": 34
        }
      },
      "source": [
        "tf_values = tf.to_numpy()"
      ],
      "execution_count": 12,
      "outputs": [
        {
          "output_type": "execute_result",
          "data": {
            "text/plain": [
              "(1000, 33)"
            ]
          },
          "metadata": {
            "tags": []
          },
          "execution_count": 12
        }
      ]
    },
    {
      "cell_type": "code",
      "metadata": {
        "id": "sjM1FbS1_ghZ"
      },
      "source": [
        "train_ds = ListDataset(\n",
        "    [\n",
        "     {\n",
        "         FieldName.TARGET: target,\n",
        "         FieldName.START: start,\n",
        "         FieldName.ITEM_ID: item_id\n",
        "      }\n",
        "     \n",
        "     for (target, start, item_id) in zip(tf_values[:, :-metadata['prediction_length']],\n",
        "                                        metadata['start'], \n",
        "                                        metadata['item_id'])\n",
        "    ], freq=metadata['freq'])\n",
        "\n",
        "test_ds = ListDataset(\n",
        "    [\n",
        "     {\n",
        "         FieldName.TARGET: target,\n",
        "         FieldName.START: start,\n",
        "         FieldName.ITEM_ID: item_id\n",
        "      }\n",
        "     \n",
        "     for (target, start, item_id) in zip(tf_values,\n",
        "                                        metadata['start'], \n",
        "                                        metadata['item_id'])\n",
        "    ], freq=metadata['freq'])"
      ],
      "execution_count": 35,
      "outputs": []
    },
    {
      "cell_type": "code",
      "metadata": {
        "id": "gAa3c7QEEjRz",
        "outputId": "e520d861-61b3-45da-958a-28ef44c41afb",
        "colab": {
          "base_uri": "https://localhost:8080/",
          "height": 445
        }
      },
      "source": [
        "from gluonts.dataset.util import to_pandas\n",
        "\n",
        "\n",
        "train_entry = next(iter(train_ds))\n",
        "train_entry.keys()\n",
        "\n",
        "test_entry = next(iter(test_ds))\n",
        "test_entry.keys()\n",
        "\n",
        "test_series = to_pandas(test_entry)\n",
        "train_series = to_pandas(train_entry)\n",
        "\n",
        "fig, ax = plt.subplots(2, 1, sharex=True, sharey=True, figsize=(10, 7))\n",
        "\n",
        "train_series.plot(ax=ax[0])\n",
        "ax[0].grid(which=\"both\")\n",
        "ax[0].legend([\"train series\"], loc=\"upper left\")\n",
        "\n",
        "test_series.plot(ax=ax[1])\n",
        "ax[1].axvline(train_series.index[-1], color='r') # end of train dataset\n",
        "ax[1].grid(which=\"both\")\n",
        "ax[1].legend([\"test series\", \"end of train series\"], loc=\"upper left\")"
      ],
      "execution_count": 37,
      "outputs": [
        {
          "output_type": "execute_result",
          "data": {
            "text/plain": [
              "<matplotlib.legend.Legend at 0x7fca64c02d68>"
            ]
          },
          "metadata": {
            "tags": []
          },
          "execution_count": 37
        },
        {
          "output_type": "display_data",
          "data": {
            "image/png": "[encoded data removed]",
            "text/plain": [
              "<Figure size 720x504 with 2 Axes>"
            ]
          },
          "metadata": {
            "tags": [],
            "needs_background": "light"
          }
        }
      ]
    },
    {
      "cell_type": "markdown",
      "metadata": {
        "id": "Y9Qh2hfoGa6L"
      },
      "source": [
        "### GluonTS Transformations\n",
        "\n",
        "\n"
      ]
    },
    {
      "cell_type": "code",
      "metadata": {
        "id": "HDiHeGQ9Fyyk"
      },
      "source": [
        "from gluonts.transform import (\n",
        "    AddAgeFeature,\n",
        "    AddObservedValuesIndicator,\n",
        "    Chain,\n",
        "    ExpectedNumInstanceSampler,\n",
        "    InstanceSplitter,\n",
        "    SetFieldIfNotPresent,\n",
        ")\n",
        "\n",
        "def create_transformation(freq, context_length, prediction_length):\n",
        "    return Chain(\n",
        "        [\n",
        "            AddObservedValuesIndicator(\n",
        "                target_field=FieldName.TARGET,\n",
        "                output_field=FieldName.OBSERVED_VALUES,\n",
        "            ),\n",
        "            AddAgeFeature(\n",
        "                target_field=FieldName.TARGET,\n",
        "                output_field=FieldName.FEAT_AGE,\n",
        "                pred_length=prediction_length,\n",
        "                log_scale=True,\n",
        "            ),\n",
        "            InstanceSplitter(\n",
        "                target_field=FieldName.TARGET,\n",
        "                is_pad_field=FieldName.IS_PAD,\n",
        "                start_field=FieldName.START,\n",
        "                forecast_start_field=FieldName.FORECAST_START,\n",
        "                train_sampler=ExpectedNumInstanceSampler(num_instances=1),\n",
        "                past_length=context_length,\n",
        "                future_length=prediction_length,\n",
        "                time_series_fields=[\n",
        "                    FieldName.FEAT_AGE,\n",
        "                    FieldName.FEAT_DYNAMIC_REAL,\n",
        "                    FieldName.OBSERVED_VALUES,\n",
        "                ],\n",
        "            ),\n",
        "        ]\n",
        "    )\n",
        "\n",
        "transformation = create_transformation(\n",
        "    metadata['freq'], \n",
        "    metadata['prediction_length'] * 2, # can be any appropriate value\n",
        "    metadata['prediction_length']\n",
        "    )\n",
        "# only works when dynamic/static features included\n",
        "train_tf = transformation(iter(train_ds), is_train=True)"
      ],
      "execution_count": 39,
      "outputs": []
    },
    {
      "cell_type": "markdown",
      "metadata": {
        "id": "DX3SHPdgG27u"
      },
      "source": [
        "### Get estimator and predictor\n"
      ]
    },
    {
      "cell_type": "code",
      "metadata": {
        "id": "OCmTJZYSHUy-",
        "outputId": "ebc3ad10-c79e-435f-ce7e-a684db42fbac",
        "colab": {
          "base_uri": "https://localhost:8080/",
          "height": 119
        }
      },
      "source": [
        "from gluonts.model.simple_feedforward import SimpleFeedForwardEstimator\n",
        "from gluonts.trainer import Trainer\n",
        "\n",
        "estimator = SimpleFeedForwardEstimator(\n",
        "    num_hidden_dimensions=[10],\n",
        "    prediction_length=metadata['prediction_length'],\n",
        "    context_length=metadata['prediction_length'] * 2,\n",
        "    freq=metadata['freq'],\n",
        "    trainer=Trainer(ctx=\"cpu\", \n",
        "                    epochs=5, \n",
        "                    learning_rate=1e-3, \n",
        "                    hybridize=False, \n",
        "                    num_batches_per_epoch=100\n",
        "                   )\n",
        ")\n",
        "\n",
        "predictor = estimator.train(train_ds)"
      ],
      "execution_count": 51,
      "outputs": [
        {
          "output_type": "stream",
          "text": [
            "\r  0%|          | 0/100 [00:00<?, ?it/s]"
          ],
          "name": "stderr"
        },
        {
          "output_type": "stream",
          "text": [
            "learning rate from ``lr_scheduler`` has been overwritten by ``learning_rate`` in optimizer.\n"
          ],
          "name": "stdout"
        },
        {
          "output_type": "stream",
          "text": [
            "100%|██████████| 100/100 [00:00<00:00, 101.10it/s, epoch=1/5, avg_epoch_loss=7.75]\n",
            "100%|██████████| 100/100 [00:01<00:00, 98.33it/s, epoch=2/5, avg_epoch_loss=6.4]\n",
            "100%|██████████| 100/100 [00:01<00:00, 98.98it/s, epoch=3/5, avg_epoch_loss=5.98]\n",
            "100%|██████████| 100/100 [00:01<00:00, 97.93it/s, epoch=4/5, avg_epoch_loss=5.81]\n",
            "100%|██████████| 100/100 [00:00<00:00, 104.06it/s, epoch=5/5, avg_epoch_loss=5.71]\n"
          ],
          "name": "stderr"
        }
      ]
    },
    {
      "cell_type": "markdown",
      "metadata": {
        "id": "QmIUSv-PJFY9"
      },
      "source": [
        "### Save model"
      ]
    },
    {
      "cell_type": "code",
      "metadata": {
        "id": "yE7SX-hhI1md"
      },
      "source": [
        "# save the trained model in tmp/\n",
        "from pathlib import Path\n",
        "predictor.serialize(Path(\"/tmp/\"))"
      ],
      "execution_count": null,
      "outputs": []
    },
    {
      "cell_type": "markdown",
      "metadata": {
        "id": "lhnsLFoUJHBz"
      },
      "source": [
        "### Load model"
      ]
    },
    {
      "cell_type": "code",
      "metadata": {
        "id": "repAOnxiJI48"
      },
      "source": [
        "# loads it back\n",
        "from gluonts.model.predictor import Predictor\n",
        "predictor_deserialized = Predictor.deserialize(Path(\"/tmp/\"))"
      ],
      "execution_count": null,
      "outputs": []
    },
    {
      "cell_type": "markdown",
      "metadata": {
        "id": "1cenOy71JO-g"
      },
      "source": [
        "### Inference"
      ]
    },
    {
      "cell_type": "code",
      "metadata": {
        "id": "TyI4TiWrJRcX",
        "outputId": "171c755c-fb2c-4818-c6a4-5125845bb240",
        "colab": {
          "base_uri": "https://localhost:8080/",
          "height": 85
        }
      },
      "source": [
        "from gluonts.evaluation.backtest import make_evaluation_predictions\n",
        "\n",
        "forecast_it, ts_it = make_evaluation_predictions(\n",
        "    dataset=test_ds,  # test dataset\n",
        "    predictor=predictor,  # predictor\n",
        "    num_samples=100,  # number of sample paths we want for evaluation\n",
        ")\n",
        "\n",
        "forecasts = list(forecast_it)\n",
        "tss = list(ts_it)\n",
        "\n",
        "# first entry of the time series list\n",
        "ts_entry = tss[0]\n",
        "forecast_entry =  forecasts[0]\n",
        "test_ds_entry = next(iter(test_ds))\n",
        "\n",
        "# first 5 values of the time series (convert from pandas to numpy)\n",
        "np.array(ts_entry[:5]).reshape(-1,)\n",
        "\n",
        "# first 5 values\n",
        "test_ds_entry['target'][:5]\n",
        "\n",
        "print(f\"Number of sample paths: {forecast_entry.num_samples}\")\n",
        "print(f\"Dimension of samples: {forecast_entry.samples.shape}\")\n",
        "print(f\"Start date of the forecast window: {forecast_entry.start_date}\")\n",
        "print(f\"Frequency of the time series: {forecast_entry.freq}\")"
      ],
      "execution_count": 52,
      "outputs": [
        {
          "output_type": "stream",
          "text": [
            "Number of sample paths: 100\n",
            "Dimension of samples: (100, 7)\n",
            "Start date of the forecast window: 2010-12-31 00:00:00\n",
            "Frequency of the time series: 1Y\n"
          ],
          "name": "stdout"
        }
      ]
    },
    {
      "cell_type": "code",
      "metadata": {
        "id": "lcj4H6dDJk9j",
        "outputId": "7f3b9bf0-f10d-42e0-9f8f-877fb6c85a75",
        "colab": {
          "base_uri": "https://localhost:8080/",
          "height": 85
        }
      },
      "source": [
        "print(f\"Mean of the future window:\\n {forecast_entry.mean}\")\n",
        "print(f\"0.5-quantile (median) of the future window:\\n {forecast_entry.quantile(0.5)}\")"
      ],
      "execution_count": 53,
      "outputs": [
        {
          "output_type": "stream",
          "text": [
            "Mean of the future window:\n",
            " [941.8658  965.59406 960.531   947.5511  948.02515 940.98096 952.22687]\n",
            "0.5-quantile (median) of the future window:\n",
            " [941.0319  961.11066 964.3043  953.3675  952.5109  949.6033  951.08673]\n"
          ],
          "name": "stdout"
        }
      ]
    },
    {
      "cell_type": "markdown",
      "metadata": {
        "id": "ucxBETzLJrkT"
      },
      "source": [
        "### Plot forecast\n"
      ]
    },
    {
      "cell_type": "code",
      "metadata": {
        "id": "wR64WA35JuuF",
        "outputId": "4dd14592-dafa-4a3e-b89a-25e784a18a65",
        "colab": {
          "base_uri": "https://localhost:8080/",
          "height": 428
        }
      },
      "source": [
        "def plot_prob_forecasts(ts_entry, forecast_entry):\n",
        "    plot_length = 100 \n",
        "    prediction_intervals = (50.0, 90.0)\n",
        "    legend = [\"observations\", \"median prediction\"] + [f\"{k}% prediction interval\" for k in prediction_intervals][::-1]\n",
        "\n",
        "    fig, ax = plt.subplots(1, 1, figsize=(10, 7))\n",
        "    ts_entry[-plot_length:].plot(ax=ax)  # plot the time series\n",
        "    forecast_entry.plot(prediction_intervals=prediction_intervals, color='g')\n",
        "    plt.grid(which=\"both\")\n",
        "    plt.legend(legend, loc=\"upper left\")\n",
        "    plt.show()\n",
        "\n",
        "plot_prob_forecasts(ts_entry, forecast_entry)"
      ],
      "execution_count": 56,
      "outputs": [
        {
          "output_type": "display_data",
          "data": {
            "image/png": "[encoded data removed]",
            "text/plain": [
              "<Figure size 720x504 with 1 Axes>"
            ]
          },
          "metadata": {
            "tags": [],
            "needs_background": "light"
          }
        }
      ]
    },
    {
      "cell_type": "markdown",
      "metadata": {
        "id": "6-qcH_91JyGJ"
      },
      "source": [
        "### Evaluation\n"
      ]
    },
    {
      "cell_type": "code",
      "metadata": {
        "id": "kDGw3tVgKQah",
        "outputId": "f98b1aa5-5681-4712-b5ef-fc96957c380d",
        "colab": {
          "base_uri": "https://localhost:8080/",
          "height": 476
        }
      },
      "source": [
        "from gluonts.evaluation import Evaluator\n",
        "evaluator = Evaluator(quantiles=[0.1, 0.5, 0.9])\n",
        "agg_metrics, item_metrics = evaluator(iter(tss), iter(forecasts), num_series=len(test_ds))\n",
        "print(json.dumps(agg_metrics, indent=4))"
      ],
      "execution_count": 57,
      "outputs": [
        {
          "output_type": "stream",
          "text": [
            "Running evaluation: 100%|██████████| 1000/1000 [00:00<00:00, 28632.21it/s]\n"
          ],
          "name": "stderr"
        },
        {
          "output_type": "stream",
          "text": [
            "{\n",
            "    \"MSE\": 6391.338034248891,\n",
            "    \"abs_error\": 217090.25820541382,\n",
            "    \"abs_target_sum\": 5354350.343623638,\n",
            "    \"abs_target_mean\": 764.9071919462335,\n",
            "    \"seasonal_error\": 14.578806050720202,\n",
            "    \"MASE\": 2.3501359099974204,\n",
            "    \"MAPE\": 0.13506944354356415,\n",
            "    \"sMAPE\": 0.05707786750929208,\n",
            "    \"OWA\": NaN,\n",
            "    \"MSIS\": 40.2175582848051,\n",
            "    \"QuantileLoss[0.1]\": 158112.74107139112,\n",
            "    \"Coverage[0.1]\": 0.13542857142857131,\n",
            "    \"QuantileLoss[0.5]\": 217090.2578136623,\n",
            "    \"Coverage[0.5]\": 0.6034285714285702,\n",
            "    \"QuantileLoss[0.9]\": 156623.5815987587,\n",
            "    \"Coverage[0.9]\": 0.8808571428571427,\n",
            "    \"RMSE\": 79.94584438386332,\n",
            "    \"NRMSE\": 0.10451705151372512,\n",
            "    \"ND\": 0.04054464954164629,\n",
            "    \"wQuantileLoss[0.1]\": 0.029529771293296793,\n",
            "    \"wQuantileLoss[0.5]\": 0.0405446494684812,\n",
            "    \"wQuantileLoss[0.9]\": 0.029251649882282692,\n",
            "    \"mean_wQuantileLoss\": 0.033108690214686896,\n",
            "    \"MAE_Coverage\": 0.052666666666666286\n",
            "}\n"
          ],
          "name": "stdout"
        }
      ]
    },
    {
      "cell_type": "code",
      "metadata": {
        "id": "iEQTvSjiKZfC",
        "outputId": "31d99d40-5036-437a-d526-35a9cbcfcfa6",
        "colab": {
          "base_uri": "https://localhost:8080/",
          "height": 224
        }
      },
      "source": [
        "item_metrics.head()"
      ],
      "execution_count": 58,
      "outputs": [
        {
          "output_type": "execute_result",
          "data": {
            "text/html": [
              "<div>\n",
              "<style scoped>\n",
              "    .dataframe tbody tr th:only-of-type {\n",
              "        vertical-align: middle;\n",
              "    }\n",
              "\n",
              "    .dataframe tbody tr th {\n",
              "        vertical-align: top;\n",
              "    }\n",
              "\n",
              "    .dataframe thead th {\n",
              "        text-align: right;\n",
              "    }\n",
              "</style>\n",
              "<table border=\"1\" class=\"dataframe\">\n",
              "  <thead>\n",
              "    <tr style=\"text-align: right;\">\n",
              "      <th></th>\n",
              "      <th>item_id</th>\n",
              "      <th>MSE</th>\n",
              "      <th>abs_error</th>\n",
              "      <th>abs_target_sum</th>\n",
              "      <th>abs_target_mean</th>\n",
              "      <th>seasonal_error</th>\n",
              "      <th>MASE</th>\n",
              "      <th>MAPE</th>\n",
              "      <th>sMAPE</th>\n",
              "      <th>OWA</th>\n",
              "      <th>MSIS</th>\n",
              "      <th>QuantileLoss[0.1]</th>\n",
              "      <th>Coverage[0.1]</th>\n",
              "      <th>QuantileLoss[0.5]</th>\n",
              "      <th>Coverage[0.5]</th>\n",
              "      <th>QuantileLoss[0.9]</th>\n",
              "      <th>Coverage[0.9]</th>\n",
              "    </tr>\n",
              "  </thead>\n",
              "  <tbody>\n",
              "    <tr>\n",
              "      <th>0</th>\n",
              "      <td>BOX_105_093_46</td>\n",
              "      <td>77.221549</td>\n",
              "      <td>38.615173</td>\n",
              "      <td>6678.055176</td>\n",
              "      <td>954.007882</td>\n",
              "      <td>12.249053</td>\n",
              "      <td>0.450358</td>\n",
              "      <td>0.005783</td>\n",
              "      <td>0.005787</td>\n",
              "      <td>NaN</td>\n",
              "      <td>17.044654</td>\n",
              "      <td>58.271838</td>\n",
              "      <td>0.000000</td>\n",
              "      <td>38.615173</td>\n",
              "      <td>0.285714</td>\n",
              "      <td>55.284766</td>\n",
              "      <td>1.0</td>\n",
              "    </tr>\n",
              "    <tr>\n",
              "      <th>1</th>\n",
              "      <td>BOX_138_573_303</td>\n",
              "      <td>1597.511300</td>\n",
              "      <td>235.398987</td>\n",
              "      <td>5343.153320</td>\n",
              "      <td>763.307617</td>\n",
              "      <td>14.719092</td>\n",
              "      <td>2.284681</td>\n",
              "      <td>0.044739</td>\n",
              "      <td>0.043411</td>\n",
              "      <td>NaN</td>\n",
              "      <td>10.646399</td>\n",
              "      <td>117.538782</td>\n",
              "      <td>0.571429</td>\n",
              "      <td>235.398987</td>\n",
              "      <td>0.857143</td>\n",
              "      <td>91.174170</td>\n",
              "      <td>1.0</td>\n",
              "    </tr>\n",
              "    <tr>\n",
              "      <th>2</th>\n",
              "      <td>BOX_173_047_80</td>\n",
              "      <td>48.342739</td>\n",
              "      <td>40.101440</td>\n",
              "      <td>3980.696289</td>\n",
              "      <td>568.670898</td>\n",
              "      <td>12.684817</td>\n",
              "      <td>0.451625</td>\n",
              "      <td>0.010097</td>\n",
              "      <td>0.010130</td>\n",
              "      <td>NaN</td>\n",
              "      <td>8.469246</td>\n",
              "      <td>37.550684</td>\n",
              "      <td>0.000000</td>\n",
              "      <td>40.101440</td>\n",
              "      <td>0.142857</td>\n",
              "      <td>25.699695</td>\n",
              "      <td>1.0</td>\n",
              "    </tr>\n",
              "    <tr>\n",
              "      <th>3</th>\n",
              "      <td>BOX_166_460_7</td>\n",
              "      <td>21059.395089</td>\n",
              "      <td>870.254578</td>\n",
              "      <td>2806.258301</td>\n",
              "      <td>400.894043</td>\n",
              "      <td>59.547017</td>\n",
              "      <td>2.087797</td>\n",
              "      <td>0.310030</td>\n",
              "      <td>0.257193</td>\n",
              "      <td>NaN</td>\n",
              "      <td>65.057348</td>\n",
              "      <td>1371.899854</td>\n",
              "      <td>0.857143</td>\n",
              "      <td>870.254608</td>\n",
              "      <td>1.000000</td>\n",
              "      <td>197.210095</td>\n",
              "      <td>1.0</td>\n",
              "    </tr>\n",
              "    <tr>\n",
              "      <th>4</th>\n",
              "      <td>BOX_137_207_4</td>\n",
              "      <td>329.846401</td>\n",
              "      <td>80.977112</td>\n",
              "      <td>5866.874023</td>\n",
              "      <td>838.124860</td>\n",
              "      <td>12.568298</td>\n",
              "      <td>0.920424</td>\n",
              "      <td>0.014014</td>\n",
              "      <td>0.013804</td>\n",
              "      <td>NaN</td>\n",
              "      <td>12.673208</td>\n",
              "      <td>46.768274</td>\n",
              "      <td>0.142857</td>\n",
              "      <td>80.977112</td>\n",
              "      <td>0.571429</td>\n",
              "      <td>53.706799</td>\n",
              "      <td>1.0</td>\n",
              "    </tr>\n",
              "  </tbody>\n",
              "</table>\n",
              "</div>"
            ],
            "text/plain": [
              "           item_id           MSE  ...  QuantileLoss[0.9]  Coverage[0.9]\n",
              "0   BOX_105_093_46     77.221549  ...          55.284766            1.0\n",
              "1  BOX_138_573_303   1597.511300  ...          91.174170            1.0\n",
              "2   BOX_173_047_80     48.342739  ...          25.699695            1.0\n",
              "3    BOX_166_460_7  21059.395089  ...         197.210095            1.0\n",
              "4    BOX_137_207_4    329.846401  ...          53.706799            1.0\n",
              "\n",
              "[5 rows x 17 columns]"
            ]
          },
          "metadata": {
            "tags": []
          },
          "execution_count": 58
        }
      ]
    },
    {
      "cell_type": "code",
      "metadata": {
        "id": "zbDI1c5jKcHB",
        "outputId": "f629df19-6de4-4afb-8536-d4a75a9fbdfc",
        "colab": {
          "base_uri": "https://localhost:8080/",
          "height": 279
        }
      },
      "source": [
        "item_metrics.plot(x='MSIS', y='MASE', kind='scatter')\n",
        "plt.grid(which=\"both\")\n",
        "plt.show()"
      ],
      "execution_count": 59,
      "outputs": [
        {
          "output_type": "display_data",
          "data": {
            "image/png": "[encoded data removed]",
            "text/plain": [
              "<Figure size 432x288 with 1 Axes>"
            ]
          },
          "metadata": {
            "tags": [],
            "needs_background": "light"
          }
        }
      ]
    }
  ]
}
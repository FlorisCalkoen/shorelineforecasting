{
 "cells": [
  {
   "cell_type": "code",
   "execution_count": 1,
   "metadata": {},
   "outputs": [],
   "source": [
    "import os\n",
    "\n",
    "import numpy as np\n",
    "import matplotlib.pyplot as plt\n",
    "import pandas as pd\n",
    "\n",
    "import project_path\n",
    "from project_path import (\n",
    "    module_path,\n",
    "    configuration_dir, \n",
    "    data_dir, \n",
    "    report_dir,\n",
    "    model_dir\n",
    ")\n",
    "from shorelineforecasting.utils.configs import GluonConfigs"
   ]
  },
  {
   "cell_type": "code",
   "execution_count": 2,
   "metadata": {},
   "outputs": [
    {
     "name": "stdout",
     "output_type": "stream",
     "text": [
      "Transects included in dataset: 37111; timesteps: 33\n"
     ]
    },
    {
     "data": {
      "text/html": [
       "<div>\n",
       "<style scoped>\n",
       "    .dataframe tbody tr th:only-of-type {\n",
       "        vertical-align: middle;\n",
       "    }\n",
       "\n",
       "    .dataframe tbody tr th {\n",
       "        vertical-align: top;\n",
       "    }\n",
       "\n",
       "    .dataframe thead th {\n",
       "        text-align: right;\n",
       "    }\n",
       "</style>\n",
       "<table border=\"1\" class=\"dataframe\">\n",
       "  <thead>\n",
       "    <tr style=\"text-align: right;\">\n",
       "      <th></th>\n",
       "      <th>1984</th>\n",
       "      <th>1985</th>\n",
       "      <th>1986</th>\n",
       "      <th>1987</th>\n",
       "      <th>1988</th>\n",
       "      <th>1989</th>\n",
       "      <th>1990</th>\n",
       "      <th>1991</th>\n",
       "      <th>1992</th>\n",
       "      <th>1993</th>\n",
       "      <th>...</th>\n",
       "      <th>2007</th>\n",
       "      <th>2008</th>\n",
       "      <th>2009</th>\n",
       "      <th>2010</th>\n",
       "      <th>2011</th>\n",
       "      <th>2012</th>\n",
       "      <th>2013</th>\n",
       "      <th>2014</th>\n",
       "      <th>2015</th>\n",
       "      <th>2016</th>\n",
       "    </tr>\n",
       "    <tr>\n",
       "      <th>transect_id</th>\n",
       "      <th></th>\n",
       "      <th></th>\n",
       "      <th></th>\n",
       "      <th></th>\n",
       "      <th></th>\n",
       "      <th></th>\n",
       "      <th></th>\n",
       "      <th></th>\n",
       "      <th></th>\n",
       "      <th></th>\n",
       "      <th></th>\n",
       "      <th></th>\n",
       "      <th></th>\n",
       "      <th></th>\n",
       "      <th></th>\n",
       "      <th></th>\n",
       "      <th></th>\n",
       "      <th></th>\n",
       "      <th></th>\n",
       "      <th></th>\n",
       "      <th></th>\n",
       "    </tr>\n",
       "  </thead>\n",
       "  <tbody>\n",
       "    <tr>\n",
       "      <th>BOX_051_151_15</th>\n",
       "      <td>677.32043</td>\n",
       "      <td>695.66370</td>\n",
       "      <td>713.29486</td>\n",
       "      <td>682.1743</td>\n",
       "      <td>688.23425</td>\n",
       "      <td>672.13007</td>\n",
       "      <td>700.43286</td>\n",
       "      <td>693.43460</td>\n",
       "      <td>699.38560</td>\n",
       "      <td>687.97950</td>\n",
       "      <td>...</td>\n",
       "      <td>700.6640</td>\n",
       "      <td>712.41740</td>\n",
       "      <td>708.45123</td>\n",
       "      <td>740.33240</td>\n",
       "      <td>680.42510</td>\n",
       "      <td>758.35150</td>\n",
       "      <td>754.49695</td>\n",
       "      <td>763.04297</td>\n",
       "      <td>743.29680</td>\n",
       "      <td>779.41570</td>\n",
       "    </tr>\n",
       "    <tr>\n",
       "      <th>BOX_051_151_18</th>\n",
       "      <td>768.93800</td>\n",
       "      <td>769.23883</td>\n",
       "      <td>762.44300</td>\n",
       "      <td>755.8622</td>\n",
       "      <td>761.79663</td>\n",
       "      <td>760.51710</td>\n",
       "      <td>763.30505</td>\n",
       "      <td>761.81360</td>\n",
       "      <td>769.22100</td>\n",
       "      <td>765.47060</td>\n",
       "      <td>...</td>\n",
       "      <td>763.1057</td>\n",
       "      <td>759.72600</td>\n",
       "      <td>766.23150</td>\n",
       "      <td>770.77130</td>\n",
       "      <td>798.26830</td>\n",
       "      <td>797.99615</td>\n",
       "      <td>803.90950</td>\n",
       "      <td>797.90780</td>\n",
       "      <td>798.18830</td>\n",
       "      <td>803.68256</td>\n",
       "    </tr>\n",
       "    <tr>\n",
       "      <th>BOX_051_151_21</th>\n",
       "      <td>711.41626</td>\n",
       "      <td>684.20540</td>\n",
       "      <td>695.49817</td>\n",
       "      <td>701.6695</td>\n",
       "      <td>705.29990</td>\n",
       "      <td>703.61470</td>\n",
       "      <td>707.69403</td>\n",
       "      <td>692.90360</td>\n",
       "      <td>704.68280</td>\n",
       "      <td>704.99945</td>\n",
       "      <td>...</td>\n",
       "      <td>825.8698</td>\n",
       "      <td>820.51720</td>\n",
       "      <td>820.68680</td>\n",
       "      <td>842.18097</td>\n",
       "      <td>850.45460</td>\n",
       "      <td>775.96700</td>\n",
       "      <td>883.04240</td>\n",
       "      <td>867.92426</td>\n",
       "      <td>877.37415</td>\n",
       "      <td>874.50244</td>\n",
       "    </tr>\n",
       "    <tr>\n",
       "      <th>BOX_051_151_30</th>\n",
       "      <td>795.81573</td>\n",
       "      <td>820.63700</td>\n",
       "      <td>799.72380</td>\n",
       "      <td>799.8664</td>\n",
       "      <td>823.56260</td>\n",
       "      <td>822.07300</td>\n",
       "      <td>823.56800</td>\n",
       "      <td>823.73300</td>\n",
       "      <td>824.58400</td>\n",
       "      <td>824.33360</td>\n",
       "      <td>...</td>\n",
       "      <td>823.7820</td>\n",
       "      <td>823.15674</td>\n",
       "      <td>823.65790</td>\n",
       "      <td>821.31860</td>\n",
       "      <td>818.85803</td>\n",
       "      <td>817.31220</td>\n",
       "      <td>822.92970</td>\n",
       "      <td>818.73350</td>\n",
       "      <td>822.18480</td>\n",
       "      <td>818.73480</td>\n",
       "    </tr>\n",
       "    <tr>\n",
       "      <th>BOX_051_151_32</th>\n",
       "      <td>242.70204</td>\n",
       "      <td>238.05159</td>\n",
       "      <td>229.93718</td>\n",
       "      <td>244.0620</td>\n",
       "      <td>247.68105</td>\n",
       "      <td>257.49900</td>\n",
       "      <td>302.69217</td>\n",
       "      <td>301.27722</td>\n",
       "      <td>301.12033</td>\n",
       "      <td>316.40414</td>\n",
       "      <td>...</td>\n",
       "      <td>301.1231</td>\n",
       "      <td>313.63553</td>\n",
       "      <td>313.09814</td>\n",
       "      <td>312.90347</td>\n",
       "      <td>306.18658</td>\n",
       "      <td>294.18326</td>\n",
       "      <td>297.23654</td>\n",
       "      <td>302.88650</td>\n",
       "      <td>323.85840</td>\n",
       "      <td>304.36823</td>\n",
       "    </tr>\n",
       "  </tbody>\n",
       "</table>\n",
       "<p>5 rows × 33 columns</p>\n",
       "</div>"
      ],
      "text/plain": [
       "                     1984       1985       1986      1987       1988  \\\n",
       "transect_id                                                            \n",
       "BOX_051_151_15  677.32043  695.66370  713.29486  682.1743  688.23425   \n",
       "BOX_051_151_18  768.93800  769.23883  762.44300  755.8622  761.79663   \n",
       "BOX_051_151_21  711.41626  684.20540  695.49817  701.6695  705.29990   \n",
       "BOX_051_151_30  795.81573  820.63700  799.72380  799.8664  823.56260   \n",
       "BOX_051_151_32  242.70204  238.05159  229.93718  244.0620  247.68105   \n",
       "\n",
       "                     1989       1990       1991       1992       1993  ...  \\\n",
       "transect_id                                                            ...   \n",
       "BOX_051_151_15  672.13007  700.43286  693.43460  699.38560  687.97950  ...   \n",
       "BOX_051_151_18  760.51710  763.30505  761.81360  769.22100  765.47060  ...   \n",
       "BOX_051_151_21  703.61470  707.69403  692.90360  704.68280  704.99945  ...   \n",
       "BOX_051_151_30  822.07300  823.56800  823.73300  824.58400  824.33360  ...   \n",
       "BOX_051_151_32  257.49900  302.69217  301.27722  301.12033  316.40414  ...   \n",
       "\n",
       "                    2007       2008       2009       2010       2011  \\\n",
       "transect_id                                                            \n",
       "BOX_051_151_15  700.6640  712.41740  708.45123  740.33240  680.42510   \n",
       "BOX_051_151_18  763.1057  759.72600  766.23150  770.77130  798.26830   \n",
       "BOX_051_151_21  825.8698  820.51720  820.68680  842.18097  850.45460   \n",
       "BOX_051_151_30  823.7820  823.15674  823.65790  821.31860  818.85803   \n",
       "BOX_051_151_32  301.1231  313.63553  313.09814  312.90347  306.18658   \n",
       "\n",
       "                     2012       2013       2014       2015       2016  \n",
       "transect_id                                                            \n",
       "BOX_051_151_15  758.35150  754.49695  763.04297  743.29680  779.41570  \n",
       "BOX_051_151_18  797.99615  803.90950  797.90780  798.18830  803.68256  \n",
       "BOX_051_151_21  775.96700  883.04240  867.92426  877.37415  874.50244  \n",
       "BOX_051_151_30  817.31220  822.92970  818.73350  822.18480  818.73480  \n",
       "BOX_051_151_32  294.18326  297.23654  302.88650  323.85840  304.36823  \n",
       "\n",
       "[5 rows x 33 columns]"
      ]
     },
     "execution_count": 2,
     "metadata": {},
     "output_type": "execute_result"
    }
   ],
   "source": [
    "tf = GluonConfigs.load_data()\n",
    "tf = tf.set_index('transect_id')\n",
    "tf = tf.dropna(thresh=33)\n",
    "print(f\"Transects included in dataset: {tf.shape[0]}; timesteps: {tf.shape[1]}\")\n",
    "tf.head()"
   ]
  },
  {
   "cell_type": "code",
   "execution_count": 3,
   "metadata": {},
   "outputs": [
    {
     "name": "stdout",
     "output_type": "stream",
     "text": [
      "Transects included in dataset: 37111; metadata columns: 27\n"
     ]
    },
    {
     "data": {
      "text/html": [
       "<div>\n",
       "<style scoped>\n",
       "    .dataframe tbody tr th:only-of-type {\n",
       "        vertical-align: middle;\n",
       "    }\n",
       "\n",
       "    .dataframe tbody tr th {\n",
       "        vertical-align: top;\n",
       "    }\n",
       "\n",
       "    .dataframe thead th {\n",
       "        text-align: right;\n",
       "    }\n",
       "</style>\n",
       "<table border=\"1\" class=\"dataframe\">\n",
       "  <thead>\n",
       "    <tr style=\"text-align: right;\">\n",
       "      <th></th>\n",
       "      <th>transect_id</th>\n",
       "      <th>country_id</th>\n",
       "      <th>continent</th>\n",
       "      <th>country_name</th>\n",
       "      <th>changerate</th>\n",
       "      <th>changerate_unc</th>\n",
       "      <th>flag_sandy</th>\n",
       "      <th>no_shorelines</th>\n",
       "      <th>RMSE</th>\n",
       "      <th>Timespan</th>\n",
       "      <th>...</th>\n",
       "      <th>Start_lat</th>\n",
       "      <th>Intersect_lon</th>\n",
       "      <th>Intersect_lat</th>\n",
       "      <th>End_lon</th>\n",
       "      <th>End_lat</th>\n",
       "      <th>coastline_idint</th>\n",
       "      <th>geometry</th>\n",
       "      <th>dbscan_cluster</th>\n",
       "      <th>fcluster</th>\n",
       "      <th>optics_clusters</th>\n",
       "    </tr>\n",
       "  </thead>\n",
       "  <tbody>\n",
       "    <tr>\n",
       "      <th>0</th>\n",
       "      <td>BOX_051_170_3</td>\n",
       "      <td>ARG</td>\n",
       "      <td>South America</td>\n",
       "      <td>Argentina</td>\n",
       "      <td>0.389332</td>\n",
       "      <td>0.344834</td>\n",
       "      <td>True</td>\n",
       "      <td>33.0</td>\n",
       "      <td>18.281954</td>\n",
       "      <td>32.0</td>\n",
       "      <td>...</td>\n",
       "      <td>-36.378387</td>\n",
       "      <td>-56.709120</td>\n",
       "      <td>-36.376892</td>\n",
       "      <td>-56.700333</td>\n",
       "      <td>-36.375397</td>\n",
       "      <td>7427</td>\n",
       "      <td>POINT (-56.70912170410156 -36.37689208984375)</td>\n",
       "      <td>0</td>\n",
       "      <td>2455</td>\n",
       "      <td>0</td>\n",
       "    </tr>\n",
       "    <tr>\n",
       "      <th>1</th>\n",
       "      <td>BOX_051_170_4</td>\n",
       "      <td>ARG</td>\n",
       "      <td>South America</td>\n",
       "      <td>Argentina</td>\n",
       "      <td>0.501007</td>\n",
       "      <td>0.390176</td>\n",
       "      <td>True</td>\n",
       "      <td>33.0</td>\n",
       "      <td>20.685827</td>\n",
       "      <td>32.0</td>\n",
       "      <td>...</td>\n",
       "      <td>-36.374847</td>\n",
       "      <td>-56.710050</td>\n",
       "      <td>-36.373356</td>\n",
       "      <td>-56.701260</td>\n",
       "      <td>-36.371860</td>\n",
       "      <td>7427</td>\n",
       "      <td>POINT (-56.71004867553711 -36.37335586547852)</td>\n",
       "      <td>0</td>\n",
       "      <td>2455</td>\n",
       "      <td>0</td>\n",
       "    </tr>\n",
       "    <tr>\n",
       "      <th>2</th>\n",
       "      <td>BOX_051_170_5</td>\n",
       "      <td>ARG</td>\n",
       "      <td>South America</td>\n",
       "      <td>Argentina</td>\n",
       "      <td>0.831012</td>\n",
       "      <td>0.331491</td>\n",
       "      <td>True</td>\n",
       "      <td>33.0</td>\n",
       "      <td>17.574545</td>\n",
       "      <td>32.0</td>\n",
       "      <td>...</td>\n",
       "      <td>-36.371933</td>\n",
       "      <td>-56.711193</td>\n",
       "      <td>-36.369860</td>\n",
       "      <td>-56.702587</td>\n",
       "      <td>-36.367786</td>\n",
       "      <td>7427</td>\n",
       "      <td>POINT (-56.7111930847168 -36.3698616027832)</td>\n",
       "      <td>0</td>\n",
       "      <td>2455</td>\n",
       "      <td>0</td>\n",
       "    </tr>\n",
       "    <tr>\n",
       "      <th>3</th>\n",
       "      <td>BOX_051_170_6</td>\n",
       "      <td>ARG</td>\n",
       "      <td>South America</td>\n",
       "      <td>Argentina</td>\n",
       "      <td>1.471142</td>\n",
       "      <td>0.277497</td>\n",
       "      <td>True</td>\n",
       "      <td>33.0</td>\n",
       "      <td>14.711926</td>\n",
       "      <td>32.0</td>\n",
       "      <td>...</td>\n",
       "      <td>-36.368470</td>\n",
       "      <td>-56.712482</td>\n",
       "      <td>-36.366394</td>\n",
       "      <td>-56.703876</td>\n",
       "      <td>-36.364323</td>\n",
       "      <td>7427</td>\n",
       "      <td>POINT (-56.71248245239258 -36.36639404296875)</td>\n",
       "      <td>0</td>\n",
       "      <td>2455</td>\n",
       "      <td>0</td>\n",
       "    </tr>\n",
       "    <tr>\n",
       "      <th>4</th>\n",
       "      <td>BOX_051_170_7</td>\n",
       "      <td>ARG</td>\n",
       "      <td>South America</td>\n",
       "      <td>Argentina</td>\n",
       "      <td>2.159336</td>\n",
       "      <td>0.288062</td>\n",
       "      <td>True</td>\n",
       "      <td>33.0</td>\n",
       "      <td>15.272047</td>\n",
       "      <td>32.0</td>\n",
       "      <td>...</td>\n",
       "      <td>-36.365000</td>\n",
       "      <td>-56.713768</td>\n",
       "      <td>-36.362930</td>\n",
       "      <td>-56.705162</td>\n",
       "      <td>-36.360855</td>\n",
       "      <td>7427</td>\n",
       "      <td>POINT (-56.71376800537109 -36.36293029785156)</td>\n",
       "      <td>0</td>\n",
       "      <td>2455</td>\n",
       "      <td>0</td>\n",
       "    </tr>\n",
       "  </tbody>\n",
       "</table>\n",
       "<p>5 rows × 27 columns</p>\n",
       "</div>"
      ],
      "text/plain": [
       "     transect_id country_id      continent country_name  changerate  \\\n",
       "0  BOX_051_170_3        ARG  South America    Argentina    0.389332   \n",
       "1  BOX_051_170_4        ARG  South America    Argentina    0.501007   \n",
       "2  BOX_051_170_5        ARG  South America    Argentina    0.831012   \n",
       "3  BOX_051_170_6        ARG  South America    Argentina    1.471142   \n",
       "4  BOX_051_170_7        ARG  South America    Argentina    2.159336   \n",
       "\n",
       "   changerate_unc  flag_sandy  no_shorelines       RMSE  Timespan  ...  \\\n",
       "0        0.344834        True           33.0  18.281954      32.0  ...   \n",
       "1        0.390176        True           33.0  20.685827      32.0  ...   \n",
       "2        0.331491        True           33.0  17.574545      32.0  ...   \n",
       "3        0.277497        True           33.0  14.711926      32.0  ...   \n",
       "4        0.288062        True           33.0  15.272047      32.0  ...   \n",
       "\n",
       "   Start_lat  Intersect_lon  Intersect_lat    End_lon    End_lat  \\\n",
       "0 -36.378387     -56.709120     -36.376892 -56.700333 -36.375397   \n",
       "1 -36.374847     -56.710050     -36.373356 -56.701260 -36.371860   \n",
       "2 -36.371933     -56.711193     -36.369860 -56.702587 -36.367786   \n",
       "3 -36.368470     -56.712482     -36.366394 -56.703876 -36.364323   \n",
       "4 -36.365000     -56.713768     -36.362930 -56.705162 -36.360855   \n",
       "\n",
       "   coastline_idint                                       geometry  \\\n",
       "0             7427  POINT (-56.70912170410156 -36.37689208984375)   \n",
       "1             7427  POINT (-56.71004867553711 -36.37335586547852)   \n",
       "2             7427    POINT (-56.7111930847168 -36.3698616027832)   \n",
       "3             7427  POINT (-56.71248245239258 -36.36639404296875)   \n",
       "4             7427  POINT (-56.71376800537109 -36.36293029785156)   \n",
       "\n",
       "   dbscan_cluster  fcluster  optics_clusters  \n",
       "0               0      2455                0  \n",
       "1               0      2455                0  \n",
       "2               0      2455                0  \n",
       "3               0      2455                0  \n",
       "4               0      2455                0  \n",
       "\n",
       "[5 rows x 27 columns]"
      ]
     },
     "execution_count": 3,
     "metadata": {},
     "output_type": "execute_result"
    }
   ],
   "source": [
    "sites = pd.read_csv(\"/media/storage/data/shorelines/sites-gluonts-prepared-37k.csv\")\n",
    "sites = sites.loc[sites['transect_id'].isin(tf.index)]\n",
    "print(f\"Transects included in dataset: {sites.shape[0]}; metadata columns: {sites.shape[1]}\")\n",
    "sites.head()"
   ]
  },
  {
   "cell_type": "code",
   "execution_count": 4,
   "metadata": {},
   "outputs": [],
   "source": [
    "metadata = {\n",
    "    'num_series': len(tf),\n",
    "    'num_steps': len(tf.columns),\n",
    "    'prediction_length': 7,\n",
    "    'freq': \"AS\",\n",
    "    'start': [pd.Timestamp(\"01-01-1984\", freq='AS') for _ in range(len(tf))],\n",
    "    'item_id': tf.index.values,\n",
    "    'epochs': 10,\n",
    "    'save_model': False,\n",
    "    'evaluate_model': True\n",
    "}"
   ]
  },
  {
   "cell_type": "code",
   "execution_count": 5,
   "metadata": {},
   "outputs": [],
   "source": [
    "from sklearn import preprocessing\n",
    "\n",
    "\n",
    "transformations = {\n",
    "    \"standard\": preprocessing.StandardScaler(),\n",
    "    \"min_max\": preprocessing.MinMaxScaler()\n",
    "}\n",
    "\n",
    "def scale_df(df, method):\n",
    "    x = df.values\n",
    "    scaler = transformations[method]\n",
    "    x_scaled = scaler.fit_transform(x)\n",
    "    return pd.DataFrame(x_scaled, index=df.index, columns=df.columns)\n",
    "\n",
    "tf_z =  scale_df(tf.T, method='standard').T"
   ]
  },
  {
   "cell_type": "code",
   "execution_count": 6,
   "metadata": {},
   "outputs": [],
   "source": [
    "from gluonts.dataset.common import ListDataset\n",
    "from gluonts.dataset.field_names import FieldName\n",
    "\n",
    "\n",
    "def get_gluon_ds(df):\n",
    "\n",
    "    train_ds = ListDataset(\n",
    "        [\n",
    "         {\n",
    "             FieldName.TARGET: target,\n",
    "             FieldName.START: start,\n",
    "             FieldName.ITEM_ID: item_id,\n",
    "             FieldName.FEAT_STATIC_CAT: [fclust, dbclust],\n",
    "             FieldName.FEAT_STATIC_REAL: [fsr]\n",
    "          }\n",
    "\n",
    "         for (target, start, item_id, fclust, dbclust, fsr) in zip(df.values[:, :-metadata['prediction_length']],\n",
    "                                            metadata['start'], \n",
    "                                            metadata['item_id'],\n",
    "                                            sites['fcluster'].values,\n",
    "                                            sites['dbscan_cluster'].values,\n",
    "                                            sites['changerate_unc'].values)\n",
    "        ], freq=metadata['freq'])\n",
    "\n",
    "    test_ds = ListDataset(\n",
    "        [\n",
    "         {\n",
    "             FieldName.TARGET: target,\n",
    "             FieldName.START: start,\n",
    "             FieldName.ITEM_ID: item_id,\n",
    "             FieldName.FEAT_STATIC_CAT: [fclust, dbclust],\n",
    "             FieldName.FEAT_STATIC_REAL: [fsr]\n",
    "          }\n",
    "\n",
    "         for (target, start, item_id, fclust, dbclust, fsr) in zip(df.values,\n",
    "                                            metadata['start'], \n",
    "                                            metadata['item_id'],\n",
    "                                            sites['fcluster'].values,\n",
    "                                            sites['dbscan_cluster'].values,\n",
    "                                            sites['changerate_unc'].values)\n",
    "        ], freq=metadata['freq'])\n",
    "          \n",
    "    return train_ds, test_ds"
   ]
  },
  {
   "cell_type": "code",
   "execution_count": 10,
   "metadata": {},
   "outputs": [],
   "source": [
    "train_ds, test_ds = get_gluon_ds(tf)"
   ]
  },
  {
   "cell_type": "code",
   "execution_count": 7,
   "metadata": {
    "scrolled": true
   },
   "outputs": [],
   "source": [
    "import inspect\n",
    "from pathlib import Path\n",
    "\n",
    "from gluonts.model.deepstate import DeepStateEstimator\n",
    "from gluonts.trainer import Trainer\n",
    "from gluonts.evaluation import Evaluator\n",
    "from gluonts.evaluation.backtest import make_evaluation_predictions\n",
    "\n",
    "from shorelineforecasting.utils.configs import get_predictor_id\n",
    "\n",
    "\n",
    "def get_cls_attributes(cls):\n",
    "    attributes = inspect.getmembers(cls, lambda x: not(inspect.isroutine(x)))\n",
    "    attributes = [a for a in attributes if not(a[0].startswith('__') and a[0].endswith('__'))]\n",
    "    return dict(attributes)\n",
    "\n",
    "\n",
    "def get_hyperparams(estimator, predictor_id):\n",
    "    predictor = type(estimator).__name__\n",
    "    estimator_attr = get_cls_attributes(estimator)\n",
    "    trainer_attr = get_cls_attributes(estimator_attr['trainer'])\n",
    "    attributes = {**estimator_attr, **trainer_attr}\n",
    "    attributes.pop('trainer', None)\n",
    "    attributes['predictor'] = predictor\n",
    "    attributes['predictor_id'] = predictor_id\n",
    "    return dict(attributes)\n",
    "\n",
    "\n",
    "def to_model_database(attributes):\n",
    "    fpath = os.path.join(data_dir, 'sensitivity-metrics-test.csv')\n",
    "    if not os.path.exists(fpath):\n",
    "        pd.DataFrame([attributes]).to_csv(fpath, header=True, index=False)\n",
    "        return print(f\"Created metrics database: {fpath}\")\n",
    "    params = pd.read_csv(fpath)\n",
    "    to_add_params = pd.DataFrame([attributes])\n",
    "    updated_params = pd.concat([params, to_add_params], axis=0, ignore_index=True)\n",
    "    updated_params.to_csv(fpath, header=True, index=False)\n",
    "    return print(f\"Updated metrics database: {fpath}\")\n",
    "\n",
    "\n",
    "batch_size = 16\n",
    "epochs = 10\n",
    "num_batches_per_epoch = 200\n",
    "cardinality = [\n",
    "    len(sites['fcluster'].unique()), \n",
    "    len(sites['dbscan_cluster'].unique())\n",
    "]\n",
    "\n",
    "def train_eval_loop():\n",
    "\n",
    "    estimator = DeepStateEstimator(\n",
    "        prediction_length=metadata['prediction_length'],\n",
    "        freq=\"12M\",\n",
    "        past_length=11,\n",
    "        use_feat_static_cat=True,\n",
    "        cardinality=cardinality,\n",
    "        time_features = [],\n",
    "        trainer=Trainer(\n",
    "            ctx=\"cpu\",\n",
    "            epochs=epochs,\n",
    "            learning_rate=1e-3,\n",
    "            num_batches_per_epoch=num_batches_per_epoch,\n",
    "            batch_size=batch_size\n",
    "        )\n",
    "    )\n",
    "\n",
    "\n",
    "\n",
    "    predictor_id = get_predictor_id()\n",
    "    attributes = get_hyperparams(estimator, predictor_id)\n",
    "\n",
    "    predictor = estimator.train(train_ds)\n",
    "\n",
    "    if metadata['save_model'] is True:\n",
    "        mpath = os.path.join(model_dir, f\"{attributes['predictor']}-{predictor_id}\")\n",
    "        if not os.path.exists(mpath):\n",
    "            os.mkdir(mpath)\n",
    "        predictor.serialize(Path(mpath))\n",
    "\n",
    "    if metadata['evaluate_model'] is True:\n",
    "        forecast_it, ts_it = make_evaluation_predictions(\n",
    "            test_ds, predictor=predictor, num_samples=100\n",
    "        )\n",
    "        agg_metrics, item_metrics = Evaluator()(\n",
    "            ts_it, forecast_it, num_series=len(test_ds)\n",
    "        )\n",
    "        attributes = {**attributes, **agg_metrics}\n",
    "    \n",
    "    to_model_database(attributes)\n",
    "    return agg_metrics\n"
   ]
  },
  {
   "cell_type": "code",
   "execution_count": 8,
   "metadata": {},
   "outputs": [
    {
     "name": "stderr",
     "output_type": "stream",
     "text": [
      "\r",
      "  0%|          | 0/200 [00:00<?, ?it/s]"
     ]
    },
    {
     "name": "stdout",
     "output_type": "stream",
     "text": [
      "learning rate from ``lr_scheduler`` has been overwritten by ``learning_rate`` in optimizer.\n"
     ]
    },
    {
     "name": "stderr",
     "output_type": "stream",
     "text": [
      "100%|██████████| 200/200 [01:13<00:00,  2.72it/s, epoch=1/10, avg_epoch_loss=-1.2] \n",
      "100%|██████████| 200/200 [01:17<00:00,  2.57it/s, epoch=2/10, avg_epoch_loss=-.946]\n",
      "100%|██████████| 200/200 [00:57<00:00,  3.48it/s, epoch=3/10, avg_epoch_loss=-.684]\n",
      "100%|██████████| 200/200 [00:30<00:00,  6.58it/s, epoch=4/10, avg_epoch_loss=-1.04]\n",
      "100%|██████████| 200/200 [00:12<00:00, 15.73it/s, epoch=5/10, avg_epoch_loss=-1.24]\n",
      "100%|██████████| 200/200 [00:20<00:00,  9.99it/s, epoch=6/10, avg_epoch_loss=-.911]\n",
      "100%|██████████| 200/200 [00:22<00:00,  8.88it/s, epoch=7/10, avg_epoch_loss=-1.27]\n",
      "100%|██████████| 200/200 [00:18<00:00, 10.87it/s, epoch=8/10, avg_epoch_loss=-1.61]\n",
      "100%|██████████| 200/200 [00:13<00:00, 14.65it/s, epoch=9/10, avg_epoch_loss=-1.72]\n",
      "100%|██████████| 200/200 [00:11<00:00, 17.22it/s, epoch=10/10, avg_epoch_loss=-1.69]\n",
      "Running evaluation: 100%|██████████| 200/200 [00:02<00:00, 67.35it/s]\n"
     ]
    },
    {
     "name": "stdout",
     "output_type": "stream",
     "text": [
      "Updated metrics database: /media/storage/data/shorelines/sensitivity-metrics-test.csv\n"
     ]
    },
    {
     "name": "stderr",
     "output_type": "stream",
     "text": [
      "\r",
      "  0%|          | 0/200 [00:00<?, ?it/s]"
     ]
    },
    {
     "name": "stdout",
     "output_type": "stream",
     "text": [
      "learning rate from ``lr_scheduler`` has been overwritten by ``learning_rate`` in optimizer.\n"
     ]
    },
    {
     "name": "stderr",
     "output_type": "stream",
     "text": [
      "100%|██████████| 200/200 [00:11<00:00, 16.87it/s, epoch=1/10, avg_epoch_loss=1.76]\n",
      "100%|██████████| 200/200 [00:10<00:00, 18.91it/s, epoch=2/10, avg_epoch_loss=1.6]\n",
      "100%|██████████| 200/200 [00:11<00:00, 17.05it/s, epoch=3/10, avg_epoch_loss=1.55]\n",
      "100%|██████████| 200/200 [00:15<00:00, 12.82it/s, epoch=4/10, avg_epoch_loss=1.61]\n",
      "100%|██████████| 200/200 [00:17<00:00, 11.67it/s, epoch=5/10, avg_epoch_loss=1.56]\n",
      "100%|██████████| 200/200 [00:16<00:00, 12.12it/s, epoch=6/10, avg_epoch_loss=1.54]\n",
      "100%|██████████| 200/200 [00:13<00:00, 14.86it/s, epoch=7/10, avg_epoch_loss=1.55]\n",
      "100%|██████████| 200/200 [00:11<00:00, 16.91it/s, epoch=8/10, avg_epoch_loss=1.62]\n",
      "100%|██████████| 200/200 [00:11<00:00, 17.23it/s, epoch=9/10, avg_epoch_loss=1.6] \n",
      "100%|██████████| 200/200 [00:09<00:00, 20.34it/s, epoch=10/10, avg_epoch_loss=1.59]\n",
      "Running evaluation: 100%|██████████| 200/200 [00:02<00:00, 69.46it/s]\n"
     ]
    },
    {
     "name": "stdout",
     "output_type": "stream",
     "text": [
      "Updated metrics database: /media/storage/data/shorelines/sensitivity-metrics-test.csv\n"
     ]
    }
   ],
   "source": [
    "results = []\n",
    "for ds in [tf, tf_z]:\n",
    "    for prediction_length in np.arange(7, 8):\n",
    "        metadata['prediction_length'] = prediction_length\n",
    "        train_ds, test_ds = get_gluon_ds(ds)\n",
    "        test_ds = ListDataset(test_ds.list_data[:200], freq=metadata['freq'])\n",
    "        results.append(train_eval_loop())"
   ]
  },
  {
   "cell_type": "code",
   "execution_count": 9,
   "metadata": {},
   "outputs": [
    {
     "data": {
      "text/plain": [
       "{'MSE': 1004.2310711233956,\n",
       " 'abs_error': 38605.56915283203,\n",
       " 'abs_target_sum': 1112432.0180664062,\n",
       " 'abs_target_mean': 794.5942986188617,\n",
       " 'seasonal_error': 12.928196844482422,\n",
       " 'MASE': 2.4627580285472535,\n",
       " 'MAPE': 0.03521798547960962,\n",
       " 'sMAPE': 0.036036262168218675,\n",
       " 'OWA': nan,\n",
       " 'MSIS': 13.604110621498293,\n",
       " 'QuantileLoss[0.1]': 20418.138220214845,\n",
       " 'Coverage[0.1]': 0.0007142857142857143,\n",
       " 'QuantileLoss[0.2]': 31955.52932128907,\n",
       " 'Coverage[0.2]': 0.00857142857142857,\n",
       " 'QuantileLoss[0.3]': 38432.6464477539,\n",
       " 'Coverage[0.3]': 0.01714285714285714,\n",
       " 'QuantileLoss[0.4]': 40412.36497802735,\n",
       " 'Coverage[0.4]': 0.03428571428571428,\n",
       " 'QuantileLoss[0.5]': 38605.56915283203,\n",
       " 'Coverage[0.5]': 0.09142857142857143,\n",
       " 'QuantileLoss[0.6]': 34761.49450683594,\n",
       " 'Coverage[0.6]': 0.16285714285714284,\n",
       " 'QuantileLoss[0.7]': 26933.993194580078,\n",
       " 'Coverage[0.7]': 0.30785714285714283,\n",
       " 'QuantileLoss[0.8]': 18031.726220703124,\n",
       " 'Coverage[0.8]': 0.567857142857143,\n",
       " 'QuantileLoss[0.9]': 10100.632391357422,\n",
       " 'Coverage[0.9]': 0.8492857142857143,\n",
       " 'RMSE': 31.689605095731245,\n",
       " 'NRMSE': 0.03988149065606574,\n",
       " 'ND': 0.03470375584832141,\n",
       " 'wQuantileLoss[0.1]': 0.01835450426508309,\n",
       " 'wQuantileLoss[0.2]': 0.028725826659352315,\n",
       " 'wQuantileLoss[0.3]': 0.03454831021005337,\n",
       " 'wQuantileLoss[0.4]': 0.03632794123300301,\n",
       " 'wQuantileLoss[0.5]': 0.03470375584832141,\n",
       " 'wQuantileLoss[0.6]': 0.031248196691836733,\n",
       " 'wQuantileLoss[0.7]': 0.024211810481143722,\n",
       " 'wQuantileLoss[0.8]': 0.01620928373856525,\n",
       " 'wQuantileLoss[0.9]': 0.009079774968104583,\n",
       " 'mean_wQuantileLoss': 0.025934378232829274,\n",
       " 'MAE_Coverage': 0.2733333333333333}"
      ]
     },
     "execution_count": 9,
     "metadata": {},
     "output_type": "execute_result"
    }
   ],
   "source": [
    "results[0]"
   ]
  },
  {
   "cell_type": "code",
   "execution_count": 10,
   "metadata": {},
   "outputs": [
    {
     "data": {
      "text/plain": [
       "{'MSE': 2.2172508420050145,\n",
       " 'abs_error': 1856.682501912117,\n",
       " 'abs_target_sum': 1691.5154285430908,\n",
       " 'abs_target_mean': 1.208225306102208,\n",
       " 'seasonal_error': 0.6620087969303131,\n",
       " 'MASE': 2.538185919866472,\n",
       " 'MAPE': 1.6360172143460212,\n",
       " 'sMAPE': 1.7283640859041212,\n",
       " 'OWA': nan,\n",
       " 'MSIS': 44.6126761500588,\n",
       " 'QuantileLoss[0.1]': 574.371197745204,\n",
       " 'Coverage[0.1]': 0.010714285714285711,\n",
       " 'QuantileLoss[0.2]': 1007.4182660847903,\n",
       " 'Coverage[0.2]': 0.032857142857142856,\n",
       " 'QuantileLoss[0.3]': 1360.4913010895252,\n",
       " 'Coverage[0.3]': 0.05285714285714285,\n",
       " 'QuantileLoss[0.4]': 1642.0787803843618,\n",
       " 'Coverage[0.4]': 0.07428571428571429,\n",
       " 'QuantileLoss[0.5]': 1856.6825098060071,\n",
       " 'Coverage[0.5]': 0.10214285714285713,\n",
       " 'QuantileLoss[0.6]': 2012.474472129345,\n",
       " 'Coverage[0.6]': 0.11785714285714284,\n",
       " 'QuantileLoss[0.7]': 2064.632593071461,\n",
       " 'Coverage[0.7]': 0.15357142857142858,\n",
       " 'QuantileLoss[0.8]': 1998.1264036096634,\n",
       " 'Coverage[0.8]': 0.20642857142857143,\n",
       " 'QuantileLoss[0.9]': 1755.7448917210104,\n",
       " 'Coverage[0.9]': 0.3021428571428571,\n",
       " 'RMSE': 1.4890435997663112,\n",
       " 'NRMSE': 1.2324221254478078,\n",
       " 'ND': 1.097644437988535,\n",
       " 'wQuantileLoss[0.1]': 0.33956012936867636,\n",
       " 'wQuantileLoss[0.2]': 0.5955714320338679,\n",
       " 'wQuantileLoss[0.3]': 0.8043032171816026,\n",
       " 'wQuantileLoss[0.4]': 0.970773752739986,\n",
       " 'wQuantileLoss[0.5]': 1.0976444426552914,\n",
       " 'wQuantileLoss[0.6]': 1.1897464475761226,\n",
       " 'wQuantileLoss[0.7]': 1.220581591058698,\n",
       " 'wQuantileLoss[0.8]': 1.1812640723771926,\n",
       " 'wQuantileLoss[0.9]': 1.0379715502998637,\n",
       " 'mean_wQuantileLoss': 0.937490737254589,\n",
       " 'MAE_Coverage': 0.38301587301587303}"
      ]
     },
     "execution_count": 10,
     "metadata": {},
     "output_type": "execute_result"
    }
   ],
   "source": [
    "results[1]"
   ]
  },
  {
   "cell_type": "code",
   "execution_count": 51,
   "metadata": {},
   "outputs": [
    {
     "name": "stderr",
     "output_type": "stream",
     "text": [
      "\r",
      "  0%|          | 0/200 [00:00<?, ?it/s]"
     ]
    },
    {
     "name": "stdout",
     "output_type": "stream",
     "text": [
      "learning rate from ``lr_scheduler`` has been overwritten by ``learning_rate`` in optimizer.\n"
     ]
    },
    {
     "name": "stderr",
     "output_type": "stream",
     "text": [
      "100%|██████████| 200/200 [00:05<00:00, 36.75it/s, epoch=1/10, avg_epoch_loss=-1.32]\n",
      "100%|██████████| 200/200 [00:05<00:00, 37.56it/s, epoch=2/10, avg_epoch_loss=-.511]\n",
      "100%|██████████| 200/200 [00:05<00:00, 36.95it/s, epoch=3/10, avg_epoch_loss=-1.15]\n",
      "100%|██████████| 200/200 [00:05<00:00, 37.93it/s, epoch=4/10, avg_epoch_loss=-1.25]\n",
      "100%|██████████| 200/200 [00:05<00:00, 36.08it/s, epoch=5/10, avg_epoch_loss=-1.17]\n",
      "100%|██████████| 200/200 [00:05<00:00, 37.75it/s, epoch=6/10, avg_epoch_loss=-1.11]\n",
      "100%|██████████| 200/200 [00:05<00:00, 38.31it/s, epoch=7/10, avg_epoch_loss=-1.41]\n",
      "100%|██████████| 200/200 [00:05<00:00, 37.57it/s, epoch=8/10, avg_epoch_loss=-1.65]\n",
      "100%|██████████| 200/200 [00:05<00:00, 37.75it/s, epoch=9/10, avg_epoch_loss=-1.66]\n",
      "100%|██████████| 200/200 [00:05<00:00, 37.28it/s, epoch=10/10, avg_epoch_loss=-1.68]\n",
      "Running evaluation: 100%|██████████| 37111/37111 [03:45<00:00, 164.36it/s]\n"
     ]
    },
    {
     "name": "stdout",
     "output_type": "stream",
     "text": [
      "Created metrics database: /media/storage/data/shorelines/sensitivity-metrics.csv\n",
      "learning rate from ``lr_scheduler`` has been overwritten by ``learning_rate`` in optimizer.\n"
     ]
    },
    {
     "name": "stderr",
     "output_type": "stream",
     "text": [
      "100%|██████████| 200/200 [00:05<00:00, 37.26it/s, epoch=1/10, avg_epoch_loss=-1.21]\n",
      "100%|██████████| 200/200 [00:05<00:00, 38.93it/s, epoch=2/10, avg_epoch_loss=-.811]\n",
      "100%|██████████| 200/200 [00:05<00:00, 38.79it/s, epoch=3/10, avg_epoch_loss=-1.08]\n",
      "100%|██████████| 200/200 [00:05<00:00, 38.75it/s, epoch=4/10, avg_epoch_loss=-1.31]\n",
      "100%|██████████| 200/200 [00:05<00:00, 38.16it/s, epoch=5/10, avg_epoch_loss=-1.06]\n",
      "100%|██████████| 200/200 [00:05<00:00, 38.67it/s, epoch=6/10, avg_epoch_loss=-1.01]\n",
      "100%|██████████| 200/200 [00:05<00:00, 38.04it/s, epoch=7/10, avg_epoch_loss=-1.27]\n",
      "100%|██████████| 200/200 [00:05<00:00, 38.67it/s, epoch=8/10, avg_epoch_loss=-1.64]\n",
      "100%|██████████| 200/200 [00:05<00:00, 38.58it/s, epoch=9/10, avg_epoch_loss=-1.72]\n",
      "100%|██████████| 200/200 [00:05<00:00, 38.51it/s, epoch=10/10, avg_epoch_loss=-1.67]\n",
      "Running evaluation: 100%|██████████| 37111/37111 [03:59<00:00, 154.84it/s]\n",
      "  0%|          | 0/200 [00:00<?, ?it/s]"
     ]
    },
    {
     "name": "stdout",
     "output_type": "stream",
     "text": [
      "Updated metrics database: /media/storage/data/shorelines/sensitivity-metrics.csv\n",
      "learning rate from ``lr_scheduler`` has been overwritten by ``learning_rate`` in optimizer.\n"
     ]
    },
    {
     "name": "stderr",
     "output_type": "stream",
     "text": [
      "100%|██████████| 200/200 [00:05<00:00, 36.09it/s, epoch=1/10, avg_epoch_loss=-1.19]\n",
      "100%|██████████| 200/200 [00:05<00:00, 37.54it/s, epoch=2/10, avg_epoch_loss=-.716]\n",
      "100%|██████████| 200/200 [00:05<00:00, 37.44it/s, epoch=3/10, avg_epoch_loss=-.941]\n",
      "100%|██████████| 200/200 [00:05<00:00, 36.76it/s, epoch=4/10, avg_epoch_loss=-1.24]\n",
      "100%|██████████| 200/200 [00:05<00:00, 37.06it/s, epoch=5/10, avg_epoch_loss=-1.06]\n",
      "100%|██████████| 200/200 [00:05<00:00, 37.64it/s, epoch=6/10, avg_epoch_loss=-.931]\n",
      "100%|██████████| 200/200 [00:05<00:00, 37.84it/s, epoch=7/10, avg_epoch_loss=-1.18]\n",
      "100%|██████████| 200/200 [00:05<00:00, 37.72it/s, epoch=8/10, avg_epoch_loss=-1.61]\n",
      "100%|██████████| 200/200 [00:05<00:00, 37.55it/s, epoch=9/10, avg_epoch_loss=-1.71]\n",
      "100%|██████████| 200/200 [00:05<00:00, 37.37it/s, epoch=10/10, avg_epoch_loss=-1.64]\n",
      "Running evaluation: 100%|██████████| 37111/37111 [04:14<00:00, 145.62it/s]\n"
     ]
    },
    {
     "name": "stdout",
     "output_type": "stream",
     "text": [
      "Updated metrics database: /media/storage/data/shorelines/sensitivity-metrics.csv\n"
     ]
    },
    {
     "name": "stderr",
     "output_type": "stream",
     "text": [
      "\r",
      "  0%|          | 0/200 [00:00<?, ?it/s]"
     ]
    },
    {
     "name": "stdout",
     "output_type": "stream",
     "text": [
      "learning rate from ``lr_scheduler`` has been overwritten by ``learning_rate`` in optimizer.\n"
     ]
    },
    {
     "name": "stderr",
     "output_type": "stream",
     "text": [
      "100%|██████████| 200/200 [00:05<00:00, 37.70it/s, epoch=1/10, avg_epoch_loss=-.906]\n",
      "100%|██████████| 200/200 [00:05<00:00, 38.72it/s, epoch=2/10, avg_epoch_loss=-.707]\n",
      "100%|██████████| 200/200 [00:05<00:00, 38.50it/s, epoch=3/10, avg_epoch_loss=-.692]\n",
      "100%|██████████| 200/200 [00:05<00:00, 38.69it/s, epoch=4/10, avg_epoch_loss=-1.21]\n",
      "100%|██████████| 200/200 [00:05<00:00, 38.54it/s, epoch=5/10, avg_epoch_loss=-1.15]\n",
      "100%|██████████| 200/200 [00:05<00:00, 37.97it/s, epoch=6/10, avg_epoch_loss=-.895]\n",
      "100%|██████████| 200/200 [00:05<00:00, 38.96it/s, epoch=7/10, avg_epoch_loss=-1.07]\n",
      "100%|██████████| 200/200 [00:05<00:00, 39.00it/s, epoch=8/10, avg_epoch_loss=-1.56]\n",
      "100%|██████████| 200/200 [00:05<00:00, 38.56it/s, epoch=9/10, avg_epoch_loss=-1.69]\n",
      "100%|██████████| 200/200 [00:05<00:00, 38.49it/s, epoch=10/10, avg_epoch_loss=-1.61]\n",
      "Running evaluation: 100%|██████████| 37111/37111 [04:30<00:00, 137.30it/s]\n",
      "  0%|          | 0/200 [00:00<?, ?it/s]"
     ]
    },
    {
     "name": "stdout",
     "output_type": "stream",
     "text": [
      "Updated metrics database: /media/storage/data/shorelines/sensitivity-metrics.csv\n",
      "learning rate from ``lr_scheduler`` has been overwritten by ``learning_rate`` in optimizer.\n"
     ]
    },
    {
     "name": "stderr",
     "output_type": "stream",
     "text": [
      "100%|██████████| 200/200 [00:05<00:00, 37.60it/s, epoch=1/10, avg_epoch_loss=-1.27]\n",
      "100%|██████████| 200/200 [00:05<00:00, 38.69it/s, epoch=2/10, avg_epoch_loss=-.923]\n",
      "100%|██████████| 200/200 [00:05<00:00, 38.18it/s, epoch=3/10, avg_epoch_loss=-.57]\n",
      "100%|██████████| 200/200 [00:05<00:00, 38.33it/s, epoch=4/10, avg_epoch_loss=-1.22]\n",
      "100%|██████████| 200/200 [00:05<00:00, 38.11it/s, epoch=5/10, avg_epoch_loss=-1.24]\n",
      "100%|██████████| 200/200 [00:05<00:00, 38.23it/s, epoch=6/10, avg_epoch_loss=-.966]\n",
      "100%|██████████| 200/200 [00:05<00:00, 37.98it/s, epoch=7/10, avg_epoch_loss=-1.28]\n",
      "100%|██████████| 200/200 [00:05<00:00, 35.80it/s, epoch=8/10, avg_epoch_loss=-1.69]\n",
      "100%|██████████| 200/200 [00:05<00:00, 38.11it/s, epoch=9/10, avg_epoch_loss=-1.72]\n",
      "100%|██████████| 200/200 [00:05<00:00, 38.14it/s, epoch=10/10, avg_epoch_loss=-1.65]\n",
      "Running evaluation: 100%|██████████| 37111/37111 [04:46<00:00, 129.48it/s]\n"
     ]
    },
    {
     "name": "stdout",
     "output_type": "stream",
     "text": [
      "Updated metrics database: /media/storage/data/shorelines/sensitivity-metrics.csv\n"
     ]
    },
    {
     "name": "stderr",
     "output_type": "stream",
     "text": [
      "\r",
      "  0%|          | 0/200 [00:00<?, ?it/s]"
     ]
    },
    {
     "name": "stdout",
     "output_type": "stream",
     "text": [
      "learning rate from ``lr_scheduler`` has been overwritten by ``learning_rate`` in optimizer.\n"
     ]
    },
    {
     "name": "stderr",
     "output_type": "stream",
     "text": [
      "100%|██████████| 200/200 [00:05<00:00, 37.28it/s, epoch=1/10, avg_epoch_loss=-1.13]\n",
      "100%|██████████| 200/200 [00:05<00:00, 38.55it/s, epoch=2/10, avg_epoch_loss=-.939]\n",
      "100%|██████████| 200/200 [00:05<00:00, 38.01it/s, epoch=3/10, avg_epoch_loss=-.847]\n",
      "100%|██████████| 200/200 [00:05<00:00, 38.57it/s, epoch=4/10, avg_epoch_loss=-1.13]\n",
      "100%|██████████| 200/200 [00:05<00:00, 37.83it/s, epoch=5/10, avg_epoch_loss=-1.22]\n",
      "100%|██████████| 200/200 [00:05<00:00, 37.99it/s, epoch=6/10, avg_epoch_loss=-.903]\n",
      "100%|██████████| 200/200 [00:05<00:00, 38.16it/s, epoch=7/10, avg_epoch_loss=-1.28]\n",
      "100%|██████████| 200/200 [00:05<00:00, 39.11it/s, epoch=8/10, avg_epoch_loss=-1.66]\n",
      "100%|██████████| 200/200 [00:05<00:00, 38.65it/s, epoch=9/10, avg_epoch_loss=-1.7]\n",
      "100%|██████████| 200/200 [00:05<00:00, 38.93it/s, epoch=10/10, avg_epoch_loss=-1.65]\n",
      "Running evaluation: 100%|██████████| 37111/37111 [05:02<00:00, 122.59it/s]\n",
      "  0%|          | 0/200 [00:00<?, ?it/s]"
     ]
    },
    {
     "name": "stdout",
     "output_type": "stream",
     "text": [
      "Updated metrics database: /media/storage/data/shorelines/sensitivity-metrics.csv\n",
      "learning rate from ``lr_scheduler`` has been overwritten by ``learning_rate`` in optimizer.\n"
     ]
    },
    {
     "name": "stderr",
     "output_type": "stream",
     "text": [
      "100%|██████████| 200/200 [00:05<00:00, 36.42it/s, epoch=1/10, avg_epoch_loss=-1.24]\n",
      "100%|██████████| 200/200 [00:05<00:00, 37.42it/s, epoch=2/10, avg_epoch_loss=-.9]\n",
      "100%|██████████| 200/200 [00:05<00:00, 38.18it/s, epoch=3/10, avg_epoch_loss=-.673]\n",
      "100%|██████████| 200/200 [00:05<00:00, 37.78it/s, epoch=4/10, avg_epoch_loss=-1.02]\n",
      "100%|██████████| 200/200 [00:05<00:00, 37.10it/s, epoch=5/10, avg_epoch_loss=-1.25]\n",
      "100%|██████████| 200/200 [00:05<00:00, 37.38it/s, epoch=6/10, avg_epoch_loss=-.899]\n",
      "100%|██████████| 200/200 [00:05<00:00, 36.83it/s, epoch=7/10, avg_epoch_loss=-1.26]\n",
      "100%|██████████| 200/200 [00:05<00:00, 37.48it/s, epoch=8/10, avg_epoch_loss=-1.62]\n",
      "100%|██████████| 200/200 [00:05<00:00, 36.95it/s, epoch=9/10, avg_epoch_loss=-1.73]\n",
      "100%|██████████| 200/200 [00:05<00:00, 37.24it/s, epoch=10/10, avg_epoch_loss=-1.69]\n",
      "Running evaluation: 100%|██████████| 37111/37111 [05:18<00:00, 116.49it/s]\n",
      "  0%|          | 0/200 [00:00<?, ?it/s]"
     ]
    },
    {
     "name": "stdout",
     "output_type": "stream",
     "text": [
      "Updated metrics database: /media/storage/data/shorelines/sensitivity-metrics.csv\n",
      "learning rate from ``lr_scheduler`` has been overwritten by ``learning_rate`` in optimizer.\n"
     ]
    },
    {
     "name": "stderr",
     "output_type": "stream",
     "text": [
      "100%|██████████| 200/200 [00:05<00:00, 36.69it/s, epoch=1/10, avg_epoch_loss=-1.12]\n",
      "100%|██████████| 200/200 [00:05<00:00, 37.67it/s, epoch=2/10, avg_epoch_loss=-.823]\n",
      "100%|██████████| 200/200 [00:05<00:00, 37.39it/s, epoch=3/10, avg_epoch_loss=-.57]\n",
      "100%|██████████| 200/200 [00:05<00:00, 37.33it/s, epoch=4/10, avg_epoch_loss=-.987]\n",
      "100%|██████████| 200/200 [00:05<00:00, 38.15it/s, epoch=5/10, avg_epoch_loss=-1.2]\n",
      "100%|██████████| 200/200 [00:05<00:00, 36.90it/s, epoch=6/10, avg_epoch_loss=-1.1]\n",
      "100%|██████████| 200/200 [00:05<00:00, 37.04it/s, epoch=7/10, avg_epoch_loss=-1.49]\n",
      "100%|██████████| 200/200 [00:05<00:00, 37.18it/s, epoch=8/10, avg_epoch_loss=-1.63]\n",
      "100%|██████████| 200/200 [00:05<00:00, 37.46it/s, epoch=9/10, avg_epoch_loss=-1.67]\n",
      "100%|██████████| 200/200 [00:05<00:00, 37.50it/s, epoch=10/10, avg_epoch_loss=-1.67]\n",
      "Running evaluation: 100%|██████████| 37111/37111 [05:59<00:00, 103.10it/s]\n"
     ]
    },
    {
     "name": "stdout",
     "output_type": "stream",
     "text": [
      "Updated metrics database: /media/storage/data/shorelines/sensitivity-metrics.csv\n"
     ]
    },
    {
     "name": "stderr",
     "output_type": "stream",
     "text": [
      "\r",
      "  0%|          | 0/200 [00:00<?, ?it/s]"
     ]
    },
    {
     "name": "stdout",
     "output_type": "stream",
     "text": [
      "learning rate from ``lr_scheduler`` has been overwritten by ``learning_rate`` in optimizer.\n"
     ]
    },
    {
     "name": "stderr",
     "output_type": "stream",
     "text": [
      "100%|██████████| 200/200 [00:05<00:00, 35.07it/s, epoch=1/10, avg_epoch_loss=-.999]\n",
      "100%|██████████| 200/200 [00:05<00:00, 34.99it/s, epoch=2/10, avg_epoch_loss=-1.16]\n",
      "100%|██████████| 200/200 [00:06<00:00, 33.08it/s, epoch=3/10, avg_epoch_loss=-.475]\n",
      "100%|██████████| 200/200 [00:06<00:00, 30.81it/s, epoch=4/10, avg_epoch_loss=-.772]\n",
      "100%|██████████| 200/200 [00:06<00:00, 31.76it/s, epoch=5/10, avg_epoch_loss=-.929]\n",
      "100%|██████████| 200/200 [00:05<00:00, 35.49it/s, epoch=6/10, avg_epoch_loss=-1.13]\n",
      "100%|██████████| 200/200 [00:05<00:00, 35.82it/s, epoch=7/10, avg_epoch_loss=-1.47]\n",
      "100%|██████████| 200/200 [00:05<00:00, 35.92it/s, epoch=8/10, avg_epoch_loss=-1.68]\n",
      "100%|██████████| 200/200 [00:05<00:00, 35.23it/s, epoch=9/10, avg_epoch_loss=-1.62]\n",
      "100%|██████████| 200/200 [00:05<00:00, 35.68it/s, epoch=10/10, avg_epoch_loss=-1.68]\n",
      "Running evaluation: 100%|██████████| 37111/37111 [06:10<00:00, 100.23it/s]\n",
      "  0%|          | 0/200 [00:00<?, ?it/s]"
     ]
    },
    {
     "name": "stdout",
     "output_type": "stream",
     "text": [
      "Updated metrics database: /media/storage/data/shorelines/sensitivity-metrics.csv\n",
      "learning rate from ``lr_scheduler`` has been overwritten by ``learning_rate`` in optimizer.\n"
     ]
    },
    {
     "name": "stderr",
     "output_type": "stream",
     "text": [
      "100%|██████████| 200/200 [00:06<00:00, 33.06it/s, epoch=1/10, avg_epoch_loss=-.809]\n",
      "100%|██████████| 200/200 [00:05<00:00, 33.82it/s, epoch=2/10, avg_epoch_loss=-1.06]\n",
      "100%|██████████| 200/200 [00:06<00:00, 31.41it/s, epoch=3/10, avg_epoch_loss=-.423]\n",
      "100%|██████████| 200/200 [00:05<00:00, 35.10it/s, epoch=4/10, avg_epoch_loss=-.878]\n",
      "100%|██████████| 200/200 [00:05<00:00, 36.12it/s, epoch=5/10, avg_epoch_loss=-1.45]\n",
      "100%|██████████| 200/200 [00:05<00:00, 35.20it/s, epoch=6/10, avg_epoch_loss=-1.25]\n",
      "100%|██████████| 200/200 [00:05<00:00, 33.51it/s, epoch=7/10, avg_epoch_loss=-1.44]\n",
      "100%|██████████| 200/200 [00:05<00:00, 34.21it/s, epoch=8/10, avg_epoch_loss=-1.69]\n",
      "100%|██████████| 200/200 [00:06<00:00, 32.68it/s, epoch=9/10, avg_epoch_loss=-1.53]\n",
      "100%|██████████| 200/200 [00:05<00:00, 33.58it/s, epoch=10/10, avg_epoch_loss=-1.67]\n",
      "Running evaluation: 100%|██████████| 37111/37111 [06:19<00:00, 97.81it/s] \n"
     ]
    },
    {
     "name": "stdout",
     "output_type": "stream",
     "text": [
      "Updated metrics database: /media/storage/data/shorelines/sensitivity-metrics.csv\n"
     ]
    },
    {
     "name": "stderr",
     "output_type": "stream",
     "text": [
      "\r",
      "  0%|          | 0/200 [00:00<?, ?it/s]"
     ]
    },
    {
     "name": "stdout",
     "output_type": "stream",
     "text": [
      "learning rate from ``lr_scheduler`` has been overwritten by ``learning_rate`` in optimizer.\n"
     ]
    },
    {
     "name": "stderr",
     "output_type": "stream",
     "text": [
      "100%|██████████| 200/200 [00:05<00:00, 33.69it/s, epoch=1/10, avg_epoch_loss=-.514]\n",
      "100%|██████████| 200/200 [00:05<00:00, 35.27it/s, epoch=2/10, avg_epoch_loss=-1.27]\n",
      "100%|██████████| 200/200 [00:05<00:00, 36.49it/s, epoch=3/10, avg_epoch_loss=-.32]\n",
      "100%|██████████| 200/200 [00:05<00:00, 36.61it/s, epoch=4/10, avg_epoch_loss=-.975]\n",
      "100%|██████████| 200/200 [00:05<00:00, 36.45it/s, epoch=5/10, avg_epoch_loss=-1.3]\n",
      "100%|██████████| 200/200 [00:05<00:00, 35.80it/s, epoch=6/10, avg_epoch_loss=-1.24]\n",
      "100%|██████████| 200/200 [00:05<00:00, 36.12it/s, epoch=7/10, avg_epoch_loss=-1.37]\n",
      "100%|██████████| 200/200 [00:05<00:00, 36.10it/s, epoch=8/10, avg_epoch_loss=-1.69]\n",
      "100%|██████████| 200/200 [00:05<00:00, 36.56it/s, epoch=9/10, avg_epoch_loss=-1.5]\n",
      "100%|██████████| 200/200 [00:05<00:00, 35.18it/s, epoch=10/10, avg_epoch_loss=-1.67]\n",
      "Running evaluation: 100%|██████████| 37111/37111 [06:35<00:00, 93.94it/s]\n"
     ]
    },
    {
     "name": "stdout",
     "output_type": "stream",
     "text": [
      "Updated metrics database: /media/storage/data/shorelines/sensitivity-metrics.csv\n"
     ]
    }
   ],
   "source": [
    "for prediction_length in np.arange(1, 12):\n",
    "    metadata['prediction_length'] = prediction_length\n",
    "    train_ds, test_ds = get_gluon_ds()\n",
    "#     test_ds = ListDataset(test_ds.list_data[:200], freq=metadata['freq'])\n",
    "    train_eval_loop()"
   ]
  },
  {
   "cell_type": "code",
   "execution_count": 45,
   "metadata": {},
   "outputs": [
    {
     "data": {
      "text/plain": [
       "Index(['add_trend', 'cardinality', 'cell_type', 'dropout_rate', 'dtype',\n",
       "       'embedding_dimension', 'freq', 'innovation_bounds', 'issm', 'lead_time',\n",
       "       'noise_std_bounds', 'num_cells', 'num_layers', 'num_parallel_samples',\n",
       "       'past_length', 'prediction_length', 'prior_cov_bounds', 'scaling',\n",
       "       'time_features', 'use_feat_dynamic_real', 'use_feat_static_cat',\n",
       "       'batch_size', 'clip_gradient', 'ctx', 'epochs', 'halt', 'hybridize',\n",
       "       'init', 'learning_rate', 'learning_rate_decay_factor',\n",
       "       'minimum_learning_rate', 'num_batches_per_epoch', 'patience',\n",
       "       'weight_decay', 'predictor', 'predictor_id', 'MSE', 'abs_error',\n",
       "       'abs_target_sum', 'abs_target_mean', 'seasonal_error', 'MASE', 'MAPE',\n",
       "       'sMAPE', 'OWA', 'MSIS', 'QuantileLoss[0.1]', 'Coverage[0.1]',\n",
       "       'QuantileLoss[0.2]', 'Coverage[0.2]', 'QuantileLoss[0.3]',\n",
       "       'Coverage[0.3]', 'QuantileLoss[0.4]', 'Coverage[0.4]',\n",
       "       'QuantileLoss[0.5]', 'Coverage[0.5]', 'QuantileLoss[0.6]',\n",
       "       'Coverage[0.6]', 'QuantileLoss[0.7]', 'Coverage[0.7]',\n",
       "       'QuantileLoss[0.8]', 'Coverage[0.8]', 'QuantileLoss[0.9]',\n",
       "       'Coverage[0.9]', 'RMSE', 'NRMSE', 'ND', 'wQuantileLoss[0.1]',\n",
       "       'wQuantileLoss[0.2]', 'wQuantileLoss[0.3]', 'wQuantileLoss[0.4]',\n",
       "       'wQuantileLoss[0.5]', 'wQuantileLoss[0.6]', 'wQuantileLoss[0.7]',\n",
       "       'wQuantileLoss[0.8]', 'wQuantileLoss[0.9]', 'mean_wQuantileLoss',\n",
       "       'MAE_Coverage'],\n",
       "      dtype='object')"
      ]
     },
     "execution_count": 45,
     "metadata": {},
     "output_type": "execute_result"
    }
   ],
   "source": [
    "tmp.columns"
   ]
  },
  {
   "cell_type": "code",
   "execution_count": 52,
   "metadata": {},
   "outputs": [],
   "source": [
    "fpath = os.path.join(data_dir, 'sensitivity-metrics.csv')\n",
    "tmp = pd.read_csv(fpath)\n",
    "\n"
   ]
  },
  {
   "cell_type": "code",
   "execution_count": 59,
   "metadata": {},
   "outputs": [
    {
     "data": {
      "text/plain": [
       "[<matplotlib.lines.Line2D at 0x7f4e1b961c70>]"
      ]
     },
     "execution_count": 59,
     "metadata": {},
     "output_type": "execute_result"
    },
    {
     "data": {
      "image/png": "[encoded data removed]",
      "text/plain": [
       "<Figure size 432x288 with 1 Axes>"
      ]
     },
     "metadata": {
      "needs_background": "light"
     },
     "output_type": "display_data"
    }
   ],
   "source": [
    "plt.plot(tmp['prediction_length'], tmp['MASE'])"
   ]
  },
  {
   "cell_type": "code",
   "execution_count": 25,
   "metadata": {},
   "outputs": [],
   "source": [
    "metrics = pd.concat([metrics, item_metrics], axis=0, ignore_index=True)\n",
    "metrics.to_csv(\"/media/storage/data/shorelines/metrics.csv\", header=True, index=False)"
   ]
  },
  {
   "cell_type": "code",
   "execution_count": 10,
   "metadata": {},
   "outputs": [],
   "source": [
    "def forecast_transects(transects, dataset, predictor, freq=None, \n",
    "                       prediction_length=None, **kwargs):\n",
    "    \n",
    "    if prediction_length is None:\n",
    "        prediction_length = metadata['prediction_length']\n",
    "        \n",
    "    if freq is None:\n",
    "        freq = metadata['freq']\n",
    "\n",
    "    dataset = ListDataset(\n",
    "        [\n",
    "            i for i in iter(dataset) if i['item_id'] in transects\n",
    "        ], \n",
    "        freq=metadata['freq']\n",
    "    )\n",
    "    return iter(dataset), predictor.predict(dataset)\n",
    "     \n",
    "\n",
    "    \n",
    "random_selection = np.random.choice(tf.index, size=50)\n",
    "duck = [f'BOX_160_055_3{i}' for i in np.arange(42, 50, 1)]    \n",
    "\n",
    "ts_it, forecast_it = forecast_transects(\n",
    "    transects=random_selection,\n",
    "    dataset=test_ds,\n",
    "    predictor=predictor,\n",
    ")"
   ]
  },
  {
   "cell_type": "markdown",
   "metadata": {},
   "source": [
    "### Load model"
   ]
  },
  {
   "cell_type": "code",
   "execution_count": 11,
   "metadata": {},
   "outputs": [],
   "source": [
    "# from gluonts.model.predictor import Predictor\n",
    "# mpath = os.path.join(model_dir, 'SimpleFeedForwardEstimator-176')\n",
    "# predictor_deserialized = Predictor.deserialize(Path(mpath))"
   ]
  },
  {
   "cell_type": "markdown",
   "metadata": {},
   "source": [
    "### Plot predictions"
   ]
  },
  {
   "cell_type": "code",
   "execution_count": 12,
   "metadata": {},
   "outputs": [],
   "source": [
    "from matplotlib.ticker import ScalarFormatter, AutoMinorLocator\n",
    "import matplotlib as mpl\n",
    "\n",
    "plt.style.use(os.path.join(configuration_dir, 'PaperSingleFig.mplstyle'))\n",
    "\n",
    "def plot_prob_forecast(ax, ts, fcst):\n",
    "    \n",
    "    prediction_intervals = (50.0, 90.0)\n",
    "    legend = [f\"{ts['item_id']}\", \"median prediction\"] + [f\"{k}% prediction interval\" for k in prediction_intervals][::-1]\n",
    "    \n",
    "    idx = pd.date_range(\n",
    "        start=ts[\"start\"],\n",
    "        periods=len(ts[\"target\"]),\n",
    "        freq=\"AS\"\n",
    "    )\n",
    "    \n",
    "    ts = pd.Series(ts[\"target\"], index=idx)\n",
    "    ts.plot(ax=ax)  # plot the time series\n",
    "    \n",
    "    fcst.plot(\n",
    "        prediction_intervals=prediction_intervals,\n",
    "        color='g'\n",
    "    ) \n",
    "    \n",
    "    ax.set_ylabel('Relative shoreline position (m)')\n",
    "    ax.set_xlabel('Time (yrs)')\n",
    "    ax.grid(which=\"both\")\n",
    "    ax.legend(legend, loc=\"upper left\")\n",
    "    \n",
    "    return ax\n"
   ]
  },
  {
   "cell_type": "code",
   "execution_count": 13,
   "metadata": {},
   "outputs": [
    {
     "data": {
      "image/png": "[encoded data removed]",
      "text/plain": [
       "<Figure size 518.4x320.4 with 1 Axes>"
      ]
     },
     "metadata": {
      "needs_background": "light"
     },
     "output_type": "display_data"
    }
   ],
   "source": [
    "fig, ax = plt.subplots()\n",
    "plot_prob_forecast(ax, next(ts_it), next(forecast_it))\n",
    "# plt.savefig(os.path.join(report_dir, 'images/deep-state.pdf'), dpi=300)\n",
    "plt.show()"
   ]
  },
  {
   "cell_type": "code",
   "execution_count": 14,
   "metadata": {},
   "outputs": [
    {
     "ename": "SyntaxError",
     "evalue": "invalid syntax (<ipython-input-14-f6460d7d9d2b>, line 1)",
     "output_type": "error",
     "traceback": [
      "\u001b[0;36m  File \u001b[0;32m\"<ipython-input-14-f6460d7d9d2b>\"\u001b[0;36m, line \u001b[0;32m1\u001b[0m\n\u001b[0;31m    `\u001b[0m\n\u001b[0m    ^\u001b[0m\n\u001b[0;31mSyntaxError\u001b[0m\u001b[0;31m:\u001b[0m invalid syntax\n"
     ]
    }
   ],
   "source": [
    "`"
   ]
  },
  {
   "cell_type": "code",
   "execution_count": null,
   "metadata": {},
   "outputs": [],
   "source": []
  },
  {
   "cell_type": "code",
   "execution_count": null,
   "metadata": {},
   "outputs": [],
   "source": []
  },
  {
   "cell_type": "code",
   "execution_count": null,
   "metadata": {},
   "outputs": [],
   "source": []
  },
  {
   "cell_type": "code",
   "execution_count": null,
   "metadata": {},
   "outputs": [],
   "source": []
  },
  {
   "cell_type": "code",
   "execution_count": null,
   "metadata": {},
   "outputs": [],
   "source": []
  },
  {
   "cell_type": "code",
   "execution_count": null,
   "metadata": {},
   "outputs": [],
   "source": []
  }
 ],
 "metadata": {
  "kernelspec": {
   "display_name": "Python 3",
   "language": "python",
   "name": "python3"
  },
  "language_info": {
   "codemirror_mode": {
    "name": "ipython",
    "version": 3
   },
   "file_extension": ".py",
   "mimetype": "text/x-python",
   "name": "python",
   "nbconvert_exporter": "python",
   "pygments_lexer": "ipython3",
   "version": "3.8.5"
  }
 },
 "nbformat": 4,
 "nbformat_minor": 4
}

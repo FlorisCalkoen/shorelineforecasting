{
 "cells": [
  {
   "cell_type": "code",
   "execution_count": 1,
   "metadata": {},
   "outputs": [],
   "source": [
    "import os\n",
    "\n",
    "import numpy as np\n",
    "import matplotlib.pyplot as plt\n",
    "import pandas as pd\n",
    "\n",
    "import project_path\n",
    "from project_path import (\n",
    "    module_path,\n",
    "    configuration_dir, \n",
    "    data_dir, \n",
    "    report_dir,\n",
    "    model_dir\n",
    ")\n",
    "from shorelineforecasting.utils.configs import GluonConfigs"
   ]
  },
  {
   "cell_type": "code",
   "execution_count": 2,
   "metadata": {},
   "outputs": [
    {
     "name": "stdout",
     "output_type": "stream",
     "text": [
      "Transects included in dataset: 37111; timesteps: 33\n"
     ]
    },
    {
     "data": {
      "text/html": [
       "<div>\n",
       "<style scoped>\n",
       "    .dataframe tbody tr th:only-of-type {\n",
       "        vertical-align: middle;\n",
       "    }\n",
       "\n",
       "    .dataframe tbody tr th {\n",
       "        vertical-align: top;\n",
       "    }\n",
       "\n",
       "    .dataframe thead th {\n",
       "        text-align: right;\n",
       "    }\n",
       "</style>\n",
       "<table border=\"1\" class=\"dataframe\">\n",
       "  <thead>\n",
       "    <tr style=\"text-align: right;\">\n",
       "      <th></th>\n",
       "      <th>1984</th>\n",
       "      <th>1985</th>\n",
       "      <th>1986</th>\n",
       "      <th>1987</th>\n",
       "      <th>1988</th>\n",
       "      <th>1989</th>\n",
       "      <th>1990</th>\n",
       "      <th>1991</th>\n",
       "      <th>1992</th>\n",
       "      <th>1993</th>\n",
       "      <th>...</th>\n",
       "      <th>2007</th>\n",
       "      <th>2008</th>\n",
       "      <th>2009</th>\n",
       "      <th>2010</th>\n",
       "      <th>2011</th>\n",
       "      <th>2012</th>\n",
       "      <th>2013</th>\n",
       "      <th>2014</th>\n",
       "      <th>2015</th>\n",
       "      <th>2016</th>\n",
       "    </tr>\n",
       "    <tr>\n",
       "      <th>transect_id</th>\n",
       "      <th></th>\n",
       "      <th></th>\n",
       "      <th></th>\n",
       "      <th></th>\n",
       "      <th></th>\n",
       "      <th></th>\n",
       "      <th></th>\n",
       "      <th></th>\n",
       "      <th></th>\n",
       "      <th></th>\n",
       "      <th></th>\n",
       "      <th></th>\n",
       "      <th></th>\n",
       "      <th></th>\n",
       "      <th></th>\n",
       "      <th></th>\n",
       "      <th></th>\n",
       "      <th></th>\n",
       "      <th></th>\n",
       "      <th></th>\n",
       "      <th></th>\n",
       "    </tr>\n",
       "  </thead>\n",
       "  <tbody>\n",
       "    <tr>\n",
       "      <th>BOX_051_151_15</th>\n",
       "      <td>677.32043</td>\n",
       "      <td>695.66370</td>\n",
       "      <td>713.29486</td>\n",
       "      <td>682.1743</td>\n",
       "      <td>688.23425</td>\n",
       "      <td>672.13007</td>\n",
       "      <td>700.43286</td>\n",
       "      <td>693.43460</td>\n",
       "      <td>699.38560</td>\n",
       "      <td>687.97950</td>\n",
       "      <td>...</td>\n",
       "      <td>700.6640</td>\n",
       "      <td>712.41740</td>\n",
       "      <td>708.45123</td>\n",
       "      <td>740.33240</td>\n",
       "      <td>680.42510</td>\n",
       "      <td>758.35150</td>\n",
       "      <td>754.49695</td>\n",
       "      <td>763.04297</td>\n",
       "      <td>743.29680</td>\n",
       "      <td>779.41570</td>\n",
       "    </tr>\n",
       "    <tr>\n",
       "      <th>BOX_051_151_18</th>\n",
       "      <td>768.93800</td>\n",
       "      <td>769.23883</td>\n",
       "      <td>762.44300</td>\n",
       "      <td>755.8622</td>\n",
       "      <td>761.79663</td>\n",
       "      <td>760.51710</td>\n",
       "      <td>763.30505</td>\n",
       "      <td>761.81360</td>\n",
       "      <td>769.22100</td>\n",
       "      <td>765.47060</td>\n",
       "      <td>...</td>\n",
       "      <td>763.1057</td>\n",
       "      <td>759.72600</td>\n",
       "      <td>766.23150</td>\n",
       "      <td>770.77130</td>\n",
       "      <td>798.26830</td>\n",
       "      <td>797.99615</td>\n",
       "      <td>803.90950</td>\n",
       "      <td>797.90780</td>\n",
       "      <td>798.18830</td>\n",
       "      <td>803.68256</td>\n",
       "    </tr>\n",
       "    <tr>\n",
       "      <th>BOX_051_151_21</th>\n",
       "      <td>711.41626</td>\n",
       "      <td>684.20540</td>\n",
       "      <td>695.49817</td>\n",
       "      <td>701.6695</td>\n",
       "      <td>705.29990</td>\n",
       "      <td>703.61470</td>\n",
       "      <td>707.69403</td>\n",
       "      <td>692.90360</td>\n",
       "      <td>704.68280</td>\n",
       "      <td>704.99945</td>\n",
       "      <td>...</td>\n",
       "      <td>825.8698</td>\n",
       "      <td>820.51720</td>\n",
       "      <td>820.68680</td>\n",
       "      <td>842.18097</td>\n",
       "      <td>850.45460</td>\n",
       "      <td>775.96700</td>\n",
       "      <td>883.04240</td>\n",
       "      <td>867.92426</td>\n",
       "      <td>877.37415</td>\n",
       "      <td>874.50244</td>\n",
       "    </tr>\n",
       "    <tr>\n",
       "      <th>BOX_051_151_30</th>\n",
       "      <td>795.81573</td>\n",
       "      <td>820.63700</td>\n",
       "      <td>799.72380</td>\n",
       "      <td>799.8664</td>\n",
       "      <td>823.56260</td>\n",
       "      <td>822.07300</td>\n",
       "      <td>823.56800</td>\n",
       "      <td>823.73300</td>\n",
       "      <td>824.58400</td>\n",
       "      <td>824.33360</td>\n",
       "      <td>...</td>\n",
       "      <td>823.7820</td>\n",
       "      <td>823.15674</td>\n",
       "      <td>823.65790</td>\n",
       "      <td>821.31860</td>\n",
       "      <td>818.85803</td>\n",
       "      <td>817.31220</td>\n",
       "      <td>822.92970</td>\n",
       "      <td>818.73350</td>\n",
       "      <td>822.18480</td>\n",
       "      <td>818.73480</td>\n",
       "    </tr>\n",
       "    <tr>\n",
       "      <th>BOX_051_151_32</th>\n",
       "      <td>242.70204</td>\n",
       "      <td>238.05159</td>\n",
       "      <td>229.93718</td>\n",
       "      <td>244.0620</td>\n",
       "      <td>247.68105</td>\n",
       "      <td>257.49900</td>\n",
       "      <td>302.69217</td>\n",
       "      <td>301.27722</td>\n",
       "      <td>301.12033</td>\n",
       "      <td>316.40414</td>\n",
       "      <td>...</td>\n",
       "      <td>301.1231</td>\n",
       "      <td>313.63553</td>\n",
       "      <td>313.09814</td>\n",
       "      <td>312.90347</td>\n",
       "      <td>306.18658</td>\n",
       "      <td>294.18326</td>\n",
       "      <td>297.23654</td>\n",
       "      <td>302.88650</td>\n",
       "      <td>323.85840</td>\n",
       "      <td>304.36823</td>\n",
       "    </tr>\n",
       "  </tbody>\n",
       "</table>\n",
       "<p>5 rows × 33 columns</p>\n",
       "</div>"
      ],
      "text/plain": [
       "                     1984       1985       1986      1987       1988  \\\n",
       "transect_id                                                            \n",
       "BOX_051_151_15  677.32043  695.66370  713.29486  682.1743  688.23425   \n",
       "BOX_051_151_18  768.93800  769.23883  762.44300  755.8622  761.79663   \n",
       "BOX_051_151_21  711.41626  684.20540  695.49817  701.6695  705.29990   \n",
       "BOX_051_151_30  795.81573  820.63700  799.72380  799.8664  823.56260   \n",
       "BOX_051_151_32  242.70204  238.05159  229.93718  244.0620  247.68105   \n",
       "\n",
       "                     1989       1990       1991       1992       1993  ...  \\\n",
       "transect_id                                                            ...   \n",
       "BOX_051_151_15  672.13007  700.43286  693.43460  699.38560  687.97950  ...   \n",
       "BOX_051_151_18  760.51710  763.30505  761.81360  769.22100  765.47060  ...   \n",
       "BOX_051_151_21  703.61470  707.69403  692.90360  704.68280  704.99945  ...   \n",
       "BOX_051_151_30  822.07300  823.56800  823.73300  824.58400  824.33360  ...   \n",
       "BOX_051_151_32  257.49900  302.69217  301.27722  301.12033  316.40414  ...   \n",
       "\n",
       "                    2007       2008       2009       2010       2011  \\\n",
       "transect_id                                                            \n",
       "BOX_051_151_15  700.6640  712.41740  708.45123  740.33240  680.42510   \n",
       "BOX_051_151_18  763.1057  759.72600  766.23150  770.77130  798.26830   \n",
       "BOX_051_151_21  825.8698  820.51720  820.68680  842.18097  850.45460   \n",
       "BOX_051_151_30  823.7820  823.15674  823.65790  821.31860  818.85803   \n",
       "BOX_051_151_32  301.1231  313.63553  313.09814  312.90347  306.18658   \n",
       "\n",
       "                     2012       2013       2014       2015       2016  \n",
       "transect_id                                                            \n",
       "BOX_051_151_15  758.35150  754.49695  763.04297  743.29680  779.41570  \n",
       "BOX_051_151_18  797.99615  803.90950  797.90780  798.18830  803.68256  \n",
       "BOX_051_151_21  775.96700  883.04240  867.92426  877.37415  874.50244  \n",
       "BOX_051_151_30  817.31220  822.92970  818.73350  822.18480  818.73480  \n",
       "BOX_051_151_32  294.18326  297.23654  302.88650  323.85840  304.36823  \n",
       "\n",
       "[5 rows x 33 columns]"
      ]
     },
     "execution_count": 2,
     "metadata": {},
     "output_type": "execute_result"
    }
   ],
   "source": [
    "tf = GluonConfigs.load_data()\n",
    "tf = tf.set_index('transect_id')\n",
    "tf = tf.dropna(thresh=33)\n",
    "print(f\"Transects included in dataset: {tf.shape[0]}; timesteps: {tf.shape[1]}\")\n",
    "tf.head()"
   ]
  },
  {
   "cell_type": "code",
   "execution_count": 3,
   "metadata": {},
   "outputs": [
    {
     "name": "stdout",
     "output_type": "stream",
     "text": [
      "Transects included in dataset: 37111; metadata columns: 27\n"
     ]
    },
    {
     "data": {
      "text/html": [
       "<div>\n",
       "<style scoped>\n",
       "    .dataframe tbody tr th:only-of-type {\n",
       "        vertical-align: middle;\n",
       "    }\n",
       "\n",
       "    .dataframe tbody tr th {\n",
       "        vertical-align: top;\n",
       "    }\n",
       "\n",
       "    .dataframe thead th {\n",
       "        text-align: right;\n",
       "    }\n",
       "</style>\n",
       "<table border=\"1\" class=\"dataframe\">\n",
       "  <thead>\n",
       "    <tr style=\"text-align: right;\">\n",
       "      <th></th>\n",
       "      <th>transect_id</th>\n",
       "      <th>country_id</th>\n",
       "      <th>continent</th>\n",
       "      <th>country_name</th>\n",
       "      <th>changerate</th>\n",
       "      <th>changerate_unc</th>\n",
       "      <th>flag_sandy</th>\n",
       "      <th>no_shorelines</th>\n",
       "      <th>RMSE</th>\n",
       "      <th>Timespan</th>\n",
       "      <th>...</th>\n",
       "      <th>Start_lat</th>\n",
       "      <th>Intersect_lon</th>\n",
       "      <th>Intersect_lat</th>\n",
       "      <th>End_lon</th>\n",
       "      <th>End_lat</th>\n",
       "      <th>coastline_idint</th>\n",
       "      <th>geometry</th>\n",
       "      <th>dbscan_cluster</th>\n",
       "      <th>fcluster</th>\n",
       "      <th>optics_clusters</th>\n",
       "    </tr>\n",
       "  </thead>\n",
       "  <tbody>\n",
       "    <tr>\n",
       "      <th>0</th>\n",
       "      <td>BOX_051_170_3</td>\n",
       "      <td>ARG</td>\n",
       "      <td>South America</td>\n",
       "      <td>Argentina</td>\n",
       "      <td>0.389332</td>\n",
       "      <td>0.344834</td>\n",
       "      <td>True</td>\n",
       "      <td>33.0</td>\n",
       "      <td>18.281954</td>\n",
       "      <td>32.0</td>\n",
       "      <td>...</td>\n",
       "      <td>-36.378387</td>\n",
       "      <td>-56.709120</td>\n",
       "      <td>-36.376892</td>\n",
       "      <td>-56.700333</td>\n",
       "      <td>-36.375397</td>\n",
       "      <td>7427</td>\n",
       "      <td>POINT (-56.70912170410156 -36.37689208984375)</td>\n",
       "      <td>0</td>\n",
       "      <td>2455</td>\n",
       "      <td>0</td>\n",
       "    </tr>\n",
       "    <tr>\n",
       "      <th>1</th>\n",
       "      <td>BOX_051_170_4</td>\n",
       "      <td>ARG</td>\n",
       "      <td>South America</td>\n",
       "      <td>Argentina</td>\n",
       "      <td>0.501007</td>\n",
       "      <td>0.390176</td>\n",
       "      <td>True</td>\n",
       "      <td>33.0</td>\n",
       "      <td>20.685827</td>\n",
       "      <td>32.0</td>\n",
       "      <td>...</td>\n",
       "      <td>-36.374847</td>\n",
       "      <td>-56.710050</td>\n",
       "      <td>-36.373356</td>\n",
       "      <td>-56.701260</td>\n",
       "      <td>-36.371860</td>\n",
       "      <td>7427</td>\n",
       "      <td>POINT (-56.71004867553711 -36.37335586547852)</td>\n",
       "      <td>0</td>\n",
       "      <td>2455</td>\n",
       "      <td>0</td>\n",
       "    </tr>\n",
       "    <tr>\n",
       "      <th>2</th>\n",
       "      <td>BOX_051_170_5</td>\n",
       "      <td>ARG</td>\n",
       "      <td>South America</td>\n",
       "      <td>Argentina</td>\n",
       "      <td>0.831012</td>\n",
       "      <td>0.331491</td>\n",
       "      <td>True</td>\n",
       "      <td>33.0</td>\n",
       "      <td>17.574545</td>\n",
       "      <td>32.0</td>\n",
       "      <td>...</td>\n",
       "      <td>-36.371933</td>\n",
       "      <td>-56.711193</td>\n",
       "      <td>-36.369860</td>\n",
       "      <td>-56.702587</td>\n",
       "      <td>-36.367786</td>\n",
       "      <td>7427</td>\n",
       "      <td>POINT (-56.7111930847168 -36.3698616027832)</td>\n",
       "      <td>0</td>\n",
       "      <td>2455</td>\n",
       "      <td>0</td>\n",
       "    </tr>\n",
       "    <tr>\n",
       "      <th>3</th>\n",
       "      <td>BOX_051_170_6</td>\n",
       "      <td>ARG</td>\n",
       "      <td>South America</td>\n",
       "      <td>Argentina</td>\n",
       "      <td>1.471142</td>\n",
       "      <td>0.277497</td>\n",
       "      <td>True</td>\n",
       "      <td>33.0</td>\n",
       "      <td>14.711926</td>\n",
       "      <td>32.0</td>\n",
       "      <td>...</td>\n",
       "      <td>-36.368470</td>\n",
       "      <td>-56.712482</td>\n",
       "      <td>-36.366394</td>\n",
       "      <td>-56.703876</td>\n",
       "      <td>-36.364323</td>\n",
       "      <td>7427</td>\n",
       "      <td>POINT (-56.71248245239258 -36.36639404296875)</td>\n",
       "      <td>0</td>\n",
       "      <td>2455</td>\n",
       "      <td>0</td>\n",
       "    </tr>\n",
       "    <tr>\n",
       "      <th>4</th>\n",
       "      <td>BOX_051_170_7</td>\n",
       "      <td>ARG</td>\n",
       "      <td>South America</td>\n",
       "      <td>Argentina</td>\n",
       "      <td>2.159336</td>\n",
       "      <td>0.288062</td>\n",
       "      <td>True</td>\n",
       "      <td>33.0</td>\n",
       "      <td>15.272047</td>\n",
       "      <td>32.0</td>\n",
       "      <td>...</td>\n",
       "      <td>-36.365000</td>\n",
       "      <td>-56.713768</td>\n",
       "      <td>-36.362930</td>\n",
       "      <td>-56.705162</td>\n",
       "      <td>-36.360855</td>\n",
       "      <td>7427</td>\n",
       "      <td>POINT (-56.71376800537109 -36.36293029785156)</td>\n",
       "      <td>0</td>\n",
       "      <td>2455</td>\n",
       "      <td>0</td>\n",
       "    </tr>\n",
       "  </tbody>\n",
       "</table>\n",
       "<p>5 rows × 27 columns</p>\n",
       "</div>"
      ],
      "text/plain": [
       "     transect_id country_id      continent country_name  changerate  \\\n",
       "0  BOX_051_170_3        ARG  South America    Argentina    0.389332   \n",
       "1  BOX_051_170_4        ARG  South America    Argentina    0.501007   \n",
       "2  BOX_051_170_5        ARG  South America    Argentina    0.831012   \n",
       "3  BOX_051_170_6        ARG  South America    Argentina    1.471142   \n",
       "4  BOX_051_170_7        ARG  South America    Argentina    2.159336   \n",
       "\n",
       "   changerate_unc  flag_sandy  no_shorelines       RMSE  Timespan  ...  \\\n",
       "0        0.344834        True           33.0  18.281954      32.0  ...   \n",
       "1        0.390176        True           33.0  20.685827      32.0  ...   \n",
       "2        0.331491        True           33.0  17.574545      32.0  ...   \n",
       "3        0.277497        True           33.0  14.711926      32.0  ...   \n",
       "4        0.288062        True           33.0  15.272047      32.0  ...   \n",
       "\n",
       "   Start_lat  Intersect_lon  Intersect_lat    End_lon    End_lat  \\\n",
       "0 -36.378387     -56.709120     -36.376892 -56.700333 -36.375397   \n",
       "1 -36.374847     -56.710050     -36.373356 -56.701260 -36.371860   \n",
       "2 -36.371933     -56.711193     -36.369860 -56.702587 -36.367786   \n",
       "3 -36.368470     -56.712482     -36.366394 -56.703876 -36.364323   \n",
       "4 -36.365000     -56.713768     -36.362930 -56.705162 -36.360855   \n",
       "\n",
       "   coastline_idint                                       geometry  \\\n",
       "0             7427  POINT (-56.70912170410156 -36.37689208984375)   \n",
       "1             7427  POINT (-56.71004867553711 -36.37335586547852)   \n",
       "2             7427    POINT (-56.7111930847168 -36.3698616027832)   \n",
       "3             7427  POINT (-56.71248245239258 -36.36639404296875)   \n",
       "4             7427  POINT (-56.71376800537109 -36.36293029785156)   \n",
       "\n",
       "   dbscan_cluster  fcluster  optics_clusters  \n",
       "0               0      2455                0  \n",
       "1               0      2455                0  \n",
       "2               0      2455                0  \n",
       "3               0      2455                0  \n",
       "4               0      2455                0  \n",
       "\n",
       "[5 rows x 27 columns]"
      ]
     },
     "execution_count": 3,
     "metadata": {},
     "output_type": "execute_result"
    }
   ],
   "source": [
    "sites = pd.read_csv(\"/media/storage/data/shorelines/sites-gluonts-prepared-37k.csv\")\n",
    "sites = sites.loc[sites['transect_id'].isin(tf.index)]\n",
    "print(f\"Transects included in dataset: {sites.shape[0]}; metadata columns: {sites.shape[1]}\")\n",
    "sites.head()"
   ]
  },
  {
   "cell_type": "code",
   "execution_count": 4,
   "metadata": {},
   "outputs": [],
   "source": [
    "metadata = {\n",
    "    'num_series': len(tf),\n",
    "    'num_steps': len(tf.columns),\n",
    "    'prediction_length': 7,\n",
    "    'freq': \"AS\",\n",
    "    'start': [pd.Timestamp(\"01-01-1984\", freq='AS') for _ in range(len(tf))],\n",
    "    'item_id': tf.index.values,\n",
    "    'epochs': 10,\n",
    "    'save_model': False,\n",
    "    'evaluate_model': True\n",
    "}"
   ]
  },
  {
   "cell_type": "code",
   "execution_count": 10,
   "metadata": {},
   "outputs": [],
   "source": [
    "from sklearn import preprocessing\n",
    "\n",
    "\n",
    "transformations = {\n",
    "    \"standard\": preprocessing.StandardScaler(),\n",
    "    \"min_max\": preprocessing.MinMaxScaler()\n",
    "}\n",
    "\n",
    "def scale_df(df, method):\n",
    "    x = df.values\n",
    "    scaler = transformations[method]\n",
    "    x_scaled = scaler.fit_transform(x)\n",
    "    return pd.DataFrame(x_scaled, index=df.index, columns=df.columns)\n",
    "\n",
    "tf_z =  scale_df(tf.T, method='standard').T"
   ]
  },
  {
   "cell_type": "code",
   "execution_count": 11,
   "metadata": {},
   "outputs": [],
   "source": [
    "from gluonts.dataset.common import ListDataset\n",
    "from gluonts.dataset.field_names import FieldName\n",
    "\n",
    "\n",
    "def get_gluon_ds(df):\n",
    "\n",
    "    train_ds = ListDataset(\n",
    "        [\n",
    "         {\n",
    "             FieldName.TARGET: target,\n",
    "             FieldName.START: start,\n",
    "             FieldName.ITEM_ID: item_id,\n",
    "             FieldName.FEAT_STATIC_CAT: [fclust, dbclust],\n",
    "             FieldName.FEAT_STATIC_REAL: [fsr]\n",
    "          }\n",
    "\n",
    "         for (target, start, item_id, fclust, dbclust, fsr) in zip(df.values[:, :-metadata['prediction_length']],\n",
    "                                            metadata['start'], \n",
    "                                            metadata['item_id'],\n",
    "                                            sites['fcluster'].values,\n",
    "                                            sites['dbscan_cluster'].values,\n",
    "                                            sites['changerate_unc'].values)\n",
    "        ], freq=metadata['freq'])\n",
    "\n",
    "    test_ds = ListDataset(\n",
    "        [\n",
    "         {\n",
    "             FieldName.TARGET: target,\n",
    "             FieldName.START: start,\n",
    "             FieldName.ITEM_ID: item_id,\n",
    "             FieldName.FEAT_STATIC_CAT: [fclust, dbclust],\n",
    "             FieldName.FEAT_STATIC_REAL: [fsr]\n",
    "          }\n",
    "\n",
    "         for (target, start, item_id, fclust, dbclust, fsr) in zip(df.values,\n",
    "                                            metadata['start'], \n",
    "                                            metadata['item_id'],\n",
    "                                            sites['fcluster'].values,\n",
    "                                            sites['dbscan_cluster'].values,\n",
    "                                            sites['changerate_unc'].values)\n",
    "        ], freq=metadata['freq'])\n",
    "          \n",
    "    return train_ds, test_ds"
   ]
  },
  {
   "cell_type": "code",
   "execution_count": 7,
   "metadata": {},
   "outputs": [],
   "source": [
    "train_ds, test_ds = get_gluon_ds(tf)"
   ]
  },
  {
   "cell_type": "code",
   "execution_count": 13,
   "metadata": {
    "scrolled": true
   },
   "outputs": [],
   "source": [
    "import inspect\n",
    "from pathlib import Path\n",
    "\n",
    "from gluonts.model.seq2seq import MQCNNEstimator\n",
    "from gluonts.trainer import Trainer\n",
    "from gluonts.evaluation import Evaluator\n",
    "from gluonts.evaluation.backtest import make_evaluation_predictions\n",
    "\n",
    "from shorelineforecasting.utils.configs import get_predictor_id\n",
    "\n",
    "\n",
    "def get_cls_attributes(cls):\n",
    "    attributes = inspect.getmembers(cls, lambda x: not(inspect.isroutine(x)))\n",
    "    attributes = [a for a in attributes if not(a[0].startswith('__') and a[0].endswith('__'))]\n",
    "    return dict(attributes)\n",
    "\n",
    "\n",
    "def get_hyperparams(estimator, predictor_id):\n",
    "    predictor = type(estimator).__name__\n",
    "    estimator_attr = get_cls_attributes(estimator)\n",
    "    trainer_attr = get_cls_attributes(estimator_attr['trainer'])\n",
    "    attributes = {**estimator_attr, **trainer_attr}\n",
    "    attributes.pop('trainer', None)\n",
    "    attributes['predictor'] = predictor\n",
    "    attributes['predictor_id'] = predictor_id\n",
    "    return dict(attributes)\n",
    "\n",
    "\n",
    "def to_model_database(attributes):\n",
    "    fpath = os.path.join(data_dir, 'sensitivity-metrics-test.csv')\n",
    "    if not os.path.exists(fpath):\n",
    "        pd.DataFrame([attributes]).to_csv(fpath, header=True, index=False)\n",
    "        return print(f\"Created metrics database: {fpath}\")\n",
    "    params = pd.read_csv(fpath)\n",
    "    to_add_params = pd.DataFrame([attributes])\n",
    "    updated_params = pd.concat([params, to_add_params], axis=0, ignore_index=True)\n",
    "    updated_params.to_csv(fpath, header=True, index=False)\n",
    "    return print(f\"Updated metrics database: {fpath}\")\n",
    "\n",
    "\n",
    "batch_size = 16\n",
    "epochs = 10\n",
    "num_batches_per_epoch = 200\n",
    "cardinality = [\n",
    "    len(sites['fcluster'].unique()), \n",
    "    len(sites['dbscan_cluster'].unique())\n",
    "]\n",
    "\n",
    "def train_eval_loop():\n",
    "\n",
    "    estimator = MQCNNEstimator(\n",
    "        prediction_length=metadata['prediction_length'],\n",
    "        freq=metadata['freq'],\n",
    "        quantiles=[0.1, 0.25, 0.5, 0.75, 0.9],\n",
    "        trainer=Trainer(\n",
    "            epochs=epochs,\n",
    "            num_batches_per_epoch=num_batches_per_epoch,\n",
    "            batch_size=batch_size\n",
    "\n",
    "        )\n",
    "    )\n",
    "\n",
    "    predictor_id = get_predictor_id()\n",
    "    attributes = get_hyperparams(estimator, predictor_id)\n",
    "\n",
    "    predictor = estimator.train(train_ds)\n",
    "\n",
    "    if metadata['save_model'] is True:\n",
    "        mpath = os.path.join(model_dir, f\"{attributes['predictor']}-{predictor_id}\")\n",
    "        if not os.path.exists(mpath):\n",
    "            os.mkdir(mpath)\n",
    "        predictor.serialize(Path(mpath))\n",
    "\n",
    "    if metadata['evaluate_model'] is True:\n",
    "        forecast_it, ts_it = make_evaluation_predictions(\n",
    "            test_ds, predictor=predictor, num_samples=100\n",
    "        )\n",
    "        agg_metrics, item_metrics = Evaluator()(\n",
    "            ts_it, forecast_it, num_series=len(test_ds)\n",
    "        )\n",
    "        attributes = {**attributes, **agg_metrics}\n",
    "    \n",
    "    to_model_database(attributes)\n",
    "    return agg_metrics\n"
   ]
  },
  {
   "cell_type": "code",
   "execution_count": 8,
   "metadata": {},
   "outputs": [
    {
     "name": "stderr",
     "output_type": "stream",
     "text": [
      "\r",
      "  0%|          | 0/200 [00:00<?, ?it/s]"
     ]
    },
    {
     "name": "stdout",
     "output_type": "stream",
     "text": [
      "learning rate from ``lr_scheduler`` has been overwritten by ``learning_rate`` in optimizer.\n"
     ]
    },
    {
     "name": "stderr",
     "output_type": "stream",
     "text": [
      "100%|██████████| 200/200 [00:02<00:00, 94.38it/s, epoch=1/10, avg_epoch_loss=50.2]\n",
      "100%|██████████| 200/200 [00:02<00:00, 96.64it/s, epoch=2/10, avg_epoch_loss=1.95]\n",
      "100%|██████████| 200/200 [00:02<00:00, 91.51it/s, epoch=3/10, avg_epoch_loss=1.67]\n",
      "100%|██████████| 200/200 [00:02<00:00, 98.50it/s, epoch=4/10, avg_epoch_loss=1.69]\n",
      "100%|██████████| 200/200 [00:02<00:00, 91.32it/s, epoch=5/10, avg_epoch_loss=1.73]\n",
      "100%|██████████| 200/200 [00:02<00:00, 90.51it/s, epoch=6/10, avg_epoch_loss=1.94]\n",
      "100%|██████████| 200/200 [00:02<00:00, 84.40it/s, epoch=7/10, avg_epoch_loss=1.93]\n",
      "100%|██████████| 200/200 [00:02<00:00, 74.76it/s, epoch=8/10, avg_epoch_loss=1.8]\n",
      "100%|██████████| 200/200 [00:02<00:00, 90.88it/s, epoch=9/10, avg_epoch_loss=1.92]\n",
      "100%|██████████| 200/200 [00:02<00:00, 89.03it/s, epoch=10/10, avg_epoch_loss=1.83]\n",
      "Running evaluation: 100%|██████████| 37111/37111 [01:02<00:00, 596.18it/s]\n",
      "  0%|          | 0/200 [00:00<?, ?it/s]"
     ]
    },
    {
     "name": "stdout",
     "output_type": "stream",
     "text": [
      "Updated metrics database: /media/storage/data/shorelines/sensitivity-metrics.csv\n",
      "learning rate from ``lr_scheduler`` has been overwritten by ``learning_rate`` in optimizer.\n"
     ]
    },
    {
     "name": "stderr",
     "output_type": "stream",
     "text": [
      "100%|██████████| 200/200 [00:02<00:00, 69.37it/s, epoch=1/10, avg_epoch_loss=36.2]\n",
      "100%|██████████| 200/200 [00:02<00:00, 85.07it/s, epoch=2/10, avg_epoch_loss=2.61]\n",
      "100%|██████████| 200/200 [00:02<00:00, 83.37it/s, epoch=3/10, avg_epoch_loss=2.47]\n",
      "100%|██████████| 200/200 [00:02<00:00, 91.40it/s, epoch=4/10, avg_epoch_loss=2.24]\n",
      "100%|██████████| 200/200 [00:02<00:00, 89.08it/s, epoch=5/10, avg_epoch_loss=2.28]\n",
      "100%|██████████| 200/200 [00:02<00:00, 91.09it/s, epoch=6/10, avg_epoch_loss=3.18]\n",
      "100%|██████████| 200/200 [00:02<00:00, 75.87it/s, epoch=7/10, avg_epoch_loss=2.44]\n",
      "100%|██████████| 200/200 [00:02<00:00, 90.41it/s, epoch=8/10, avg_epoch_loss=2.23]\n",
      "100%|██████████| 200/200 [00:02<00:00, 88.69it/s, epoch=9/10, avg_epoch_loss=2.02]\n",
      "100%|██████████| 200/200 [00:02<00:00, 89.64it/s, epoch=10/10, avg_epoch_loss=2.18]\n",
      "Running evaluation: 100%|██████████| 37111/37111 [00:53<00:00, 698.12it/s]\n"
     ]
    },
    {
     "name": "stdout",
     "output_type": "stream",
     "text": [
      "Updated metrics database: /media/storage/data/shorelines/sensitivity-metrics.csv\n"
     ]
    },
    {
     "name": "stderr",
     "output_type": "stream",
     "text": [
      "\r",
      "  0%|          | 0/200 [00:00<?, ?it/s]"
     ]
    },
    {
     "name": "stdout",
     "output_type": "stream",
     "text": [
      "learning rate from ``lr_scheduler`` has been overwritten by ``learning_rate`` in optimizer.\n"
     ]
    },
    {
     "name": "stderr",
     "output_type": "stream",
     "text": [
      "100%|██████████| 200/200 [00:02<00:00, 95.27it/s, epoch=1/10, avg_epoch_loss=50.2]\n",
      "100%|██████████| 200/200 [00:02<00:00, 89.85it/s, epoch=2/10, avg_epoch_loss=2.73]\n",
      "100%|██████████| 200/200 [00:02<00:00, 95.78it/s, epoch=3/10, avg_epoch_loss=2.57]\n",
      "100%|██████████| 200/200 [00:02<00:00, 94.56it/s, epoch=4/10, avg_epoch_loss=2.36]\n",
      "100%|██████████| 200/200 [00:02<00:00, 92.12it/s, epoch=5/10, avg_epoch_loss=2.11]\n",
      "100%|██████████| 200/200 [00:02<00:00, 93.11it/s, epoch=6/10, avg_epoch_loss=3.59]\n",
      "100%|██████████| 200/200 [00:02<00:00, 91.91it/s, epoch=7/10, avg_epoch_loss=2.51]\n",
      "100%|██████████| 200/200 [00:02<00:00, 91.41it/s, epoch=8/10, avg_epoch_loss=2.41]\n",
      "100%|██████████| 200/200 [00:02<00:00, 92.28it/s, epoch=9/10, avg_epoch_loss=1.93]\n",
      "100%|██████████| 200/200 [00:02<00:00, 92.74it/s, epoch=10/10, avg_epoch_loss=2.07]\n",
      "Running evaluation: 100%|██████████| 37111/37111 [00:52<00:00, 712.76it/s]\n"
     ]
    },
    {
     "name": "stdout",
     "output_type": "stream",
     "text": [
      "Updated metrics database: /media/storage/data/shorelines/sensitivity-metrics.csv\n"
     ]
    },
    {
     "name": "stderr",
     "output_type": "stream",
     "text": [
      "\r",
      "  0%|          | 0/200 [00:00<?, ?it/s]"
     ]
    },
    {
     "name": "stdout",
     "output_type": "stream",
     "text": [
      "learning rate from ``lr_scheduler`` has been overwritten by ``learning_rate`` in optimizer.\n"
     ]
    },
    {
     "name": "stderr",
     "output_type": "stream",
     "text": [
      "100%|██████████| 200/200 [00:02<00:00, 85.73it/s, epoch=1/10, avg_epoch_loss=39]\n",
      "100%|██████████| 200/200 [00:02<00:00, 86.94it/s, epoch=2/10, avg_epoch_loss=2.68]\n",
      "100%|██████████| 200/200 [00:02<00:00, 86.80it/s, epoch=3/10, avg_epoch_loss=2.81]\n",
      "100%|██████████| 200/200 [00:02<00:00, 89.13it/s, epoch=4/10, avg_epoch_loss=2.25]\n",
      "100%|██████████| 200/200 [00:02<00:00, 87.72it/s, epoch=5/10, avg_epoch_loss=2.13]\n",
      "100%|██████████| 200/200 [00:02<00:00, 90.00it/s, epoch=6/10, avg_epoch_loss=3.62]\n",
      "100%|██████████| 200/200 [00:02<00:00, 89.04it/s, epoch=7/10, avg_epoch_loss=2.54]\n",
      "100%|██████████| 200/200 [00:02<00:00, 87.43it/s, epoch=8/10, avg_epoch_loss=2.69]\n",
      "100%|██████████| 200/200 [00:02<00:00, 87.27it/s, epoch=9/10, avg_epoch_loss=1.91]\n",
      "100%|██████████| 200/200 [00:02<00:00, 87.02it/s, epoch=10/10, avg_epoch_loss=2]\n",
      "Running evaluation: 100%|██████████| 37111/37111 [00:49<00:00, 742.48it/s]\n"
     ]
    },
    {
     "name": "stdout",
     "output_type": "stream",
     "text": [
      "Updated metrics database: /media/storage/data/shorelines/sensitivity-metrics.csv\n"
     ]
    },
    {
     "name": "stderr",
     "output_type": "stream",
     "text": [
      "\r",
      "  0%|          | 0/200 [00:00<?, ?it/s]"
     ]
    },
    {
     "name": "stdout",
     "output_type": "stream",
     "text": [
      "learning rate from ``lr_scheduler`` has been overwritten by ``learning_rate`` in optimizer.\n"
     ]
    },
    {
     "name": "stderr",
     "output_type": "stream",
     "text": [
      "100%|██████████| 200/200 [00:02<00:00, 80.49it/s, epoch=1/10, avg_epoch_loss=54.9]\n",
      "100%|██████████| 200/200 [00:02<00:00, 80.10it/s, epoch=2/10, avg_epoch_loss=4.25]\n",
      "100%|██████████| 200/200 [00:02<00:00, 82.56it/s, epoch=3/10, avg_epoch_loss=3.75]\n",
      "100%|██████████| 200/200 [00:02<00:00, 83.48it/s, epoch=4/10, avg_epoch_loss=2.33]\n",
      "100%|██████████| 200/200 [00:02<00:00, 80.25it/s, epoch=5/10, avg_epoch_loss=2.21]\n",
      "100%|██████████| 200/200 [00:02<00:00, 84.17it/s, epoch=6/10, avg_epoch_loss=3.47]\n",
      "100%|██████████| 200/200 [00:02<00:00, 83.17it/s, epoch=7/10, avg_epoch_loss=2.54]\n",
      "100%|██████████| 200/200 [00:02<00:00, 79.72it/s, epoch=8/10, avg_epoch_loss=2.54]\n",
      "100%|██████████| 200/200 [00:02<00:00, 80.34it/s, epoch=9/10, avg_epoch_loss=1.93]\n",
      "100%|██████████| 200/200 [00:02<00:00, 82.03it/s, epoch=10/10, avg_epoch_loss=1.98]\n",
      "Running evaluation: 100%|██████████| 37111/37111 [00:51<00:00, 717.12it/s]\n"
     ]
    },
    {
     "name": "stdout",
     "output_type": "stream",
     "text": [
      "Updated metrics database: /media/storage/data/shorelines/sensitivity-metrics.csv\n"
     ]
    },
    {
     "name": "stderr",
     "output_type": "stream",
     "text": [
      "\r",
      "  0%|          | 0/200 [00:00<?, ?it/s]"
     ]
    },
    {
     "name": "stdout",
     "output_type": "stream",
     "text": [
      "learning rate from ``lr_scheduler`` has been overwritten by ``learning_rate`` in optimizer.\n"
     ]
    },
    {
     "name": "stderr",
     "output_type": "stream",
     "text": [
      "100%|██████████| 200/200 [00:02<00:00, 76.93it/s, epoch=1/10, avg_epoch_loss=34]\n",
      "100%|██████████| 200/200 [00:02<00:00, 76.04it/s, epoch=2/10, avg_epoch_loss=2.85]\n",
      "100%|██████████| 200/200 [00:02<00:00, 79.53it/s, epoch=3/10, avg_epoch_loss=3.59]\n",
      "100%|██████████| 200/200 [00:02<00:00, 76.13it/s, epoch=4/10, avg_epoch_loss=2.42]\n",
      "100%|██████████| 200/200 [00:02<00:00, 74.66it/s, epoch=5/10, avg_epoch_loss=2.2]\n",
      "100%|██████████| 200/200 [00:02<00:00, 75.12it/s, epoch=6/10, avg_epoch_loss=3.35]\n",
      "100%|██████████| 200/200 [00:02<00:00, 74.53it/s, epoch=7/10, avg_epoch_loss=2.72]\n",
      "100%|██████████| 200/200 [00:02<00:00, 74.90it/s, epoch=8/10, avg_epoch_loss=2.46]\n",
      "100%|██████████| 200/200 [00:02<00:00, 77.88it/s, epoch=9/10, avg_epoch_loss=1.99]\n",
      "100%|██████████| 200/200 [00:02<00:00, 78.95it/s, epoch=10/10, avg_epoch_loss=1.98]\n",
      "Running evaluation: 100%|██████████| 37111/37111 [00:57<00:00, 646.66it/s]\n"
     ]
    },
    {
     "name": "stdout",
     "output_type": "stream",
     "text": [
      "Updated metrics database: /media/storage/data/shorelines/sensitivity-metrics.csv\n"
     ]
    },
    {
     "name": "stderr",
     "output_type": "stream",
     "text": [
      "\r",
      "  0%|          | 0/200 [00:00<?, ?it/s]"
     ]
    },
    {
     "name": "stdout",
     "output_type": "stream",
     "text": [
      "learning rate from ``lr_scheduler`` has been overwritten by ``learning_rate`` in optimizer.\n"
     ]
    },
    {
     "name": "stderr",
     "output_type": "stream",
     "text": [
      "100%|██████████| 200/200 [00:04<00:00, 44.78it/s, epoch=1/10, avg_epoch_loss=45.9]\n",
      "100%|██████████| 200/200 [00:04<00:00, 44.66it/s, epoch=2/10, avg_epoch_loss=3.23]\n",
      "100%|██████████| 200/200 [00:04<00:00, 42.76it/s, epoch=3/10, avg_epoch_loss=3.52]\n",
      "100%|██████████| 200/200 [00:04<00:00, 40.88it/s, epoch=4/10, avg_epoch_loss=2.65]\n",
      "100%|██████████| 200/200 [00:07<00:00, 26.92it/s, epoch=5/10, avg_epoch_loss=2.26]\n",
      "100%|██████████| 200/200 [00:06<00:00, 33.31it/s, epoch=6/10, avg_epoch_loss=3.17]\n",
      "100%|██████████| 200/200 [00:08<00:00, 22.32it/s, epoch=7/10, avg_epoch_loss=3.06]\n",
      "100%|██████████| 200/200 [00:07<00:00, 25.15it/s, epoch=8/10, avg_epoch_loss=2.58]\n",
      "100%|██████████| 200/200 [00:08<00:00, 24.02it/s, epoch=9/10, avg_epoch_loss=2.13]\n",
      "100%|██████████| 200/200 [00:07<00:00, 28.57it/s, epoch=10/10, avg_epoch_loss=2.01]\n",
      "Running evaluation: 100%|██████████| 37111/37111 [01:28<00:00, 419.03it/s]\n"
     ]
    },
    {
     "name": "stdout",
     "output_type": "stream",
     "text": [
      "Updated metrics database: /media/storage/data/shorelines/sensitivity-metrics.csv\n"
     ]
    },
    {
     "name": "stderr",
     "output_type": "stream",
     "text": [
      "\r",
      "  0%|          | 0/200 [00:00<?, ?it/s]"
     ]
    },
    {
     "name": "stdout",
     "output_type": "stream",
     "text": [
      "learning rate from ``lr_scheduler`` has been overwritten by ``learning_rate`` in optimizer.\n"
     ]
    },
    {
     "name": "stderr",
     "output_type": "stream",
     "text": [
      "100%|██████████| 200/200 [00:04<00:00, 43.11it/s, epoch=1/10, avg_epoch_loss=35]\n",
      "100%|██████████| 200/200 [00:04<00:00, 41.91it/s, epoch=2/10, avg_epoch_loss=3.4]\n",
      "100%|██████████| 200/200 [00:04<00:00, 42.77it/s, epoch=3/10, avg_epoch_loss=3.53]\n",
      "100%|██████████| 200/200 [00:04<00:00, 41.14it/s, epoch=4/10, avg_epoch_loss=2.88]\n",
      "100%|██████████| 200/200 [00:04<00:00, 43.27it/s, epoch=5/10, avg_epoch_loss=2.44]\n",
      "100%|██████████| 200/200 [00:04<00:00, 41.98it/s, epoch=6/10, avg_epoch_loss=3.27]\n",
      "100%|██████████| 200/200 [00:04<00:00, 41.86it/s, epoch=7/10, avg_epoch_loss=3.37]\n",
      "100%|██████████| 200/200 [00:04<00:00, 41.42it/s, epoch=8/10, avg_epoch_loss=2.79]\n",
      "100%|██████████| 200/200 [00:04<00:00, 42.17it/s, epoch=9/10, avg_epoch_loss=2.24]\n",
      "100%|██████████| 200/200 [00:04<00:00, 41.44it/s, epoch=10/10, avg_epoch_loss=2.18]\n",
      "Running evaluation: 100%|██████████| 37111/37111 [03:26<00:00, 179.42it/s]\n"
     ]
    },
    {
     "name": "stdout",
     "output_type": "stream",
     "text": [
      "Updated metrics database: /media/storage/data/shorelines/sensitivity-metrics.csv\n"
     ]
    },
    {
     "name": "stderr",
     "output_type": "stream",
     "text": [
      "\r",
      "  0%|          | 0/200 [00:00<?, ?it/s]"
     ]
    },
    {
     "name": "stdout",
     "output_type": "stream",
     "text": [
      "learning rate from ``lr_scheduler`` has been overwritten by ``learning_rate`` in optimizer.\n"
     ]
    },
    {
     "name": "stderr",
     "output_type": "stream",
     "text": [
      "100%|██████████| 200/200 [00:05<00:00, 38.71it/s, epoch=1/10, avg_epoch_loss=42.8]\n",
      "100%|██████████| 200/200 [00:05<00:00, 39.56it/s, epoch=2/10, avg_epoch_loss=3.5]\n",
      "100%|██████████| 200/200 [00:04<00:00, 42.05it/s, epoch=3/10, avg_epoch_loss=3.47]\n",
      "100%|██████████| 200/200 [00:05<00:00, 37.88it/s, epoch=4/10, avg_epoch_loss=2.99]\n",
      "100%|██████████| 200/200 [00:04<00:00, 42.20it/s, epoch=5/10, avg_epoch_loss=2.48]\n",
      "100%|██████████| 200/200 [00:05<00:00, 37.55it/s, epoch=6/10, avg_epoch_loss=3.39]\n",
      "100%|██████████| 200/200 [00:05<00:00, 37.41it/s, epoch=7/10, avg_epoch_loss=3.71]\n",
      "100%|██████████| 200/200 [00:05<00:00, 39.27it/s, epoch=8/10, avg_epoch_loss=2.8]\n",
      "100%|██████████| 200/200 [00:04<00:00, 40.46it/s, epoch=9/10, avg_epoch_loss=2.24]\n",
      "100%|██████████| 200/200 [00:05<00:00, 39.38it/s, epoch=10/10, avg_epoch_loss=2.17]\n",
      "Running evaluation: 100%|██████████| 37111/37111 [01:24<00:00, 438.55it/s]\n"
     ]
    },
    {
     "name": "stdout",
     "output_type": "stream",
     "text": [
      "Updated metrics database: /media/storage/data/shorelines/sensitivity-metrics.csv\n"
     ]
    },
    {
     "name": "stderr",
     "output_type": "stream",
     "text": [
      "\r",
      "  0%|          | 0/200 [00:00<?, ?it/s]"
     ]
    },
    {
     "name": "stdout",
     "output_type": "stream",
     "text": [
      "learning rate from ``lr_scheduler`` has been overwritten by ``learning_rate`` in optimizer.\n"
     ]
    },
    {
     "name": "stderr",
     "output_type": "stream",
     "text": [
      "100%|██████████| 200/200 [00:05<00:00, 38.19it/s, epoch=1/10, avg_epoch_loss=40.3]\n",
      "100%|██████████| 200/200 [00:05<00:00, 38.54it/s, epoch=2/10, avg_epoch_loss=3.65]\n",
      "100%|██████████| 200/200 [00:05<00:00, 38.45it/s, epoch=3/10, avg_epoch_loss=3.47]\n",
      "100%|██████████| 200/200 [00:05<00:00, 38.26it/s, epoch=4/10, avg_epoch_loss=3.14]\n",
      "100%|██████████| 200/200 [00:05<00:00, 36.31it/s, epoch=5/10, avg_epoch_loss=2.42]\n",
      "100%|██████████| 200/200 [00:05<00:00, 37.57it/s, epoch=6/10, avg_epoch_loss=3.45]\n",
      "100%|██████████| 200/200 [00:05<00:00, 37.03it/s, epoch=7/10, avg_epoch_loss=4.06]\n",
      "100%|██████████| 200/200 [00:05<00:00, 35.11it/s, epoch=8/10, avg_epoch_loss=2.73]\n",
      "100%|██████████| 200/200 [00:05<00:00, 38.09it/s, epoch=9/10, avg_epoch_loss=2.19]\n",
      "100%|██████████| 200/200 [00:05<00:00, 36.36it/s, epoch=10/10, avg_epoch_loss=2.07]\n",
      "Running evaluation: 100%|██████████| 37111/37111 [02:22<00:00, 260.64it/s]\n"
     ]
    },
    {
     "name": "stdout",
     "output_type": "stream",
     "text": [
      "Updated metrics database: /media/storage/data/shorelines/sensitivity-metrics.csv\n"
     ]
    },
    {
     "name": "stderr",
     "output_type": "stream",
     "text": [
      "\r",
      "  0%|          | 0/200 [00:00<?, ?it/s]"
     ]
    },
    {
     "name": "stdout",
     "output_type": "stream",
     "text": [
      "learning rate from ``lr_scheduler`` has been overwritten by ``learning_rate`` in optimizer.\n"
     ]
    },
    {
     "name": "stderr",
     "output_type": "stream",
     "text": [
      "100%|██████████| 200/200 [00:05<00:00, 36.05it/s, epoch=1/10, avg_epoch_loss=39.6]\n",
      "100%|██████████| 200/200 [00:05<00:00, 37.53it/s, epoch=2/10, avg_epoch_loss=3.78]\n",
      "100%|██████████| 200/200 [00:05<00:00, 36.84it/s, epoch=3/10, avg_epoch_loss=3.48]\n",
      "100%|██████████| 200/200 [00:05<00:00, 36.14it/s, epoch=4/10, avg_epoch_loss=3.18]\n",
      "100%|██████████| 200/200 [00:05<00:00, 36.27it/s, epoch=5/10, avg_epoch_loss=2.44]\n",
      "100%|██████████| 200/200 [00:05<00:00, 36.22it/s, epoch=6/10, avg_epoch_loss=3.58]\n",
      "100%|██████████| 200/200 [00:05<00:00, 36.42it/s, epoch=7/10, avg_epoch_loss=4.19]\n",
      "100%|██████████| 200/200 [00:05<00:00, 36.07it/s, epoch=8/10, avg_epoch_loss=2.72]\n",
      "100%|██████████| 200/200 [00:05<00:00, 35.91it/s, epoch=9/10, avg_epoch_loss=2.2]\n",
      "100%|██████████| 200/200 [00:05<00:00, 36.69it/s, epoch=10/10, avg_epoch_loss=2.06]\n",
      "Running evaluation: 100%|██████████| 37111/37111 [01:21<00:00, 453.58it/s]\n"
     ]
    },
    {
     "name": "stdout",
     "output_type": "stream",
     "text": [
      "Updated metrics database: /media/storage/data/shorelines/sensitivity-metrics.csv\n"
     ]
    }
   ],
   "source": [
    "for prediction_length in np.arange(1, 12):\n",
    "    metadata['prediction_length'] = prediction_length\n",
    "    train_ds, test_ds = get_gluon_ds()\n",
    "#     test_ds = ListDataset(test_ds.list_data[:200], freq=metadata['freq'])\n",
    "    train_eval_loop()"
   ]
  },
  {
   "cell_type": "code",
   "execution_count": 16,
   "metadata": {},
   "outputs": [
    {
     "name": "stderr",
     "output_type": "stream",
     "text": [
      "\r",
      "  0%|          | 0/200 [00:00<?, ?it/s]"
     ]
    },
    {
     "name": "stdout",
     "output_type": "stream",
     "text": [
      "learning rate from ``lr_scheduler`` has been overwritten by ``learning_rate`` in optimizer.\n"
     ]
    },
    {
     "name": "stderr",
     "output_type": "stream",
     "text": [
      "100%|██████████| 200/200 [00:22<00:00,  8.94it/s, epoch=1/10, avg_epoch_loss=44.6]\n",
      "100%|██████████| 200/200 [00:14<00:00, 13.61it/s, epoch=2/10, avg_epoch_loss=3.18]\n",
      "100%|██████████| 200/200 [00:21<00:00,  9.19it/s, epoch=3/10, avg_epoch_loss=3.59]\n",
      "100%|██████████| 200/200 [00:21<00:00,  9.15it/s, epoch=4/10, avg_epoch_loss=2.63]\n",
      "100%|██████████| 200/200 [00:20<00:00,  9.56it/s, epoch=5/10, avg_epoch_loss=2.31]\n",
      "100%|██████████| 200/200 [00:15<00:00, 13.20it/s, epoch=6/10, avg_epoch_loss=3.26]\n",
      "100%|██████████| 200/200 [00:04<00:00, 41.45it/s, epoch=7/10, avg_epoch_loss=3.07]\n",
      "100%|██████████| 200/200 [00:04<00:00, 42.95it/s, epoch=8/10, avg_epoch_loss=2.65]\n",
      "100%|██████████| 200/200 [00:05<00:00, 39.53it/s, epoch=9/10, avg_epoch_loss=2.21]\n",
      "100%|██████████| 200/200 [00:04<00:00, 41.01it/s, epoch=10/10, avg_epoch_loss=2.08]\n",
      "Running evaluation: 100%|██████████| 200/200 [00:00<00:00, 339.86it/s]\n"
     ]
    },
    {
     "name": "stdout",
     "output_type": "stream",
     "text": [
      "Updated metrics database: /media/storage/data/shorelines/sensitivity-metrics-test.csv\n"
     ]
    },
    {
     "name": "stderr",
     "output_type": "stream",
     "text": [
      "\r",
      "  0%|          | 0/200 [00:00<?, ?it/s]"
     ]
    },
    {
     "name": "stdout",
     "output_type": "stream",
     "text": [
      "learning rate from ``lr_scheduler`` has been overwritten by ``learning_rate`` in optimizer.\n"
     ]
    },
    {
     "name": "stderr",
     "output_type": "stream",
     "text": [
      "100%|██████████| 200/200 [00:04<00:00, 41.01it/s, epoch=1/10, avg_epoch_loss=0.092]\n",
      "100%|██████████| 200/200 [00:04<00:00, 40.55it/s, epoch=2/10, avg_epoch_loss=0.0915]\n",
      "100%|██████████| 200/200 [00:04<00:00, 41.06it/s, epoch=3/10, avg_epoch_loss=0.0909]\n",
      "100%|██████████| 200/200 [00:04<00:00, 41.53it/s, epoch=4/10, avg_epoch_loss=0.0891]\n",
      "100%|██████████| 200/200 [00:04<00:00, 41.26it/s, epoch=5/10, avg_epoch_loss=0.0942]\n",
      "100%|██████████| 200/200 [00:04<00:00, 42.02it/s, epoch=6/10, avg_epoch_loss=0.0934]\n",
      "100%|██████████| 200/200 [00:04<00:00, 41.54it/s, epoch=7/10, avg_epoch_loss=0.0919]\n",
      "100%|██████████| 200/200 [00:04<00:00, 41.98it/s, epoch=8/10, avg_epoch_loss=0.0976]\n",
      "100%|██████████| 200/200 [00:04<00:00, 42.62it/s, epoch=9/10, avg_epoch_loss=0.101]\n",
      "100%|██████████| 200/200 [00:04<00:00, 41.83it/s, epoch=10/10, avg_epoch_loss=0.102]\n",
      "Running evaluation: 100%|██████████| 200/200 [00:00<00:00, 389.51it/s]\n"
     ]
    },
    {
     "name": "stdout",
     "output_type": "stream",
     "text": [
      "Updated metrics database: /media/storage/data/shorelines/sensitivity-metrics-test.csv\n"
     ]
    }
   ],
   "source": [
    "results = []\n",
    "for ds in [tf, tf_z]:\n",
    "    for prediction_length in np.arange(7, 8):\n",
    "        metadata['prediction_length'] = prediction_length\n",
    "        train_ds, test_ds = get_gluon_ds(ds)\n",
    "        test_ds = ListDataset(test_ds.list_data[:200], freq=metadata['freq'])\n",
    "        results.append(train_eval_loop())"
   ]
  },
  {
   "cell_type": "code",
   "execution_count": 18,
   "metadata": {},
   "outputs": [
    {
     "data": {
      "text/plain": [
       "{'MSE': nan,\n",
       " 'abs_error': 36558.2956237793,\n",
       " 'abs_target_sum': 1112432.0180664062,\n",
       " 'abs_target_mean': 794.5942986188617,\n",
       " 'seasonal_error': 12.928196844482422,\n",
       " 'MASE': 2.3439584441821415,\n",
       " 'MAPE': 0.033384775773266304,\n",
       " 'sMAPE': 0.03412281045275743,\n",
       " 'OWA': nan,\n",
       " 'MSIS': nan,\n",
       " 'QuantileLoss[0.1]': 13074.200463867188,\n",
       " 'Coverage[0.1]': 0.015714285714285712,\n",
       " 'QuantileLoss[0.2]': 0.0,\n",
       " 'Coverage[0.2]': 0.0,\n",
       " 'QuantileLoss[0.3]': 0.0,\n",
       " 'Coverage[0.3]': 0.0,\n",
       " 'QuantileLoss[0.4]': 0.0,\n",
       " 'Coverage[0.4]': 0.0,\n",
       " 'QuantileLoss[0.5]': 36558.2956237793,\n",
       " 'Coverage[0.5]': 0.09928571428571427,\n",
       " 'QuantileLoss[0.6]': 0.0,\n",
       " 'Coverage[0.6]': 0.0,\n",
       " 'QuantileLoss[0.7]': 0.0,\n",
       " 'Coverage[0.7]': 0.0,\n",
       " 'QuantileLoss[0.8]': 0.0,\n",
       " 'Coverage[0.8]': 0.0,\n",
       " 'QuantileLoss[0.9]': 18367.051202392577,\n",
       " 'Coverage[0.9]': 0.485,\n",
       " 'RMSE': nan,\n",
       " 'NRMSE': nan,\n",
       " 'ND': 0.03286339752007836,\n",
       " 'wQuantileLoss[0.1]': 0.011752808487652436,\n",
       " 'wQuantileLoss[0.2]': 0.0,\n",
       " 'wQuantileLoss[0.3]': 0.0,\n",
       " 'wQuantileLoss[0.4]': 0.0,\n",
       " 'wQuantileLoss[0.5]': 0.03286339752007836,\n",
       " 'wQuantileLoss[0.6]': 0.0,\n",
       " 'wQuantileLoss[0.7]': 0.0,\n",
       " 'wQuantileLoss[0.8]': 0.0,\n",
       " 'wQuantileLoss[0.9]': 0.01651071787228634,\n",
       " 'mean_wQuantileLoss': 0.006791880431113015,\n",
       " 'MAE_Coverage': 0.4333333333333333}"
      ]
     },
     "execution_count": 18,
     "metadata": {},
     "output_type": "execute_result"
    }
   ],
   "source": [
    "results[0]"
   ]
  },
  {
   "cell_type": "code",
   "execution_count": 19,
   "metadata": {},
   "outputs": [
    {
     "data": {
      "text/plain": [
       "{'MSE': nan,\n",
       " 'abs_error': 1748.821670293808,\n",
       " 'abs_target_sum': 1691.5154285430908,\n",
       " 'abs_target_mean': 1.208225306102208,\n",
       " 'seasonal_error': 0.6620087969303131,\n",
       " 'MASE': 2.446496379069273,\n",
       " 'MAPE': 1.4887282993095823,\n",
       " 'sMAPE': 1.7073168540893509,\n",
       " 'OWA': nan,\n",
       " 'MSIS': nan,\n",
       " 'QuantileLoss[0.1]': 612.1859989345073,\n",
       " 'Coverage[0.1]': 0.04214285714285714,\n",
       " 'QuantileLoss[0.2]': 0.0,\n",
       " 'Coverage[0.2]': 0.0,\n",
       " 'QuantileLoss[0.3]': 0.0,\n",
       " 'Coverage[0.3]': 0.0,\n",
       " 'QuantileLoss[0.4]': 0.0,\n",
       " 'Coverage[0.4]': 0.0,\n",
       " 'QuantileLoss[0.5]': 1748.8216740768403,\n",
       " 'Coverage[0.5]': 0.1157142857142857,\n",
       " 'QuantileLoss[0.6]': 0.0,\n",
       " 'Coverage[0.6]': 0.0,\n",
       " 'QuantileLoss[0.7]': 0.0,\n",
       " 'Coverage[0.7]': 0.0,\n",
       " 'QuantileLoss[0.8]': 0.0,\n",
       " 'Coverage[0.8]': 0.0,\n",
       " 'QuantileLoss[0.9]': 1062.0479866623878,\n",
       " 'Coverage[0.9]': 0.4207142857142857,\n",
       " 'RMSE': nan,\n",
       " 'NRMSE': nan,\n",
       " 'ND': 1.0338786397000679,\n",
       " 'wQuantileLoss[0.1]': 0.3619157050561375,\n",
       " 'wQuantileLoss[0.2]': 0.0,\n",
       " 'wQuantileLoss[0.3]': 0.0,\n",
       " 'wQuantileLoss[0.4]': 0.0,\n",
       " 'wQuantileLoss[0.5]': 1.033878641936543,\n",
       " 'wQuantileLoss[0.6]': 0.0,\n",
       " 'wQuantileLoss[0.7]': 0.0,\n",
       " 'wQuantileLoss[0.8]': 0.0,\n",
       " 'wQuantileLoss[0.9]': 0.6278677502676603,\n",
       " 'mean_wQuantileLoss': 0.22485134414003788,\n",
       " 'MAE_Coverage': 0.43571428571428567}"
      ]
     },
     "execution_count": 19,
     "metadata": {},
     "output_type": "execute_result"
    }
   ],
   "source": [
    "results[1]"
   ]
  },
  {
   "cell_type": "code",
   "execution_count": 16,
   "metadata": {},
   "outputs": [
    {
     "data": {
      "text/html": [
       "<div>\n",
       "<style scoped>\n",
       "    .dataframe tbody tr th:only-of-type {\n",
       "        vertical-align: middle;\n",
       "    }\n",
       "\n",
       "    .dataframe tbody tr th {\n",
       "        vertical-align: top;\n",
       "    }\n",
       "\n",
       "    .dataframe thead th {\n",
       "        text-align: right;\n",
       "    }\n",
       "</style>\n",
       "<table border=\"1\" class=\"dataframe\">\n",
       "  <thead>\n",
       "    <tr style=\"text-align: right;\">\n",
       "      <th></th>\n",
       "      <th>Coverage[0.1]</th>\n",
       "      <th>Coverage[0.2]</th>\n",
       "      <th>Coverage[0.3]</th>\n",
       "      <th>Coverage[0.4]</th>\n",
       "      <th>Coverage[0.5]</th>\n",
       "      <th>Coverage[0.6]</th>\n",
       "      <th>Coverage[0.7]</th>\n",
       "      <th>Coverage[0.8]</th>\n",
       "      <th>Coverage[0.9]</th>\n",
       "      <th>MAE_Coverage</th>\n",
       "    </tr>\n",
       "  </thead>\n",
       "  <tbody>\n",
       "    <tr>\n",
       "      <th>0</th>\n",
       "      <td>0.0500</td>\n",
       "      <td>0.1050</td>\n",
       "      <td>0.2000</td>\n",
       "      <td>0.305000</td>\n",
       "      <td>0.495000</td>\n",
       "      <td>0.640000</td>\n",
       "      <td>0.7900</td>\n",
       "      <td>0.8700</td>\n",
       "      <td>0.935000</td>\n",
       "      <td>0.064444</td>\n",
       "    </tr>\n",
       "    <tr>\n",
       "      <th>1</th>\n",
       "      <td>0.0400</td>\n",
       "      <td>0.1000</td>\n",
       "      <td>0.1900</td>\n",
       "      <td>0.345000</td>\n",
       "      <td>0.465000</td>\n",
       "      <td>0.620000</td>\n",
       "      <td>0.7500</td>\n",
       "      <td>0.8700</td>\n",
       "      <td>0.925000</td>\n",
       "      <td>0.058333</td>\n",
       "    </tr>\n",
       "    <tr>\n",
       "      <th>2</th>\n",
       "      <td>0.0450</td>\n",
       "      <td>0.1050</td>\n",
       "      <td>0.1850</td>\n",
       "      <td>0.375000</td>\n",
       "      <td>0.490000</td>\n",
       "      <td>0.645000</td>\n",
       "      <td>0.7900</td>\n",
       "      <td>0.8700</td>\n",
       "      <td>0.945000</td>\n",
       "      <td>0.061111</td>\n",
       "    </tr>\n",
       "    <tr>\n",
       "      <th>3</th>\n",
       "      <td>0.0500</td>\n",
       "      <td>0.0950</td>\n",
       "      <td>0.1950</td>\n",
       "      <td>0.340000</td>\n",
       "      <td>0.490000</td>\n",
       "      <td>0.640000</td>\n",
       "      <td>0.7650</td>\n",
       "      <td>0.8650</td>\n",
       "      <td>0.900000</td>\n",
       "      <td>0.055556</td>\n",
       "    </tr>\n",
       "    <tr>\n",
       "      <th>4</th>\n",
       "      <td>0.0325</td>\n",
       "      <td>0.0775</td>\n",
       "      <td>0.1675</td>\n",
       "      <td>0.285000</td>\n",
       "      <td>0.432500</td>\n",
       "      <td>0.570000</td>\n",
       "      <td>0.7500</td>\n",
       "      <td>0.8650</td>\n",
       "      <td>0.950000</td>\n",
       "      <td>0.077778</td>\n",
       "    </tr>\n",
       "    <tr>\n",
       "      <th>...</th>\n",
       "      <td>...</td>\n",
       "      <td>...</td>\n",
       "      <td>...</td>\n",
       "      <td>...</td>\n",
       "      <td>...</td>\n",
       "      <td>...</td>\n",
       "      <td>...</td>\n",
       "      <td>...</td>\n",
       "      <td>...</td>\n",
       "      <td>...</td>\n",
       "    </tr>\n",
       "    <tr>\n",
       "      <th>2258</th>\n",
       "      <td>0.0000</td>\n",
       "      <td>0.0000</td>\n",
       "      <td>0.0000</td>\n",
       "      <td>0.055000</td>\n",
       "      <td>0.382500</td>\n",
       "      <td>0.525000</td>\n",
       "      <td>0.7875</td>\n",
       "      <td>0.9875</td>\n",
       "      <td>1.000000</td>\n",
       "      <td>0.168056</td>\n",
       "    </tr>\n",
       "    <tr>\n",
       "      <th>2259</th>\n",
       "      <td>0.0000</td>\n",
       "      <td>0.0000</td>\n",
       "      <td>0.0000</td>\n",
       "      <td>0.013333</td>\n",
       "      <td>0.258333</td>\n",
       "      <td>0.601667</td>\n",
       "      <td>0.6750</td>\n",
       "      <td>0.8750</td>\n",
       "      <td>0.998333</td>\n",
       "      <td>0.158704</td>\n",
       "    </tr>\n",
       "    <tr>\n",
       "      <th>2260</th>\n",
       "      <td>0.0900</td>\n",
       "      <td>0.0000</td>\n",
       "      <td>0.0000</td>\n",
       "      <td>0.000000</td>\n",
       "      <td>0.510000</td>\n",
       "      <td>0.000000</td>\n",
       "      <td>0.0000</td>\n",
       "      <td>0.0000</td>\n",
       "      <td>0.925000</td>\n",
       "      <td>0.338333</td>\n",
       "    </tr>\n",
       "    <tr>\n",
       "      <th>2261</th>\n",
       "      <td>0.0750</td>\n",
       "      <td>0.0000</td>\n",
       "      <td>0.0000</td>\n",
       "      <td>0.000000</td>\n",
       "      <td>0.642500</td>\n",
       "      <td>0.000000</td>\n",
       "      <td>0.0000</td>\n",
       "      <td>0.0000</td>\n",
       "      <td>0.935000</td>\n",
       "      <td>0.355833</td>\n",
       "    </tr>\n",
       "    <tr>\n",
       "      <th>2262</th>\n",
       "      <td>0.5100</td>\n",
       "      <td>0.0000</td>\n",
       "      <td>0.0000</td>\n",
       "      <td>0.000000</td>\n",
       "      <td>0.841667</td>\n",
       "      <td>0.000000</td>\n",
       "      <td>0.0000</td>\n",
       "      <td>0.0000</td>\n",
       "      <td>0.981667</td>\n",
       "      <td>0.425926</td>\n",
       "    </tr>\n",
       "  </tbody>\n",
       "</table>\n",
       "<p>2263 rows × 10 columns</p>\n",
       "</div>"
      ],
      "text/plain": [
       "      Coverage[0.1]  Coverage[0.2]  Coverage[0.3]  Coverage[0.4]  \\\n",
       "0            0.0500         0.1050         0.2000       0.305000   \n",
       "1            0.0400         0.1000         0.1900       0.345000   \n",
       "2            0.0450         0.1050         0.1850       0.375000   \n",
       "3            0.0500         0.0950         0.1950       0.340000   \n",
       "4            0.0325         0.0775         0.1675       0.285000   \n",
       "...             ...            ...            ...            ...   \n",
       "2258         0.0000         0.0000         0.0000       0.055000   \n",
       "2259         0.0000         0.0000         0.0000       0.013333   \n",
       "2260         0.0900         0.0000         0.0000       0.000000   \n",
       "2261         0.0750         0.0000         0.0000       0.000000   \n",
       "2262         0.5100         0.0000         0.0000       0.000000   \n",
       "\n",
       "      Coverage[0.5]  Coverage[0.6]  Coverage[0.7]  Coverage[0.8]  \\\n",
       "0          0.495000       0.640000         0.7900         0.8700   \n",
       "1          0.465000       0.620000         0.7500         0.8700   \n",
       "2          0.490000       0.645000         0.7900         0.8700   \n",
       "3          0.490000       0.640000         0.7650         0.8650   \n",
       "4          0.432500       0.570000         0.7500         0.8650   \n",
       "...             ...            ...            ...            ...   \n",
       "2258       0.382500       0.525000         0.7875         0.9875   \n",
       "2259       0.258333       0.601667         0.6750         0.8750   \n",
       "2260       0.510000       0.000000         0.0000         0.0000   \n",
       "2261       0.642500       0.000000         0.0000         0.0000   \n",
       "2262       0.841667       0.000000         0.0000         0.0000   \n",
       "\n",
       "      Coverage[0.9]  MAE_Coverage  \n",
       "0          0.935000      0.064444  \n",
       "1          0.925000      0.058333  \n",
       "2          0.945000      0.061111  \n",
       "3          0.900000      0.055556  \n",
       "4          0.950000      0.077778  \n",
       "...             ...           ...  \n",
       "2258       1.000000      0.168056  \n",
       "2259       0.998333      0.158704  \n",
       "2260       0.925000      0.338333  \n",
       "2261       0.935000      0.355833  \n",
       "2262       0.981667      0.425926  \n",
       "\n",
       "[2263 rows x 10 columns]"
      ]
     },
     "execution_count": 16,
     "metadata": {},
     "output_type": "execute_result"
    }
   ],
   "source": [
    "fpath = os.path.join(data_dir, 'sensitivity-metrics-test.csv')\n",
    "tmp = pd.read_csv(fpath)\n",
    "tmp['predictor'].unique()\n",
    "tmp.loc[tmp['predictor']=='MQCNNEstimator'].filter(regex='Coverage')\n",
    "tmp.filter(regex='Coverage')"
   ]
  },
  {
   "cell_type": "code",
   "execution_count": 120,
   "metadata": {},
   "outputs": [],
   "source": [
    "def forecast_transects(transects, dataset, predictor, freq=None, \n",
    "                       prediction_length=None, **kwargs):\n",
    "    \n",
    "    if prediction_length is None:\n",
    "        prediction_length = metadata['prediction_length']\n",
    "        \n",
    "    if freq is None:\n",
    "        freq = metadata['freq']\n",
    "\n",
    "    dataset = ListDataset(\n",
    "        [\n",
    "            i for i in iter(dataset) if i['item_id'] in transects\n",
    "        ], \n",
    "        freq=metadata['freq']\n",
    "    )\n",
    "    return iter(dataset), predictor.predict(dataset)\n",
    "     \n",
    "    \n",
    "duck = [f'BOX_160_055_3{i}' for i in np.arange(30, 60, 1)]\n",
    "\n",
    "\n",
    "ffn_ts_it, ffn_forecast_it = forecast_transects(\n",
    "    transects=duck,\n",
    "    dataset=test_ds,\n",
    "    predictor=predictor,\n",
    ")"
   ]
  },
  {
   "cell_type": "markdown",
   "metadata": {},
   "source": [
    "### Load model"
   ]
  },
  {
   "cell_type": "code",
   "execution_count": 70,
   "metadata": {},
   "outputs": [
    {
     "data": {
      "text/plain": [
       "<gluonts.model.predictor.RepresentableBlockPredictor at 0x7f11bc2c19d0>"
      ]
     },
     "execution_count": 70,
     "metadata": {},
     "output_type": "execute_result"
    }
   ],
   "source": [
    "from gluonts.model.predictor import Predictor\n",
    "mpath = os.path.join(model_dir, 'SimpleFeedForwardEstimator-176')\n",
    "predictor_deserialized = Predictor.deserialize(Path(mpath))"
   ]
  },
  {
   "cell_type": "markdown",
   "metadata": {},
   "source": [
    "### Plot predictions"
   ]
  },
  {
   "cell_type": "code",
   "execution_count": 147,
   "metadata": {},
   "outputs": [],
   "source": [
    "from matplotlib.ticker import ScalarFormatter, AutoMinorLocator\n",
    "import matplotlib as mpl\n",
    "\n",
    "plt.style.use(os.path.join(configuration_dir, 'PaperSingleFig.mplstyle'))\n",
    "\n",
    "def plot_prob_forecast(ax, ts_entry, fcst_entry):\n",
    "    \n",
    "    prediction_intervals = (50.0, 25.0,  75.0, 90.0)\n",
    "    legend = [f\"{ts_entry['item_id']}\", \"median prediction\"] + [f\"{k}% prediction interval\" for k in prediction_intervals][::-1]\n",
    "    \n",
    "    ts_idx = pd.date_range(\n",
    "        start=ts_entry[\"start\"],\n",
    "        periods=len(ts_entry[\"target\"]),\n",
    "        freq=\"AS\"\n",
    "    )\n",
    "    \n",
    "    ts = pd.Series(ts_entry[\"target\"], index=ts_idx)\n",
    "    ts.plot(ax=ax)  # plot the time series\n",
    "    \n",
    "    fcst_entry.plot(\n",
    "        prediction_intervals=prediction_intervals,\n",
    "        color='g'\n",
    "    ) \n",
    "    \n",
    "    ax.set_ylabel('Relative shoreline position (m)')\n",
    "    ax.set_xlabel('Time (yrs)')\n",
    "    ax.grid(which=\"both\")\n",
    "    ax.legend(legend, loc=\"upper left\")\n",
    "    \n",
    "    return ax"
   ]
  },
  {
   "cell_type": "code",
   "execution_count": 153,
   "metadata": {},
   "outputs": [],
   "source": [
    "from matplotlib.ticker import ScalarFormatter, AutoMinorLocator\n",
    "import matplotlib as mpl\n",
    "\n",
    "plt.style.use(os.path.join(configuration_dir, 'PaperSingleFig.mplstyle'))\n",
    "\n",
    "def plot_prob_forecast(ax, ts_entry, fcst_entry):\n",
    "    \n",
    "    prediction_intervals = (50.0, 90.0)\n",
    "    legend = [f\"{ts_entry['item_id']}\", \"median prediction\"] + [f\"{k}% prediction interval\" for k in prediction_intervals][::-1]\n",
    "    \n",
    "    ts_idx = pd.date_range(\n",
    "        start=ts_entry[\"start\"],\n",
    "        periods=len(ts_entry[\"target\"]),\n",
    "        freq=\"AS\"\n",
    "    )\n",
    "    \n",
    "    ts = pd.Series(ts_entry[\"target\"], index=ts_idx)\n",
    "#     ts.plot(ax=ax)  # plot the time series\n",
    "    \n",
    "#     fcst_entry.plot(\n",
    "#         prediction_intervals=prediction_intervals,\n",
    "#         color='g'\n",
    "#     )\n",
    "\n",
    "\n",
    "    ax.plot(ts_idx, ts_entry['target'])\n",
    "    ax.plot(fcst_entry.index, fcst_entry.median, color='g')\n",
    "    ax.xaxis.set_minor_locator(  AutoMinorLocator(5))\n",
    "\n",
    "    ax.set_ylabel('Relative shoreline position (m)')\n",
    "    ax.set_xlabel('Time (yrs)')\n",
    "    ax.grid(which=\"both\")\n",
    "    ax.legend(legend, loc=\"upper left\")\n",
    "    \n",
    "    return ax\n"
   ]
  },
  {
   "cell_type": "code",
   "execution_count": 122,
   "metadata": {},
   "outputs": [],
   "source": [
    "ts_entry = next(ffn_ts_it)\n",
    "fcst_entry = next(ffn_forecast_it)"
   ]
  },
  {
   "cell_type": "code",
   "execution_count": 161,
   "metadata": {},
   "outputs": [
    {
     "data": {
      "text/plain": [
       "array([[718.6113 , 719.239  , 720.91016, 711.4731 , 721.77026, 713.5707 ,\n",
       "        708.67456],\n",
       "       [731.06415, 732.1965 , 727.35516, 733.101  , 727.67975, 728.8849 ,\n",
       "        721.56976],\n",
       "       [745.21173, 744.01416, 743.5026 , 741.5523 , 740.33765, 741.93134,\n",
       "        740.07104],\n",
       "       [754.03094, 755.81726, 752.26935, 751.6901 , 754.0738 , 752.39465,\n",
       "        750.4583 ],\n",
       "       [769.0124 , 775.4235 , 766.3094 , 763.91907, 768.9416 , 760.0268 ,\n",
       "        767.561  ]], dtype=float32)"
      ]
     },
     "execution_count": 161,
     "metadata": {},
     "output_type": "execute_result"
    }
   ],
   "source": [
    "fcst_entry.forecast_array"
   ]
  },
  {
   "cell_type": "code",
   "execution_count": 152,
   "metadata": {},
   "outputs": [
    {
     "data": {
      "image/png": "[encoded data removed]",
      "text/plain": [
       "<Figure size 518.4x320.4 with 1 Axes>"
      ]
     },
     "metadata": {
      "needs_background": "light"
     },
     "output_type": "display_data"
    }
   ],
   "source": [
    "fig, ax = plt.subplots()\n",
    "plot_prob_forecast(ax, ts_entry, fcst_entry)\n",
    "# plt.savefig(os.path.join(report_dir, 'images/ffn.pdf'), dpi=300)\n",
    "plt.show()"
   ]
  },
  {
   "cell_type": "code",
   "execution_count": 148,
   "metadata": {},
   "outputs": [
    {
     "data": {
      "image/png": "[encoded data removed]",
      "text/plain": [
       "<Figure size 518.4x320.4 with 1 Axes>"
      ]
     },
     "metadata": {
      "needs_background": "light"
     },
     "output_type": "display_data"
    }
   ],
   "source": [
    "fig, ax = plt.subplots()\n",
    "plot_prob_forecast(ax, ts_entry, fcst_entry)\n",
    "# plt.savefig(os.path.join(report_dir, 'images/ffn.pdf'), dpi=300)\n",
    "plt.show()"
   ]
  },
  {
   "cell_type": "code",
   "execution_count": 100,
   "metadata": {},
   "outputs": [
    {
     "ename": "StopIteration",
     "evalue": "",
     "output_type": "error",
     "traceback": [
      "\u001b[0;31m---------------------------------------------------------------------------\u001b[0m",
      "\u001b[0;31mStopIteration\u001b[0m                             Traceback (most recent call last)",
      "\u001b[0;32m<ipython-input-100-6f15e7286ae6>\u001b[0m in \u001b[0;36m<module>\u001b[0;34m\u001b[0m\n\u001b[1;32m      1\u001b[0m \u001b[0mfig\u001b[0m\u001b[0;34m,\u001b[0m \u001b[0max\u001b[0m \u001b[0;34m=\u001b[0m \u001b[0mplt\u001b[0m\u001b[0;34m.\u001b[0m\u001b[0msubplots\u001b[0m\u001b[0;34m(\u001b[0m\u001b[0;34m)\u001b[0m\u001b[0;34m\u001b[0m\u001b[0;34m\u001b[0m\u001b[0m\n\u001b[0;32m----> 2\u001b[0;31m \u001b[0mplot_prob_forecast\u001b[0m\u001b[0;34m(\u001b[0m\u001b[0max\u001b[0m\u001b[0;34m,\u001b[0m \u001b[0mnext\u001b[0m\u001b[0;34m(\u001b[0m\u001b[0mffn_ts_it\u001b[0m\u001b[0;34m)\u001b[0m\u001b[0;34m,\u001b[0m \u001b[0mnext\u001b[0m\u001b[0;34m(\u001b[0m\u001b[0mffn_forecast_it\u001b[0m\u001b[0;34m)\u001b[0m\u001b[0;34m)\u001b[0m\u001b[0;34m\u001b[0m\u001b[0;34m\u001b[0m\u001b[0m\n\u001b[0m\u001b[1;32m      3\u001b[0m \u001b[0;31m# plt.savefig(os.path.join(report_dir, 'images/ffn.pdf'), dpi=300)\u001b[0m\u001b[0;34m\u001b[0m\u001b[0;34m\u001b[0m\u001b[0;34m\u001b[0m\u001b[0m\n\u001b[1;32m      4\u001b[0m \u001b[0mplt\u001b[0m\u001b[0;34m.\u001b[0m\u001b[0mshow\u001b[0m\u001b[0;34m(\u001b[0m\u001b[0;34m)\u001b[0m\u001b[0;34m\u001b[0m\u001b[0;34m\u001b[0m\u001b[0m\n",
      "\u001b[0;31mStopIteration\u001b[0m: "
     ]
    },
    {
     "data": {
      "image/png": "[encoded data removed]",
      "text/plain": [
       "<Figure size 518.4x320.4 with 1 Axes>"
      ]
     },
     "metadata": {
      "needs_background": "light"
     },
     "output_type": "display_data"
    }
   ],
   "source": [
    "fig, ax = plt.subplots()\n",
    "plot_prob_forecast(ax, next(ffn_ts_it), next(ffn_forecast_it))\n",
    "# plt.savefig(os.path.join(report_dir, 'images/ffn.pdf'), dpi=300)\n",
    "plt.show()"
   ]
  },
  {
   "cell_type": "code",
   "execution_count": null,
   "metadata": {},
   "outputs": [],
   "source": []
  },
  {
   "cell_type": "code",
   "execution_count": null,
   "metadata": {},
   "outputs": [],
   "source": []
  },
  {
   "cell_type": "code",
   "execution_count": null,
   "metadata": {},
   "outputs": [],
   "source": []
  },
  {
   "cell_type": "code",
   "execution_count": null,
   "metadata": {},
   "outputs": [],
   "source": []
  },
  {
   "cell_type": "code",
   "execution_count": null,
   "metadata": {},
   "outputs": [],
   "source": []
  },
  {
   "cell_type": "code",
   "execution_count": null,
   "metadata": {},
   "outputs": [],
   "source": []
  },
  {
   "cell_type": "code",
   "execution_count": null,
   "metadata": {},
   "outputs": [],
   "source": []
  },
  {
   "cell_type": "code",
   "execution_count": null,
   "metadata": {},
   "outputs": [],
   "source": []
  },
  {
   "cell_type": "code",
   "execution_count": null,
   "metadata": {},
   "outputs": [],
   "source": []
  }
 ],
 "metadata": {
  "kernelspec": {
   "display_name": "Python 3",
   "language": "python",
   "name": "python3"
  },
  "language_info": {
   "codemirror_mode": {
    "name": "ipython",
    "version": 3
   },
   "file_extension": ".py",
   "mimetype": "text/x-python",
   "name": "python",
   "nbconvert_exporter": "python",
   "pygments_lexer": "ipython3",
   "version": "3.8.5"
  }
 },
 "nbformat": 4,
 "nbformat_minor": 4
}

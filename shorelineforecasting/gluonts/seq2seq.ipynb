{
 "cells": [
  {
   "cell_type": "code",
   "execution_count": 1,
   "metadata": {
    "id": "aAX94l-ZSvkW"
   },
   "outputs": [],
   "source": [
    "%matplotlib inline\n",
    "import mxnet as mx\n",
    "from mxnet import gluon\n",
    "import numpy as np\n",
    "import pandas as pd\n",
    "import matplotlib.pyplot as plt\n",
    "import json\n",
    "\n",
    "from utils import GluonConfigs"
   ]
  },
  {
   "cell_type": "code",
   "execution_count": 2,
   "metadata": {},
   "outputs": [],
   "source": [
    "tf = GluonConfigs.load_data()"
   ]
  },
  {
   "cell_type": "code",
   "execution_count": 3,
   "metadata": {
    "colab": {
     "base_uri": "https://localhost:8080/",
     "height": 272
    },
    "id": "ZsuV5jgQX9Zb",
    "outputId": "0fe177a2-59f2-41d9-8602-ee864cf79eb4"
   },
   "outputs": [
    {
     "name": "stdout",
     "output_type": "stream",
     "text": [
      "Transects included in dataset: 37111; timesteps: 33\n"
     ]
    },
    {
     "data": {
      "text/html": [
       "<div>\n",
       "<style scoped>\n",
       "    .dataframe tbody tr th:only-of-type {\n",
       "        vertical-align: middle;\n",
       "    }\n",
       "\n",
       "    .dataframe tbody tr th {\n",
       "        vertical-align: top;\n",
       "    }\n",
       "\n",
       "    .dataframe thead th {\n",
       "        text-align: right;\n",
       "    }\n",
       "</style>\n",
       "<table border=\"1\" class=\"dataframe\">\n",
       "  <thead>\n",
       "    <tr style=\"text-align: right;\">\n",
       "      <th></th>\n",
       "      <th>1984</th>\n",
       "      <th>1985</th>\n",
       "      <th>1986</th>\n",
       "      <th>1987</th>\n",
       "      <th>1988</th>\n",
       "      <th>1989</th>\n",
       "      <th>1990</th>\n",
       "      <th>1991</th>\n",
       "      <th>1992</th>\n",
       "      <th>1993</th>\n",
       "      <th>...</th>\n",
       "      <th>2007</th>\n",
       "      <th>2008</th>\n",
       "      <th>2009</th>\n",
       "      <th>2010</th>\n",
       "      <th>2011</th>\n",
       "      <th>2012</th>\n",
       "      <th>2013</th>\n",
       "      <th>2014</th>\n",
       "      <th>2015</th>\n",
       "      <th>2016</th>\n",
       "    </tr>\n",
       "    <tr>\n",
       "      <th>transect_id</th>\n",
       "      <th></th>\n",
       "      <th></th>\n",
       "      <th></th>\n",
       "      <th></th>\n",
       "      <th></th>\n",
       "      <th></th>\n",
       "      <th></th>\n",
       "      <th></th>\n",
       "      <th></th>\n",
       "      <th></th>\n",
       "      <th></th>\n",
       "      <th></th>\n",
       "      <th></th>\n",
       "      <th></th>\n",
       "      <th></th>\n",
       "      <th></th>\n",
       "      <th></th>\n",
       "      <th></th>\n",
       "      <th></th>\n",
       "      <th></th>\n",
       "      <th></th>\n",
       "    </tr>\n",
       "  </thead>\n",
       "  <tbody>\n",
       "    <tr>\n",
       "      <th>BOX_051_151_15</th>\n",
       "      <td>677.32043</td>\n",
       "      <td>695.66370</td>\n",
       "      <td>713.29486</td>\n",
       "      <td>682.1743</td>\n",
       "      <td>688.23425</td>\n",
       "      <td>672.13007</td>\n",
       "      <td>700.43286</td>\n",
       "      <td>693.43460</td>\n",
       "      <td>699.38560</td>\n",
       "      <td>687.97950</td>\n",
       "      <td>...</td>\n",
       "      <td>700.6640</td>\n",
       "      <td>712.41740</td>\n",
       "      <td>708.45123</td>\n",
       "      <td>740.33240</td>\n",
       "      <td>680.42510</td>\n",
       "      <td>758.35150</td>\n",
       "      <td>754.49695</td>\n",
       "      <td>763.04297</td>\n",
       "      <td>743.29680</td>\n",
       "      <td>779.41570</td>\n",
       "    </tr>\n",
       "    <tr>\n",
       "      <th>BOX_051_151_18</th>\n",
       "      <td>768.93800</td>\n",
       "      <td>769.23883</td>\n",
       "      <td>762.44300</td>\n",
       "      <td>755.8622</td>\n",
       "      <td>761.79663</td>\n",
       "      <td>760.51710</td>\n",
       "      <td>763.30505</td>\n",
       "      <td>761.81360</td>\n",
       "      <td>769.22100</td>\n",
       "      <td>765.47060</td>\n",
       "      <td>...</td>\n",
       "      <td>763.1057</td>\n",
       "      <td>759.72600</td>\n",
       "      <td>766.23150</td>\n",
       "      <td>770.77130</td>\n",
       "      <td>798.26830</td>\n",
       "      <td>797.99615</td>\n",
       "      <td>803.90950</td>\n",
       "      <td>797.90780</td>\n",
       "      <td>798.18830</td>\n",
       "      <td>803.68256</td>\n",
       "    </tr>\n",
       "    <tr>\n",
       "      <th>BOX_051_151_21</th>\n",
       "      <td>711.41626</td>\n",
       "      <td>684.20540</td>\n",
       "      <td>695.49817</td>\n",
       "      <td>701.6695</td>\n",
       "      <td>705.29990</td>\n",
       "      <td>703.61470</td>\n",
       "      <td>707.69403</td>\n",
       "      <td>692.90360</td>\n",
       "      <td>704.68280</td>\n",
       "      <td>704.99945</td>\n",
       "      <td>...</td>\n",
       "      <td>825.8698</td>\n",
       "      <td>820.51720</td>\n",
       "      <td>820.68680</td>\n",
       "      <td>842.18097</td>\n",
       "      <td>850.45460</td>\n",
       "      <td>775.96700</td>\n",
       "      <td>883.04240</td>\n",
       "      <td>867.92426</td>\n",
       "      <td>877.37415</td>\n",
       "      <td>874.50244</td>\n",
       "    </tr>\n",
       "    <tr>\n",
       "      <th>BOX_051_151_30</th>\n",
       "      <td>795.81573</td>\n",
       "      <td>820.63700</td>\n",
       "      <td>799.72380</td>\n",
       "      <td>799.8664</td>\n",
       "      <td>823.56260</td>\n",
       "      <td>822.07300</td>\n",
       "      <td>823.56800</td>\n",
       "      <td>823.73300</td>\n",
       "      <td>824.58400</td>\n",
       "      <td>824.33360</td>\n",
       "      <td>...</td>\n",
       "      <td>823.7820</td>\n",
       "      <td>823.15674</td>\n",
       "      <td>823.65790</td>\n",
       "      <td>821.31860</td>\n",
       "      <td>818.85803</td>\n",
       "      <td>817.31220</td>\n",
       "      <td>822.92970</td>\n",
       "      <td>818.73350</td>\n",
       "      <td>822.18480</td>\n",
       "      <td>818.73480</td>\n",
       "    </tr>\n",
       "    <tr>\n",
       "      <th>BOX_051_151_32</th>\n",
       "      <td>242.70204</td>\n",
       "      <td>238.05159</td>\n",
       "      <td>229.93718</td>\n",
       "      <td>244.0620</td>\n",
       "      <td>247.68105</td>\n",
       "      <td>257.49900</td>\n",
       "      <td>302.69217</td>\n",
       "      <td>301.27722</td>\n",
       "      <td>301.12033</td>\n",
       "      <td>316.40414</td>\n",
       "      <td>...</td>\n",
       "      <td>301.1231</td>\n",
       "      <td>313.63553</td>\n",
       "      <td>313.09814</td>\n",
       "      <td>312.90347</td>\n",
       "      <td>306.18658</td>\n",
       "      <td>294.18326</td>\n",
       "      <td>297.23654</td>\n",
       "      <td>302.88650</td>\n",
       "      <td>323.85840</td>\n",
       "      <td>304.36823</td>\n",
       "    </tr>\n",
       "  </tbody>\n",
       "</table>\n",
       "<p>5 rows × 33 columns</p>\n",
       "</div>"
      ],
      "text/plain": [
       "                     1984       1985       1986      1987       1988  \\\n",
       "transect_id                                                            \n",
       "BOX_051_151_15  677.32043  695.66370  713.29486  682.1743  688.23425   \n",
       "BOX_051_151_18  768.93800  769.23883  762.44300  755.8622  761.79663   \n",
       "BOX_051_151_21  711.41626  684.20540  695.49817  701.6695  705.29990   \n",
       "BOX_051_151_30  795.81573  820.63700  799.72380  799.8664  823.56260   \n",
       "BOX_051_151_32  242.70204  238.05159  229.93718  244.0620  247.68105   \n",
       "\n",
       "                     1989       1990       1991       1992       1993  ...  \\\n",
       "transect_id                                                            ...   \n",
       "BOX_051_151_15  672.13007  700.43286  693.43460  699.38560  687.97950  ...   \n",
       "BOX_051_151_18  760.51710  763.30505  761.81360  769.22100  765.47060  ...   \n",
       "BOX_051_151_21  703.61470  707.69403  692.90360  704.68280  704.99945  ...   \n",
       "BOX_051_151_30  822.07300  823.56800  823.73300  824.58400  824.33360  ...   \n",
       "BOX_051_151_32  257.49900  302.69217  301.27722  301.12033  316.40414  ...   \n",
       "\n",
       "                    2007       2008       2009       2010       2011  \\\n",
       "transect_id                                                            \n",
       "BOX_051_151_15  700.6640  712.41740  708.45123  740.33240  680.42510   \n",
       "BOX_051_151_18  763.1057  759.72600  766.23150  770.77130  798.26830   \n",
       "BOX_051_151_21  825.8698  820.51720  820.68680  842.18097  850.45460   \n",
       "BOX_051_151_30  823.7820  823.15674  823.65790  821.31860  818.85803   \n",
       "BOX_051_151_32  301.1231  313.63553  313.09814  312.90347  306.18658   \n",
       "\n",
       "                     2012       2013       2014       2015       2016  \n",
       "transect_id                                                            \n",
       "BOX_051_151_15  758.35150  754.49695  763.04297  743.29680  779.41570  \n",
       "BOX_051_151_18  797.99615  803.90950  797.90780  798.18830  803.68256  \n",
       "BOX_051_151_21  775.96700  883.04240  867.92426  877.37415  874.50244  \n",
       "BOX_051_151_30  817.31220  822.92970  818.73350  822.18480  818.73480  \n",
       "BOX_051_151_32  294.18326  297.23654  302.88650  323.85840  304.36823  \n",
       "\n",
       "[5 rows x 33 columns]"
      ]
     },
     "execution_count": 3,
     "metadata": {},
     "output_type": "execute_result"
    }
   ],
   "source": [
    "tf = tf.set_index('transect_id')\n",
    "tf = tf.dropna(thresh=33)\n",
    "print(f\"Transects included in dataset: {tf.shape[0]}; timesteps: {tf.shape[1]}\")\n",
    "tf.head()"
   ]
  },
  {
   "cell_type": "code",
   "execution_count": 4,
   "metadata": {},
   "outputs": [],
   "source": [
    "tf = tf.sample(1000)"
   ]
  },
  {
   "cell_type": "code",
   "execution_count": 5,
   "metadata": {},
   "outputs": [],
   "source": [
    "sites = pd.read_csv(\"/media/storage/data/shorelines/sites-gluonts-prepared.csv\")\n",
    "sites = sites.loc[sites['transect_id'].isin(tf.index)]\n",
    "\n",
    "logs = np.log(sites['changerate_unc'].values)\n",
    "sites['changerate_cat'] = pd.qcut(logs, q=10, labels=range(10))"
   ]
  },
  {
   "cell_type": "code",
   "execution_count": 9,
   "metadata": {},
   "outputs": [
    {
     "name": "stderr",
     "output_type": "stream",
     "text": [
      "/media/storage/dev/shorelineforecasting/shorelineforecasting/unstable/lib/python3.6/site-packages/pyproj/crs/crs.py:53: FutureWarning: '+init=<authority>:<code>' syntax is deprecated. '<authority>:<code>' is the preferred initialization method. When making the change, be mindful of axis order changes: https://pyproj4.github.io/pyproj/stable/gotchas.html#axis-order-changes-in-proj-6\n",
      "  return _prepare_from_string(\" \".join(pjargs))\n"
     ]
    },
    {
     "data": {
      "image/png": "[encoded data removed]",
      "text/plain": [
       "<Figure size 864x864 with 1 Axes>"
      ]
     },
     "metadata": {
      "needs_background": "light"
     },
     "output_type": "display_data"
    },
    {
     "name": "stderr",
     "output_type": "stream",
     "text": [
      "/media/storage/dev/shorelineforecasting/shorelineforecasting/unstable/lib/python3.6/site-packages/pyproj/crs/crs.py:53: FutureWarning: '+init=<authority>:<code>' syntax is deprecated. '<authority>:<code>' is the preferred initialization method. When making the change, be mindful of axis order changes: https://pyproj4.github.io/pyproj/stable/gotchas.html#axis-order-changes-in-proj-6\n",
      "  return _prepare_from_string(\" \".join(pjargs))\n"
     ]
    },
    {
     "data": {
      "image/png": "[encoded data removed]",
      "text/plain": [
       "<Figure size 864x864 with 1 Axes>"
      ]
     },
     "metadata": {
      "needs_background": "light"
     },
     "output_type": "display_data"
    }
   ],
   "source": [
    "import geopandas as gpd\n",
    "from shapely.geometry import Point\n",
    "from pyproj import CRS\n",
    "\n",
    "def make_geodataframe(df: pd.DataFrame) -> gpd.GeoDataFrame:\n",
    "    crs = CRS(\"epsg:4326\")\n",
    "    geometries = gpd.points_from_xy(df.Intersect_lon, df.Intersect_lat)\n",
    "    return gpd.GeoDataFrame(df, crs=crs, geometry=geometries)\n",
    "\n",
    "def plot_spatial_distribution(gdf: gpd.GeoDataFrame) -> None:\n",
    "    world = gpd.read_file(gpd.datasets.get_path('naturalearth_lowres'))\n",
    "    \n",
    "    fig, ax = plt.subplots(figsize=(12, 12))\n",
    "    \n",
    "    world.plot(ax=ax, alpha=.4)\n",
    "    gdf.plot(markersize=2, ax=ax, label=f\"Transects (n={len(gdf)})\")\n",
    "    \n",
    "    ax.set_xlabel('Longitude')\n",
    "    ax.set_ylabel('Latitude')\n",
    "    ax.set_title('Transects included in study')\n",
    "    ax.legend(loc='best')\n",
    "    plt.tight_layout()\n",
    "    plt.show()\n",
    "    \n",
    "geosites = make_geodataframe(sites)\n",
    "plot_spatial_distribution(geosites)\n",
    "plot_spatial_distribution(make_geodataframe(geosites.groupby('coastline_idint').first()))\n"
   ]
  },
  {
   "cell_type": "code",
   "execution_count": 10,
   "metadata": {
    "id": "PUgQzQFNSwJd"
   },
   "outputs": [],
   "source": [
    "def get_timestamp_first_obs(series: pd.Series) -> pd.Timestamp:\n",
    "  yr = series.first_valid_index()\n",
    "  return pd.Timestamp(f\"01-01-{yr}\", freq='1Y')\n",
    "\n",
    "metadata = {'num_series': len(tf),\n",
    "            'num_steps': len(tf.columns),\n",
    "            'prediction_length': 7,\n",
    "            'freq': \"AS\",\n",
    "            'start': [pd.Timestamp(\"01-01-1984\", freq='AS') for _ in range(len(tf))],\n",
    "            'item_id': tf.index.values,\n",
    "            'context_length': 26\n",
    "            }"
   ]
  },
  {
   "cell_type": "code",
   "execution_count": 11,
   "metadata": {
    "id": "wgXS2CelSwSm"
   },
   "outputs": [],
   "source": [
    "from gluonts.dataset.field_names import FieldName\n",
    "from gluonts.dataset.common import ListDataset\n",
    "\n",
    "train_ds = ListDataset(\n",
    "    [\n",
    "     {\n",
    "         FieldName.TARGET: target,\n",
    "         FieldName.START: start,\n",
    "         FieldName.ITEM_ID: item_id,\n",
    "         FieldName.FEAT_STATIC_CAT: [fsc1, fsc2],\n",
    "         FieldName.FEAT_STATIC_REAL: [fsr]\n",
    "      }\n",
    "     \n",
    "     for (target, start, item_id, fsc1, fsc2, fsr) in zip(tf.values[:, :-metadata['prediction_length']],\n",
    "                                        metadata['start'], \n",
    "                                        metadata['item_id'],\n",
    "                                        sites['coastline_idint'].values,\n",
    "                                        sites['changerate_cat'].values,\n",
    "                                        sites['changerate_unc'].values)\n",
    "    ], freq=metadata['freq'])\n",
    "\n",
    "test_ds = ListDataset(\n",
    "    [\n",
    "     {\n",
    "         FieldName.TARGET: target,\n",
    "         FieldName.START: start,\n",
    "         FieldName.ITEM_ID: item_id,\n",
    "         FieldName.FEAT_STATIC_CAT: [fsc1, fsc2],\n",
    "         FieldName.FEAT_STATIC_REAL: [fsr]\n",
    "      }\n",
    "     \n",
    "     for (target, start, item_id, fsc1, fsc2, fsr) in zip(tf.values,\n",
    "                                        metadata['start'], \n",
    "                                        metadata['item_id'],\n",
    "                                        sites['coastline_idint'].values,\n",
    "                                        sites['changerate_cat'].values,\n",
    "                                        sites['changerate_unc'].values)\n",
    "    ], freq=metadata['freq'])"
   ]
  },
  {
   "cell_type": "code",
   "execution_count": 12,
   "metadata": {},
   "outputs": [
    {
     "data": {
      "text/plain": [
       "{'target': array([679.398  , 669.0965 , 662.0141 , 677.9036 , 665.63794, 691.00757,\n",
       "        666.1397 , 650.1767 , 652.46484, 672.30975, 685.4801 , 670.9831 ,\n",
       "        685.3232 , 663.69147, 668.45715, 670.0842 , 680.5572 , 677.17676,\n",
       "        673.5784 , 662.6312 , 665.6054 , 672.8136 , 674.438  , 666.7239 ,\n",
       "        661.6157 , 652.58466], dtype=float32),\n",
       " 'start': Timestamp('1984-01-01 00:00:00', freq='AS-JAN'),\n",
       " 'item_id': 'BOX_173_002_12',\n",
       " 'feat_static_cat': array([7427,    4], dtype=int32),\n",
       " 'feat_static_real': array([0.1991599], dtype=float32),\n",
       " 'source': SourceContext(source='list_data', row=0)}"
      ]
     },
     "execution_count": 12,
     "metadata": {},
     "output_type": "execute_result"
    }
   ],
   "source": [
    "next(iter(train_ds))"
   ]
  },
  {
   "cell_type": "code",
   "execution_count": 39,
   "metadata": {},
   "outputs": [
    {
     "name": "stderr",
     "output_type": "stream",
     "text": [
      "\r",
      "  0%|          | 0/100 [00:00<?, ?it/s]"
     ]
    },
    {
     "name": "stdout",
     "output_type": "stream",
     "text": [
      "learning rate from ``lr_scheduler`` has been overwritten by ``learning_rate`` in optimizer.\n"
     ]
    },
    {
     "name": "stderr",
     "output_type": "stream",
     "text": [
      "100%|██████████| 100/100 [00:12<00:00,  7.84it/s, epoch=1/100, avg_epoch_loss=35.6]\n",
      "100%|██████████| 100/100 [00:11<00:00,  8.47it/s, epoch=2/100, avg_epoch_loss=2.78]\n",
      "100%|██████████| 100/100 [00:13<00:00,  7.69it/s, epoch=3/100, avg_epoch_loss=1.64]\n",
      "100%|██████████| 100/100 [00:11<00:00,  8.56it/s, epoch=4/100, avg_epoch_loss=1.54]\n",
      "100%|██████████| 100/100 [00:12<00:00,  8.11it/s, epoch=5/100, avg_epoch_loss=1.53]\n",
      "100%|██████████| 100/100 [00:12<00:00,  8.10it/s, epoch=6/100, avg_epoch_loss=1.53]\n",
      "100%|██████████| 100/100 [00:12<00:00,  7.90it/s, epoch=7/100, avg_epoch_loss=1.52]\n",
      "100%|██████████| 100/100 [00:12<00:00,  8.09it/s, epoch=8/100, avg_epoch_loss=1.5]\n",
      "100%|██████████| 100/100 [00:14<00:00,  6.93it/s, epoch=9/100, avg_epoch_loss=1.5]\n",
      "100%|██████████| 100/100 [00:12<00:00,  8.23it/s, epoch=10/100, avg_epoch_loss=1.5]\n",
      "100%|██████████| 100/100 [00:12<00:00,  7.88it/s, epoch=11/100, avg_epoch_loss=1.5]\n",
      "100%|██████████| 100/100 [00:12<00:00,  8.08it/s, epoch=12/100, avg_epoch_loss=1.51]\n",
      "100%|██████████| 100/100 [00:11<00:00,  8.45it/s, epoch=13/100, avg_epoch_loss=1.51]\n",
      "100%|██████████| 100/100 [00:12<00:00,  7.80it/s, epoch=14/100, avg_epoch_loss=1.5]\n",
      "100%|██████████| 100/100 [00:12<00:00,  8.29it/s, epoch=15/100, avg_epoch_loss=1.5]\n",
      "100%|██████████| 100/100 [00:11<00:00,  8.54it/s, epoch=16/100, avg_epoch_loss=1.49]\n",
      "100%|██████████| 100/100 [00:12<00:00,  8.31it/s, epoch=17/100, avg_epoch_loss=1.5]\n",
      "100%|██████████| 100/100 [00:13<00:00,  7.42it/s, epoch=18/100, avg_epoch_loss=1.5]\n",
      "100%|██████████| 100/100 [00:13<00:00,  7.37it/s, epoch=19/100, avg_epoch_loss=1.5]\n",
      "100%|██████████| 100/100 [00:13<00:00,  7.53it/s, epoch=20/100, avg_epoch_loss=1.48]\n",
      "100%|██████████| 100/100 [00:11<00:00,  8.38it/s, epoch=21/100, avg_epoch_loss=1.48]\n",
      "100%|██████████| 100/100 [00:12<00:00,  7.76it/s, epoch=22/100, avg_epoch_loss=1.5]\n",
      "100%|██████████| 100/100 [00:12<00:00,  8.09it/s, epoch=23/100, avg_epoch_loss=1.48]\n",
      "100%|██████████| 100/100 [00:12<00:00,  8.15it/s, epoch=24/100, avg_epoch_loss=1.49]\n",
      "100%|██████████| 100/100 [00:12<00:00,  7.97it/s, epoch=25/100, avg_epoch_loss=1.48]\n",
      "100%|██████████| 100/100 [00:11<00:00,  8.60it/s, epoch=26/100, avg_epoch_loss=1.48]\n",
      "100%|██████████| 100/100 [00:12<00:00,  8.26it/s, epoch=27/100, avg_epoch_loss=1.49]\n",
      "100%|██████████| 100/100 [00:11<00:00,  8.66it/s, epoch=28/100, avg_epoch_loss=1.48]\n",
      "100%|██████████| 100/100 [00:12<00:00,  7.99it/s, epoch=29/100, avg_epoch_loss=1.49]\n",
      "100%|██████████| 100/100 [00:12<00:00,  8.07it/s, epoch=30/100, avg_epoch_loss=1.49]\n",
      "100%|██████████| 100/100 [00:13<00:00,  7.26it/s, epoch=31/100, avg_epoch_loss=1.49]\n",
      "100%|██████████| 100/100 [00:12<00:00,  8.19it/s, epoch=32/100, avg_epoch_loss=1.5]\n",
      "100%|██████████| 100/100 [00:11<00:00,  8.53it/s, epoch=33/100, avg_epoch_loss=1.47]\n",
      "100%|██████████| 100/100 [00:11<00:00,  8.57it/s, epoch=34/100, avg_epoch_loss=1.48]\n",
      "100%|██████████| 100/100 [00:11<00:00,  8.42it/s, epoch=35/100, avg_epoch_loss=1.47]\n",
      "100%|██████████| 100/100 [00:11<00:00,  8.65it/s, epoch=36/100, avg_epoch_loss=1.48]\n",
      "100%|██████████| 100/100 [00:11<00:00,  8.61it/s, epoch=37/100, avg_epoch_loss=1.49]\n",
      "100%|██████████| 100/100 [00:12<00:00,  8.05it/s, epoch=38/100, avg_epoch_loss=1.47]\n",
      "100%|██████████| 100/100 [00:11<00:00,  8.49it/s, epoch=39/100, avg_epoch_loss=1.48]\n",
      "100%|██████████| 100/100 [00:11<00:00,  8.82it/s, epoch=40/100, avg_epoch_loss=1.47]\n",
      "100%|██████████| 100/100 [00:11<00:00,  8.84it/s, epoch=41/100, avg_epoch_loss=1.47]\n",
      "100%|██████████| 100/100 [00:11<00:00,  8.80it/s, epoch=42/100, avg_epoch_loss=1.48]\n",
      "100%|██████████| 100/100 [00:11<00:00,  8.36it/s, epoch=43/100, avg_epoch_loss=1.47]\n",
      "100%|██████████| 100/100 [00:11<00:00,  8.41it/s, epoch=44/100, avg_epoch_loss=1.47]\n",
      "100%|██████████| 100/100 [00:11<00:00,  8.57it/s, epoch=45/100, avg_epoch_loss=1.46]\n",
      "100%|██████████| 100/100 [00:13<00:00,  7.17it/s, epoch=46/100, avg_epoch_loss=1.46]\n",
      "100%|██████████| 100/100 [00:14<00:00,  6.89it/s, epoch=47/100, avg_epoch_loss=1.47]\n",
      "100%|██████████| 100/100 [00:12<00:00,  8.23it/s, epoch=48/100, avg_epoch_loss=1.47]\n",
      "100%|██████████| 100/100 [00:12<00:00,  8.22it/s, epoch=49/100, avg_epoch_loss=1.46]\n",
      "100%|██████████| 100/100 [00:13<00:00,  7.52it/s, epoch=50/100, avg_epoch_loss=1.46]\n",
      "100%|██████████| 100/100 [00:14<00:00,  7.11it/s, epoch=51/100, avg_epoch_loss=1.48]\n",
      "100%|██████████| 100/100 [00:13<00:00,  7.63it/s, epoch=52/100, avg_epoch_loss=1.48]\n",
      "100%|██████████| 100/100 [00:12<00:00,  8.26it/s, epoch=53/100, avg_epoch_loss=1.48]\n",
      "100%|██████████| 100/100 [00:12<00:00,  7.96it/s, epoch=54/100, avg_epoch_loss=1.47]\n",
      "100%|██████████| 100/100 [00:11<00:00,  8.49it/s, epoch=55/100, avg_epoch_loss=1.47]\n",
      "100%|██████████| 100/100 [00:12<00:00,  8.21it/s, epoch=56/100, avg_epoch_loss=1.48]\n",
      "100%|██████████| 100/100 [00:11<00:00,  8.34it/s, epoch=57/100, avg_epoch_loss=1.47]\n",
      "100%|██████████| 100/100 [00:12<00:00,  8.02it/s, epoch=58/100, avg_epoch_loss=1.46]\n",
      "100%|██████████| 100/100 [00:17<00:00,  5.59it/s, epoch=59/100, avg_epoch_loss=1.47]\n",
      "100%|██████████| 100/100 [00:17<00:00,  5.64it/s, epoch=60/100, avg_epoch_loss=1.47]\n",
      "100%|██████████| 100/100 [00:18<00:00,  5.27it/s, epoch=61/100, avg_epoch_loss=1.47]\n",
      "100%|██████████| 100/100 [00:19<00:00,  5.22it/s, epoch=62/100, avg_epoch_loss=1.47]\n",
      "100%|██████████| 100/100 [00:19<00:00,  5.20it/s, epoch=63/100, avg_epoch_loss=1.46]\n",
      "100%|██████████| 100/100 [00:22<00:00,  4.54it/s, epoch=64/100, avg_epoch_loss=1.46]\n",
      "100%|██████████| 100/100 [00:20<00:00,  4.97it/s, epoch=65/100, avg_epoch_loss=1.46]\n",
      "100%|██████████| 100/100 [00:18<00:00,  5.36it/s, epoch=66/100, avg_epoch_loss=1.46]\n",
      "100%|██████████| 100/100 [00:17<00:00,  5.58it/s, epoch=67/100, avg_epoch_loss=1.46]\n",
      "100%|██████████| 100/100 [00:18<00:00,  5.52it/s, epoch=68/100, avg_epoch_loss=1.45]\n",
      "100%|██████████| 100/100 [00:18<00:00,  5.44it/s, epoch=69/100, avg_epoch_loss=1.46]\n",
      "100%|██████████| 100/100 [00:17<00:00,  5.63it/s, epoch=70/100, avg_epoch_loss=1.46]\n",
      "100%|██████████| 100/100 [00:18<00:00,  5.53it/s, epoch=71/100, avg_epoch_loss=1.46]\n",
      "100%|██████████| 100/100 [00:19<00:00,  5.10it/s, epoch=72/100, avg_epoch_loss=1.46]\n",
      "100%|██████████| 100/100 [00:17<00:00,  5.75it/s, epoch=73/100, avg_epoch_loss=1.45]\n",
      "100%|██████████| 100/100 [00:17<00:00,  5.68it/s, epoch=74/100, avg_epoch_loss=1.46]\n",
      "100%|██████████| 100/100 [00:17<00:00,  5.64it/s, epoch=75/100, avg_epoch_loss=1.46]\n",
      "100%|██████████| 100/100 [00:19<00:00,  5.17it/s, epoch=76/100, avg_epoch_loss=1.46]\n",
      "100%|██████████| 100/100 [00:19<00:00,  5.07it/s, epoch=77/100, avg_epoch_loss=1.46]\n",
      "100%|██████████| 100/100 [00:18<00:00,  5.53it/s, epoch=78/100, avg_epoch_loss=1.44]\n",
      "100%|██████████| 100/100 [00:17<00:00,  5.84it/s, epoch=79/100, avg_epoch_loss=1.45]\n",
      "100%|██████████| 100/100 [00:17<00:00,  5.79it/s, epoch=80/100, avg_epoch_loss=1.45]\n",
      "100%|██████████| 100/100 [00:16<00:00,  5.89it/s, epoch=81/100, avg_epoch_loss=1.45]\n",
      "100%|██████████| 100/100 [00:17<00:00,  5.83it/s, epoch=82/100, avg_epoch_loss=1.45]\n",
      "100%|██████████| 100/100 [00:17<00:00,  5.84it/s, epoch=83/100, avg_epoch_loss=1.44]\n",
      "100%|██████████| 100/100 [00:17<00:00,  5.78it/s, epoch=84/100, avg_epoch_loss=1.45]\n",
      "100%|██████████| 100/100 [00:17<00:00,  5.79it/s, epoch=85/100, avg_epoch_loss=1.45]\n",
      "100%|██████████| 100/100 [00:15<00:00,  6.34it/s, epoch=86/100, avg_epoch_loss=1.45]\n",
      "100%|██████████| 100/100 [00:15<00:00,  6.66it/s, epoch=87/100, avg_epoch_loss=1.45]\n",
      "100%|██████████| 100/100 [00:15<00:00,  6.49it/s, epoch=88/100, avg_epoch_loss=1.44]\n",
      "100%|██████████| 100/100 [00:15<00:00,  6.57it/s, epoch=89/100, avg_epoch_loss=1.45]\n",
      "100%|██████████| 100/100 [00:15<00:00,  6.64it/s, epoch=90/100, avg_epoch_loss=1.45]\n",
      "100%|██████████| 100/100 [00:15<00:00,  6.61it/s, epoch=91/100, avg_epoch_loss=1.45]\n",
      "100%|██████████| 100/100 [00:15<00:00,  6.48it/s, epoch=92/100, avg_epoch_loss=1.45]\n",
      "100%|██████████| 100/100 [00:15<00:00,  6.40it/s, epoch=93/100, avg_epoch_loss=1.44]\n",
      "100%|██████████| 100/100 [00:15<00:00,  6.61it/s, epoch=94/100, avg_epoch_loss=1.44]\n",
      "100%|██████████| 100/100 [00:15<00:00,  6.56it/s, epoch=95/100, avg_epoch_loss=1.44]\n",
      "100%|██████████| 100/100 [00:14<00:00,  6.75it/s, epoch=96/100, avg_epoch_loss=1.45]\n",
      "100%|██████████| 100/100 [00:15<00:00,  6.41it/s, epoch=97/100, avg_epoch_loss=1.45]\n",
      "100%|██████████| 100/100 [00:15<00:00,  6.59it/s, epoch=98/100, avg_epoch_loss=1.44]\n",
      "100%|██████████| 100/100 [00:15<00:00,  6.58it/s, epoch=99/100, avg_epoch_loss=1.44]\n",
      "100%|██████████| 100/100 [00:11<00:00,  9.01it/s, epoch=100/100, avg_epoch_loss=1.44]\n",
      "Running evaluation: 100%|██████████| 1000/1000 [00:00<00:00, 21083.58it/s]\n"
     ]
    },
    {
     "name": "stdout",
     "output_type": "stream",
     "text": [
      "{'Coverage[0.1]': 0.027,\n",
      " 'Coverage[0.5]': 0.088,\n",
      " 'Coverage[0.9]': 0.49328571428571427,\n",
      " 'MAE_Coverage': 0.29723809523809525,\n",
      " 'MAPE': 0.06990890857367653,\n",
      " 'MASE': 4.4224255523172395,\n",
      " 'MSE': 2901.834447012765,\n",
      " 'MSIS': nan,\n",
      " 'ND': 0.058237872854897295,\n",
      " 'NRMSE': 0.07365253858937477,\n",
      " 'OWA': nan,\n",
      " 'QuantileLoss[0.1]': 103354.37053375246,\n",
      " 'QuantileLoss[0.5]': 298161.8943634033,\n",
      " 'QuantileLoss[0.9]': 180500.4147140503,\n",
      " 'RMSE': 53.86867779157722,\n",
      " 'abs_error': 298161.89471817017,\n",
      " 'abs_target_mean': 731.3892884521484,\n",
      " 'abs_target_sum': 5119725.019165039,\n",
      " 'mean_absolute_QuantileLoss': 194005.559870402,\n",
      " 'mean_wQuantileLoss': 0.03789374607897239,\n",
      " 'sMAPE': 0.06397296018967083,\n",
      " 'seasonal_error': 13.675548467407227,\n",
      " 'wQuantileLoss[0.1]': 0.02018748470803774,\n",
      " 'wQuantileLoss[0.5]': 0.058237872785603176,\n",
      " 'wQuantileLoss[0.9]': 0.03525588074327624}\n"
     ]
    }
   ],
   "source": [
    "from pprint import pprint\n",
    "\n",
    "from gluonts.block.encoder import (\n",
    "    HierarchicalCausalConv1DEncoder,\n",
    "    RNNEncoder,\n",
    "    Seq2SeqEncoder,\n",
    ")\n",
    "\n",
    "from gluonts.evaluation import Evaluator\n",
    "from gluonts.evaluation.backtest import make_evaluation_predictions\n",
    "from gluonts.trainer import Trainer\n",
    "from gluonts.model.seq2seq import Seq2SeqEstimator, MQCNNEstimator\n",
    "\n",
    "# estimator = Seq2SeqEstimator(\n",
    "#     prediction_length=7,\n",
    "#     freq='12M',\n",
    "#     cardinality=[len(sites['coastline_idint'].unique())],\n",
    "#     encoder=Seq2SeqEncoder(),\n",
    "#     trainer=Trainer(ctx=\"cpu\",\n",
    "#                     epochs=10,\n",
    "#                     learning_rate=1e-3,\n",
    "#                     num_batches_per_epoch=100\n",
    "#                    )\n",
    "# )\n",
    "\n",
    "estimator = MQCNNEstimator(\n",
    "    prediction_length=7,\n",
    "    freq='12M',\n",
    "    use_feat_static_cat=True,\n",
    "    cardinality=[len(sites['coastline_idint'].unique()), len(sites['changerate_cat'].unique())],\n",
    "    trainer=Trainer(ctx=\"cpu\",\n",
    "                    epochs=100,\n",
    "                    learning_rate=1e-3,\n",
    "                    num_batches_per_epoch=100\n",
    "                   )\n",
    ")\n",
    "\n",
    "predictor = estimator.train(train_ds)\n",
    "\n",
    "\n",
    "forecast_it, ts_it = make_evaluation_predictions(\n",
    "    dataset=test_ds,  # test dataset\n",
    "    predictor=predictor,  # predictor\n",
    "    num_samples=100,  # number of sample paths we want for evaluation\n",
    ")\n",
    "\n",
    "forecasts = list(forecast_it)\n",
    "tss = list(ts_it)\n",
    "\n",
    "evaluator = Evaluator(quantiles=[0.1, 0.5, 0.9])\n",
    "agg_metrics, item_metrics = evaluator(iter(tss), iter(forecasts), num_series=len(test_ds))\n",
    "\n",
    "pprint(agg_metrics)"
   ]
  },
  {
   "cell_type": "code",
   "execution_count": 17,
   "metadata": {},
   "outputs": [],
   "source": [
    "met = agg_metrics"
   ]
  },
  {
   "cell_type": "code",
   "execution_count": 87,
   "metadata": {},
   "outputs": [
    {
     "data": {
      "text/plain": [
       "{'MSE': 1418.6504005892616,\n",
       " 'abs_error': 119392.3497467041,\n",
       " 'abs_target_sum': 5202243.331588745,\n",
       " 'abs_target_mean': 743.1776187983921,\n",
       " 'seasonal_error': 13.463112725524903,\n",
       " 'MASE': 1.435279196527888,\n",
       " 'MAPE': 0.02849540111717408,\n",
       " 'sMAPE': 0.02640124287571893,\n",
       " 'OWA': nan,\n",
       " 'MSIS': 20.009941216344945,\n",
       " 'QuantileLoss[0.1]': 66737.80824012758,\n",
       " 'Coverage[0.1]': 0.08471428571428571,\n",
       " 'QuantileLoss[0.5]': 119392.34961891174,\n",
       " 'Coverage[0.5]': 0.4584285714285714,\n",
       " 'QuantileLoss[0.9]': 84608.61129608154,\n",
       " 'Coverage[0.9]': 0.8677142857142857,\n",
       " 'RMSE': 37.66497578107892,\n",
       " 'NRMSE': 0.050680987732081594,\n",
       " 'ND': 0.022950166329540403,\n",
       " 'wQuantileLoss[0.1]': 0.012828659481359958,\n",
       " 'wQuantileLoss[0.5]': 0.022950166304975546,\n",
       " 'wQuantileLoss[0.9]': 0.016263870392668155,\n",
       " 'mean_wQuantileLoss': 0.01734756539300122,\n",
       " 'MAE_Coverage': 0.02971428571428575}"
      ]
     },
     "execution_count": 87,
     "metadata": {},
     "output_type": "execute_result"
    }
   ],
   "source": [
    "agg_metrics"
   ]
  },
  {
   "cell_type": "code",
   "execution_count": 86,
   "metadata": {},
   "outputs": [
    {
     "data": {
      "text/plain": [
       "{'ND': 0.022950166329540403,\n",
       " 'Coverage[0.5]': 0.4584285714285714,\n",
       " 'MASE': 1.435279196527888,\n",
       " 'RMSE': 37.66497578107892,\n",
       " 'Coverage[0.1]': 0.08471428571428571,\n",
       " 'QuantileLoss[0.9]': 84608.61129608154,\n",
       " 'MSIS': 20.009941216344945,\n",
       " 'abs_error': 119392.3497467041,\n",
       " 'wQuantileLoss[0.9]': 0.016263870392668155,\n",
       " 'MAE_Coverage': 0.02971428571428575,\n",
       " 'Coverage[0.9]': 0.8677142857142857,\n",
       " 'mean_wQuantileLoss': 0.01734756539300122,\n",
       " 'MAPE': 0.02849540111717408,\n",
       " 'MSE': 1418.6504005892616,\n",
       " 'wQuantileLoss[0.1]': 0.012828659481359958,\n",
       " 'QuantileLoss[0.5]': 119392.34961891174,\n",
       " 'QuantileLoss[0.1]': 66737.80824012758,\n",
       " 'wQuantileLoss[0.5]': 0.022950166304975546,\n",
       " 'sMAPE': 0.02640124287571893,\n",
       " 'NRMSE': 0.050680987732081594}"
      ]
     },
     "execution_count": 86,
     "metadata": {},
     "output_type": "execute_result"
    }
   ],
   "source": [
    "dict(set(agg_metrics.items()) - set(met.items()))"
   ]
  },
  {
   "cell_type": "code",
   "execution_count": null,
   "metadata": {},
   "outputs": [],
   "source": []
  },
  {
   "cell_type": "code",
   "execution_count": 14,
   "metadata": {},
   "outputs": [
    {
     "name": "stderr",
     "output_type": "stream",
     "text": [
      "\r",
      "  0%|          | 0/100 [00:00<?, ?it/s]"
     ]
    },
    {
     "name": "stdout",
     "output_type": "stream",
     "text": [
      "learning rate from ``lr_scheduler`` has been overwritten by ``learning_rate`` in optimizer.\n"
     ]
    },
    {
     "name": "stderr",
     "output_type": "stream",
     "text": [
      "100%|██████████| 100/100 [00:04<00:00, 20.78it/s, epoch=1/10, avg_epoch_loss=5.54]\n",
      "100%|██████████| 100/100 [00:04<00:00, 23.43it/s, epoch=2/10, avg_epoch_loss=4.8]\n",
      "100%|██████████| 100/100 [00:04<00:00, 21.97it/s, epoch=3/10, avg_epoch_loss=4.71]\n",
      "100%|██████████| 100/100 [00:04<00:00, 24.13it/s, epoch=4/10, avg_epoch_loss=4.64]\n",
      "100%|██████████| 100/100 [00:04<00:00, 21.60it/s, epoch=5/10, avg_epoch_loss=4.67]\n",
      "100%|██████████| 100/100 [00:04<00:00, 23.92it/s, epoch=6/10, avg_epoch_loss=4.61]\n",
      "100%|██████████| 100/100 [00:04<00:00, 24.42it/s, epoch=7/10, avg_epoch_loss=4.69]\n",
      "100%|██████████| 100/100 [00:04<00:00, 24.53it/s, epoch=8/10, avg_epoch_loss=4.61]\n",
      "100%|██████████| 100/100 [00:04<00:00, 24.39it/s, epoch=9/10, avg_epoch_loss=4.62]\n",
      "100%|██████████| 100/100 [00:04<00:00, 24.38it/s, epoch=10/10, avg_epoch_loss=4.63]\n",
      "Running evaluation: 100%|██████████| 1000/1000 [00:00<00:00, 14402.28it/s]\n"
     ]
    },
    {
     "name": "stdout",
     "output_type": "stream",
     "text": [
      "{'Coverage[0.1]': 0.2061428571428571,\n",
      " 'Coverage[0.5]': 0.698,\n",
      " 'Coverage[0.9]': 0.9081428571428571,\n",
      " 'MAE_Coverage': 0.10409523809523806,\n",
      " 'MAPE': 0.4753569176552284,\n",
      " 'MASE': 1.9511277066860575,\n",
      " 'MSE': 3465.638200680869,\n",
      " 'MSIS': 23.227854192486834,\n",
      " 'ND': 0.035366316204698094,\n",
      " 'NRMSE': 0.0818572482060664,\n",
      " 'OWA': nan,\n",
      " 'QuantileLoss[0.1]': 107015.90916290286,\n",
      " 'QuantileLoss[0.5]': 178041.94791030884,\n",
      " 'QuantileLoss[0.9]': 115013.84558944701,\n",
      " 'RMSE': 58.86967131453061,\n",
      " 'abs_error': 178041.94733428955,\n",
      " 'abs_target_mean': 719.1748147498539,\n",
      " 'abs_target_sum': 5034223.703248978,\n",
      " 'mean_wQuantileLoss': 0.02649012878287876,\n",
      " 'sMAPE': 0.045259390639613366,\n",
      " 'seasonal_error': 14.004077765502931,\n",
      " 'wQuantileLoss[0.1]': 0.02125767853618367,\n",
      " 'wQuantileLoss[0.5]': 0.03536631631911877,\n",
      " 'wQuantileLoss[0.9]': 0.022846391493333836}\n"
     ]
    }
   ],
   "source": [
    "from pprint import pprint\n",
    "\n",
    "from gluonts.evaluation import Evaluator\n",
    "from gluonts.evaluation.backtest import make_evaluation_predictions\n",
    "from gluonts.trainer import Trainer\n",
    "from gluonts.model.deepar import DeepAREstimator\n",
    "\n",
    "estimator = DeepAREstimator(\n",
    "    prediction_length=metadata['prediction_length'],\n",
    "    context_length=metadata['context_length'],\n",
    "    freq='12M',\n",
    "    use_feat_static_real=True,\n",
    "    use_feat_static_cat=True,\n",
    "    cardinality=[len(sites['coastline_idint'].unique())],\n",
    "    trainer=Trainer(ctx=\"cpu\",\n",
    "                    epochs=10,\n",
    "                    learning_rate=1e-3,\n",
    "                    num_batches_per_epoch=100\n",
    "                   )\n",
    ")\n",
    "\n",
    "\n",
    "predictor = estimator.train(train_ds)\n",
    "\n",
    "\n",
    "forecast_it, ts_it = make_evaluation_predictions(\n",
    "    dataset=test_ds,  # test dataset\n",
    "    predictor=predictor,  # predictor\n",
    "    num_samples=100,  # number of sample paths we want for evaluation\n",
    ")\n",
    "\n",
    "forecasts = list(forecast_it)\n",
    "tss = list(ts_it)\n",
    "\n",
    "evaluator = Evaluator(quantiles=[0.1, 0.5, 0.9])\n",
    "agg_metrics, item_metrics = evaluator(iter(tss), iter(forecasts), num_series=len(test_ds))\n",
    "\n",
    "pprint(agg_metrics)\n",
    "\n",
    "\n"
   ]
  },
  {
   "cell_type": "code",
   "execution_count": 13,
   "metadata": {},
   "outputs": [],
   "source": [
    "agg_metrics_1 = agg_metrics"
   ]
  },
  {
   "cell_type": "code",
   "execution_count": 15,
   "metadata": {},
   "outputs": [
    {
     "data": {
      "text/plain": [
       "{'MSE': 116.39628606360293,\n",
       " 'abs_error': 3315.592727661133,\n",
       " 'abs_target_sum': 0.0,\n",
       " 'abs_target_mean': 0.0,\n",
       " 'seasonal_error': 0.0,\n",
       " 'MASE': 0.053675535225835125,\n",
       " 'MAPE': -0.008176735430317661,\n",
       " 'sMAPE': 0.0014846074964902853,\n",
       " 'OWA': nan,\n",
       " 'MSIS': 3.1744468682476423,\n",
       " 'QuantileLoss[0.1]': 4507.927330017061,\n",
       " 'Coverage[0.1]': -0.16571428571428568,\n",
       " 'QuantileLoss[0.5]': 3315.5926094055176,\n",
       " 'Coverage[0.5]': -0.4082857142857143,\n",
       " 'QuantileLoss[0.9]': 2410.79516906738,\n",
       " 'Coverage[0.9]': -0.04500000000000004,\n",
       " 'RMSE': 0.9804288252725968,\n",
       " 'NRMSE': 0.0013632691317390089,\n",
       " 'ND': 0.0006586105272837414,\n",
       " 'wQuantileLoss[0.1]': 0.0008954562998675919,\n",
       " 'wQuantileLoss[0.5]': 0.0006586105037934067,\n",
       " 'wQuantileLoss[0.9]': 0.0004788812160873013,\n",
       " 'mean_wQuantileLoss': 0.0006776493399160977,\n",
       " 'MAE_Coverage': -0.0018571428571427795}"
      ]
     },
     "execution_count": 15,
     "metadata": {},
     "output_type": "execute_result"
    }
   ],
   "source": [
    "{key:agg_metrics_1[key]-agg_metrics[key] for key in agg_metrics_1}"
   ]
  },
  {
   "cell_type": "code",
   "execution_count": 140,
   "metadata": {},
   "outputs": [],
   "source": [
    "agg_metrics_old = agg_metrics"
   ]
  },
  {
   "cell_type": "code",
   "execution_count": 14,
   "metadata": {},
   "outputs": [],
   "source": [
    "def create_transformation(freq, context_length, prediction_length):\n",
    "    return Chain(\n",
    "        [\n",
    "            AddObservedValuesIndicator(\n",
    "                target_field=FieldName.TARGET,\n",
    "                output_field=FieldName.OBSERVED_VALUES,\n",
    "            ),\n",
    "            AddAgeFeature(\n",
    "                target_field=FieldName.TARGET,\n",
    "                output_field=FieldName.FEAT_AGE,\n",
    "                pred_length=prediction_length,\n",
    "                log_scale=True,\n",
    "            ),\n",
    "            InstanceSplitter(\n",
    "                target_field=FieldName.TARGET,\n",
    "                is_pad_field=FieldName.IS_PAD,\n",
    "                start_field=FieldName.START,\n",
    "                forecast_start_field=FieldName.FORECAST_START,\n",
    "                train_sampler=ExpectedNumInstanceSampler(num_instances=1),\n",
    "                past_length=context_length,\n",
    "                future_length=prediction_length,\n",
    "                time_series_fields=[\n",
    "                    FieldName.FEAT_AGE,\n",
    "                    FieldName.FEAT_DYNAMIC_REAL,\n",
    "                    FieldName.OBSERVED_VALUES,\n",
    "                ],\n",
    "            ),\n",
    "        ]\n",
    "    )\n",
    "\n",
    "# transformation = create_transformation(custom_ds_metadata['freq'],\n",
    "#                                        2 * custom_ds_metadata['prediction_length'], # can be any appropriate value\n",
    "#                                        custom_ds_metadata['prediction_length'])\n",
    "\n",
    "# train_tf = transformation(iter(train_ds), is_train=True)"
   ]
  },
  {
   "cell_type": "code",
   "execution_count": 41,
   "metadata": {},
   "outputs": [],
   "source": [
    "def plot_prob_forecasts(ts_entry, forecast_entry):\n",
    "    plot_length = 150\n",
    "    prediction_intervals = (50.0, 90.0)\n",
    "    legend = [\"observations\", \"median prediction\"] + [f\"{k}% prediction interval\" for k in prediction_intervals][::-1]\n",
    "\n",
    "    fig, ax = plt.subplots(1, 1, figsize=(10, 7))\n",
    "    ts_entry[-plot_length:].plot(ax=ax)  # plot the time series\n",
    "    forecast_entry.plot(prediction_intervals=prediction_intervals, color='g')\n",
    "    plt.grid(which=\"both\")\n",
    "    plt.legend(legend, loc=\"upper left\")\n",
    "    plt.show()"
   ]
  },
  {
   "cell_type": "code",
   "execution_count": 62,
   "metadata": {},
   "outputs": [
    {
     "data": {
      "image/png": "[encoded data removed]",
      "text/plain": [
       "<Figure size 720x504 with 1 Axes>"
      ]
     },
     "metadata": {
      "needs_background": "light"
     },
     "output_type": "display_data"
    }
   ],
   "source": [
    "import numpy as np\n",
    "\n",
    "n = np.random.randint(0, len(tf))\n",
    "forecast_entry = forecasts[n]\n",
    "ts_entry = tss[n]\n",
    "\n",
    "plot_prob_forecasts(ts_entry, forecast_entry)"
   ]
  },
  {
   "cell_type": "code",
   "execution_count": null,
   "metadata": {},
   "outputs": [],
   "source": []
  },
  {
   "cell_type": "code",
   "execution_count": null,
   "metadata": {},
   "outputs": [],
   "source": []
  },
  {
   "cell_type": "code",
   "execution_count": 57,
   "metadata": {
    "colab": {
     "base_uri": "https://localhost:8080/",
     "height": 1000
    },
    "id": "uYELgYifrOxh",
    "outputId": "8274631a-42fc-4b4d-e022-b7eb97016106",
    "scrolled": true
   },
   "outputs": [
    {
     "name": "stderr",
     "output_type": "stream",
     "text": [
      "\r",
      "  0%|          | 0/50 [00:00<?, ?it/s]"
     ]
    },
    {
     "name": "stdout",
     "output_type": "stream",
     "text": [
      "evaluating gluonts.model.simple_feedforward._estimator.SimpleFeedForwardEstimator(batch_normalization=False, context_length=21, distr_output=gluonts.distribution.student_t.StudentTOutput(), freq=\"AS\", mean_scaling=True, num_hidden_dimensions=None, num_parallel_samples=100, prediction_length=7, trainer=gluonts.trainer._base.Trainer(batch_size=32, clip_gradient=10.0, ctx=None, epochs=10, hybridize=True, init=\"xavier\", learning_rate=0.001, learning_rate_decay_factor=0.5, minimum_learning_rate=5e-05, num_batches_per_epoch=50, patience=10, weight_decay=1e-08))\n",
      "learning rate from ``lr_scheduler`` has been overwritten by ``learning_rate`` in optimizer.\n"
     ]
    },
    {
     "name": "stderr",
     "output_type": "stream",
     "text": [
      "100%|██████████| 50/50 [00:00<00:00, 123.70it/s, epoch=1/10, avg_epoch_loss=7.37]\n",
      "100%|██████████| 50/50 [00:00<00:00, 149.11it/s, epoch=2/10, avg_epoch_loss=5.54]\n",
      "100%|██████████| 50/50 [00:00<00:00, 127.88it/s, epoch=3/10, avg_epoch_loss=5]\n",
      "100%|██████████| 50/50 [00:00<00:00, 149.51it/s, epoch=4/10, avg_epoch_loss=4.92]\n",
      "100%|██████████| 50/50 [00:00<00:00, 152.95it/s, epoch=5/10, avg_epoch_loss=4.91]\n",
      "100%|██████████| 50/50 [00:00<00:00, 152.75it/s, epoch=6/10, avg_epoch_loss=4.88]\n",
      "100%|██████████| 50/50 [00:00<00:00, 153.36it/s, epoch=7/10, avg_epoch_loss=4.82]\n",
      "100%|██████████| 50/50 [00:00<00:00, 154.94it/s, epoch=8/10, avg_epoch_loss=4.78]\n",
      "100%|██████████| 50/50 [00:00<00:00, 145.47it/s, epoch=9/10, avg_epoch_loss=4.82]\n",
      "100%|██████████| 50/50 [00:00<00:00, 152.05it/s, epoch=10/10, avg_epoch_loss=4.75]\n",
      "Running evaluation: 100%|██████████| 100/100 [00:00<00:00, 359.56it/s]\n",
      "  0%|          | 0/50 [00:00<?, ?it/s]"
     ]
    },
    {
     "name": "stdout",
     "output_type": "stream",
     "text": [
      "evaluating gluonts.model.deepar._estimator.DeepAREstimator(cardinality=None, cell_type=\"lstm\", context_length=21, distr_output=gluonts.distribution.student_t.StudentTOutput(), dropout_rate=0.1, embedding_dimension=None, freq=\"12M\", lags_seq=None, num_cells=40, num_layers=2, num_parallel_samples=100, prediction_length=7, scaling=True, time_features=None, trainer=gluonts.trainer._base.Trainer(batch_size=32, clip_gradient=10.0, ctx=None, epochs=10, hybridize=True, init=\"xavier\", learning_rate=0.001, learning_rate_decay_factor=0.5, minimum_learning_rate=5e-05, num_batches_per_epoch=50, patience=10, weight_decay=1e-08), use_feat_dynamic_real=False, use_feat_static_cat=False, use_feat_static_real=False)\n",
      "learning rate from ``lr_scheduler`` has been overwritten by ``learning_rate`` in optimizer.\n"
     ]
    },
    {
     "name": "stderr",
     "output_type": "stream",
     "text": [
      "100%|██████████| 50/50 [00:02<00:00, 21.89it/s, epoch=1/10, avg_epoch_loss=6.26]\n",
      "100%|██████████| 50/50 [00:01<00:00, 25.04it/s, epoch=2/10, avg_epoch_loss=4.9]\n",
      "100%|██████████| 50/50 [00:01<00:00, 25.10it/s, epoch=3/10, avg_epoch_loss=4.78]\n",
      "100%|██████████| 50/50 [00:02<00:00, 23.85it/s, epoch=4/10, avg_epoch_loss=4.77]\n",
      "100%|██████████| 50/50 [00:02<00:00, 24.76it/s, epoch=5/10, avg_epoch_loss=4.73]\n",
      "100%|██████████| 50/50 [00:02<00:00, 23.54it/s, epoch=6/10, avg_epoch_loss=4.68]\n",
      "100%|██████████| 50/50 [00:02<00:00, 23.49it/s, epoch=7/10, avg_epoch_loss=4.69]\n",
      "100%|██████████| 50/50 [00:02<00:00, 24.92it/s, epoch=8/10, avg_epoch_loss=4.76]\n",
      "100%|██████████| 50/50 [00:02<00:00, 24.83it/s, epoch=9/10, avg_epoch_loss=4.65]\n",
      "100%|██████████| 50/50 [00:02<00:00, 24.94it/s, epoch=10/10, avg_epoch_loss=4.64]\n",
      "Running evaluation: 100%|██████████| 100/100 [00:01<00:00, 95.02it/s]\n",
      "  0%|          | 0/50 [00:00<?, ?it/s]"
     ]
    },
    {
     "name": "stdout",
     "output_type": "stream",
     "text": [
      "evaluating gluonts.model.deepar._estimator.DeepAREstimator(cardinality=None, cell_type=\"lstm\", context_length=21, distr_output=gluonts.distribution.piecewise_linear.PiecewiseLinearOutput(num_pieces=8), dropout_rate=0.1, embedding_dimension=None, freq=\"12M\", lags_seq=None, num_cells=40, num_layers=2, num_parallel_samples=100, prediction_length=7, scaling=True, time_features=None, trainer=gluonts.trainer._base.Trainer(batch_size=32, clip_gradient=10.0, ctx=None, epochs=10, hybridize=True, init=\"xavier\", learning_rate=0.001, learning_rate_decay_factor=0.5, minimum_learning_rate=5e-05, num_batches_per_epoch=50, patience=10, weight_decay=1e-08), use_feat_dynamic_real=False, use_feat_static_cat=False, use_feat_static_real=False)\n",
      "learning rate from ``lr_scheduler`` has been overwritten by ``learning_rate`` in optimizer.\n"
     ]
    },
    {
     "name": "stderr",
     "output_type": "stream",
     "text": [
      "100%|██████████| 50/50 [00:02<00:00, 20.82it/s, epoch=1/10, avg_epoch_loss=89.2]\n",
      "100%|██████████| 50/50 [00:02<00:00, 20.05it/s, epoch=2/10, avg_epoch_loss=38.9]\n",
      "100%|██████████| 50/50 [00:02<00:00, 20.61it/s, epoch=3/10, avg_epoch_loss=23.9]\n",
      "100%|██████████| 50/50 [00:02<00:00, 19.91it/s, epoch=4/10, avg_epoch_loss=18.3]\n",
      "100%|██████████| 50/50 [00:02<00:00, 21.53it/s, epoch=5/10, avg_epoch_loss=18.2]\n",
      "100%|██████████| 50/50 [00:02<00:00, 19.43it/s, epoch=6/10, avg_epoch_loss=19.3]\n",
      "100%|██████████| 50/50 [00:02<00:00, 20.76it/s, epoch=7/10, avg_epoch_loss=21.8]\n",
      "100%|██████████| 50/50 [00:02<00:00, 20.46it/s, epoch=8/10, avg_epoch_loss=19.5]\n",
      "100%|██████████| 50/50 [00:02<00:00, 20.33it/s, epoch=9/10, avg_epoch_loss=19.1]\n",
      "100%|██████████| 50/50 [00:02<00:00, 19.85it/s, epoch=10/10, avg_epoch_loss=18.9]\n",
      "Running evaluation: 100%|██████████| 100/100 [00:01<00:00, 80.94it/s]\n",
      "  0%|          | 0/50 [00:00<?, ?it/s]"
     ]
    },
    {
     "name": "stdout",
     "output_type": "stream",
     "text": [
      "evaluating gluonts.model.seq2seq._mq_dnn_estimator.MQCNNEstimator(context_length=21, freq=\"AS\", mlp_final_dim=20, mlp_hidden_dimension_seq=[], prediction_length=7, quantiles=[0.1, 0.2, 0.3, 0.4, 0.5, 0.6, 0.7, 0.8, 0.9], trainer=gluonts.trainer._base.Trainer(batch_size=32, clip_gradient=10.0, ctx=None, epochs=10, hybridize=True, init=\"xavier\", learning_rate=0.001, learning_rate_decay_factor=0.5, minimum_learning_rate=5e-05, num_batches_per_epoch=50, patience=10, weight_decay=1e-08))\n",
      "learning rate from ``lr_scheduler`` has been overwritten by ``learning_rate`` in optimizer.\n"
     ]
    },
    {
     "name": "stderr",
     "output_type": "stream",
     "text": [
      "100%|██████████| 50/50 [00:02<00:00, 21.23it/s, epoch=1/10, avg_epoch_loss=63.2]\n",
      "100%|██████████| 50/50 [00:02<00:00, 22.87it/s, epoch=2/10, avg_epoch_loss=26.7]\n",
      "100%|██████████| 50/50 [00:02<00:00, 22.33it/s, epoch=3/10, avg_epoch_loss=11.2]\n",
      "100%|██████████| 50/50 [00:02<00:00, 22.69it/s, epoch=4/10, avg_epoch_loss=7.13]\n",
      "100%|██████████| 50/50 [00:02<00:00, 22.44it/s, epoch=5/10, avg_epoch_loss=6.35]\n",
      "100%|██████████| 50/50 [00:02<00:00, 22.82it/s, epoch=6/10, avg_epoch_loss=5.87]\n",
      "100%|██████████| 50/50 [00:02<00:00, 22.29it/s, epoch=7/10, avg_epoch_loss=5.54]\n",
      "100%|██████████| 50/50 [00:02<00:00, 23.13it/s, epoch=8/10, avg_epoch_loss=5.38]\n",
      "100%|██████████| 50/50 [00:02<00:00, 22.85it/s, epoch=9/10, avg_epoch_loss=5.32]\n",
      "100%|██████████| 50/50 [00:02<00:00, 23.37it/s, epoch=10/10, avg_epoch_loss=5.29]\n",
      "Running evaluation: 100%|██████████| 100/100 [00:00<00:00, 447.56it/s]\n"
     ]
    }
   ],
   "source": [
    "import pprint\n",
    "from functools import partial\n",
    "\n",
    "\n",
    "from gluonts.distribution.piecewise_linear import PiecewiseLinearOutput\n",
    "from gluonts.evaluation import Evaluator\n",
    "from gluonts.evaluation.backtest import make_evaluation_predictions\n",
    "from gluonts.model.deepar import DeepAREstimator\n",
    "from gluonts.model.seq2seq import MQCNNEstimator\n",
    "from gluonts.model.simple_feedforward import SimpleFeedForwardEstimator\n",
    "from gluonts.trainer import Trainer\n",
    "\n",
    "epochs = 10\n",
    "num_batches_per_epoch = 50\n",
    "count = 0\n",
    "\n",
    "estimators = [\n",
    "    partial(\n",
    "        SimpleFeedForwardEstimator,\n",
    "        freq=metadata[\"freq\"],\n",
    "        trainer=Trainer(\n",
    "            epochs=epochs, num_batches_per_epoch=num_batches_per_epoch\n",
    "        ),\n",
    "    ),\n",
    "    partial(\n",
    "        DeepAREstimator,\n",
    "        freq=\"12M\",\n",
    "        trainer=Trainer(\n",
    "            epochs=epochs, num_batches_per_epoch=num_batches_per_epoch\n",
    "        ),\n",
    "    ),\n",
    "    partial(\n",
    "        DeepAREstimator,\n",
    "        freq=\"12M\",\n",
    "        distr_output=PiecewiseLinearOutput(8),\n",
    "        trainer=Trainer(\n",
    "            epochs=epochs, num_batches_per_epoch=num_batches_per_epoch\n",
    "        ),\n",
    "    ),\n",
    "    partial(\n",
    "        MQCNNEstimator,\n",
    "        freq=metadata[\"freq\"],\n",
    "        trainer=Trainer(\n",
    "            epochs=epochs, num_batches_per_epoch=num_batches_per_epoch\n",
    "        ),\n",
    "    ),\n",
    "]\n",
    "\n",
    "def evaluate(estimator):\n",
    "    estimator = estimator(\n",
    "        prediction_length=metadata['prediction_length'],\n",
    "        context_length=metadata['context_length']\n",
    "#         freq=metadata[\"freq\"]\n",
    "\n",
    "    )\n",
    "\n",
    "    print(f\"evaluating {estimator}\")\n",
    "\n",
    "    predictor = estimator.train(train_ds)\n",
    "\n",
    "    forecast_it, ts_it = make_evaluation_predictions(\n",
    "        test_ds, predictor=predictor, num_samples=100\n",
    "    )\n",
    "\n",
    "    agg_metrics, item_metrics = Evaluator()(\n",
    "        ts_it, forecast_it, num_series=len(test_ds)\n",
    "    )\n",
    "    \n",
    "    item_metrics[\"estimator_id\"] = count\n",
    "    item_metrics[\"estimator\"] = type(estimator).__name__\n",
    "    agg_metrics[\"estimator\"] = type(estimator).__name__\n",
    "    \n",
    "    return item_metrics, agg_metrics\n",
    "\n",
    "\n",
    "item_metrics_list = []\n",
    "agg_metrics_list = []\n",
    "for estimator in estimators:\n",
    "    count+=1\n",
    "    # catch exceptions that are happening during training to avoid failing the whole evaluation\n",
    "    try:\n",
    "        item_metrics, agg_metrics = evaluate(estimator)\n",
    "\n",
    "        item_metrics_list.append(item_metrics)\n",
    "        agg_metrics_list.append(agg_metrics)\n",
    "\n",
    "    except Exception as e:\n",
    "        print(f\"\\n---> ---> ---> --->\\nException error:\\n\")\n",
    "        print(str(e))\n",
    "        print(\"\\n<--- <--- <--- <---\\n\")\n",
    "\n"
   ]
  },
  {
   "cell_type": "code",
   "execution_count": 58,
   "metadata": {},
   "outputs": [],
   "source": [
    "# item_metrics_1 = pd.concat(item_metrics_list)\n",
    "# item_metrics_2 = pd.concat(item_metrics_list)\n",
    "item_metrics_3 = pd.concat(item_metrics_list)"
   ]
  },
  {
   "cell_type": "code",
   "execution_count": 60,
   "metadata": {},
   "outputs": [
    {
     "name": "stdout",
     "output_type": "stream",
     "text": [
      "MSE: 5009.4751184082015\n",
      "abs_error: 411.93402496337893\n",
      "abs_target_sum: 5220.404765625\n",
      "abs_target_mean: 745.7721093749999\n",
      "seasonal_error: 14.263550488281249\n",
      "MASE: 6.575859326412978\n",
      "MAPE: 0.08130623774879935\n",
      "sMAPE: 0.0781049045484472\n",
      "OWA: nan\n",
      "MSIS: 36.59169529764349\n",
      "QuantileLoss[0.1]: 265.63124079895016\n",
      "Coverage[0.1]: 0.69\n",
      "QuantileLoss[0.2]: 393.03487878417974\n",
      "Coverage[0.2]: 0.7985714285714286\n",
      "QuantileLoss[0.3]: 431.62629397583004\n",
      "Coverage[0.3]: 0.8142857142857145\n",
      "QuantileLoss[0.4]: 432.5068855590821\n",
      "Coverage[0.4]: 0.8442857142857144\n",
      "QuantileLoss[0.5]: 411.93402542114256\n",
      "Coverage[0.5]: 0.8742857142857143\n",
      "QuantileLoss[0.6]: 370.86615264892583\n",
      "Coverage[0.6]: 0.9085714285714286\n",
      "QuantileLoss[0.7]: 319.5338490905762\n",
      "Coverage[0.7]: 0.9342857142857143\n",
      "QuantileLoss[0.8]: 253.01382598876953\n",
      "Coverage[0.8]: 0.9514285714285714\n",
      "QuantileLoss[0.9]: 165.2691303710937\n",
      "Coverage[0.9]: 0.9685714285714286\n",
      "----------------------------------------------------------------------------------------------------\n",
      "MSE: 2286.844680219378\n",
      "abs_error: 185.29760345458985\n",
      "abs_target_sum: 5220.404765625\n",
      "abs_target_mean: 745.7721093749999\n",
      "seasonal_error: 14.263550488281249\n",
      "MASE: 2.2681168452346707\n",
      "MAPE: 0.03685099286780396\n",
      "sMAPE: 0.03805357497761338\n",
      "OWA: nan\n",
      "MSIS: 27.404202013718727\n",
      "QuantileLoss[0.1]: 83.26119371032713\n",
      "Coverage[0.1]: 0.1\n",
      "QuantileLoss[0.2]: 123.57890917968753\n",
      "Coverage[0.2]: 0.13999999999999999\n",
      "QuantileLoss[0.3]: 151.56570846557617\n",
      "Coverage[0.3]: 0.18714285714285717\n",
      "QuantileLoss[0.4]: 172.15358795166014\n",
      "Coverage[0.4]: 0.2257142857142857\n",
      "QuantileLoss[0.5]: 185.2976040649414\n",
      "Coverage[0.5]: 0.2714285714285714\n",
      "QuantileLoss[0.6]: 192.38561901855468\n",
      "Coverage[0.6]: 0.31571428571428567\n",
      "QuantileLoss[0.7]: 188.04509353637692\n",
      "Coverage[0.7]: 0.3914285714285714\n",
      "QuantileLoss[0.8]: 171.82851281738283\n",
      "Coverage[0.8]: 0.5242857142857142\n",
      "QuantileLoss[0.9]: 140.6944820556641\n",
      "Coverage[0.9]: 0.7414285714285714\n",
      "----------------------------------------------------------------------------------------------------\n",
      "MSE: 2294.933964298794\n",
      "abs_error: 180.80973846435546\n",
      "abs_target_sum: 5220.404765625\n",
      "abs_target_mean: 745.7721093749999\n",
      "seasonal_error: 14.263550488281249\n",
      "MASE: 2.17539449697257\n",
      "MAPE: 0.03606866016304761\n",
      "sMAPE: 0.037200657717777245\n",
      "OWA: nan\n",
      "MSIS: 26.983573576025254\n",
      "QuantileLoss[0.1]: 85.1299792175293\n",
      "Coverage[0.1]: 0.08714285714285713\n",
      "QuantileLoss[0.2]: 127.17763595581056\n",
      "Coverage[0.2]: 0.1285714285714286\n",
      "QuantileLoss[0.3]: 154.17832101440428\n",
      "Coverage[0.3]: 0.17714285714285713\n",
      "QuantileLoss[0.4]: 171.28991131591795\n",
      "Coverage[0.4]: 0.22285714285714284\n",
      "QuantileLoss[0.5]: 180.80973907470704\n",
      "Coverage[0.5]: 0.28714285714285714\n",
      "QuantileLoss[0.6]: 185.90504779052736\n",
      "Coverage[0.6]: 0.34\n",
      "QuantileLoss[0.7]: 182.65953079223632\n",
      "Coverage[0.7]: 0.41285714285714287\n",
      "QuantileLoss[0.8]: 172.1772241821289\n",
      "Coverage[0.8]: 0.5114285714285715\n",
      "QuantileLoss[0.9]: 140.20485113525393\n",
      "Coverage[0.9]: 0.7771428571428571\n",
      "----------------------------------------------------------------------------------------------------\n",
      "MSE: nan\n",
      "abs_error: 220.32350662231445\n",
      "abs_target_sum: 5220.404765625\n",
      "abs_target_mean: 745.7721093749999\n",
      "seasonal_error: 14.263550488281249\n",
      "MASE: 3.227554315522564\n",
      "MAPE: 0.04331492419245759\n",
      "sMAPE: 0.04495453783666969\n",
      "OWA: nan\n",
      "MSIS: nan\n",
      "QuantileLoss[0.1]: 78.69772065734864\n",
      "Coverage[0.1]: 0.06142857142857142\n",
      "QuantileLoss[0.2]: 121.67216787719727\n",
      "Coverage[0.2]: 0.08857142857142858\n",
      "QuantileLoss[0.3]: 177.84986932373053\n",
      "Coverage[0.3]: 0.09428571428571426\n",
      "QuantileLoss[0.4]: 203.63696539306642\n",
      "Coverage[0.4]: 0.12857142857142856\n",
      "QuantileLoss[0.5]: 220.323507232666\n",
      "Coverage[0.5]: 0.13285714285714284\n",
      "QuantileLoss[0.6]: 264.71289050292967\n",
      "Coverage[0.6]: 0.12428571428571428\n",
      "QuantileLoss[0.7]: 233.2692581176758\n",
      "Coverage[0.7]: 0.19142857142857142\n",
      "QuantileLoss[0.8]: 171.08324084472656\n",
      "Coverage[0.8]: 0.38714285714285707\n",
      "QuantileLoss[0.9]: 143.58923709106443\n",
      "Coverage[0.9]: 0.6385714285714286\n",
      "----------------------------------------------------------------------------------------------------\n"
     ]
    }
   ],
   "source": [
    "for estimator_id in item_metrics_3[\"estimator_id\"].unique():\n",
    "    tmp = item_metrics_3.loc[item_metrics_3[\"estimator_id\"]==estimator_id]\n",
    "    for c in list(tmp.select_dtypes(include=[np.float])):\n",
    "        print(f\"{c}: {tmp[c].mean()}\")\n",
    "    print(\"-\"*100)"
   ]
  },
  {
   "cell_type": "code",
   "execution_count": 52,
   "metadata": {},
   "outputs": [
    {
     "name": "stdout",
     "output_type": "stream",
     "text": [
      "MSE: 1559.255603441511\n",
      "abs_error: 150.4295034790039\n",
      "abs_target_sum: 5220.404765625\n",
      "abs_target_mean: 745.7721093749999\n",
      "seasonal_error: 14.263550488281249\n",
      "MASE: 1.77530130926222\n",
      "MAPE: 0.031214420516022415\n",
      "sMAPE: 0.031611409034938455\n",
      "OWA: nan\n",
      "MSIS: 23.348527232910527\n",
      "QuantileLoss[0.1]: 76.97041366577149\n",
      "Coverage[0.1]: 0.13285714285714284\n",
      "QuantileLoss[0.2]: 108.06914636230468\n",
      "Coverage[0.2]: 0.23714285714285707\n",
      "QuantileLoss[0.3]: 129.04841876220704\n",
      "Coverage[0.3]: 0.3614285714285714\n",
      "QuantileLoss[0.4]: 142.53971063232422\n",
      "Coverage[0.4]: 0.47571428571428565\n",
      "QuantileLoss[0.5]: 150.42950225830077\n",
      "Coverage[0.5]: 0.57\n",
      "QuantileLoss[0.6]: 151.26296734619143\n",
      "Coverage[0.6]: 0.6642857142857141\n",
      "QuantileLoss[0.7]: 146.99906396484377\n",
      "Coverage[0.7]: 0.75\n",
      "QuantileLoss[0.8]: 134.555701171875\n",
      "Coverage[0.8]: 0.8214285714285714\n",
      "QuantileLoss[0.9]: 108.71574804687502\n",
      "Coverage[0.9]: 0.8857142857142857\n",
      "----------------------------------------------------------------------------------------------------\n",
      "MSE: 1710.7265755244662\n",
      "abs_error: 141.43693008422852\n",
      "abs_target_sum: 5220.404765625\n",
      "abs_target_mean: 745.7721093749999\n",
      "seasonal_error: 14.263550488281249\n",
      "MASE: 1.5098942925516996\n",
      "MAPE: 0.029682799050040315\n",
      "sMAPE: 0.030336078788715425\n",
      "OWA: nan\n",
      "MSIS: 23.88726074340117\n",
      "QuantileLoss[0.1]: 76.26072998046875\n",
      "Coverage[0.1]: 0.14285714285714288\n",
      "QuantileLoss[0.2]: 104.10146673583986\n",
      "Coverage[0.2]: 0.22\n",
      "QuantileLoss[0.3]: 121.79085806274412\n",
      "Coverage[0.3]: 0.3257142857142856\n",
      "QuantileLoss[0.4]: 133.46681860351563\n",
      "Coverage[0.4]: 0.4357142857142856\n",
      "QuantileLoss[0.5]: 141.43693008422852\n",
      "Coverage[0.5]: 0.5299999999999999\n",
      "QuantileLoss[0.6]: 144.7607590942383\n",
      "Coverage[0.6]: 0.6128571428571428\n",
      "QuantileLoss[0.7]: 143.16513269042966\n",
      "Coverage[0.7]: 0.7071428571428571\n",
      "QuantileLoss[0.8]: 134.7226586303711\n",
      "Coverage[0.8]: 0.7914285714285714\n",
      "QuantileLoss[0.9]: 114.23752218627929\n",
      "Coverage[0.9]: 0.8671428571428572\n",
      "----------------------------------------------------------------------------------------------------\n",
      "MSE: 1818.0722823442732\n",
      "abs_error: 171.61803680419922\n",
      "abs_target_sum: 5220.404765625\n",
      "abs_target_mean: 745.7721093749999\n",
      "seasonal_error: 14.263550488281249\n",
      "MASE: 2.177312824574712\n",
      "MAPE: 0.034753248829957575\n",
      "sMAPE: 0.03501365409537036\n",
      "OWA: nan\n",
      "MSIS: 23.187036409997308\n",
      "QuantileLoss[0.1]: 85.0683610229492\n",
      "Coverage[0.1]: 0.25571428571428567\n",
      "QuantileLoss[0.2]: 116.6397561645508\n",
      "Coverage[0.2]: 0.41571428571428565\n",
      "QuantileLoss[0.3]: 141.691333984375\n",
      "Coverage[0.3]: 0.5814285714285714\n",
      "QuantileLoss[0.4]: 161.06281127929685\n",
      "Coverage[0.4]: 0.6642857142857143\n",
      "QuantileLoss[0.5]: 171.61803741455077\n",
      "Coverage[0.5]: 0.7528571428571428\n",
      "QuantileLoss[0.6]: 171.67827526855467\n",
      "Coverage[0.6]: 0.8057142857142856\n",
      "QuantileLoss[0.7]: 163.54274072265625\n",
      "Coverage[0.7]: 0.8514285714285714\n",
      "QuantileLoss[0.8]: 145.1606353149414\n",
      "Coverage[0.8]: 0.8657142857142859\n",
      "QuantileLoss[0.9]: 114.01669927978516\n",
      "Coverage[0.9]: 0.9\n",
      "----------------------------------------------------------------------------------------------------\n",
      "MSE: nan\n",
      "abs_error: 130.99040130615234\n",
      "abs_target_sum: 5220.404765625\n",
      "abs_target_mean: 745.7721093749999\n",
      "seasonal_error: 14.263550488281249\n",
      "MASE: 1.4339638727591029\n",
      "MAPE: 0.02733503680533968\n",
      "sMAPE: 0.02787154765099866\n",
      "OWA: nan\n",
      "MSIS: nan\n",
      "QuantileLoss[0.1]: 71.38473233032228\n",
      "Coverage[0.1]: 0.11999999999999998\n",
      "QuantileLoss[0.2]: 98.35031243896485\n",
      "Coverage[0.2]: 0.16857142857142854\n",
      "QuantileLoss[0.3]: 114.83195938110352\n",
      "Coverage[0.3]: 0.26857142857142857\n",
      "QuantileLoss[0.4]: 124.06099798583983\n",
      "Coverage[0.4]: 0.3499999999999999\n",
      "QuantileLoss[0.5]: 130.9904019165039\n",
      "Coverage[0.5]: 0.4085714285714286\n",
      "QuantileLoss[0.6]: 133.10741015625\n",
      "Coverage[0.6]: 0.5114285714285713\n",
      "QuantileLoss[0.7]: 131.66601077270505\n",
      "Coverage[0.7]: 0.6314285714285713\n",
      "QuantileLoss[0.8]: 122.50648236083981\n",
      "Coverage[0.8]: 0.7671428571428571\n",
      "QuantileLoss[0.9]: 104.28813171386717\n",
      "Coverage[0.9]: 0.8571428571428572\n",
      "----------------------------------------------------------------------------------------------------\n"
     ]
    }
   ],
   "source": [
    "for estimator_id in item_metrics_2[\"estimator_id\"].unique():\n",
    "    tmp = item_metrics_1.loc[item_metrics_1[\"estimator_id\"]==estimator_id]\n",
    "    for c in list(tmp.select_dtypes(include=[np.float])):\n",
    "        print(f\"{c}: {tmp[c].mean()}\")\n",
    "    print(\"-\"*100)"
   ]
  },
  {
   "cell_type": "code",
   "execution_count": 44,
   "metadata": {},
   "outputs": [
    {
     "name": "stdout",
     "output_type": "stream",
     "text": [
      "MSE: 1559.255603441511\n",
      "abs_error: 150.4295034790039\n",
      "abs_target_sum: 5220.404765625\n",
      "abs_target_mean: 745.7721093749999\n",
      "seasonal_error: 14.263550488281249\n",
      "MASE: 1.77530130926222\n",
      "MAPE: 0.031214420516022415\n",
      "sMAPE: 0.031611409034938455\n",
      "OWA: nan\n",
      "MSIS: 23.348527232910527\n",
      "QuantileLoss[0.1]: 76.97041366577149\n",
      "Coverage[0.1]: 0.13285714285714284\n",
      "QuantileLoss[0.2]: 108.06914636230468\n",
      "Coverage[0.2]: 0.23714285714285707\n",
      "QuantileLoss[0.3]: 129.04841876220704\n",
      "Coverage[0.3]: 0.3614285714285714\n",
      "QuantileLoss[0.4]: 142.53971063232422\n",
      "Coverage[0.4]: 0.47571428571428565\n",
      "QuantileLoss[0.5]: 150.42950225830077\n",
      "Coverage[0.5]: 0.57\n",
      "QuantileLoss[0.6]: 151.26296734619143\n",
      "Coverage[0.6]: 0.6642857142857141\n",
      "QuantileLoss[0.7]: 146.99906396484377\n",
      "Coverage[0.7]: 0.75\n",
      "QuantileLoss[0.8]: 134.555701171875\n",
      "Coverage[0.8]: 0.8214285714285714\n",
      "QuantileLoss[0.9]: 108.71574804687502\n",
      "Coverage[0.9]: 0.8857142857142857\n",
      "----------------------------------------------------------------------------------------------------\n",
      "MSE: 1710.7265755244662\n",
      "abs_error: 141.43693008422852\n",
      "abs_target_sum: 5220.404765625\n",
      "abs_target_mean: 745.7721093749999\n",
      "seasonal_error: 14.263550488281249\n",
      "MASE: 1.5098942925516996\n",
      "MAPE: 0.029682799050040315\n",
      "sMAPE: 0.030336078788715425\n",
      "OWA: nan\n",
      "MSIS: 23.88726074340117\n",
      "QuantileLoss[0.1]: 76.26072998046875\n",
      "Coverage[0.1]: 0.14285714285714288\n",
      "QuantileLoss[0.2]: 104.10146673583986\n",
      "Coverage[0.2]: 0.22\n",
      "QuantileLoss[0.3]: 121.79085806274412\n",
      "Coverage[0.3]: 0.3257142857142856\n",
      "QuantileLoss[0.4]: 133.46681860351563\n",
      "Coverage[0.4]: 0.4357142857142856\n",
      "QuantileLoss[0.5]: 141.43693008422852\n",
      "Coverage[0.5]: 0.5299999999999999\n",
      "QuantileLoss[0.6]: 144.7607590942383\n",
      "Coverage[0.6]: 0.6128571428571428\n",
      "QuantileLoss[0.7]: 143.16513269042966\n",
      "Coverage[0.7]: 0.7071428571428571\n",
      "QuantileLoss[0.8]: 134.7226586303711\n",
      "Coverage[0.8]: 0.7914285714285714\n",
      "QuantileLoss[0.9]: 114.23752218627929\n",
      "Coverage[0.9]: 0.8671428571428572\n",
      "----------------------------------------------------------------------------------------------------\n",
      "MSE: 1818.0722823442732\n",
      "abs_error: 171.61803680419922\n",
      "abs_target_sum: 5220.404765625\n",
      "abs_target_mean: 745.7721093749999\n",
      "seasonal_error: 14.263550488281249\n",
      "MASE: 2.177312824574712\n",
      "MAPE: 0.034753248829957575\n",
      "sMAPE: 0.03501365409537036\n",
      "OWA: nan\n",
      "MSIS: 23.187036409997308\n",
      "QuantileLoss[0.1]: 85.0683610229492\n",
      "Coverage[0.1]: 0.25571428571428567\n",
      "QuantileLoss[0.2]: 116.6397561645508\n",
      "Coverage[0.2]: 0.41571428571428565\n",
      "QuantileLoss[0.3]: 141.691333984375\n",
      "Coverage[0.3]: 0.5814285714285714\n",
      "QuantileLoss[0.4]: 161.06281127929685\n",
      "Coverage[0.4]: 0.6642857142857143\n",
      "QuantileLoss[0.5]: 171.61803741455077\n",
      "Coverage[0.5]: 0.7528571428571428\n",
      "QuantileLoss[0.6]: 171.67827526855467\n",
      "Coverage[0.6]: 0.8057142857142856\n",
      "QuantileLoss[0.7]: 163.54274072265625\n",
      "Coverage[0.7]: 0.8514285714285714\n",
      "QuantileLoss[0.8]: 145.1606353149414\n",
      "Coverage[0.8]: 0.8657142857142859\n",
      "QuantileLoss[0.9]: 114.01669927978516\n",
      "Coverage[0.9]: 0.9\n",
      "----------------------------------------------------------------------------------------------------\n",
      "MSE: nan\n",
      "abs_error: 130.99040130615234\n",
      "abs_target_sum: 5220.404765625\n",
      "abs_target_mean: 745.7721093749999\n",
      "seasonal_error: 14.263550488281249\n",
      "MASE: 1.4339638727591029\n",
      "MAPE: 0.02733503680533968\n",
      "sMAPE: 0.02787154765099866\n",
      "OWA: nan\n",
      "MSIS: nan\n",
      "QuantileLoss[0.1]: 71.38473233032228\n",
      "Coverage[0.1]: 0.11999999999999998\n",
      "QuantileLoss[0.2]: 98.35031243896485\n",
      "Coverage[0.2]: 0.16857142857142854\n",
      "QuantileLoss[0.3]: 114.83195938110352\n",
      "Coverage[0.3]: 0.26857142857142857\n",
      "QuantileLoss[0.4]: 124.06099798583983\n",
      "Coverage[0.4]: 0.3499999999999999\n",
      "QuantileLoss[0.5]: 130.9904019165039\n",
      "Coverage[0.5]: 0.4085714285714286\n",
      "QuantileLoss[0.6]: 133.10741015625\n",
      "Coverage[0.6]: 0.5114285714285713\n",
      "QuantileLoss[0.7]: 131.66601077270505\n",
      "Coverage[0.7]: 0.6314285714285713\n",
      "QuantileLoss[0.8]: 122.50648236083981\n",
      "Coverage[0.8]: 0.7671428571428571\n",
      "QuantileLoss[0.9]: 104.28813171386717\n",
      "Coverage[0.9]: 0.8571428571428572\n",
      "----------------------------------------------------------------------------------------------------\n"
     ]
    }
   ],
   "source": [
    "\n",
    "for estimator_id in item_metrics_1[\"estimator_id\"].unique():\n",
    "    tmp = item_metrics_1.loc[item_metrics_1[\"estimator_id\"]==estimator_id]\n",
    "    for c in list(tmp.select_dtypes(include=[np.float])):\n",
    "        print(f\"{c}: {tmp[c].mean()}\")\n",
    "    print(\"-\"*100)\n",
    "    \n"
   ]
  },
  {
   "cell_type": "code",
   "execution_count": 17,
   "metadata": {},
   "outputs": [
    {
     "name": "stdout",
     "output_type": "stream",
     "text": [
      "----------------------------------------------------------------------------------------------------\n",
      "SimpleFeedForwardEstimator\n",
      "----------------------------------------------------------------------------------------------------\n",
      "MSE: 1788.3301931946182\n",
      "abs_error: 133.1326848184222\n",
      "abs_target_sum: 5148.112319531485\n",
      "abs_target_mean: 735.4446170759264\n",
      "seasonal_error: 13.435122173964707\n",
      "MASE: 1.667778448788371\n",
      "MAPE: 0.05709880675858418\n",
      "sMAPE: 0.030288370371675595\n",
      "OWA: nan\n",
      "MSIS: 20.68501799799031\n",
      "QuantileLoss[0.1]: 69.40406823610792\n",
      "Coverage[0.1]: 0.1147992178117205\n",
      "QuantileLoss[0.2]: 97.03762833518596\n",
      "Coverage[0.2]: 0.19863809934407045\n",
      "QuantileLoss[0.3]: 115.37920558483184\n",
      "Coverage[0.3]: 0.27626412712099285\n",
      "QuantileLoss[0.4]: 127.1335866165408\n",
      "Coverage[0.4]: 0.3473193114279555\n",
      "QuantileLoss[0.5]: 133.1326848286497\n",
      "Coverage[0.5]: 0.41818587749822933\n",
      "QuantileLoss[0.6]: 134.08519863895262\n",
      "Coverage[0.6]: 0.48530702429710837\n",
      "QuantileLoss[0.7]: 128.24997625284655\n",
      "Coverage[0.7]: 0.5691228097188432\n",
      "QuantileLoss[0.8]: 114.73064174296964\n",
      "Coverage[0.8]: 0.674144674036892\n",
      "QuantileLoss[0.9]: 90.17278005922371\n",
      "Coverage[0.9]: 0.8062313306439195\n",
      "----------------------------------------------------------------------------------------------------\n",
      "DeepAREstimator\n",
      "----------------------------------------------------------------------------------------------------\n",
      "MSE: 2238.3275126683275\n",
      "abs_error: 147.12652516329075\n",
      "abs_target_sum: 5148.112319531485\n",
      "abs_target_mean: 735.4446170759265\n",
      "seasonal_error: 13.435122173964709\n",
      "MASE: 1.8342882846112192\n",
      "MAPE: 0.048294021017912234\n",
      "sMAPE: 0.03256996762988997\n",
      "OWA: nan\n",
      "MSIS: 23.28031282333636\n",
      "QuantileLoss[0.1]: 70.98119994030546\n",
      "Coverage[0.1]: 0.073116512179349\n",
      "QuantileLoss[0.2]: 101.94227118291174\n",
      "Coverage[0.2]: 0.12044814153296582\n",
      "QuantileLoss[0.3]: 124.42768618870102\n",
      "Coverage[0.3]: 0.16663651341114155\n",
      "QuantileLoss[0.4]: 139.20524347188223\n",
      "Coverage[0.4]: 0.223019893449943\n",
      "QuantileLoss[0.5]: 147.12652515467576\n",
      "Coverage[0.5]: 0.29522218458411603\n",
      "QuantileLoss[0.6]: 150.06057310117734\n",
      "Coverage[0.6]: 0.37629338219443853\n",
      "QuantileLoss[0.7]: 145.60824069662013\n",
      "Coverage[0.7]: 0.4833477042466049\n",
      "QuantileLoss[0.8]: 135.05152457385105\n",
      "Coverage[0.8]: 0.5981392233547871\n",
      "QuantileLoss[0.9]: 110.91566873208846\n",
      "Coverage[0.9]: 0.7489587503464418\n",
      "----------------------------------------------------------------------------------------------------\n",
      "MQCNNEstimator\n",
      "----------------------------------------------------------------------------------------------------\n",
      "MSE: nan\n",
      "abs_error: 126.05899280912277\n",
      "abs_target_sum: 5148.112319531485\n",
      "abs_target_mean: 735.4446170759264\n",
      "seasonal_error: 13.435122173964707\n",
      "MASE: 1.549770597107877\n",
      "MAPE: 0.04161086820125016\n",
      "sMAPE: 0.02897618206303769\n",
      "OWA: nan\n",
      "MSIS: nan\n",
      "QuantileLoss[0.1]: 81.66269955745312\n",
      "Coverage[0.1]: 0.07903104117266652\n",
      "QuantileLoss[0.2]: 91.47140659833165\n",
      "Coverage[0.2]: 0.13445785729683118\n",
      "QuantileLoss[0.3]: 107.03454626156459\n",
      "Coverage[0.3]: 0.20064746096757308\n",
      "QuantileLoss[0.4]: 121.25047529159524\n",
      "Coverage[0.4]: 0.22228466726203305\n",
      "QuantileLoss[0.5]: 126.05899281434571\n",
      "Coverage[0.5]: 0.29412126997813565\n",
      "QuantileLoss[0.6]: 124.47260673365528\n",
      "Coverage[0.6]: 0.4302266498321682\n",
      "QuantileLoss[0.7]: 128.37520255716254\n",
      "Coverage[0.7]: 0.4790672250792966\n",
      "QuantileLoss[0.8]: 115.41146706523861\n",
      "Coverage[0.8]: 0.5950828380500723\n",
      "QuantileLoss[0.9]: 99.17286408313981\n",
      "Coverage[0.9]: 0.7254680811751301\n"
     ]
    }
   ],
   "source": [
    "for estimator in item_metrics[\"estimator\"].unique():\n",
    "    metrics = item_metrics.loc[item_metrics[\"estimator\"]==estimator]\n",
    "    print(\"-\"*100)\n",
    "    print(estimator)\n",
    "    print(\"-\"*100)\n",
    "    for i in list(metrics.select_dtypes(include=[np.float])):\n",
    "        print(f\"{i}: {metrics[i].mean()}\")\n",
    "\n",
    "# item_metrics.loc[item_metrics[\"estimator\"]==]"
   ]
  },
  {
   "cell_type": "code",
   "execution_count": 13,
   "metadata": {},
   "outputs": [],
   "source": [
    "item_metrics.to_pickle(\"/media/storage/data/shorelines/metrics-gluonts.pkl\")"
   ]
  },
  {
   "cell_type": "code",
   "execution_count": 12,
   "metadata": {
    "colab": {
     "base_uri": "https://localhost:8080/",
     "height": 439
    },
    "id": "jMFx3tuWzLtB",
    "outputId": "e0c5d17a-3413-4a93-b21f-dc039a7a90dd"
   },
   "outputs": [
    {
     "ename": "NameError",
     "evalue": "name 'eval_item_dict_list' is not defined",
     "output_type": "error",
     "traceback": [
      "\u001b[0;31m---------------------------------------------------------------------------\u001b[0m",
      "\u001b[0;31mNameError\u001b[0m                                 Traceback (most recent call last)",
      "\u001b[0;32m<ipython-input-12-916c2d78659f>\u001b[0m in \u001b[0;36m<module>\u001b[0;34m\u001b[0m\n\u001b[0;32m----> 1\u001b[0;31m \u001b[0meval_item_dict_list\u001b[0m\u001b[0;34m[\u001b[0m\u001b[0;36m0\u001b[0m\u001b[0;34m]\u001b[0m\u001b[0;34m[\u001b[0m\u001b[0;34m\"item_metrics\"\u001b[0m\u001b[0;34m]\u001b[0m\u001b[0;34m[\u001b[0m\u001b[0;34m'MAPE'\u001b[0m\u001b[0;34m]\u001b[0m\u001b[0;34m.\u001b[0m\u001b[0mmean\u001b[0m\u001b[0;34m(\u001b[0m\u001b[0;34m)\u001b[0m\u001b[0;34m\u001b[0m\u001b[0;34m\u001b[0m\u001b[0m\n\u001b[0m",
      "\u001b[0;31mNameError\u001b[0m: name 'eval_item_dict_list' is not defined"
     ]
    }
   ],
   "source": [
    "eval_item_dict_list[0][\"item_metrics\"]['MAPE'].mean()"
   ]
  },
  {
   "cell_type": "code",
   "execution_count": null,
   "metadata": {
    "colab": {
     "base_uri": "https://localhost:8080/",
     "height": 289
    },
    "id": "7vAxE20_0Q-a",
    "outputId": "4bea48eb-3238-4e3c-ddec-2f80459ec517"
   },
   "outputs": [],
   "source": [
    "for i in eval_item_dict_list:\n",
    "  metrics = i[\"item_metrics\"]\n",
    "  print(metrics[\"MAPE\"].mean())\n",
    "  print(max(metrics[\"MAPE\"]))\n",
    "  print(min(metrics[\"MAPE\"]))\n",
    "  print(\"---\"*10)"
   ]
  },
  {
   "cell_type": "code",
   "execution_count": null,
   "metadata": {
    "id": "zDI98dk3f8OL"
   },
   "outputs": [],
   "source": []
  },
  {
   "cell_type": "code",
   "execution_count": null,
   "metadata": {
    "colab": {
     "base_uri": "https://localhost:8080/",
     "height": 700
    },
    "id": "TTbyacr1xSdE",
    "outputId": "d72fc2eb-cbb6-484b-c6d5-cd42474fc4a3"
   },
   "outputs": [],
   "source": [
    "fig, ax = plt.subplots(figsize=(12,12))\n",
    "for i in eval_item_dict_list:\n",
    "  metrics = i[\"item_metrics\"]\n",
    "  metrics[\"MSE\"].plot(kind='hist')\n",
    "\n",
    "plt.show()\n",
    "\n"
   ]
  },
  {
   "cell_type": "code",
   "execution_count": null,
   "metadata": {
    "colab": {
     "base_uri": "https://localhost:8080/",
     "height": 34
    },
    "id": "bMk64uS6rOsy",
    "outputId": "0660763a-f2ad-464c-dffe-596fcc859600"
   },
   "outputs": [],
   "source": [
    "ff# all_metrics = pd.concat(item_metrics_list)\n",
    "all_metrics['MAPE'].mean()"
   ]
  },
  {
   "cell_type": "markdown",
   "metadata": {
    "id": "iBzgVWR-iYPJ"
   },
   "source": [
    "## Sample dataset"
   ]
  },
  {
   "cell_type": "code",
   "execution_count": null,
   "metadata": {
    "id": "0OHKMiIorOpq"
   },
   "outputs": [],
   "source": [
    "from gluonts.dataset.artificial import ConstantDataset\n",
    "\n",
    "\n",
    "metadata = {'num_series': 1000, \n",
    "            'num_steps': 33, \n",
    "            'prediction_length': 7,\n",
    "            'freq': '365D',   # not 1Y for DeepAR freq requirements\n",
    "            'start': [pd.Timestamp(\"01-01-1984\", freq='365D') for _ in range(len(tf))]\n",
    "            }\n",
    "\n",
    "ds_generator = ConstantDataset(num_timeseries = metadata['num_series'],\n",
    "                              num_steps = metadata['num_steps'],\n",
    "                              freq = metadata['freq'],\n",
    "                              start = '1984-01-01 00:00:00')\n",
    "\n",
    "constant_ds = ds_generator.generate()\n",
    "train_ds = constant_ds.train\n",
    "test_ds = constant_ds.test"
   ]
  },
  {
   "cell_type": "code",
   "execution_count": null,
   "metadata": {
    "colab": {
     "base_uri": "https://localhost:8080/",
     "height": 204
    },
    "id": "d_xjv6CUYZvF",
    "outputId": "62f2f8b5-1d91-46e2-cdef-1d86f7b61499"
   },
   "outputs": [],
   "source": [
    "# from gluonts.model.simple_feedforward import SimpleFeedForwardEstimator\n",
    "# from gluonts.trainer import Trainer\n",
    "\n",
    "# estimator = SimpleFeedForwardEstimator(\n",
    "#     num_hidden_dimensions=[10],\n",
    "#     prediction_length=metadata['prediction_length'],\n",
    "#     context_length=metadata['prediction_length'] * 2,\n",
    "#     freq=metadata['freq'],\n",
    "#     trainer=Trainer(ctx=\"cpu\", \n",
    "#                     epochs=20, \n",
    "#                     learning_rate=1e-3, \n",
    "#                     hybridize=False, \n",
    "#                     num_batches_per_epoch=100\n",
    "#                    )\n",
    "# )\n",
    "\n",
    "# predictor = estimator.train(train_ds)\n",
    "\n",
    "\n",
    "\n",
    "\n",
    "from gluonts.model.deepar import DeepAREstimator\n",
    "from gluonts.distribution.neg_binomial import NegativeBinomialOutput\n",
    "from gluonts.trainer import Trainer\n",
    "\n",
    "estimator = DeepAREstimator(\n",
    "    prediction_length=metadata['prediction_length'],\n",
    "    freq=\"M\",\n",
    "    distr_output = NegativeBinomialOutput(),\n",
    "    use_feat_dynamic_real=False,\n",
    "    use_feat_static_cat=False,\n",
    "    # cardinality=stat_cat_cardinalities,\n",
    "    trainer=Trainer(\n",
    "        learning_rate=1e-3,\n",
    "        epochs=10,\n",
    "        num_batches_per_epoch=50,\n",
    "        batch_size=32\n",
    "    )\n",
    ")\n",
    "\n",
    "predictor = estimator.train(train_ds)\n",
    "\n"
   ]
  },
  {
   "cell_type": "code",
   "execution_count": null,
   "metadata": {
    "colab": {
     "base_uri": "https://localhost:8080/",
     "height": 54
    },
    "id": "DR2c7U3hYZ2n",
    "outputId": "fd6d9087-39bf-44bb-ab7c-5590c1c50cad"
   },
   "outputs": [],
   "source": [
    "# save the trained model in tmp/\n",
    "from pathlib import Path\n",
    "predictor.serialize(Path(\"/tmp/\"))"
   ]
  },
  {
   "cell_type": "code",
   "execution_count": null,
   "metadata": {
    "id": "0LVqE50bYZ-D"
   },
   "outputs": [],
   "source": [
    "# loads it back\n",
    "from gluonts.model.predictor import Predictor\n",
    "predictor_deserialized = Predictor.deserialize(Path(\"/tmp/\"))"
   ]
  },
  {
   "cell_type": "code",
   "execution_count": null,
   "metadata": {
    "colab": {
     "base_uri": "https://localhost:8080/",
     "height": 85
    },
    "id": "riQWhFpQebyd",
    "outputId": "b5770804-ed80-4a26-d7a6-3ec481f1e225"
   },
   "outputs": [],
   "source": [
    "from gluonts.evaluation.backtest import make_evaluation_predictions\n",
    "\n",
    "forecast_it, ts_it = make_evaluation_predictions(\n",
    "    dataset=test_ds,  # test dataset\n",
    "    predictor=predictor,  # predictor\n",
    "    num_samples=100,  # number of sample paths we want for evaluation\n",
    ")\n",
    "\n",
    "forecasts = list(forecast_it)\n",
    "tss = list(ts_it)\n",
    "\n",
    "# first entry of the time series list\n",
    "ts_entry = tss[0]\n",
    "forecast_entry =  forecasts[0]\n",
    "test_ds_entry = next(iter(test_ds))\n",
    "\n",
    "# first 5 values of the time series (convert from pandas to numpy)\n",
    "np.array(ts_entry[:5]).reshape(-1,)\n",
    "\n",
    "# first 5 values\n",
    "test_ds_entry['target'][:5]\n",
    "\n",
    "print(f\"Number of sample paths: {forecast_entry.num_samples}\")\n",
    "print(f\"Dimension of samples: {forecast_entry.samples.shape}\")\n",
    "print(f\"Start date of the forecast window: {forecast_entry.start_date}\")\n",
    "print(f\"Frequency of the time series: {forecast_entry.freq}\")"
   ]
  },
  {
   "cell_type": "code",
   "execution_count": null,
   "metadata": {
    "colab": {
     "base_uri": "https://localhost:8080/",
     "height": 85
    },
    "id": "OBY-26Vcec0m",
    "outputId": "9c3b1f8f-2c2a-4531-cb7b-16efdabec4d1"
   },
   "outputs": [],
   "source": [
    "print(f\"Mean of the future window:\\n {forecast_entry.mean}\")\n",
    "print(f\"0.5-quantile (median) of the future window:\\n {forecast_entry.quantile(0.5)}\")"
   ]
  },
  {
   "cell_type": "code",
   "execution_count": null,
   "metadata": {
    "colab": {
     "base_uri": "https://localhost:8080/",
     "height": 1000
    },
    "id": "9x9SJbWpehPL",
    "outputId": "3f394c42-874c-483f-abc0-a6684026b8e3"
   },
   "outputs": [],
   "source": [
    "def plot_prob_forecasts(ts_entry, forecast_entry):\n",
    "    plot_length = 100 \n",
    "    prediction_intervals = (50.0, 90.0)\n",
    "    legend = [\"observations\", \"median prediction\"] + [f\"{k}% prediction interval\" for k in prediction_intervals][::-1]\n",
    "\n",
    "    fig, ax = plt.subplots(1, 1, figsize=(10, 7))\n",
    "    ts_entry[-plot_length:].plot(ax=ax)  # plot the time series\n",
    "    forecast_entry.plot(prediction_intervals=prediction_intervals, color='g')\n",
    "    plt.grid(which=\"both\")\n",
    "    plt.legend(legend, loc=\"upper left\")\n",
    "    plt.show()\n",
    "\n",
    "for forecast_entry, ts_entry in zip(forecasts[:30], tss[:30]):\n",
    "  plot_prob_forecasts(ts_entry, forecast_entry)"
   ]
  },
  {
   "cell_type": "code",
   "execution_count": null,
   "metadata": {
    "colab": {
     "base_uri": "https://localhost:8080/",
     "height": 68
    },
    "id": "S-Ei6826k5X0",
    "outputId": "b1b69344-abff-490a-fc26-211c6afa25c6"
   },
   "outputs": [],
   "source": [
    "print(len(tss))\n",
    "print(len(forecasts))\n",
    "print(len(test_ds))\n",
    "\n"
   ]
  },
  {
   "cell_type": "code",
   "execution_count": 39,
   "metadata": {
    "colab": {
     "base_uri": "https://localhost:8080/",
     "height": 163
    },
    "id": "3up-4z43lU7_",
    "outputId": "0d5ab9a8-d055-4554-c681-9da76b75b5e4"
   },
   "outputs": [
    {
     "ename": "SyntaxError",
     "evalue": "invalid syntax (<ipython-input-39-22c55397c9db>, line 3)",
     "output_type": "error",
     "traceback": [
      "\u001b[0;36m  File \u001b[0;32m\"<ipython-input-39-22c55397c9db>\"\u001b[0;36m, line \u001b[0;32m3\u001b[0m\n\u001b[0;31m    print(count+=1)\u001b[0m\n\u001b[0m               ^\u001b[0m\n\u001b[0;31mSyntaxError\u001b[0m\u001b[0;31m:\u001b[0m invalid syntax\n"
     ]
    }
   ],
   "source": [
    "count = 0\n",
    "for i in range(4):\n",
    "    count+=1\n",
    "    print()"
   ]
  },
  {
   "cell_type": "code",
   "execution_count": null,
   "metadata": {
    "colab": {
     "base_uri": "https://localhost:8080/",
     "height": 476
    },
    "id": "QNfoMrWPfr6n",
    "outputId": "fcee96fa-1503-43ef-82af-24d6167eadd3"
   },
   "outputs": [],
   "source": [
    "from gluonts.evaluation import Evaluator\n",
    "evaluator = Evaluator(quantiles=[0.1, 0.5, 0.9])\n",
    "agg_metrics, item_metrics = evaluator(iter(tss[:10000]), iter(forecasts[:10000]), num_series=10000)\n",
    "print(json.dumps(agg_metrics, indent=4))"
   ]
  },
  {
   "cell_type": "code",
   "execution_count": null,
   "metadata": {
    "colab": {
     "base_uri": "https://localhost:8080/",
     "height": 224
    },
    "id": "mVN-NHvGfvEW",
    "outputId": "a16d49f1-1d51-4581-e324-4d84fa45e4ec"
   },
   "outputs": [],
   "source": [
    "item_metrics.head()"
   ]
  },
  {
   "cell_type": "code",
   "execution_count": null,
   "metadata": {
    "colab": {
     "base_uri": "https://localhost:8080/",
     "height": 34
    },
    "id": "rR1pp6o4gO9D",
    "outputId": "6fd42e11-9732-4b6b-822a-f50b29e0b5c2"
   },
   "outputs": [],
   "source": [
    "min(item_metrics['MAPE'])"
   ]
  }
 ],
 "metadata": {
  "colab": {
   "collapsed_sections": [],
   "name": "gluonts_2.ipynb",
   "provenance": []
  },
  "kernelspec": {
   "display_name": "Python 3",
   "language": "python",
   "name": "python3"
  },
  "language_info": {
   "codemirror_mode": {
    "name": "ipython",
    "version": 3
   },
   "file_extension": ".py",
   "mimetype": "text/x-python",
   "name": "python",
   "nbconvert_exporter": "python",
   "pygments_lexer": "ipython3",
   "version": "3.8.5"
  }
 },
 "nbformat": 4,
 "nbformat_minor": 1
}

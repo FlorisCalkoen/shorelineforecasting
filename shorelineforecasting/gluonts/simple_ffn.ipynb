{
 "cells": [
  {
   "cell_type": "code",
   "execution_count": 1,
   "metadata": {},
   "outputs": [],
   "source": [
    "import os\n",
    "\n",
    "import numpy as np\n",
    "import matplotlib.pyplot as plt\n",
    "import pandas as pd\n",
    "\n",
    "import project_path\n",
    "from project_path import (\n",
    "    module_path,\n",
    "    configuration_dir, \n",
    "    data_dir, \n",
    "    report_dir,\n",
    "    model_dir\n",
    ")\n",
    "from shorelineforecasting.utils.configs import GluonConfigs"
   ]
  },
  {
   "cell_type": "code",
   "execution_count": 2,
   "metadata": {},
   "outputs": [
    {
     "name": "stdout",
     "output_type": "stream",
     "text": [
      "Transects included in dataset: 37111; timesteps: 33\n"
     ]
    },
    {
     "data": {
      "text/html": [
       "<div>\n",
       "<style scoped>\n",
       "    .dataframe tbody tr th:only-of-type {\n",
       "        vertical-align: middle;\n",
       "    }\n",
       "\n",
       "    .dataframe tbody tr th {\n",
       "        vertical-align: top;\n",
       "    }\n",
       "\n",
       "    .dataframe thead th {\n",
       "        text-align: right;\n",
       "    }\n",
       "</style>\n",
       "<table border=\"1\" class=\"dataframe\">\n",
       "  <thead>\n",
       "    <tr style=\"text-align: right;\">\n",
       "      <th></th>\n",
       "      <th>1984</th>\n",
       "      <th>1985</th>\n",
       "      <th>1986</th>\n",
       "      <th>1987</th>\n",
       "      <th>1988</th>\n",
       "      <th>1989</th>\n",
       "      <th>1990</th>\n",
       "      <th>1991</th>\n",
       "      <th>1992</th>\n",
       "      <th>1993</th>\n",
       "      <th>...</th>\n",
       "      <th>2007</th>\n",
       "      <th>2008</th>\n",
       "      <th>2009</th>\n",
       "      <th>2010</th>\n",
       "      <th>2011</th>\n",
       "      <th>2012</th>\n",
       "      <th>2013</th>\n",
       "      <th>2014</th>\n",
       "      <th>2015</th>\n",
       "      <th>2016</th>\n",
       "    </tr>\n",
       "    <tr>\n",
       "      <th>transect_id</th>\n",
       "      <th></th>\n",
       "      <th></th>\n",
       "      <th></th>\n",
       "      <th></th>\n",
       "      <th></th>\n",
       "      <th></th>\n",
       "      <th></th>\n",
       "      <th></th>\n",
       "      <th></th>\n",
       "      <th></th>\n",
       "      <th></th>\n",
       "      <th></th>\n",
       "      <th></th>\n",
       "      <th></th>\n",
       "      <th></th>\n",
       "      <th></th>\n",
       "      <th></th>\n",
       "      <th></th>\n",
       "      <th></th>\n",
       "      <th></th>\n",
       "      <th></th>\n",
       "    </tr>\n",
       "  </thead>\n",
       "  <tbody>\n",
       "    <tr>\n",
       "      <th>BOX_051_151_15</th>\n",
       "      <td>677.32043</td>\n",
       "      <td>695.66370</td>\n",
       "      <td>713.29486</td>\n",
       "      <td>682.1743</td>\n",
       "      <td>688.23425</td>\n",
       "      <td>672.13007</td>\n",
       "      <td>700.43286</td>\n",
       "      <td>693.43460</td>\n",
       "      <td>699.38560</td>\n",
       "      <td>687.97950</td>\n",
       "      <td>...</td>\n",
       "      <td>700.6640</td>\n",
       "      <td>712.41740</td>\n",
       "      <td>708.45123</td>\n",
       "      <td>740.33240</td>\n",
       "      <td>680.42510</td>\n",
       "      <td>758.35150</td>\n",
       "      <td>754.49695</td>\n",
       "      <td>763.04297</td>\n",
       "      <td>743.29680</td>\n",
       "      <td>779.41570</td>\n",
       "    </tr>\n",
       "    <tr>\n",
       "      <th>BOX_051_151_18</th>\n",
       "      <td>768.93800</td>\n",
       "      <td>769.23883</td>\n",
       "      <td>762.44300</td>\n",
       "      <td>755.8622</td>\n",
       "      <td>761.79663</td>\n",
       "      <td>760.51710</td>\n",
       "      <td>763.30505</td>\n",
       "      <td>761.81360</td>\n",
       "      <td>769.22100</td>\n",
       "      <td>765.47060</td>\n",
       "      <td>...</td>\n",
       "      <td>763.1057</td>\n",
       "      <td>759.72600</td>\n",
       "      <td>766.23150</td>\n",
       "      <td>770.77130</td>\n",
       "      <td>798.26830</td>\n",
       "      <td>797.99615</td>\n",
       "      <td>803.90950</td>\n",
       "      <td>797.90780</td>\n",
       "      <td>798.18830</td>\n",
       "      <td>803.68256</td>\n",
       "    </tr>\n",
       "    <tr>\n",
       "      <th>BOX_051_151_21</th>\n",
       "      <td>711.41626</td>\n",
       "      <td>684.20540</td>\n",
       "      <td>695.49817</td>\n",
       "      <td>701.6695</td>\n",
       "      <td>705.29990</td>\n",
       "      <td>703.61470</td>\n",
       "      <td>707.69403</td>\n",
       "      <td>692.90360</td>\n",
       "      <td>704.68280</td>\n",
       "      <td>704.99945</td>\n",
       "      <td>...</td>\n",
       "      <td>825.8698</td>\n",
       "      <td>820.51720</td>\n",
       "      <td>820.68680</td>\n",
       "      <td>842.18097</td>\n",
       "      <td>850.45460</td>\n",
       "      <td>775.96700</td>\n",
       "      <td>883.04240</td>\n",
       "      <td>867.92426</td>\n",
       "      <td>877.37415</td>\n",
       "      <td>874.50244</td>\n",
       "    </tr>\n",
       "    <tr>\n",
       "      <th>BOX_051_151_30</th>\n",
       "      <td>795.81573</td>\n",
       "      <td>820.63700</td>\n",
       "      <td>799.72380</td>\n",
       "      <td>799.8664</td>\n",
       "      <td>823.56260</td>\n",
       "      <td>822.07300</td>\n",
       "      <td>823.56800</td>\n",
       "      <td>823.73300</td>\n",
       "      <td>824.58400</td>\n",
       "      <td>824.33360</td>\n",
       "      <td>...</td>\n",
       "      <td>823.7820</td>\n",
       "      <td>823.15674</td>\n",
       "      <td>823.65790</td>\n",
       "      <td>821.31860</td>\n",
       "      <td>818.85803</td>\n",
       "      <td>817.31220</td>\n",
       "      <td>822.92970</td>\n",
       "      <td>818.73350</td>\n",
       "      <td>822.18480</td>\n",
       "      <td>818.73480</td>\n",
       "    </tr>\n",
       "    <tr>\n",
       "      <th>BOX_051_151_32</th>\n",
       "      <td>242.70204</td>\n",
       "      <td>238.05159</td>\n",
       "      <td>229.93718</td>\n",
       "      <td>244.0620</td>\n",
       "      <td>247.68105</td>\n",
       "      <td>257.49900</td>\n",
       "      <td>302.69217</td>\n",
       "      <td>301.27722</td>\n",
       "      <td>301.12033</td>\n",
       "      <td>316.40414</td>\n",
       "      <td>...</td>\n",
       "      <td>301.1231</td>\n",
       "      <td>313.63553</td>\n",
       "      <td>313.09814</td>\n",
       "      <td>312.90347</td>\n",
       "      <td>306.18658</td>\n",
       "      <td>294.18326</td>\n",
       "      <td>297.23654</td>\n",
       "      <td>302.88650</td>\n",
       "      <td>323.85840</td>\n",
       "      <td>304.36823</td>\n",
       "    </tr>\n",
       "  </tbody>\n",
       "</table>\n",
       "<p>5 rows × 33 columns</p>\n",
       "</div>"
      ],
      "text/plain": [
       "                     1984       1985       1986      1987       1988  \\\n",
       "transect_id                                                            \n",
       "BOX_051_151_15  677.32043  695.66370  713.29486  682.1743  688.23425   \n",
       "BOX_051_151_18  768.93800  769.23883  762.44300  755.8622  761.79663   \n",
       "BOX_051_151_21  711.41626  684.20540  695.49817  701.6695  705.29990   \n",
       "BOX_051_151_30  795.81573  820.63700  799.72380  799.8664  823.56260   \n",
       "BOX_051_151_32  242.70204  238.05159  229.93718  244.0620  247.68105   \n",
       "\n",
       "                     1989       1990       1991       1992       1993  ...  \\\n",
       "transect_id                                                            ...   \n",
       "BOX_051_151_15  672.13007  700.43286  693.43460  699.38560  687.97950  ...   \n",
       "BOX_051_151_18  760.51710  763.30505  761.81360  769.22100  765.47060  ...   \n",
       "BOX_051_151_21  703.61470  707.69403  692.90360  704.68280  704.99945  ...   \n",
       "BOX_051_151_30  822.07300  823.56800  823.73300  824.58400  824.33360  ...   \n",
       "BOX_051_151_32  257.49900  302.69217  301.27722  301.12033  316.40414  ...   \n",
       "\n",
       "                    2007       2008       2009       2010       2011  \\\n",
       "transect_id                                                            \n",
       "BOX_051_151_15  700.6640  712.41740  708.45123  740.33240  680.42510   \n",
       "BOX_051_151_18  763.1057  759.72600  766.23150  770.77130  798.26830   \n",
       "BOX_051_151_21  825.8698  820.51720  820.68680  842.18097  850.45460   \n",
       "BOX_051_151_30  823.7820  823.15674  823.65790  821.31860  818.85803   \n",
       "BOX_051_151_32  301.1231  313.63553  313.09814  312.90347  306.18658   \n",
       "\n",
       "                     2012       2013       2014       2015       2016  \n",
       "transect_id                                                            \n",
       "BOX_051_151_15  758.35150  754.49695  763.04297  743.29680  779.41570  \n",
       "BOX_051_151_18  797.99615  803.90950  797.90780  798.18830  803.68256  \n",
       "BOX_051_151_21  775.96700  883.04240  867.92426  877.37415  874.50244  \n",
       "BOX_051_151_30  817.31220  822.92970  818.73350  822.18480  818.73480  \n",
       "BOX_051_151_32  294.18326  297.23654  302.88650  323.85840  304.36823  \n",
       "\n",
       "[5 rows x 33 columns]"
      ]
     },
     "execution_count": 2,
     "metadata": {},
     "output_type": "execute_result"
    }
   ],
   "source": [
    "tf = GluonConfigs.load_data()\n",
    "tf = tf.set_index('transect_id')\n",
    "tf = tf.dropna(thresh=33)\n",
    "print(f\"Transects included in dataset: {tf.shape[0]}; timesteps: {tf.shape[1]}\")\n",
    "tf.head()"
   ]
  },
  {
   "cell_type": "code",
   "execution_count": 3,
   "metadata": {},
   "outputs": [
    {
     "name": "stdout",
     "output_type": "stream",
     "text": [
      "Transects included in dataset: 37111; metadata columns: 27\n"
     ]
    },
    {
     "data": {
      "text/html": [
       "<div>\n",
       "<style scoped>\n",
       "    .dataframe tbody tr th:only-of-type {\n",
       "        vertical-align: middle;\n",
       "    }\n",
       "\n",
       "    .dataframe tbody tr th {\n",
       "        vertical-align: top;\n",
       "    }\n",
       "\n",
       "    .dataframe thead th {\n",
       "        text-align: right;\n",
       "    }\n",
       "</style>\n",
       "<table border=\"1\" class=\"dataframe\">\n",
       "  <thead>\n",
       "    <tr style=\"text-align: right;\">\n",
       "      <th></th>\n",
       "      <th>transect_id</th>\n",
       "      <th>country_id</th>\n",
       "      <th>continent</th>\n",
       "      <th>country_name</th>\n",
       "      <th>changerate</th>\n",
       "      <th>changerate_unc</th>\n",
       "      <th>flag_sandy</th>\n",
       "      <th>no_shorelines</th>\n",
       "      <th>RMSE</th>\n",
       "      <th>Timespan</th>\n",
       "      <th>...</th>\n",
       "      <th>Start_lat</th>\n",
       "      <th>Intersect_lon</th>\n",
       "      <th>Intersect_lat</th>\n",
       "      <th>End_lon</th>\n",
       "      <th>End_lat</th>\n",
       "      <th>coastline_idint</th>\n",
       "      <th>geometry</th>\n",
       "      <th>dbscan_cluster</th>\n",
       "      <th>fcluster</th>\n",
       "      <th>optics_clusters</th>\n",
       "    </tr>\n",
       "  </thead>\n",
       "  <tbody>\n",
       "    <tr>\n",
       "      <th>0</th>\n",
       "      <td>BOX_051_170_3</td>\n",
       "      <td>ARG</td>\n",
       "      <td>South America</td>\n",
       "      <td>Argentina</td>\n",
       "      <td>0.389332</td>\n",
       "      <td>0.344834</td>\n",
       "      <td>True</td>\n",
       "      <td>33.0</td>\n",
       "      <td>18.281954</td>\n",
       "      <td>32.0</td>\n",
       "      <td>...</td>\n",
       "      <td>-36.378387</td>\n",
       "      <td>-56.709120</td>\n",
       "      <td>-36.376892</td>\n",
       "      <td>-56.700333</td>\n",
       "      <td>-36.375397</td>\n",
       "      <td>7427</td>\n",
       "      <td>POINT (-56.70912170410156 -36.37689208984375)</td>\n",
       "      <td>0</td>\n",
       "      <td>2455</td>\n",
       "      <td>0</td>\n",
       "    </tr>\n",
       "    <tr>\n",
       "      <th>1</th>\n",
       "      <td>BOX_051_170_4</td>\n",
       "      <td>ARG</td>\n",
       "      <td>South America</td>\n",
       "      <td>Argentina</td>\n",
       "      <td>0.501007</td>\n",
       "      <td>0.390176</td>\n",
       "      <td>True</td>\n",
       "      <td>33.0</td>\n",
       "      <td>20.685827</td>\n",
       "      <td>32.0</td>\n",
       "      <td>...</td>\n",
       "      <td>-36.374847</td>\n",
       "      <td>-56.710050</td>\n",
       "      <td>-36.373356</td>\n",
       "      <td>-56.701260</td>\n",
       "      <td>-36.371860</td>\n",
       "      <td>7427</td>\n",
       "      <td>POINT (-56.71004867553711 -36.37335586547852)</td>\n",
       "      <td>0</td>\n",
       "      <td>2455</td>\n",
       "      <td>0</td>\n",
       "    </tr>\n",
       "    <tr>\n",
       "      <th>2</th>\n",
       "      <td>BOX_051_170_5</td>\n",
       "      <td>ARG</td>\n",
       "      <td>South America</td>\n",
       "      <td>Argentina</td>\n",
       "      <td>0.831012</td>\n",
       "      <td>0.331491</td>\n",
       "      <td>True</td>\n",
       "      <td>33.0</td>\n",
       "      <td>17.574545</td>\n",
       "      <td>32.0</td>\n",
       "      <td>...</td>\n",
       "      <td>-36.371933</td>\n",
       "      <td>-56.711193</td>\n",
       "      <td>-36.369860</td>\n",
       "      <td>-56.702587</td>\n",
       "      <td>-36.367786</td>\n",
       "      <td>7427</td>\n",
       "      <td>POINT (-56.7111930847168 -36.3698616027832)</td>\n",
       "      <td>0</td>\n",
       "      <td>2455</td>\n",
       "      <td>0</td>\n",
       "    </tr>\n",
       "    <tr>\n",
       "      <th>3</th>\n",
       "      <td>BOX_051_170_6</td>\n",
       "      <td>ARG</td>\n",
       "      <td>South America</td>\n",
       "      <td>Argentina</td>\n",
       "      <td>1.471142</td>\n",
       "      <td>0.277497</td>\n",
       "      <td>True</td>\n",
       "      <td>33.0</td>\n",
       "      <td>14.711926</td>\n",
       "      <td>32.0</td>\n",
       "      <td>...</td>\n",
       "      <td>-36.368470</td>\n",
       "      <td>-56.712482</td>\n",
       "      <td>-36.366394</td>\n",
       "      <td>-56.703876</td>\n",
       "      <td>-36.364323</td>\n",
       "      <td>7427</td>\n",
       "      <td>POINT (-56.71248245239258 -36.36639404296875)</td>\n",
       "      <td>0</td>\n",
       "      <td>2455</td>\n",
       "      <td>0</td>\n",
       "    </tr>\n",
       "    <tr>\n",
       "      <th>4</th>\n",
       "      <td>BOX_051_170_7</td>\n",
       "      <td>ARG</td>\n",
       "      <td>South America</td>\n",
       "      <td>Argentina</td>\n",
       "      <td>2.159336</td>\n",
       "      <td>0.288062</td>\n",
       "      <td>True</td>\n",
       "      <td>33.0</td>\n",
       "      <td>15.272047</td>\n",
       "      <td>32.0</td>\n",
       "      <td>...</td>\n",
       "      <td>-36.365000</td>\n",
       "      <td>-56.713768</td>\n",
       "      <td>-36.362930</td>\n",
       "      <td>-56.705162</td>\n",
       "      <td>-36.360855</td>\n",
       "      <td>7427</td>\n",
       "      <td>POINT (-56.71376800537109 -36.36293029785156)</td>\n",
       "      <td>0</td>\n",
       "      <td>2455</td>\n",
       "      <td>0</td>\n",
       "    </tr>\n",
       "  </tbody>\n",
       "</table>\n",
       "<p>5 rows × 27 columns</p>\n",
       "</div>"
      ],
      "text/plain": [
       "     transect_id country_id      continent country_name  changerate  \\\n",
       "0  BOX_051_170_3        ARG  South America    Argentina    0.389332   \n",
       "1  BOX_051_170_4        ARG  South America    Argentina    0.501007   \n",
       "2  BOX_051_170_5        ARG  South America    Argentina    0.831012   \n",
       "3  BOX_051_170_6        ARG  South America    Argentina    1.471142   \n",
       "4  BOX_051_170_7        ARG  South America    Argentina    2.159336   \n",
       "\n",
       "   changerate_unc  flag_sandy  no_shorelines       RMSE  Timespan  ...  \\\n",
       "0        0.344834        True           33.0  18.281954      32.0  ...   \n",
       "1        0.390176        True           33.0  20.685827      32.0  ...   \n",
       "2        0.331491        True           33.0  17.574545      32.0  ...   \n",
       "3        0.277497        True           33.0  14.711926      32.0  ...   \n",
       "4        0.288062        True           33.0  15.272047      32.0  ...   \n",
       "\n",
       "   Start_lat  Intersect_lon  Intersect_lat    End_lon    End_lat  \\\n",
       "0 -36.378387     -56.709120     -36.376892 -56.700333 -36.375397   \n",
       "1 -36.374847     -56.710050     -36.373356 -56.701260 -36.371860   \n",
       "2 -36.371933     -56.711193     -36.369860 -56.702587 -36.367786   \n",
       "3 -36.368470     -56.712482     -36.366394 -56.703876 -36.364323   \n",
       "4 -36.365000     -56.713768     -36.362930 -56.705162 -36.360855   \n",
       "\n",
       "   coastline_idint                                       geometry  \\\n",
       "0             7427  POINT (-56.70912170410156 -36.37689208984375)   \n",
       "1             7427  POINT (-56.71004867553711 -36.37335586547852)   \n",
       "2             7427    POINT (-56.7111930847168 -36.3698616027832)   \n",
       "3             7427  POINT (-56.71248245239258 -36.36639404296875)   \n",
       "4             7427  POINT (-56.71376800537109 -36.36293029785156)   \n",
       "\n",
       "   dbscan_cluster  fcluster  optics_clusters  \n",
       "0               0      2455                0  \n",
       "1               0      2455                0  \n",
       "2               0      2455                0  \n",
       "3               0      2455                0  \n",
       "4               0      2455                0  \n",
       "\n",
       "[5 rows x 27 columns]"
      ]
     },
     "execution_count": 3,
     "metadata": {},
     "output_type": "execute_result"
    }
   ],
   "source": [
    "sites = pd.read_csv(\"/media/storage/data/shorelines/sites-gluonts-prepared-37k.csv\")\n",
    "sites = sites.loc[sites['transect_id'].isin(tf.index)]\n",
    "print(f\"Transects included in dataset: {sites.shape[0]}; metadata columns: {sites.shape[1]}\")\n",
    "sites.head()"
   ]
  },
  {
   "cell_type": "code",
   "execution_count": 4,
   "metadata": {},
   "outputs": [],
   "source": [
    "metadata = {\n",
    "    'num_series': len(tf),\n",
    "    'num_steps': len(tf.columns),\n",
    "    'prediction_length': 7,\n",
    "    'freq': \"AS\",\n",
    "    'start': [pd.Timestamp(\"01-01-1984\", freq='AS') for _ in range(len(tf))],\n",
    "    'item_id': tf.index.values,\n",
    "    'epochs': 10,\n",
    "    'save_model': False,\n",
    "    'evaluate_model': True\n",
    "}"
   ]
  },
  {
   "cell_type": "code",
   "execution_count": 5,
   "metadata": {},
   "outputs": [],
   "source": [
    "from sklearn import preprocessing\n",
    "\n",
    "\n",
    "transformations = {\n",
    "    \"standard\": preprocessing.StandardScaler(),\n",
    "    \"min_max\": preprocessing.MinMaxScaler()\n",
    "}\n",
    "\n",
    "def scale_df(df, method):\n",
    "    x = df.values\n",
    "    scaler = transformations[method]\n",
    "    x_scaled = scaler.fit_transform(x)\n",
    "    return pd.DataFrame(x_scaled, index=df.index, columns=df.columns)\n",
    "\n",
    "tf_z =  scale_df(tf.T, method='standard').T"
   ]
  },
  {
   "cell_type": "code",
   "execution_count": 9,
   "metadata": {},
   "outputs": [],
   "source": [
    "from gluonts.dataset.common import ListDataset\n",
    "from gluonts.dataset.field_names import FieldName\n",
    "\n",
    "\n",
    "def get_gluon_ds(df):\n",
    "\n",
    "    train_ds = ListDataset(\n",
    "        [\n",
    "         {\n",
    "             FieldName.TARGET: target,\n",
    "             FieldName.START: start,\n",
    "             FieldName.ITEM_ID: item_id,\n",
    "             FieldName.FEAT_STATIC_CAT: [fclust, dbclust],\n",
    "             FieldName.FEAT_STATIC_REAL: [fsr]\n",
    "          }\n",
    "\n",
    "         for (target, start, item_id, fclust, dbclust, fsr) in zip(df.values[:, :-metadata['prediction_length']],\n",
    "                                            metadata['start'], \n",
    "                                            metadata['item_id'],\n",
    "                                            sites['fcluster'].values,\n",
    "                                            sites['dbscan_cluster'].values,\n",
    "                                            sites['changerate_unc'].values)\n",
    "        ], freq=metadata['freq'])\n",
    "\n",
    "    test_ds = ListDataset(\n",
    "        [\n",
    "         {\n",
    "             FieldName.TARGET: target,\n",
    "             FieldName.START: start,\n",
    "             FieldName.ITEM_ID: item_id,\n",
    "             FieldName.FEAT_STATIC_CAT: [fclust, dbclust],\n",
    "             FieldName.FEAT_STATIC_REAL: [fsr]\n",
    "          }\n",
    "\n",
    "         for (target, start, item_id, fclust, dbclust, fsr) in zip(df.values,\n",
    "                                            metadata['start'], \n",
    "                                            metadata['item_id'],\n",
    "                                            sites['fcluster'].values,\n",
    "                                            sites['dbscan_cluster'].values,\n",
    "                                            sites['changerate_unc'].values)\n",
    "        ], freq=metadata['freq'])\n",
    "          \n",
    "    return train_ds, test_ds"
   ]
  },
  {
   "cell_type": "code",
   "execution_count": 6,
   "metadata": {},
   "outputs": [],
   "source": [
    "train_ds, test_ds = get_gluon_ds(tf)"
   ]
  },
  {
   "cell_type": "code",
   "execution_count": 7,
   "metadata": {
    "scrolled": true
   },
   "outputs": [],
   "source": [
    "import inspect\n",
    "from pathlib import Path\n",
    "\n",
    "import inspect\n",
    "from pathlib import Path\n",
    "\n",
    "from gluonts.model.simple_feedforward import SimpleFeedForwardEstimator\n",
    "from gluonts.trainer import Trainer\n",
    "from gluonts.evaluation import Evaluator\n",
    "from gluonts.evaluation.backtest import make_evaluation_predictions\n",
    "\n",
    "from shorelineforecasting.utils.configs import get_predictor_id\n",
    "\n",
    "\n",
    "def get_cls_attributes(cls):\n",
    "    attributes = inspect.getmembers(cls, lambda x: not(inspect.isroutine(x)))\n",
    "    attributes = [a for a in attributes if not(a[0].startswith('__') and a[0].endswith('__'))]\n",
    "    return dict(attributes)\n",
    "\n",
    "\n",
    "def get_hyperparams(estimator, predictor_id):\n",
    "    predictor = type(estimator).__name__\n",
    "    estimator_attr = get_cls_attributes(estimator)\n",
    "    trainer_attr = get_cls_attributes(estimator_attr['trainer'])\n",
    "    attributes = {**estimator_attr, **trainer_attr}\n",
    "    attributes.pop('trainer', None)\n",
    "    attributes['predictor'] = predictor\n",
    "    attributes['predictor_id'] = predictor_id\n",
    "    return dict(attributes)\n",
    "\n",
    "\n",
    "def to_model_database(attributes):\n",
    "    fpath = os.path.join(data_dir, 'sensitivity-metrics-test.csv')\n",
    "    if not os.path.exists(fpath):\n",
    "        pd.DataFrame([attributes]).to_csv(fpath, header=True, index=False)\n",
    "        return print(f\"Created metrics database: {fpath}\")\n",
    "    params = pd.read_csv(fpath)\n",
    "    to_add_params = pd.DataFrame([attributes])\n",
    "    updated_params = pd.concat([params, to_add_params], axis=0, ignore_index=True)\n",
    "    updated_params.to_csv(fpath, header=True, index=False)\n",
    "    return print(f\"Updated metrics database: {fpath}\")\n",
    "\n",
    "\n",
    "batch_size = 16\n",
    "epochs = 10\n",
    "num_batches_per_epoch = 200\n",
    "cardinality = [\n",
    "    len(sites['fcluster'].unique()), \n",
    "    len(sites['dbscan_cluster'].unique())\n",
    "]\n",
    "\n",
    "\n",
    "def train_eval_loop():\n",
    "\n",
    "    estimator = SimpleFeedForwardEstimator(\n",
    "        num_hidden_dimensions=[10],\n",
    "        prediction_length=metadata['prediction_length'],\n",
    "        freq=metadata['freq'],\n",
    "        trainer=Trainer(ctx=\"cpu\",\n",
    "                        epochs=epochs,\n",
    "                        learning_rate=1e-3,\n",
    "                        hybridize=False,\n",
    "                        num_batches_per_epoch=100\n",
    "                       )\n",
    "    )\n",
    "\n",
    "    predictor_id = get_predictor_id()\n",
    "    attributes = get_hyperparams(estimator, predictor_id)\n",
    "\n",
    "    predictor = estimator.train(train_ds)\n",
    "\n",
    "    if metadata['save_model'] is True:\n",
    "        mpath = os.path.join(model_dir, f\"{attributes['predictor']}-{predictor_id}\")\n",
    "        if not os.path.exists(mpath):\n",
    "            os.mkdir(mpath)\n",
    "        predictor.serialize(Path(mpath))\n",
    "\n",
    "    if metadata['evaluate_model'] is True:\n",
    "        forecast_it, ts_it = make_evaluation_predictions(\n",
    "            test_ds, predictor=predictor, num_samples=100\n",
    "        )\n",
    "        agg_metrics, item_metrics = Evaluator()(\n",
    "            ts_it, forecast_it, num_series=len(test_ds)\n",
    "        )\n",
    "        attributes = {**attributes, **agg_metrics}\n",
    "    \n",
    "    to_model_database(attributes)\n",
    "    return agg_metrics\n",
    "\n",
    "    \n"
   ]
  },
  {
   "cell_type": "code",
   "execution_count": 10,
   "metadata": {},
   "outputs": [
    {
     "name": "stderr",
     "output_type": "stream",
     "text": [
      "\r",
      "  0%|          | 0/100 [00:00<?, ?it/s]"
     ]
    },
    {
     "name": "stdout",
     "output_type": "stream",
     "text": [
      "learning rate from ``lr_scheduler`` has been overwritten by ``learning_rate`` in optimizer.\n"
     ]
    },
    {
     "name": "stderr",
     "output_type": "stream",
     "text": [
      "100%|██████████| 100/100 [00:02<00:00, 33.84it/s, epoch=1/10, avg_epoch_loss=7.64]\n",
      "100%|██████████| 100/100 [00:02<00:00, 40.53it/s, epoch=2/10, avg_epoch_loss=6.19]\n",
      "100%|██████████| 100/100 [00:02<00:00, 37.51it/s, epoch=3/10, avg_epoch_loss=5.45]\n",
      "100%|██████████| 100/100 [00:03<00:00, 28.66it/s, epoch=4/10, avg_epoch_loss=5.24]\n",
      "100%|██████████| 100/100 [00:03<00:00, 31.62it/s, epoch=5/10, avg_epoch_loss=5.05]\n",
      "100%|██████████| 100/100 [00:03<00:00, 31.97it/s, epoch=6/10, avg_epoch_loss=5.21]\n",
      "100%|██████████| 100/100 [00:02<00:00, 33.62it/s, epoch=7/10, avg_epoch_loss=5.25]\n",
      "100%|██████████| 100/100 [00:03<00:00, 30.11it/s, epoch=8/10, avg_epoch_loss=5.02]\n",
      "100%|██████████| 100/100 [00:03<00:00, 33.07it/s, epoch=9/10, avg_epoch_loss=4.9]\n",
      "100%|██████████| 100/100 [00:03<00:00, 32.09it/s, epoch=10/10, avg_epoch_loss=4.86]\n",
      "Running evaluation: 100%|██████████| 200/200 [00:00<00:00, 271.59it/s]\n"
     ]
    },
    {
     "name": "stdout",
     "output_type": "stream",
     "text": [
      "Updated metrics database: /media/storage/data/shorelines/sensitivity-metrics-test.csv\n"
     ]
    },
    {
     "name": "stderr",
     "output_type": "stream",
     "text": [
      "\r",
      "  0%|          | 0/100 [00:00<?, ?it/s]"
     ]
    },
    {
     "name": "stdout",
     "output_type": "stream",
     "text": [
      "learning rate from ``lr_scheduler`` has been overwritten by ``learning_rate`` in optimizer.\n"
     ]
    },
    {
     "name": "stderr",
     "output_type": "stream",
     "text": [
      "100%|██████████| 100/100 [00:02<00:00, 33.52it/s, epoch=1/10, avg_epoch_loss=1.92]\n",
      "100%|██████████| 100/100 [00:02<00:00, 39.59it/s, epoch=2/10, avg_epoch_loss=1.69]\n",
      "100%|██████████| 100/100 [00:02<00:00, 38.33it/s, epoch=3/10, avg_epoch_loss=1.65]\n",
      "100%|██████████| 100/100 [00:02<00:00, 38.42it/s, epoch=4/10, avg_epoch_loss=1.65]\n",
      "100%|██████████| 100/100 [00:02<00:00, 39.71it/s, epoch=5/10, avg_epoch_loss=1.67]\n",
      "100%|██████████| 100/100 [00:02<00:00, 34.92it/s, epoch=6/10, avg_epoch_loss=1.55]\n",
      "100%|██████████| 100/100 [00:02<00:00, 35.73it/s, epoch=7/10, avg_epoch_loss=1.66]\n",
      "100%|██████████| 100/100 [00:02<00:00, 37.03it/s, epoch=8/10, avg_epoch_loss=1.64]\n",
      "100%|██████████| 100/100 [00:02<00:00, 37.50it/s, epoch=9/10, avg_epoch_loss=1.72]\n",
      "100%|██████████| 100/100 [00:02<00:00, 35.48it/s, epoch=10/10, avg_epoch_loss=1.74]\n",
      "Running evaluation: 100%|██████████| 200/200 [00:00<00:00, 308.18it/s]\n"
     ]
    },
    {
     "name": "stdout",
     "output_type": "stream",
     "text": [
      "Updated metrics database: /media/storage/data/shorelines/sensitivity-metrics-test.csv\n"
     ]
    }
   ],
   "source": [
    "results = []\n",
    "for ds in [tf, tf_z]:\n",
    "    for prediction_length in np.arange(7, 8):\n",
    "        metadata['prediction_length'] = prediction_length\n",
    "        train_ds, test_ds = get_gluon_ds(ds)\n",
    "        test_ds = ListDataset(test_ds.list_data[:200], freq=metadata['freq'])\n",
    "        results.append(train_eval_loop())"
   ]
  },
  {
   "cell_type": "code",
   "execution_count": 11,
   "metadata": {},
   "outputs": [
    {
     "data": {
      "text/plain": [
       "{'MSE': 1012.8690394864764,\n",
       " 'abs_error': 38598.171630859375,\n",
       " 'abs_target_sum': 1112432.0180664062,\n",
       " 'abs_target_mean': 794.5942986188617,\n",
       " 'seasonal_error': 12.928196844482422,\n",
       " 'MASE': 2.468945538458807,\n",
       " 'MAPE': 0.03516172117621618,\n",
       " 'sMAPE': 0.035963334871888054,\n",
       " 'OWA': nan,\n",
       " 'MSIS': 12.89620388593917,\n",
       " 'QuantileLoss[0.1]': 15104.411477661133,\n",
       " 'Coverage[0.1]': 0.009285714285714284,\n",
       " 'QuantileLoss[0.2]': 24017.844836425786,\n",
       " 'Coverage[0.2]': 0.019999999999999997,\n",
       " 'QuantileLoss[0.3]': 30691.679595947266,\n",
       " 'Coverage[0.3]': 0.03,\n",
       " 'QuantileLoss[0.4]': 35526.43216552735,\n",
       " 'Coverage[0.4]': 0.04928571428571429,\n",
       " 'QuantileLoss[0.5]': 38598.171630859375,\n",
       " 'Coverage[0.5]': 0.07428571428571427,\n",
       " 'QuantileLoss[0.6]': 40153.46754150391,\n",
       " 'Coverage[0.6]': 0.115,\n",
       " 'QuantileLoss[0.7]': 38603.3835144043,\n",
       " 'Coverage[0.7]': 0.17,\n",
       " 'QuantileLoss[0.8]': 33121.62924804688,\n",
       " 'Coverage[0.8]': 0.2592857142857143,\n",
       " 'QuantileLoss[0.9]': 20142.18853149414,\n",
       " 'Coverage[0.9]': 0.4871428571428571,\n",
       " 'RMSE': 31.825603521166357,\n",
       " 'NRMSE': 0.040052645200808264,\n",
       " 'ND': 0.03469710598401283,\n",
       " 'wQuantileLoss[0.1]': 0.013577828786261598,\n",
       " 'wQuantileLoss[0.2]': 0.021590393342123357,\n",
       " 'wQuantileLoss[0.3]': 0.027589712537485718,\n",
       " 'wQuantileLoss[0.4]': 0.03193582312317678,\n",
       " 'wQuantileLoss[0.5]': 0.03469710598401283,\n",
       " 'wQuantileLoss[0.6]': 0.0360952102145508,\n",
       " 'wQuantileLoss[0.7]': 0.034701791109449966,\n",
       " 'wQuantileLoss[0.8]': 0.02977407042420249,\n",
       " 'wQuantileLoss[0.9]': 0.0181064444427846,\n",
       " 'mean_wQuantileLoss': 0.02756315332933868,\n",
       " 'MAE_Coverage': 0.36507936507936506}"
      ]
     },
     "execution_count": 11,
     "metadata": {},
     "output_type": "execute_result"
    }
   ],
   "source": [
    "results[0]"
   ]
  },
  {
   "cell_type": "code",
   "execution_count": 12,
   "metadata": {},
   "outputs": [
    {
     "data": {
      "text/plain": [
       "{'MSE': 2.283221430118595,\n",
       " 'abs_error': 1886.1351835727692,\n",
       " 'abs_target_sum': 1691.5154285430908,\n",
       " 'abs_target_mean': 1.208225306102208,\n",
       " 'seasonal_error': 0.6620087969303131,\n",
       " 'MASE': 2.501154663743134,\n",
       " 'MAPE': 1.798638601791059,\n",
       " 'sMAPE': 1.7427146093672758,\n",
       " 'OWA': nan,\n",
       " 'MSIS': 24.451855083558495,\n",
       " 'QuantileLoss[0.1]': 681.1119014263154,\n",
       " 'Coverage[0.1]': 0.003571428571428571,\n",
       " 'QuantileLoss[0.2]': 1102.716025778651,\n",
       " 'Coverage[0.2]': 0.014999999999999998,\n",
       " 'QuantileLoss[0.3]': 1440.4588181093334,\n",
       " 'Coverage[0.3]': 0.033571428571428565,\n",
       " 'QuantileLoss[0.4]': 1702.0661122731865,\n",
       " 'Coverage[0.4]': 0.06142857142857142,\n",
       " 'QuantileLoss[0.5]': 1886.1351882200688,\n",
       " 'Coverage[0.5]': 0.08428571428571428,\n",
       " 'QuantileLoss[0.6]': 2005.024469898641,\n",
       " 'Coverage[0.6]': 0.11,\n",
       " 'QuantileLoss[0.7]': 1998.613268276304,\n",
       " 'Coverage[0.7]': 0.1492857142857143,\n",
       " 'QuantileLoss[0.8]': 1815.9791751988232,\n",
       " 'Coverage[0.8]': 0.2264285714285714,\n",
       " 'QuantileLoss[0.9]': 1367.0805373847484,\n",
       " 'Coverage[0.9]': 0.39285714285714285,\n",
       " 'RMSE': 1.5110332326320937,\n",
       " 'NRMSE': 1.2506220694108439,\n",
       " 'ND': 1.1150564468674726,\n",
       " 'wQuantileLoss[0.1]': 0.4026637238614843,\n",
       " 'wQuantileLoss[0.2]': 0.6519101198671448,\n",
       " 'wQuantileLoss[0.3]': 0.8515788823457593,\n",
       " 'wQuantileLoss[0.4]': 1.0062374150138158,\n",
       " 'wQuantileLoss[0.5]': 1.1150564496148905,\n",
       " 'wQuantileLoss[0.6]': 1.1853421116150131,\n",
       " 'wQuantileLoss[0.7]': 1.1815518998828867,\n",
       " 'wQuantileLoss[0.8]': 1.0735812068607222,\n",
       " 'wQuantileLoss[0.9]': 0.808198680494579,\n",
       " 'mean_wQuantileLoss': 0.9195689432840329,\n",
       " 'MAE_Coverage': 0.38039682539682546}"
      ]
     },
     "execution_count": 12,
     "metadata": {},
     "output_type": "execute_result"
    }
   ],
   "source": [
    "results[1]"
   ]
  },
  {
   "cell_type": "code",
   "execution_count": 10,
   "metadata": {},
   "outputs": [
    {
     "name": "stderr",
     "output_type": "stream",
     "text": [
      "\r",
      "  0%|          | 0/100 [00:00<?, ?it/s]"
     ]
    },
    {
     "name": "stdout",
     "output_type": "stream",
     "text": [
      "learning rate from ``lr_scheduler`` has been overwritten by ``learning_rate`` in optimizer.\n"
     ]
    },
    {
     "name": "stderr",
     "output_type": "stream",
     "text": [
      "100%|██████████| 100/100 [00:01<00:00, 82.48it/s, epoch=1/10, avg_epoch_loss=6.1]\n",
      "100%|██████████| 100/100 [00:01<00:00, 80.04it/s, epoch=2/10, avg_epoch_loss=5.04]\n",
      "100%|██████████| 100/100 [00:01<00:00, 95.97it/s, epoch=3/10, avg_epoch_loss=4.54]\n",
      "100%|██████████| 100/100 [00:01<00:00, 81.50it/s, epoch=4/10, avg_epoch_loss=4.55]\n",
      "100%|██████████| 100/100 [00:01<00:00, 90.11it/s, epoch=5/10, avg_epoch_loss=4.34]\n",
      "100%|██████████| 100/100 [00:01<00:00, 89.31it/s, epoch=6/10, avg_epoch_loss=4.55]\n",
      "100%|██████████| 100/100 [00:01<00:00, 95.10it/s, epoch=7/10, avg_epoch_loss=4.53]\n",
      "100%|██████████| 100/100 [00:01<00:00, 81.71it/s, epoch=8/10, avg_epoch_loss=4.62]\n",
      "100%|██████████| 100/100 [00:01<00:00, 87.12it/s, epoch=9/10, avg_epoch_loss=4.47]\n",
      "100%|██████████| 100/100 [00:01<00:00, 96.31it/s, epoch=10/10, avg_epoch_loss=4.55]\n",
      "Running evaluation: 100%|██████████| 37111/37111 [00:51<00:00, 726.29it/s]\n",
      "  0%|          | 0/100 [00:00<?, ?it/s]"
     ]
    },
    {
     "name": "stdout",
     "output_type": "stream",
     "text": [
      "Updated metrics database: /media/storage/data/shorelines/sensitivity-metrics.csv\n",
      "learning rate from ``lr_scheduler`` has been overwritten by ``learning_rate`` in optimizer.\n"
     ]
    },
    {
     "name": "stderr",
     "output_type": "stream",
     "text": [
      "100%|██████████| 100/100 [00:01<00:00, 80.03it/s, epoch=1/10, avg_epoch_loss=8.03]\n",
      "100%|██████████| 100/100 [00:01<00:00, 88.24it/s, epoch=2/10, avg_epoch_loss=6.45]\n",
      "100%|██████████| 100/100 [00:01<00:00, 93.54it/s, epoch=3/10, avg_epoch_loss=5.14]\n",
      "100%|██████████| 100/100 [00:01<00:00, 94.85it/s, epoch=4/10, avg_epoch_loss=4.69]\n",
      "100%|██████████| 100/100 [00:01<00:00, 92.36it/s, epoch=5/10, avg_epoch_loss=4.46]\n",
      "100%|██████████| 100/100 [00:01<00:00, 80.30it/s, epoch=6/10, avg_epoch_loss=4.62]\n",
      "100%|██████████| 100/100 [00:01<00:00, 91.84it/s, epoch=7/10, avg_epoch_loss=4.61]\n",
      "100%|██████████| 100/100 [00:01<00:00, 91.33it/s, epoch=8/10, avg_epoch_loss=4.61]\n",
      "100%|██████████| 100/100 [00:01<00:00, 81.59it/s, epoch=9/10, avg_epoch_loss=4.54]\n",
      "100%|██████████| 100/100 [00:01<00:00, 88.76it/s, epoch=10/10, avg_epoch_loss=4.58]\n",
      "Running evaluation: 100%|██████████| 37111/37111 [00:53<00:00, 697.53it/s]\n"
     ]
    },
    {
     "name": "stdout",
     "output_type": "stream",
     "text": [
      "Updated metrics database: /media/storage/data/shorelines/sensitivity-metrics.csv\n"
     ]
    },
    {
     "name": "stderr",
     "output_type": "stream",
     "text": [
      "\r",
      "  0%|          | 0/100 [00:00<?, ?it/s]"
     ]
    },
    {
     "name": "stdout",
     "output_type": "stream",
     "text": [
      "learning rate from ``lr_scheduler`` has been overwritten by ``learning_rate`` in optimizer.\n"
     ]
    },
    {
     "name": "stderr",
     "output_type": "stream",
     "text": [
      "100%|██████████| 100/100 [00:01<00:00, 92.47it/s, epoch=1/10, avg_epoch_loss=7.57]\n",
      "100%|██████████| 100/100 [00:01<00:00, 93.64it/s, epoch=2/10, avg_epoch_loss=5.95]\n",
      "100%|██████████| 100/100 [00:01<00:00, 90.45it/s, epoch=3/10, avg_epoch_loss=5.39]\n",
      "100%|██████████| 100/100 [00:01<00:00, 86.73it/s, epoch=4/10, avg_epoch_loss=5.17]\n",
      "100%|██████████| 100/100 [00:01<00:00, 87.75it/s, epoch=5/10, avg_epoch_loss=5.07]\n",
      "100%|██████████| 100/100 [00:01<00:00, 85.96it/s, epoch=6/10, avg_epoch_loss=5.27]\n",
      "100%|██████████| 100/100 [00:01<00:00, 93.97it/s, epoch=7/10, avg_epoch_loss=5.19]\n",
      "100%|██████████| 100/100 [00:01<00:00, 96.53it/s, epoch=8/10, avg_epoch_loss=5.2]\n",
      "100%|██████████| 100/100 [00:01<00:00, 86.98it/s, epoch=9/10, avg_epoch_loss=4.96]\n",
      "100%|██████████| 100/100 [00:01<00:00, 88.91it/s, epoch=10/10, avg_epoch_loss=4.96]\n",
      "Running evaluation: 100%|██████████| 37111/37111 [00:46<00:00, 794.64it/s]\n"
     ]
    },
    {
     "name": "stdout",
     "output_type": "stream",
     "text": [
      "Updated metrics database: /media/storage/data/shorelines/sensitivity-metrics.csv\n"
     ]
    },
    {
     "name": "stderr",
     "output_type": "stream",
     "text": [
      "\r",
      "  0%|          | 0/100 [00:00<?, ?it/s]"
     ]
    },
    {
     "name": "stdout",
     "output_type": "stream",
     "text": [
      "learning rate from ``lr_scheduler`` has been overwritten by ``learning_rate`` in optimizer.\n"
     ]
    },
    {
     "name": "stderr",
     "output_type": "stream",
     "text": [
      "100%|██████████| 100/100 [00:01<00:00, 87.06it/s, epoch=1/10, avg_epoch_loss=8.67]\n",
      "100%|██████████| 100/100 [00:01<00:00, 83.13it/s, epoch=2/10, avg_epoch_loss=6.74]\n",
      "100%|██████████| 100/100 [00:00<00:00, 100.81it/s, epoch=3/10, avg_epoch_loss=5.79]\n",
      "100%|██████████| 100/100 [00:01<00:00, 91.01it/s, epoch=4/10, avg_epoch_loss=5.46]\n",
      "100%|██████████| 100/100 [00:01<00:00, 97.68it/s, epoch=5/10, avg_epoch_loss=5.09]\n",
      "100%|██████████| 100/100 [00:01<00:00, 91.40it/s, epoch=6/10, avg_epoch_loss=5.23]\n",
      "100%|██████████| 100/100 [00:01<00:00, 94.24it/s, epoch=7/10, avg_epoch_loss=5.21]\n",
      "100%|██████████| 100/100 [00:01<00:00, 94.40it/s, epoch=8/10, avg_epoch_loss=5.1]\n",
      "100%|██████████| 100/100 [00:00<00:00, 100.91it/s, epoch=9/10, avg_epoch_loss=4.91]\n",
      "100%|██████████| 100/100 [00:01<00:00, 91.81it/s, epoch=10/10, avg_epoch_loss=4.91]\n",
      "Running evaluation: 100%|██████████| 37111/37111 [00:45<00:00, 808.90it/s]\n"
     ]
    },
    {
     "name": "stdout",
     "output_type": "stream",
     "text": [
      "Updated metrics database: /media/storage/data/shorelines/sensitivity-metrics.csv\n"
     ]
    },
    {
     "name": "stderr",
     "output_type": "stream",
     "text": [
      "\r",
      "  0%|          | 0/100 [00:00<?, ?it/s]"
     ]
    },
    {
     "name": "stdout",
     "output_type": "stream",
     "text": [
      "learning rate from ``lr_scheduler`` has been overwritten by ``learning_rate`` in optimizer.\n"
     ]
    },
    {
     "name": "stderr",
     "output_type": "stream",
     "text": [
      "100%|██████████| 100/100 [00:01<00:00, 90.02it/s, epoch=1/10, avg_epoch_loss=7.8]\n",
      "100%|██████████| 100/100 [00:00<00:00, 100.16it/s, epoch=2/10, avg_epoch_loss=6.53]\n",
      "100%|██████████| 100/100 [00:01<00:00, 92.45it/s, epoch=3/10, avg_epoch_loss=5.51]\n",
      "100%|██████████| 100/100 [00:01<00:00, 83.65it/s, epoch=4/10, avg_epoch_loss=5.22]\n",
      "100%|██████████| 100/100 [00:01<00:00, 89.53it/s, epoch=5/10, avg_epoch_loss=4.91]\n",
      "100%|██████████| 100/100 [00:01<00:00, 91.05it/s, epoch=6/10, avg_epoch_loss=5.02]\n",
      "100%|██████████| 100/100 [00:01<00:00, 96.33it/s, epoch=7/10, avg_epoch_loss=5.04]\n",
      "100%|██████████| 100/100 [00:01<00:00, 95.62it/s, epoch=8/10, avg_epoch_loss=4.92]\n",
      "100%|██████████| 100/100 [00:01<00:00, 98.21it/s, epoch=9/10, avg_epoch_loss=4.81]\n",
      "100%|██████████| 100/100 [00:01<00:00, 92.88it/s, epoch=10/10, avg_epoch_loss=4.78]\n",
      "Running evaluation: 100%|██████████| 37111/37111 [00:45<00:00, 808.53it/s]\n",
      "  0%|          | 0/100 [00:00<?, ?it/s]"
     ]
    },
    {
     "name": "stdout",
     "output_type": "stream",
     "text": [
      "Updated metrics database: /media/storage/data/shorelines/sensitivity-metrics.csv\n",
      "learning rate from ``lr_scheduler`` has been overwritten by ``learning_rate`` in optimizer.\n"
     ]
    },
    {
     "name": "stderr",
     "output_type": "stream",
     "text": [
      "100%|██████████| 100/100 [00:01<00:00, 94.18it/s, epoch=1/10, avg_epoch_loss=7.64]\n",
      "100%|██████████| 100/100 [00:01<00:00, 85.50it/s, epoch=2/10, avg_epoch_loss=6.19]\n",
      "100%|██████████| 100/100 [00:01<00:00, 95.67it/s, epoch=3/10, avg_epoch_loss=5.5]\n",
      "100%|██████████| 100/100 [00:01<00:00, 95.07it/s, epoch=4/10, avg_epoch_loss=5.24]\n",
      "100%|██████████| 100/100 [00:01<00:00, 88.99it/s, epoch=5/10, avg_epoch_loss=5.03]\n",
      "100%|██████████| 100/100 [00:01<00:00, 92.92it/s, epoch=6/10, avg_epoch_loss=5.18]\n",
      "100%|██████████| 100/100 [00:01<00:00, 98.97it/s, epoch=7/10, avg_epoch_loss=5.16]\n",
      "100%|██████████| 100/100 [00:01<00:00, 97.60it/s, epoch=8/10, avg_epoch_loss=5.03]\n",
      "100%|██████████| 100/100 [00:01<00:00, 88.97it/s, epoch=9/10, avg_epoch_loss=4.86]\n",
      "100%|██████████| 100/100 [00:01<00:00, 90.53it/s, epoch=10/10, avg_epoch_loss=4.85]\n",
      "Running evaluation: 100%|██████████| 37111/37111 [00:46<00:00, 796.14it/s]\n",
      "  0%|          | 0/100 [00:00<?, ?it/s]"
     ]
    },
    {
     "name": "stdout",
     "output_type": "stream",
     "text": [
      "Updated metrics database: /media/storage/data/shorelines/sensitivity-metrics.csv\n",
      "learning rate from ``lr_scheduler`` has been overwritten by ``learning_rate`` in optimizer.\n"
     ]
    },
    {
     "name": "stderr",
     "output_type": "stream",
     "text": [
      "100%|██████████| 100/100 [00:01<00:00, 84.53it/s, epoch=1/10, avg_epoch_loss=7.83]\n",
      "100%|██████████| 100/100 [00:01<00:00, 93.61it/s, epoch=2/10, avg_epoch_loss=6.21]\n",
      "100%|██████████| 100/100 [00:01<00:00, 95.57it/s, epoch=3/10, avg_epoch_loss=5.49]\n",
      "100%|██████████| 100/100 [00:01<00:00, 82.17it/s, epoch=4/10, avg_epoch_loss=5.3]\n",
      "100%|██████████| 100/100 [00:01<00:00, 95.75it/s, epoch=5/10, avg_epoch_loss=5.05]\n",
      "100%|██████████| 100/100 [00:01<00:00, 93.03it/s, epoch=6/10, avg_epoch_loss=5.29]\n",
      "100%|██████████| 100/100 [00:01<00:00, 88.42it/s, epoch=7/10, avg_epoch_loss=5.23]\n",
      "100%|██████████| 100/100 [00:01<00:00, 92.67it/s, epoch=8/10, avg_epoch_loss=5.08]\n",
      "100%|██████████| 100/100 [00:01<00:00, 94.01it/s, epoch=9/10, avg_epoch_loss=4.96]\n",
      "100%|██████████| 100/100 [00:01<00:00, 97.71it/s, epoch=10/10, avg_epoch_loss=4.96]\n",
      "Running evaluation: 100%|██████████| 37111/37111 [00:46<00:00, 793.22it/s]\n"
     ]
    },
    {
     "name": "stdout",
     "output_type": "stream",
     "text": [
      "Updated metrics database: /media/storage/data/shorelines/sensitivity-metrics.csv\n"
     ]
    },
    {
     "name": "stderr",
     "output_type": "stream",
     "text": [
      "\r",
      "  0%|          | 0/100 [00:00<?, ?it/s]"
     ]
    },
    {
     "name": "stdout",
     "output_type": "stream",
     "text": [
      "learning rate from ``lr_scheduler`` has been overwritten by ``learning_rate`` in optimizer.\n"
     ]
    },
    {
     "name": "stderr",
     "output_type": "stream",
     "text": [
      "100%|██████████| 100/100 [00:01<00:00, 82.84it/s, epoch=1/10, avg_epoch_loss=7.19]\n",
      "100%|██████████| 100/100 [00:02<00:00, 45.73it/s, epoch=2/10, avg_epoch_loss=5.77]\n",
      "100%|██████████| 100/100 [00:01<00:00, 69.65it/s, epoch=3/10, avg_epoch_loss=5.32]\n",
      "100%|██████████| 100/100 [00:01<00:00, 82.50it/s, epoch=4/10, avg_epoch_loss=5.25]\n",
      "100%|██████████| 100/100 [00:01<00:00, 79.21it/s, epoch=5/10, avg_epoch_loss=5.08]\n",
      "100%|██████████| 100/100 [00:01<00:00, 87.17it/s, epoch=6/10, avg_epoch_loss=5.23]\n",
      "100%|██████████| 100/100 [00:01<00:00, 73.42it/s, epoch=7/10, avg_epoch_loss=5.23]\n",
      "100%|██████████| 100/100 [00:01<00:00, 70.67it/s, epoch=8/10, avg_epoch_loss=5.04]\n",
      "100%|██████████| 100/100 [00:01<00:00, 76.44it/s, epoch=9/10, avg_epoch_loss=4.91]\n",
      "100%|██████████| 100/100 [00:01<00:00, 80.26it/s, epoch=10/10, avg_epoch_loss=4.91]\n",
      "Running evaluation: 100%|██████████| 37111/37111 [00:58<00:00, 630.38it/s]\n",
      "  0%|          | 0/100 [00:00<?, ?it/s]"
     ]
    },
    {
     "name": "stdout",
     "output_type": "stream",
     "text": [
      "Updated metrics database: /media/storage/data/shorelines/sensitivity-metrics.csv\n",
      "learning rate from ``lr_scheduler`` has been overwritten by ``learning_rate`` in optimizer.\n"
     ]
    },
    {
     "name": "stderr",
     "output_type": "stream",
     "text": [
      "100%|██████████| 100/100 [00:01<00:00, 76.31it/s, epoch=1/10, avg_epoch_loss=7.92]\n",
      "100%|██████████| 100/100 [00:01<00:00, 87.06it/s, epoch=2/10, avg_epoch_loss=6.28]\n",
      "100%|██████████| 100/100 [00:01<00:00, 89.83it/s, epoch=3/10, avg_epoch_loss=5.63]\n",
      "100%|██████████| 100/100 [00:01<00:00, 89.54it/s, epoch=4/10, avg_epoch_loss=5.41]\n",
      "100%|██████████| 100/100 [00:01<00:00, 89.22it/s, epoch=5/10, avg_epoch_loss=5.25]\n",
      "100%|██████████| 100/100 [00:01<00:00, 92.51it/s, epoch=6/10, avg_epoch_loss=5.4]\n",
      "100%|██████████| 100/100 [00:01<00:00, 81.46it/s, epoch=7/10, avg_epoch_loss=5.39]\n",
      "100%|██████████| 100/100 [00:01<00:00, 87.94it/s, epoch=8/10, avg_epoch_loss=5.19]\n",
      "100%|██████████| 100/100 [00:01<00:00, 84.68it/s, epoch=9/10, avg_epoch_loss=5.05]\n",
      "100%|██████████| 100/100 [00:01<00:00, 97.34it/s, epoch=10/10, avg_epoch_loss=4.99]\n",
      "Running evaluation: 100%|██████████| 37111/37111 [00:47<00:00, 774.98it/s]\n",
      "  0%|          | 0/100 [00:00<?, ?it/s]"
     ]
    },
    {
     "name": "stdout",
     "output_type": "stream",
     "text": [
      "Updated metrics database: /media/storage/data/shorelines/sensitivity-metrics.csv\n",
      "learning rate from ``lr_scheduler`` has been overwritten by ``learning_rate`` in optimizer.\n"
     ]
    },
    {
     "name": "stderr",
     "output_type": "stream",
     "text": [
      "100%|██████████| 100/100 [00:01<00:00, 78.88it/s, epoch=1/10, avg_epoch_loss=7.87]\n",
      "100%|██████████| 100/100 [00:01<00:00, 81.80it/s, epoch=2/10, avg_epoch_loss=6.2]\n",
      "100%|██████████| 100/100 [00:01<00:00, 82.33it/s, epoch=3/10, avg_epoch_loss=5.53]\n",
      "100%|██████████| 100/100 [00:01<00:00, 93.70it/s, epoch=4/10, avg_epoch_loss=5.4]\n",
      "100%|██████████| 100/100 [00:01<00:00, 83.23it/s, epoch=5/10, avg_epoch_loss=5.18]\n",
      "100%|██████████| 100/100 [00:01<00:00, 89.55it/s, epoch=6/10, avg_epoch_loss=5.4]\n",
      "100%|██████████| 100/100 [00:01<00:00, 86.95it/s, epoch=7/10, avg_epoch_loss=5.38]\n",
      "100%|██████████| 100/100 [00:01<00:00, 97.69it/s, epoch=8/10, avg_epoch_loss=5.12]\n",
      "100%|██████████| 100/100 [00:01<00:00, 95.78it/s, epoch=9/10, avg_epoch_loss=5]\n",
      "100%|██████████| 100/100 [00:01<00:00, 96.73it/s, epoch=10/10, avg_epoch_loss=4.99]\n",
      "Running evaluation: 100%|██████████| 37111/37111 [00:53<00:00, 692.18it/s]\n"
     ]
    },
    {
     "name": "stdout",
     "output_type": "stream",
     "text": [
      "Updated metrics database: /media/storage/data/shorelines/sensitivity-metrics.csv\n"
     ]
    },
    {
     "name": "stderr",
     "output_type": "stream",
     "text": [
      "\r",
      "  0%|          | 0/100 [00:00<?, ?it/s]"
     ]
    },
    {
     "name": "stdout",
     "output_type": "stream",
     "text": [
      "learning rate from ``lr_scheduler`` has been overwritten by ``learning_rate`` in optimizer.\n"
     ]
    },
    {
     "name": "stderr",
     "output_type": "stream",
     "text": [
      "100%|██████████| 100/100 [00:01<00:00, 90.90it/s, epoch=1/10, avg_epoch_loss=7.76]\n",
      "100%|██████████| 100/100 [00:01<00:00, 73.62it/s, epoch=2/10, avg_epoch_loss=6.23]\n",
      "100%|██████████| 100/100 [00:01<00:00, 91.04it/s, epoch=3/10, avg_epoch_loss=5.74]\n",
      "100%|██████████| 100/100 [00:01<00:00, 87.49it/s, epoch=4/10, avg_epoch_loss=5.59]\n",
      "100%|██████████| 100/100 [00:01<00:00, 90.67it/s, epoch=5/10, avg_epoch_loss=5.32]\n",
      "100%|██████████| 100/100 [00:01<00:00, 92.03it/s, epoch=6/10, avg_epoch_loss=5.56]\n",
      "100%|██████████| 100/100 [00:01<00:00, 89.32it/s, epoch=7/10, avg_epoch_loss=5.51]\n",
      "100%|██████████| 100/100 [00:01<00:00, 89.82it/s, epoch=8/10, avg_epoch_loss=5.29]\n",
      "100%|██████████| 100/100 [00:01<00:00, 88.92it/s, epoch=9/10, avg_epoch_loss=5.15]\n",
      "100%|██████████| 100/100 [00:01<00:00, 84.02it/s, epoch=10/10, avg_epoch_loss=5.15]\n",
      "Running evaluation: 100%|██████████| 37111/37111 [00:49<00:00, 750.83it/s]\n"
     ]
    },
    {
     "name": "stdout",
     "output_type": "stream",
     "text": [
      "Updated metrics database: /media/storage/data/shorelines/sensitivity-metrics.csv\n"
     ]
    }
   ],
   "source": [
    "for prediction_length in np.arange(1, 12):\n",
    "    metadata['prediction_length'] = prediction_length\n",
    "    train_ds, test_ds = get_gluon_ds()\n",
    "#     test_ds = ListDataset(test_ds.list_data[:200], freq=metadata['freq'])\n",
    "    train_eval_loop()"
   ]
  },
  {
   "cell_type": "code",
   "execution_count": 11,
   "metadata": {},
   "outputs": [],
   "source": [
    "fpath = os.path.join(data_dir, 'sensitivity-metrics.csv')\n",
    "tmp = pd.read_csv(fpath)"
   ]
  },
  {
   "cell_type": "code",
   "execution_count": 16,
   "metadata": {},
   "outputs": [
    {
     "data": {
      "text/plain": [
       "array(['DeepStateEstimator', 'RForecastPredictor',\n",
       "       'SimpleFeedForwardEstimator'], dtype=object)"
      ]
     },
     "execution_count": 16,
     "metadata": {},
     "output_type": "execute_result"
    }
   ],
   "source": [
    "tmp['predictor'].unique()"
   ]
  },
  {
   "cell_type": "code",
   "execution_count": 24,
   "metadata": {},
   "outputs": [
    {
     "data": {
      "text/plain": [
       "11    0.023372\n",
       "23    0.022942\n",
       "24    0.025083\n",
       "25    0.025625\n",
       "26    0.026110\n",
       "27    0.025904\n",
       "28    0.031641\n",
       "29    0.032107\n",
       "30    0.036036\n",
       "31    0.035851\n",
       "32    0.040002\n",
       "33    0.042183\n",
       "34    0.043675\n",
       "35    0.042870\n",
       "36    0.048157\n",
       "Name: MAPE, dtype: float64"
      ]
     },
     "execution_count": 24,
     "metadata": {},
     "output_type": "execute_result"
    }
   ],
   "source": [
    "tmp.loc[tmp['predictor']=='RForecastPredictor']['MAPE']"
   ]
  },
  {
   "cell_type": "code",
   "execution_count": 67,
   "metadata": {},
   "outputs": [],
   "source": [
    "def forecast_transects(transects, dataset, predictor, freq=None, \n",
    "                       prediction_length=None, **kwargs):\n",
    "    \n",
    "    if prediction_length is None:\n",
    "        prediction_length = metadata['prediction_length']\n",
    "        \n",
    "    if freq is None:\n",
    "        freq = metadata['freq']\n",
    "\n",
    "    dataset = ListDataset(\n",
    "        [\n",
    "            i for i in iter(dataset) if i['item_id'] in transects\n",
    "        ], \n",
    "        freq=metadata['freq']\n",
    "    )\n",
    "    return iter(dataset), predictor.predict(dataset)\n",
    "     \n",
    "    \n",
    "duck = [f'BOX_160_055_3{i}' for i in np.arange(42, 50, 1)]    \n",
    "\n",
    "ffn_ts_it, ffn_forecast_it = forecast_transects(\n",
    "    transects=duck,\n",
    "    dataset=test_ds,\n",
    "    predictor=predictor,\n",
    ")"
   ]
  },
  {
   "cell_type": "markdown",
   "metadata": {},
   "source": [
    "### Load model"
   ]
  },
  {
   "cell_type": "code",
   "execution_count": 70,
   "metadata": {},
   "outputs": [
    {
     "data": {
      "text/plain": [
       "<gluonts.model.predictor.RepresentableBlockPredictor at 0x7f11bc2c19d0>"
      ]
     },
     "execution_count": 70,
     "metadata": {},
     "output_type": "execute_result"
    }
   ],
   "source": [
    "from gluonts.model.predictor import Predictor\n",
    "mpath = os.path.join(model_dir, 'SimpleFeedForwardEstimator-176')\n",
    "predictor_deserialized = Predictor.deserialize(Path(mpath))"
   ]
  },
  {
   "cell_type": "markdown",
   "metadata": {},
   "source": [
    "### Plot predictions"
   ]
  },
  {
   "cell_type": "code",
   "execution_count": 31,
   "metadata": {},
   "outputs": [],
   "source": [
    "from matplotlib.ticker import ScalarFormatter, AutoMinorLocator\n",
    "import matplotlib as mpl\n",
    "\n",
    "plt.style.use(os.path.join(configuration_dir, 'PaperSingleFig.mplstyle'))\n",
    "\n",
    "def plot_prob_forecast(ax, ts_entry, fcst_entry):\n",
    "    \n",
    "    prediction_intervals = (50.0, 90.0)\n",
    "    legend = [f\"{ts_entry['item_id']}\", \"median prediction\"] + [f\"{k}% prediction interval\" for k in prediction_intervals][::-1]\n",
    "    \n",
    "    ts_idx = pd.date_range(\n",
    "        start=ts_entry[\"start\"],\n",
    "        periods=len(ts_entry[\"target\"]),\n",
    "        freq=\"AS\"\n",
    "    )\n",
    "    \n",
    "    ts = pd.Series(ts_entry[\"target\"], index=ts_idx)\n",
    "    ts.plot(ax=ax)  # plot the time series\n",
    "    \n",
    "    fcst_entry.plot(\n",
    "        prediction_intervals=prediction_intervals,\n",
    "        color='g'\n",
    "    ) \n",
    "    \n",
    "    ax.set_ylabel('Relative shoreline position (m)')\n",
    "    ax.set_xlabel('Time (yrs)')\n",
    "    ax.grid(which=\"both\")\n",
    "    ax.legend(legend, loc=\"upper left\")\n",
    "    \n",
    "    return ax\n"
   ]
  },
  {
   "cell_type": "code",
   "execution_count": 68,
   "metadata": {},
   "outputs": [
    {
     "data": {
      "image/png": "[encoded data removed]",
      "text/plain": [
       "<Figure size 518.4x320.4 with 1 Axes>"
      ]
     },
     "metadata": {
      "needs_background": "light"
     },
     "output_type": "display_data"
    }
   ],
   "source": [
    "fig, ax = plt.subplots()\n",
    "plot_prob_forecast(ax, next(ffn_ts_it), next(ffn_forecast_it))\n",
    "# plt.savefig(os.path.join(report_dir, 'images/ffn.pdf'), dpi=300)\n",
    "plt.show()"
   ]
  },
  {
   "cell_type": "code",
   "execution_count": null,
   "metadata": {},
   "outputs": [],
   "source": []
  }
 ],
 "metadata": {
  "kernelspec": {
   "display_name": "Python 3",
   "language": "python",
   "name": "python3"
  },
  "language_info": {
   "codemirror_mode": {
    "name": "ipython",
    "version": 3
   },
   "file_extension": ".py",
   "mimetype": "text/x-python",
   "name": "python",
   "nbconvert_exporter": "python",
   "pygments_lexer": "ipython3",
   "version": "3.8.5"
  }
 },
 "nbformat": 4,
 "nbformat_minor": 4
}

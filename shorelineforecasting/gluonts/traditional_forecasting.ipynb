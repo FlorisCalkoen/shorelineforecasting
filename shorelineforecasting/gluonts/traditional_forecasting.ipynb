{
 "cells": [
  {
   "cell_type": "code",
   "execution_count": 1,
   "metadata": {
    "id": "p-pJAMD5gTih"
   },
   "outputs": [],
   "source": [
    "import os\n",
    "\n",
    "import numpy as np\n",
    "import matplotlib.pyplot as plt\n",
    "import pandas as pd\n",
    "import mxnet as mx\n",
    "from mxnet import gluon\n",
    "\n",
    "import project_path\n",
    "from project_path import (\n",
    "    module_path,\n",
    "    configuration_dir, \n",
    "    data_dir, \n",
    "    report_dir,\n",
    "    model_dir\n",
    ")\n",
    "from shorelineforecasting.utils.configs import GluonConfigs\n",
    "\n",
    "\n"
   ]
  },
  {
   "cell_type": "code",
   "execution_count": 2,
   "metadata": {
    "colab": {
     "base_uri": "https://localhost:8080/",
     "height": 51
    },
    "id": "OsfvpejjgnQ0",
    "outputId": "439122b5-4a5f-4418-9aad-e247ae07f575"
   },
   "outputs": [
    {
     "name": "stdout",
     "output_type": "stream",
     "text": [
      "Transects included in dataset: 37111; timesteps: 33\n"
     ]
    },
    {
     "data": {
      "text/html": [
       "<div>\n",
       "<style scoped>\n",
       "    .dataframe tbody tr th:only-of-type {\n",
       "        vertical-align: middle;\n",
       "    }\n",
       "\n",
       "    .dataframe tbody tr th {\n",
       "        vertical-align: top;\n",
       "    }\n",
       "\n",
       "    .dataframe thead th {\n",
       "        text-align: right;\n",
       "    }\n",
       "</style>\n",
       "<table border=\"1\" class=\"dataframe\">\n",
       "  <thead>\n",
       "    <tr style=\"text-align: right;\">\n",
       "      <th></th>\n",
       "      <th>1984</th>\n",
       "      <th>1985</th>\n",
       "      <th>1986</th>\n",
       "      <th>1987</th>\n",
       "      <th>1988</th>\n",
       "      <th>1989</th>\n",
       "      <th>1990</th>\n",
       "      <th>1991</th>\n",
       "      <th>1992</th>\n",
       "      <th>1993</th>\n",
       "      <th>...</th>\n",
       "      <th>2007</th>\n",
       "      <th>2008</th>\n",
       "      <th>2009</th>\n",
       "      <th>2010</th>\n",
       "      <th>2011</th>\n",
       "      <th>2012</th>\n",
       "      <th>2013</th>\n",
       "      <th>2014</th>\n",
       "      <th>2015</th>\n",
       "      <th>2016</th>\n",
       "    </tr>\n",
       "    <tr>\n",
       "      <th>transect_id</th>\n",
       "      <th></th>\n",
       "      <th></th>\n",
       "      <th></th>\n",
       "      <th></th>\n",
       "      <th></th>\n",
       "      <th></th>\n",
       "      <th></th>\n",
       "      <th></th>\n",
       "      <th></th>\n",
       "      <th></th>\n",
       "      <th></th>\n",
       "      <th></th>\n",
       "      <th></th>\n",
       "      <th></th>\n",
       "      <th></th>\n",
       "      <th></th>\n",
       "      <th></th>\n",
       "      <th></th>\n",
       "      <th></th>\n",
       "      <th></th>\n",
       "      <th></th>\n",
       "    </tr>\n",
       "  </thead>\n",
       "  <tbody>\n",
       "    <tr>\n",
       "      <th>BOX_051_151_15</th>\n",
       "      <td>677.32043</td>\n",
       "      <td>695.66370</td>\n",
       "      <td>713.29486</td>\n",
       "      <td>682.1743</td>\n",
       "      <td>688.23425</td>\n",
       "      <td>672.13007</td>\n",
       "      <td>700.43286</td>\n",
       "      <td>693.43460</td>\n",
       "      <td>699.38560</td>\n",
       "      <td>687.97950</td>\n",
       "      <td>...</td>\n",
       "      <td>700.6640</td>\n",
       "      <td>712.41740</td>\n",
       "      <td>708.45123</td>\n",
       "      <td>740.33240</td>\n",
       "      <td>680.42510</td>\n",
       "      <td>758.35150</td>\n",
       "      <td>754.49695</td>\n",
       "      <td>763.04297</td>\n",
       "      <td>743.29680</td>\n",
       "      <td>779.41570</td>\n",
       "    </tr>\n",
       "    <tr>\n",
       "      <th>BOX_051_151_18</th>\n",
       "      <td>768.93800</td>\n",
       "      <td>769.23883</td>\n",
       "      <td>762.44300</td>\n",
       "      <td>755.8622</td>\n",
       "      <td>761.79663</td>\n",
       "      <td>760.51710</td>\n",
       "      <td>763.30505</td>\n",
       "      <td>761.81360</td>\n",
       "      <td>769.22100</td>\n",
       "      <td>765.47060</td>\n",
       "      <td>...</td>\n",
       "      <td>763.1057</td>\n",
       "      <td>759.72600</td>\n",
       "      <td>766.23150</td>\n",
       "      <td>770.77130</td>\n",
       "      <td>798.26830</td>\n",
       "      <td>797.99615</td>\n",
       "      <td>803.90950</td>\n",
       "      <td>797.90780</td>\n",
       "      <td>798.18830</td>\n",
       "      <td>803.68256</td>\n",
       "    </tr>\n",
       "    <tr>\n",
       "      <th>BOX_051_151_21</th>\n",
       "      <td>711.41626</td>\n",
       "      <td>684.20540</td>\n",
       "      <td>695.49817</td>\n",
       "      <td>701.6695</td>\n",
       "      <td>705.29990</td>\n",
       "      <td>703.61470</td>\n",
       "      <td>707.69403</td>\n",
       "      <td>692.90360</td>\n",
       "      <td>704.68280</td>\n",
       "      <td>704.99945</td>\n",
       "      <td>...</td>\n",
       "      <td>825.8698</td>\n",
       "      <td>820.51720</td>\n",
       "      <td>820.68680</td>\n",
       "      <td>842.18097</td>\n",
       "      <td>850.45460</td>\n",
       "      <td>775.96700</td>\n",
       "      <td>883.04240</td>\n",
       "      <td>867.92426</td>\n",
       "      <td>877.37415</td>\n",
       "      <td>874.50244</td>\n",
       "    </tr>\n",
       "    <tr>\n",
       "      <th>BOX_051_151_30</th>\n",
       "      <td>795.81573</td>\n",
       "      <td>820.63700</td>\n",
       "      <td>799.72380</td>\n",
       "      <td>799.8664</td>\n",
       "      <td>823.56260</td>\n",
       "      <td>822.07300</td>\n",
       "      <td>823.56800</td>\n",
       "      <td>823.73300</td>\n",
       "      <td>824.58400</td>\n",
       "      <td>824.33360</td>\n",
       "      <td>...</td>\n",
       "      <td>823.7820</td>\n",
       "      <td>823.15674</td>\n",
       "      <td>823.65790</td>\n",
       "      <td>821.31860</td>\n",
       "      <td>818.85803</td>\n",
       "      <td>817.31220</td>\n",
       "      <td>822.92970</td>\n",
       "      <td>818.73350</td>\n",
       "      <td>822.18480</td>\n",
       "      <td>818.73480</td>\n",
       "    </tr>\n",
       "    <tr>\n",
       "      <th>BOX_051_151_32</th>\n",
       "      <td>242.70204</td>\n",
       "      <td>238.05159</td>\n",
       "      <td>229.93718</td>\n",
       "      <td>244.0620</td>\n",
       "      <td>247.68105</td>\n",
       "      <td>257.49900</td>\n",
       "      <td>302.69217</td>\n",
       "      <td>301.27722</td>\n",
       "      <td>301.12033</td>\n",
       "      <td>316.40414</td>\n",
       "      <td>...</td>\n",
       "      <td>301.1231</td>\n",
       "      <td>313.63553</td>\n",
       "      <td>313.09814</td>\n",
       "      <td>312.90347</td>\n",
       "      <td>306.18658</td>\n",
       "      <td>294.18326</td>\n",
       "      <td>297.23654</td>\n",
       "      <td>302.88650</td>\n",
       "      <td>323.85840</td>\n",
       "      <td>304.36823</td>\n",
       "    </tr>\n",
       "  </tbody>\n",
       "</table>\n",
       "<p>5 rows × 33 columns</p>\n",
       "</div>"
      ],
      "text/plain": [
       "                     1984       1985       1986      1987       1988  \\\n",
       "transect_id                                                            \n",
       "BOX_051_151_15  677.32043  695.66370  713.29486  682.1743  688.23425   \n",
       "BOX_051_151_18  768.93800  769.23883  762.44300  755.8622  761.79663   \n",
       "BOX_051_151_21  711.41626  684.20540  695.49817  701.6695  705.29990   \n",
       "BOX_051_151_30  795.81573  820.63700  799.72380  799.8664  823.56260   \n",
       "BOX_051_151_32  242.70204  238.05159  229.93718  244.0620  247.68105   \n",
       "\n",
       "                     1989       1990       1991       1992       1993  ...  \\\n",
       "transect_id                                                            ...   \n",
       "BOX_051_151_15  672.13007  700.43286  693.43460  699.38560  687.97950  ...   \n",
       "BOX_051_151_18  760.51710  763.30505  761.81360  769.22100  765.47060  ...   \n",
       "BOX_051_151_21  703.61470  707.69403  692.90360  704.68280  704.99945  ...   \n",
       "BOX_051_151_30  822.07300  823.56800  823.73300  824.58400  824.33360  ...   \n",
       "BOX_051_151_32  257.49900  302.69217  301.27722  301.12033  316.40414  ...   \n",
       "\n",
       "                    2007       2008       2009       2010       2011  \\\n",
       "transect_id                                                            \n",
       "BOX_051_151_15  700.6640  712.41740  708.45123  740.33240  680.42510   \n",
       "BOX_051_151_18  763.1057  759.72600  766.23150  770.77130  798.26830   \n",
       "BOX_051_151_21  825.8698  820.51720  820.68680  842.18097  850.45460   \n",
       "BOX_051_151_30  823.7820  823.15674  823.65790  821.31860  818.85803   \n",
       "BOX_051_151_32  301.1231  313.63553  313.09814  312.90347  306.18658   \n",
       "\n",
       "                     2012       2013       2014       2015       2016  \n",
       "transect_id                                                            \n",
       "BOX_051_151_15  758.35150  754.49695  763.04297  743.29680  779.41570  \n",
       "BOX_051_151_18  797.99615  803.90950  797.90780  798.18830  803.68256  \n",
       "BOX_051_151_21  775.96700  883.04240  867.92426  877.37415  874.50244  \n",
       "BOX_051_151_30  817.31220  822.92970  818.73350  822.18480  818.73480  \n",
       "BOX_051_151_32  294.18326  297.23654  302.88650  323.85840  304.36823  \n",
       "\n",
       "[5 rows x 33 columns]"
      ]
     },
     "execution_count": 2,
     "metadata": {},
     "output_type": "execute_result"
    }
   ],
   "source": [
    "tf = GluonConfigs.load_data()\n",
    "tf = tf.set_index('transect_id')\n",
    "tf = tf.dropna(thresh=33)\n",
    "print(f\"Transects included in dataset: {tf.shape[0]}; timesteps: {tf.shape[1]}\")\n",
    "tf.head()"
   ]
  },
  {
   "cell_type": "code",
   "execution_count": 3,
   "metadata": {
    "colab": {
     "base_uri": "https://localhost:8080/",
     "height": 272
    },
    "id": "r7gg9BPphBzb",
    "outputId": "26fc9619-4f1e-4f02-cf61-e53d06f2c416"
   },
   "outputs": [
    {
     "name": "stdout",
     "output_type": "stream",
     "text": [
      "Transects included in dataset: 37111; metadata columns: 27\n"
     ]
    },
    {
     "data": {
      "text/html": [
       "<div>\n",
       "<style scoped>\n",
       "    .dataframe tbody tr th:only-of-type {\n",
       "        vertical-align: middle;\n",
       "    }\n",
       "\n",
       "    .dataframe tbody tr th {\n",
       "        vertical-align: top;\n",
       "    }\n",
       "\n",
       "    .dataframe thead th {\n",
       "        text-align: right;\n",
       "    }\n",
       "</style>\n",
       "<table border=\"1\" class=\"dataframe\">\n",
       "  <thead>\n",
       "    <tr style=\"text-align: right;\">\n",
       "      <th></th>\n",
       "      <th>transect_id</th>\n",
       "      <th>country_id</th>\n",
       "      <th>continent</th>\n",
       "      <th>country_name</th>\n",
       "      <th>changerate</th>\n",
       "      <th>changerate_unc</th>\n",
       "      <th>flag_sandy</th>\n",
       "      <th>no_shorelines</th>\n",
       "      <th>RMSE</th>\n",
       "      <th>Timespan</th>\n",
       "      <th>...</th>\n",
       "      <th>Start_lat</th>\n",
       "      <th>Intersect_lon</th>\n",
       "      <th>Intersect_lat</th>\n",
       "      <th>End_lon</th>\n",
       "      <th>End_lat</th>\n",
       "      <th>coastline_idint</th>\n",
       "      <th>geometry</th>\n",
       "      <th>dbscan_cluster</th>\n",
       "      <th>fcluster</th>\n",
       "      <th>optics_clusters</th>\n",
       "    </tr>\n",
       "  </thead>\n",
       "  <tbody>\n",
       "    <tr>\n",
       "      <th>0</th>\n",
       "      <td>BOX_051_170_3</td>\n",
       "      <td>ARG</td>\n",
       "      <td>South America</td>\n",
       "      <td>Argentina</td>\n",
       "      <td>0.389332</td>\n",
       "      <td>0.344834</td>\n",
       "      <td>True</td>\n",
       "      <td>33.0</td>\n",
       "      <td>18.281954</td>\n",
       "      <td>32.0</td>\n",
       "      <td>...</td>\n",
       "      <td>-36.378387</td>\n",
       "      <td>-56.709120</td>\n",
       "      <td>-36.376892</td>\n",
       "      <td>-56.700333</td>\n",
       "      <td>-36.375397</td>\n",
       "      <td>7427</td>\n",
       "      <td>POINT (-56.70912170410156 -36.37689208984375)</td>\n",
       "      <td>0</td>\n",
       "      <td>2455</td>\n",
       "      <td>0</td>\n",
       "    </tr>\n",
       "    <tr>\n",
       "      <th>1</th>\n",
       "      <td>BOX_051_170_4</td>\n",
       "      <td>ARG</td>\n",
       "      <td>South America</td>\n",
       "      <td>Argentina</td>\n",
       "      <td>0.501007</td>\n",
       "      <td>0.390176</td>\n",
       "      <td>True</td>\n",
       "      <td>33.0</td>\n",
       "      <td>20.685827</td>\n",
       "      <td>32.0</td>\n",
       "      <td>...</td>\n",
       "      <td>-36.374847</td>\n",
       "      <td>-56.710050</td>\n",
       "      <td>-36.373356</td>\n",
       "      <td>-56.701260</td>\n",
       "      <td>-36.371860</td>\n",
       "      <td>7427</td>\n",
       "      <td>POINT (-56.71004867553711 -36.37335586547852)</td>\n",
       "      <td>0</td>\n",
       "      <td>2455</td>\n",
       "      <td>0</td>\n",
       "    </tr>\n",
       "    <tr>\n",
       "      <th>2</th>\n",
       "      <td>BOX_051_170_5</td>\n",
       "      <td>ARG</td>\n",
       "      <td>South America</td>\n",
       "      <td>Argentina</td>\n",
       "      <td>0.831012</td>\n",
       "      <td>0.331491</td>\n",
       "      <td>True</td>\n",
       "      <td>33.0</td>\n",
       "      <td>17.574545</td>\n",
       "      <td>32.0</td>\n",
       "      <td>...</td>\n",
       "      <td>-36.371933</td>\n",
       "      <td>-56.711193</td>\n",
       "      <td>-36.369860</td>\n",
       "      <td>-56.702587</td>\n",
       "      <td>-36.367786</td>\n",
       "      <td>7427</td>\n",
       "      <td>POINT (-56.7111930847168 -36.3698616027832)</td>\n",
       "      <td>0</td>\n",
       "      <td>2455</td>\n",
       "      <td>0</td>\n",
       "    </tr>\n",
       "    <tr>\n",
       "      <th>3</th>\n",
       "      <td>BOX_051_170_6</td>\n",
       "      <td>ARG</td>\n",
       "      <td>South America</td>\n",
       "      <td>Argentina</td>\n",
       "      <td>1.471142</td>\n",
       "      <td>0.277497</td>\n",
       "      <td>True</td>\n",
       "      <td>33.0</td>\n",
       "      <td>14.711926</td>\n",
       "      <td>32.0</td>\n",
       "      <td>...</td>\n",
       "      <td>-36.368470</td>\n",
       "      <td>-56.712482</td>\n",
       "      <td>-36.366394</td>\n",
       "      <td>-56.703876</td>\n",
       "      <td>-36.364323</td>\n",
       "      <td>7427</td>\n",
       "      <td>POINT (-56.71248245239258 -36.36639404296875)</td>\n",
       "      <td>0</td>\n",
       "      <td>2455</td>\n",
       "      <td>0</td>\n",
       "    </tr>\n",
       "    <tr>\n",
       "      <th>4</th>\n",
       "      <td>BOX_051_170_7</td>\n",
       "      <td>ARG</td>\n",
       "      <td>South America</td>\n",
       "      <td>Argentina</td>\n",
       "      <td>2.159336</td>\n",
       "      <td>0.288062</td>\n",
       "      <td>True</td>\n",
       "      <td>33.0</td>\n",
       "      <td>15.272047</td>\n",
       "      <td>32.0</td>\n",
       "      <td>...</td>\n",
       "      <td>-36.365000</td>\n",
       "      <td>-56.713768</td>\n",
       "      <td>-36.362930</td>\n",
       "      <td>-56.705162</td>\n",
       "      <td>-36.360855</td>\n",
       "      <td>7427</td>\n",
       "      <td>POINT (-56.71376800537109 -36.36293029785156)</td>\n",
       "      <td>0</td>\n",
       "      <td>2455</td>\n",
       "      <td>0</td>\n",
       "    </tr>\n",
       "  </tbody>\n",
       "</table>\n",
       "<p>5 rows × 27 columns</p>\n",
       "</div>"
      ],
      "text/plain": [
       "     transect_id country_id      continent country_name  changerate  \\\n",
       "0  BOX_051_170_3        ARG  South America    Argentina    0.389332   \n",
       "1  BOX_051_170_4        ARG  South America    Argentina    0.501007   \n",
       "2  BOX_051_170_5        ARG  South America    Argentina    0.831012   \n",
       "3  BOX_051_170_6        ARG  South America    Argentina    1.471142   \n",
       "4  BOX_051_170_7        ARG  South America    Argentina    2.159336   \n",
       "\n",
       "   changerate_unc  flag_sandy  no_shorelines       RMSE  Timespan  ...  \\\n",
       "0        0.344834        True           33.0  18.281954      32.0  ...   \n",
       "1        0.390176        True           33.0  20.685827      32.0  ...   \n",
       "2        0.331491        True           33.0  17.574545      32.0  ...   \n",
       "3        0.277497        True           33.0  14.711926      32.0  ...   \n",
       "4        0.288062        True           33.0  15.272047      32.0  ...   \n",
       "\n",
       "   Start_lat  Intersect_lon  Intersect_lat    End_lon    End_lat  \\\n",
       "0 -36.378387     -56.709120     -36.376892 -56.700333 -36.375397   \n",
       "1 -36.374847     -56.710050     -36.373356 -56.701260 -36.371860   \n",
       "2 -36.371933     -56.711193     -36.369860 -56.702587 -36.367786   \n",
       "3 -36.368470     -56.712482     -36.366394 -56.703876 -36.364323   \n",
       "4 -36.365000     -56.713768     -36.362930 -56.705162 -36.360855   \n",
       "\n",
       "   coastline_idint                                       geometry  \\\n",
       "0             7427  POINT (-56.70912170410156 -36.37689208984375)   \n",
       "1             7427  POINT (-56.71004867553711 -36.37335586547852)   \n",
       "2             7427    POINT (-56.7111930847168 -36.3698616027832)   \n",
       "3             7427  POINT (-56.71248245239258 -36.36639404296875)   \n",
       "4             7427  POINT (-56.71376800537109 -36.36293029785156)   \n",
       "\n",
       "   dbscan_cluster  fcluster  optics_clusters  \n",
       "0               0      2455                0  \n",
       "1               0      2455                0  \n",
       "2               0      2455                0  \n",
       "3               0      2455                0  \n",
       "4               0      2455                0  \n",
       "\n",
       "[5 rows x 27 columns]"
      ]
     },
     "execution_count": 3,
     "metadata": {},
     "output_type": "execute_result"
    }
   ],
   "source": [
    "sites = pd.read_csv(\"/media/storage/data/shorelines/sites-gluonts-prepared-37k.csv\")\n",
    "sites = sites.loc[sites['transect_id'].isin(tf.index)]\n",
    "print(f\"Transects included in dataset: {sites.shape[0]}; metadata columns: {sites.shape[1]}\")\n",
    "sites.head()"
   ]
  },
  {
   "cell_type": "code",
   "execution_count": 4,
   "metadata": {
    "id": "g9YJLBtJlWQ_"
   },
   "outputs": [],
   "source": [
    "metadata = {\n",
    "    'num_series': len(tf),\n",
    "    'num_steps': len(tf.columns),\n",
    "    'prediction_length': 7,\n",
    "    'context_length': 11,\n",
    "    'freq': \"AS\",\n",
    "    'start': [pd.Timestamp(\"01-01-1984\", freq='AS') for _ in range(len(tf))],\n",
    "    'item_id': tf.index.values,\n",
    "    'method_names': [\"ets\", \"arima\"],\n",
    "    'epochs': 10,\n",
    "    'save_model': False,\n",
    "    'evaluate_model': True\n",
    "}\n"
   ]
  },
  {
   "cell_type": "code",
   "execution_count": 5,
   "metadata": {
    "id": "H5Mf1l5iljU7"
   },
   "outputs": [],
   "source": [
    "from gluonts.dataset.common import ListDataset\n",
    "from gluonts.dataset.field_names import FieldName\n",
    "\n",
    "\n",
    "def get_gluon_ds():\n",
    "\n",
    "    train_ds = ListDataset(\n",
    "        [\n",
    "         {\n",
    "             FieldName.TARGET: target,\n",
    "             FieldName.START: start,\n",
    "             FieldName.ITEM_ID: item_id,\n",
    "             FieldName.FEAT_STATIC_CAT: [fclust, dbclust],\n",
    "             FieldName.FEAT_STATIC_REAL: [fsr]\n",
    "          }\n",
    "\n",
    "         for (target, start, item_id, fclust, dbclust, fsr) in zip(tf.values[:, :-metadata['prediction_length']],\n",
    "                                            metadata['start'], \n",
    "                                            metadata['item_id'],\n",
    "                                            sites['fcluster'].values,\n",
    "                                            sites['dbscan_cluster'].values,\n",
    "                                            sites['changerate_unc'].values)\n",
    "        ], freq=metadata['freq'])\n",
    "\n",
    "    test_ds = ListDataset(\n",
    "        [\n",
    "         {\n",
    "             FieldName.TARGET: target,\n",
    "             FieldName.START: start,\n",
    "             FieldName.ITEM_ID: item_id,\n",
    "             FieldName.FEAT_STATIC_CAT: [fclust, dbclust],\n",
    "             FieldName.FEAT_STATIC_REAL: [fsr]\n",
    "          }\n",
    "\n",
    "         for (target, start, item_id, fclust, dbclust, fsr) in zip(tf.values,\n",
    "                                            metadata['start'], \n",
    "                                            metadata['item_id'],\n",
    "                                            sites['fcluster'].values,\n",
    "                                            sites['dbscan_cluster'].values,\n",
    "                                            sites['changerate_unc'].values)\n",
    "        ], freq=metadata['freq'])\n",
    "          \n",
    "    return train_ds, test_ds"
   ]
  },
  {
   "cell_type": "code",
   "execution_count": 6,
   "metadata": {},
   "outputs": [],
   "source": [
    "import inspect\n",
    "from pathlib import Path\n",
    "\n",
    "from gluonts.model.r_forecast import RForecastPredictor\n",
    "from gluonts.trainer import Trainer\n",
    "from gluonts.evaluation import Evaluator\n",
    "from gluonts.evaluation.backtest import make_evaluation_predictions\n",
    "\n",
    "from shorelineforecasting.utils.configs import get_predictor_id\n",
    "\n",
    "\n",
    "def get_cls_attributes(cls):\n",
    "    attributes = inspect.getmembers(cls, lambda x: not(inspect.isroutine(x)))\n",
    "    attributes = [a for a in attributes if not(a[0].startswith('__') and a[0].endswith('__'))]\n",
    "    return dict(attributes)\n",
    "\n",
    "\n",
    "def get_hyperparams(estimator, predictor_id):\n",
    "    predictor = type(estimator).__name__\n",
    "    estimator_attr = get_cls_attributes(estimator)\n",
    "    if predictor == \"RForecastPredictor\":\n",
    "        estimator_attr['predictor'] = predictor\n",
    "        estimator_attr['predictor_id'] = predictor_id\n",
    "        return dict(estimator_attr)\n",
    "    trainer_attr = get_cls_attributes(estimator_attr['trainer'])\n",
    "    attributes = {**estimator_attr, **trainer_attr}\n",
    "    attributes.pop('trainer', None)\n",
    "    attributes['predictor'] = predictor\n",
    "    attributes['predictor_id'] = predictor_id\n",
    "    return dict(attributes)\n",
    "\n",
    "\n",
    "def to_model_database(attributes):\n",
    "    fpath = os.path.join(data_dir, 'sensitivity-metrics.csv')\n",
    "    if not os.path.exists(fpath):\n",
    "        pd.DataFrame([attributes]).to_csv(fpath, header=True, index=False)\n",
    "        return print(f\"Created metrics database: {fpath}\")\n",
    "    params = pd.read_csv(fpath)\n",
    "    to_add_params = pd.DataFrame([attributes])\n",
    "    updated_params = pd.concat([params, to_add_params], axis=0, ignore_index=True)\n",
    "    updated_params.to_csv(fpath, header=True, index=False)\n",
    "    return print(f\"Updated metrics database: {fpath}\")\n",
    "      \n",
    "        \n",
    "def eval_loop(method):\n",
    "    estimator = RForecastPredictor(\n",
    "        freq=metadata['freq'],  \n",
    "        prediction_length=metadata['prediction_length'],\n",
    "        method_name = method\n",
    "        )\n",
    "    \n",
    "    predictor_id = get_predictor_id()\n",
    "    attributes = get_hyperparams(estimator, predictor_id)\n",
    "\n",
    "    if metadata['evaluate_model'] is True:\n",
    "        forecast_it, ts_it = make_evaluation_predictions(\n",
    "            test_ds, predictor=estimator, num_samples=100\n",
    "        )\n",
    "        agg_metrics, item_metrics = Evaluator()(\n",
    "            ts_it, forecast_it, num_series=len(test_ds)\n",
    "        )\n",
    "        attributes = {**attributes, **agg_metrics}\n",
    "\n",
    "    to_model_database(attributes) \n",
    "  "
   ]
  },
  {
   "cell_type": "code",
   "execution_count": 7,
   "metadata": {},
   "outputs": [
    {
     "name": "stderr",
     "output_type": "stream",
     "text": [
      "/media/storage/dev/shorelineforecasting/shorelineforecasting/venv/lib/python3.8/site-packages/rpy2/rinterface/__init__.py:146: RRuntimeWarning: Registered S3 method overwritten by 'quantmod':\n",
      "  method            from\n",
      "  as.zoo.data.frame zoo \n",
      "\n",
      "  warnings.warn(x, RRuntimeWarning)\n",
      "Running evaluation: 100%|██████████| 37111/37111 [12:12<00:00, 50.68it/s]\n"
     ]
    },
    {
     "name": "stdout",
     "output_type": "stream",
     "text": [
      "Updated metrics database: /media/storage/data/shorelines/sensitivity-metrics.csv\n"
     ]
    },
    {
     "name": "stderr",
     "output_type": "stream",
     "text": [
      "Running evaluation: 100%|██████████| 37111/37111 [1:35:27<00:00,  6.48it/s]\n"
     ]
    },
    {
     "name": "stdout",
     "output_type": "stream",
     "text": [
      "Updated metrics database: /media/storage/data/shorelines/sensitivity-metrics.csv\n"
     ]
    },
    {
     "name": "stderr",
     "output_type": "stream",
     "text": [
      "Running evaluation: 100%|██████████| 37111/37111 [11:33<00:00, 53.55it/s]\n"
     ]
    },
    {
     "name": "stdout",
     "output_type": "stream",
     "text": [
      "Updated metrics database: /media/storage/data/shorelines/sensitivity-metrics.csv\n"
     ]
    },
    {
     "name": "stderr",
     "output_type": "stream",
     "text": [
      "Running evaluation: 100%|██████████| 37111/37111 [1:08:16<00:00,  9.06it/s]\n"
     ]
    },
    {
     "name": "stdout",
     "output_type": "stream",
     "text": [
      "Updated metrics database: /media/storage/data/shorelines/sensitivity-metrics.csv\n"
     ]
    },
    {
     "name": "stderr",
     "output_type": "stream",
     "text": [
      "Running evaluation: 100%|██████████| 37111/37111 [11:33<00:00, 53.55it/s]\n"
     ]
    },
    {
     "name": "stdout",
     "output_type": "stream",
     "text": [
      "Updated metrics database: /media/storage/data/shorelines/sensitivity-metrics.csv\n"
     ]
    },
    {
     "name": "stderr",
     "output_type": "stream",
     "text": [
      "Running evaluation: 100%|██████████| 37111/37111 [1:07:19<00:00,  9.19it/s]\n"
     ]
    },
    {
     "name": "stdout",
     "output_type": "stream",
     "text": [
      "Updated metrics database: /media/storage/data/shorelines/sensitivity-metrics.csv\n"
     ]
    },
    {
     "name": "stderr",
     "output_type": "stream",
     "text": [
      "Running evaluation: 100%|██████████| 37111/37111 [11:27<00:00, 53.97it/s]\n"
     ]
    },
    {
     "name": "stdout",
     "output_type": "stream",
     "text": [
      "Updated metrics database: /media/storage/data/shorelines/sensitivity-metrics.csv\n"
     ]
    },
    {
     "name": "stderr",
     "output_type": "stream",
     "text": [
      "Running evaluation: 100%|██████████| 37111/37111 [1:06:35<00:00,  9.29it/s]\n"
     ]
    },
    {
     "name": "stdout",
     "output_type": "stream",
     "text": [
      "Updated metrics database: /media/storage/data/shorelines/sensitivity-metrics.csv\n"
     ]
    },
    {
     "name": "stderr",
     "output_type": "stream",
     "text": [
      "Running evaluation: 100%|██████████| 37111/37111 [11:31<00:00, 53.67it/s]\n"
     ]
    },
    {
     "name": "stdout",
     "output_type": "stream",
     "text": [
      "Updated metrics database: /media/storage/data/shorelines/sensitivity-metrics.csv\n"
     ]
    },
    {
     "name": "stderr",
     "output_type": "stream",
     "text": [
      "Running evaluation: 100%|██████████| 37111/37111 [1:05:23<00:00,  9.46it/s]\n"
     ]
    },
    {
     "name": "stdout",
     "output_type": "stream",
     "text": [
      "Updated metrics database: /media/storage/data/shorelines/sensitivity-metrics.csv\n"
     ]
    },
    {
     "name": "stderr",
     "output_type": "stream",
     "text": [
      "Running evaluation: 100%|██████████| 37111/37111 [11:30<00:00, 53.78it/s]\n"
     ]
    },
    {
     "name": "stdout",
     "output_type": "stream",
     "text": [
      "Updated metrics database: /media/storage/data/shorelines/sensitivity-metrics.csv\n"
     ]
    },
    {
     "name": "stderr",
     "output_type": "stream",
     "text": [
      "Running evaluation: 100%|██████████| 37111/37111 [1:05:12<00:00,  9.49it/s]\n"
     ]
    },
    {
     "name": "stdout",
     "output_type": "stream",
     "text": [
      "Updated metrics database: /media/storage/data/shorelines/sensitivity-metrics.csv\n"
     ]
    },
    {
     "name": "stderr",
     "output_type": "stream",
     "text": [
      "Running evaluation: 100%|██████████| 37111/37111 [11:30<00:00, 53.71it/s]\n"
     ]
    },
    {
     "name": "stdout",
     "output_type": "stream",
     "text": [
      "Updated metrics database: /media/storage/data/shorelines/sensitivity-metrics.csv\n"
     ]
    },
    {
     "name": "stderr",
     "output_type": "stream",
     "text": [
      "Running evaluation: 100%|██████████| 37111/37111 [1:04:00<00:00,  9.66it/s]\n"
     ]
    },
    {
     "name": "stdout",
     "output_type": "stream",
     "text": [
      "Updated metrics database: /media/storage/data/shorelines/sensitivity-metrics.csv\n"
     ]
    },
    {
     "name": "stderr",
     "output_type": "stream",
     "text": [
      "Running evaluation: 100%|██████████| 37111/37111 [11:37<00:00, 53.24it/s]\n"
     ]
    },
    {
     "name": "stdout",
     "output_type": "stream",
     "text": [
      "Updated metrics database: /media/storage/data/shorelines/sensitivity-metrics.csv\n"
     ]
    },
    {
     "name": "stderr",
     "output_type": "stream",
     "text": [
      "Running evaluation: 100%|██████████| 37111/37111 [1:04:41<00:00,  9.56it/s]\n"
     ]
    },
    {
     "name": "stdout",
     "output_type": "stream",
     "text": [
      "Updated metrics database: /media/storage/data/shorelines/sensitivity-metrics.csv\n"
     ]
    },
    {
     "name": "stderr",
     "output_type": "stream",
     "text": [
      "Running evaluation: 100%|██████████| 37111/37111 [12:57<00:00, 47.76it/s]\n"
     ]
    },
    {
     "name": "stdout",
     "output_type": "stream",
     "text": [
      "Updated metrics database: /media/storage/data/shorelines/sensitivity-metrics.csv\n"
     ]
    },
    {
     "name": "stderr",
     "output_type": "stream",
     "text": [
      "Running evaluation: 100%|██████████| 37111/37111 [1:07:08<00:00,  9.21it/s]\n"
     ]
    },
    {
     "name": "stdout",
     "output_type": "stream",
     "text": [
      "Updated metrics database: /media/storage/data/shorelines/sensitivity-metrics.csv\n"
     ]
    },
    {
     "name": "stderr",
     "output_type": "stream",
     "text": [
      "Running evaluation: 100%|██████████| 37111/37111 [12:32<00:00, 49.34it/s]\n"
     ]
    },
    {
     "name": "stdout",
     "output_type": "stream",
     "text": [
      "Updated metrics database: /media/storage/data/shorelines/sensitivity-metrics.csv\n"
     ]
    },
    {
     "name": "stderr",
     "output_type": "stream",
     "text": [
      "Running evaluation: 100%|██████████| 37111/37111 [1:06:07<00:00,  9.35it/s]\n"
     ]
    },
    {
     "name": "stdout",
     "output_type": "stream",
     "text": [
      "Updated metrics database: /media/storage/data/shorelines/sensitivity-metrics.csv\n"
     ]
    },
    {
     "name": "stderr",
     "output_type": "stream",
     "text": [
      "Running evaluation: 100%|██████████| 37111/37111 [12:58<00:00, 47.64it/s]\n"
     ]
    },
    {
     "name": "stdout",
     "output_type": "stream",
     "text": [
      "Updated metrics database: /media/storage/data/shorelines/sensitivity-metrics.csv\n"
     ]
    },
    {
     "name": "stderr",
     "output_type": "stream",
     "text": [
      "Running evaluation: 100%|██████████| 37111/37111 [1:05:15<00:00,  9.48it/s]\n"
     ]
    },
    {
     "name": "stdout",
     "output_type": "stream",
     "text": [
      "Updated metrics database: /media/storage/data/shorelines/sensitivity-metrics.csv\n"
     ]
    }
   ],
   "source": [
    "for prediction_length in np.arange(1, 12):\n",
    "    for method in metadata['method_names']:\n",
    "        metadata['prediction_length'] = prediction_length\n",
    "        train_ds, test_ds = get_gluon_ds()\n",
    "#         test_ds = ListDataset(test_ds.list_data[:200], freq=metadata['freq'])\n",
    "        eval_loop(method)"
   ]
  },
  {
   "cell_type": "code",
   "execution_count": 15,
   "metadata": {},
   "outputs": [],
   "source": [
    "tmp = pd.read_csv(fpath)\n",
    "# tmp['predictor'].unique()\n",
    "\n",
    "tmp2 = tmp.loc[tmp['predictor']=='RForecastPredictor']"
   ]
  },
  {
   "cell_type": "code",
   "execution_count": 20,
   "metadata": {},
   "outputs": [
    {
     "data": {
      "text/plain": [
       "Index(['add_trend', 'cardinality', 'cell_type', 'dropout_rate', 'dtype',\n",
       "       'embedding_dimension', 'freq', 'innovation_bounds', 'issm', 'lead_time',\n",
       "       'noise_std_bounds', 'num_cells', 'num_layers', 'num_parallel_samples',\n",
       "       'past_length', 'prediction_length', 'prior_cov_bounds', 'scaling',\n",
       "       'time_features', 'use_feat_dynamic_real', 'use_feat_static_cat',\n",
       "       'batch_size', 'clip_gradient', 'ctx', 'epochs', 'halt', 'hybridize',\n",
       "       'init', 'learning_rate', 'learning_rate_decay_factor',\n",
       "       'minimum_learning_rate', 'num_batches_per_epoch', 'patience',\n",
       "       'weight_decay', 'predictor', 'predictor_id', 'MSE', 'abs_error',\n",
       "       'abs_target_sum', 'abs_target_mean', 'seasonal_error', 'MASE', 'MAPE',\n",
       "       'sMAPE', 'OWA', 'MSIS', 'QuantileLoss[0.1]', 'Coverage[0.1]',\n",
       "       'QuantileLoss[0.2]', 'Coverage[0.2]', 'QuantileLoss[0.3]',\n",
       "       'Coverage[0.3]', 'QuantileLoss[0.4]', 'Coverage[0.4]',\n",
       "       'QuantileLoss[0.5]', 'Coverage[0.5]', 'QuantileLoss[0.6]',\n",
       "       'Coverage[0.6]', 'QuantileLoss[0.7]', 'Coverage[0.7]',\n",
       "       'QuantileLoss[0.8]', 'Coverage[0.8]', 'QuantileLoss[0.9]',\n",
       "       'Coverage[0.9]', 'RMSE', 'NRMSE', 'ND', 'wQuantileLoss[0.1]',\n",
       "       'wQuantileLoss[0.2]', 'wQuantileLoss[0.3]', 'wQuantileLoss[0.4]',\n",
       "       'wQuantileLoss[0.5]', 'wQuantileLoss[0.6]', 'wQuantileLoss[0.7]',\n",
       "       'wQuantileLoss[0.8]', 'wQuantileLoss[0.9]', 'mean_wQuantileLoss',\n",
       "       'MAE_Coverage', '_r_method', '_rinterface', '_robjects', '_rpackages',\n",
       "       '_stats_pkg', 'method_name', 'params', 'period', 'trunc_length',\n",
       "       'batch_normalization', 'context_length', 'distr_output', 'mean_scaling',\n",
       "       'num_hidden_dimensions', 'nRMSE', 'MAE'],\n",
       "      dtype='object')"
      ]
     },
     "execution_count": 20,
     "metadata": {},
     "output_type": "execute_result"
    }
   ],
   "source": [
    "ets.columns"
   ]
  },
  {
   "cell_type": "code",
   "execution_count": 28,
   "metadata": {},
   "outputs": [
    {
     "data": {
      "text/plain": [
       "array(['DeepStateEstimator', 'RForecastPredictor',\n",
       "       'SimpleFeedForwardEstimator', 'linregress'], dtype=object)"
      ]
     },
     "execution_count": 28,
     "metadata": {},
     "output_type": "execute_result"
    }
   ],
   "source": [
    "tmp['predictor'].unique()"
   ]
  },
  {
   "cell_type": "code",
   "execution_count": 43,
   "metadata": {},
   "outputs": [
    {
     "data": {
      "text/plain": [
       "<matplotlib.axes._subplots.AxesSubplot at 0x7ff72ebb8070>"
      ]
     },
     "execution_count": 43,
     "metadata": {},
     "output_type": "execute_result"
    },
    {
     "data": {
      "image/png": "[encoded data removed]",
      "text/plain": [
       "<Figure size 432x288 with 1 Axes>"
      ]
     },
     "metadata": {
      "needs_background": "light"
     },
     "output_type": "display_data"
    }
   ],
   "source": [
    "\n",
    "lr = tmp.loc[tmp['predictor']=='linregress']\n",
    "ets = tmp.loc[tmp['method_name']=='ets']\n",
    "arima = tmp.loc[tmp['method_name']=='arima']\n",
    "ffn = tmp.loc[tmp['predictor']=='SimpleFeedForwardEstimator']\n",
    "deepstate = tmp.loc[tmp['predictor']=='DeepStateEstimator']\n",
    "\n",
    "\n",
    "def plot_metric(ax, method):\n",
    "    ax.plot(lr['prediction_length'], lr[method], label='lr')\n",
    "    ax.plot(ets['prediction_length'], ets[method], label='ets')\n",
    "    ax.plot(arima['prediction_length'], arima[method], label='arima')\n",
    "    ax.plot(ffn['prediction_length'], ffn[method], label='ffn')\n",
    "    ax.plot(deepstate['prediction_length'], deepstate[method], label='deepstate')\n",
    "    ax.legend()\n",
    "    return ax\n",
    "\n",
    "fig, ax = plt.subplots()\n",
    "plot_metric(ax, method='MASE')"
   ]
  },
  {
   "cell_type": "code",
   "execution_count": 14,
   "metadata": {},
   "outputs": [
    {
     "data": {
      "image/png": "[encoded data removed]",
      "text/plain": [
       "<Figure size 432x288 with 2 Axes>"
      ]
     },
     "metadata": {
      "needs_background": "light"
     },
     "output_type": "display_data"
    }
   ],
   "source": [
    "tmp = pd.read_csv(fpath)\n",
    "selection = tmp.loc[tmp['predictor']=='RForecastPredictor']\n",
    "\n",
    "fig, axes = plt.subplots(nrows=1, ncols=2)\n",
    "for df, ax in zip(tmp.groupby('method_name'), axes.flatten()):\n",
    "    ax.plot(df[1]['prediction_length'], df[1]['MAPE'])\n",
    "    "
   ]
  },
  {
   "cell_type": "code",
   "execution_count": null,
   "metadata": {},
   "outputs": [],
   "source": [
    "def evaluate_r_methods(method_names: list, dataset) -> pd.DataFrame:\n",
    "    results = []\n",
    "    for method in method_names:\n",
    "        predictor = RForecastPredictor(\n",
    "            freq=metadata['freq'],  \n",
    "            prediction_length=metadata['prediction_length'],\n",
    "            method_name = method\n",
    "            )\n",
    "      \n",
    "        forecast_it, ts_it = make_evaluation_predictions(\n",
    "            dataset, predictor=predictor, num_samples=100\n",
    "        )        \n",
    "\n",
    "        \n",
    "        evaluator = Evaluator()\n",
    "\n",
    "        agg_metrics, item_metrics = evaluator(ts_it, forecast_it)\n",
    "        \n",
    "        item_metrics[\"prediction_length\"] = metadata[\"prediction_length\"]\n",
    "        item_metrics[\"context_length\"] = metadata[\"context_length\"]\n",
    "        item_metrics[\"predictor\"] = method\n",
    "        item_metrics[\"predictor_id\"] = get_predictor_id()\n",
    "        item_metrics[\"item_id\"] = [i[\"item_id\"] for i in iter(dataset)]\n",
    "        \n",
    "        results.append(item_metrics)\n",
    "    return pd.concat(results)\n",
    "\n",
    "\n",
    "def sample_df(forecast):\n",
    "    samples = forecast.samples\n",
    "    ns, h = samples.shape\n",
    "    dates = pd.date_range(forecast.start_date, freq=forecast.freq, periods=h)\n",
    "    return pd.DataFrame(samples.T, index=dates)\n",
    "\n",
    "def forecast_r_methods(method_names: list, dataset) -> dict():\n",
    "    fcst_dict = {}\n",
    "    for method in method_names:\n",
    "        predictor = RForecastPredictor(\n",
    "            freq=metadata[\"freq\"],\n",
    "            prediction_length=metadata[\"prediction_length\"],\n",
    "            method_name=method\n",
    "        )\n",
    "        \n",
    "        fcst_dict[method] = predictor.predict(dataset)        \n",
    "    return fcst_dict\n",
    "\n",
    "def forecasts_df(dataset, forecast_it):\n",
    "    ds_it = iter(dataset)\n",
    "    parts = [sample_df(transect_id).assign(transect_id=i[\"item_id\"])\n",
    "             for i, transect_id in zip(ds_it, forecast_it)]\n",
    "    return pd.concat(parts)"
   ]
  },
  {
   "cell_type": "code",
   "execution_count": 8,
   "metadata": {},
   "outputs": [],
   "source": [
    "from gluonts.model.r_forecast import RForecastPredictor\n",
    "from gluonts.evaluation import Evaluator\n",
    "from gluonts.evaluation.backtest import make_evaluation_predictions\n",
    "\n",
    "from shorelineforecasting.utils.configs import get_predictor_id\n",
    "\n",
    "\n",
    "def evaluate_r_methods(dataset, prediction_length):\n",
    "    context_length = metadata['num_steps'] - prediction_length\n",
    "    results = []\n",
    "    for method in metadata['method_names']:\n",
    "        predictor = RForecastPredictor(\n",
    "            freq=metadata['freq'],  \n",
    "            prediction_length=prediction_length,\n",
    "            method_name = method\n",
    "            )\n",
    "      \n",
    "        forecast_it, ts_it = make_evaluation_predictions(\n",
    "            dataset, predictor=predictor, num_samples=100\n",
    "        )        \n",
    "\n",
    "        \n",
    "        evaluator = Evaluator()\n",
    "\n",
    "        agg_metrics, item_metrics = evaluator(ts_it, forecast_it)\n",
    "        \n",
    "        item_metrics[\"prediction_length\"] = prediction_length\n",
    "        item_metrics[\"context_length\"] = context_length\n",
    "        item_metrics[\"predictor\"] = method\n",
    "        item_metrics[\"predictor_id\"] = get_predictor_id()\n",
    "        item_metrics[\"item_id\"] = [i[\"item_id\"] for i in iter(dataset)]\n",
    "        \n",
    "        results.append(item_metrics)\n",
    "    return pd.concat(results)"
   ]
  },
  {
   "cell_type": "code",
   "execution_count": 9,
   "metadata": {},
   "outputs": [
    {
     "name": "stderr",
     "output_type": "stream",
     "text": [
      "/media/storage/dev/shorelineforecasting/shorelineforecasting/venv/lib/python3.8/site-packages/rpy2/rinterface/__init__.py:146: RRuntimeWarning: Registered S3 method overwritten by 'quantmod':\n",
      "  method            from\n",
      "  as.zoo.data.frame zoo \n",
      "\n",
      "  warnings.warn(x, RRuntimeWarning)\n",
      "Running evaluation: 37111it [11:34, 53.42it/s]\n",
      "Running evaluation: 37111it [1:05:23,  9.46it/s]\n",
      "Running evaluation: 37111it [11:26, 54.06it/s]\n",
      "Running evaluation: 37111it [1:02:21,  9.92it/s]\n",
      "Running evaluation: 37111it [11:26, 54.07it/s]\n",
      "Running evaluation: 37111it [58:04, 10.65it/s]\n",
      "Running evaluation: 37111it [11:36, 53.31it/s]\n",
      "Running evaluation: 37111it [54:43, 11.30it/s]\n",
      "Running evaluation: 37111it [11:39, 53.02it/s]\n",
      "Running evaluation: 37111it [52:38, 11.75it/s]\n",
      "Running evaluation: 37111it [11:40, 52.96it/s]\n",
      "Running evaluation: 37111it [38:01, 16.27it/s]\n"
     ]
    }
   ],
   "source": [
    "results = []\n",
    "for prediction_length in np.arange(5, 28, 4):\n",
    "    metrics = evaluate_r_methods(test_ds, prediction_length)\n",
    "    results.append(metrics)\n",
    "    pd.concat(results).to_csv(\"/media/storage/data/shorelines/ets-arima-robustness.csv\", index=False, header=True)"
   ]
  },
  {
   "cell_type": "code",
   "execution_count": null,
   "metadata": {},
   "outputs": [
    {
     "name": "stderr",
     "output_type": "stream",
     "text": [
      "/media/storage/dev/shorelineforecasting/shorelineforecasting/venv/lib/python3.8/site-packages/rpy2/rinterface/__init__.py:146: RRuntimeWarning: Registered S3 method overwritten by 'quantmod':\n",
      "  method            from\n",
      "  as.zoo.data.frame zoo \n",
      "\n",
      "  warnings.warn(x, RRuntimeWarning)\n",
      "Running evaluation: 37112it [14:57, 41.35it/s]\n",
      "Running evaluation: 27546it [59:42,  5.41it/s]"
     ]
    }
   ],
   "source": [
    "metrics = evaluate_r_methods([\"ets\", \"arima\"], test_ds)\n",
    "# forecasts = forecast_r_methods([\"ets\", \"arima\"], test_ds)\n",
    "# ts_it = iter(test_ds)\n",
    "# ets_fcst_it = iter(forecasts[\"ets\"])\n",
    "# arima_fcst_it = iter(forecasts[\"arima\"])"
   ]
  },
  {
   "cell_type": "code",
   "execution_count": 143,
   "metadata": {},
   "outputs": [],
   "source": [
    "ets_fcst_entry = next(ets_fcst_it)\n",
    "arima_fcst_entry = next(arima_fcst_it)\n",
    "ts_entry = next(ts_it)"
   ]
  },
  {
   "cell_type": "code",
   "execution_count": 144,
   "metadata": {},
   "outputs": [
    {
     "data": {
      "image/png": "[encoded data removed]",
      "text/plain": [
       "<Figure size 720x504 with 1 Axes>"
      ]
     },
     "metadata": {
      "needs_background": "light"
     },
     "output_type": "display_data"
    },
    {
     "data": {
      "image/png": "[encoded data removed]",
      "text/plain": [
       "<Figure size 720x504 with 1 Axes>"
      ]
     },
     "metadata": {
      "needs_background": "light"
     },
     "output_type": "display_data"
    }
   ],
   "source": [
    "def plot_prob_forecasts(ts_entry, fcst_entry):\n",
    "    ts_idx = pd.date_range(start=ts_entry[\"start\"],periods=len(ts_entry[\"target\"]),freq=\"AS\")\n",
    "    ts = pd.Series(ts_entry[\"target\"], index=ts_idx)\n",
    "    prediction_intervals = (50.0, 90.0)\n",
    "    legend = [\"observations\", \"median prediction\"] + [f\"{k}% prediction interval\" for k in prediction_intervals][::-1]\n",
    "\n",
    "    fig, ax = plt.subplots(1, 1, figsize=(10, 7))\n",
    "    ts.plot(ax=ax)  # plot the time series\n",
    "    \n",
    "    fcst_entry.plot(prediction_intervals=prediction_intervals, color='g')\n",
    "    plt.grid(which=\"both\")\n",
    "    plt.legend(legend, loc=\"upper left\")\n",
    "    plt.show()\n",
    "\n",
    "    \n",
    "plot_prob_forecasts(ts_entry, ets_fcst_entry)\n",
    "plot_prob_forecasts(ts_entry, arima_fcst_entry)"
   ]
  },
  {
   "cell_type": "markdown",
   "metadata": {},
   "source": [
    "### Predict specific transects"
   ]
  },
  {
   "cell_type": "code",
   "execution_count": 75,
   "metadata": {},
   "outputs": [],
   "source": [
    "def rforecast_transect(transects, dataset, method='arima', freq=None, \n",
    "                       prediction_length=None, **kwargs):\n",
    "    \n",
    "    if prediction_length is None:\n",
    "        prediction_length = metadata['prediction_length']\n",
    "        \n",
    "    if freq is None:\n",
    "        freq = metadata['freq']\n",
    "\n",
    "    dataset_it = iter(dataset)\n",
    "    \n",
    "    dataset = ListDataset(\n",
    "        [\n",
    "            i for i in dataset_it if i['item_id'] in transects\n",
    "        ], \n",
    "        freq=metadata['freq']\n",
    "    )\n",
    "    \n",
    "    predictor = RForecastPredictor(\n",
    "        freq=freq,\n",
    "        prediction_length=prediction_length,\n",
    "        method_name=method\n",
    "    )\n",
    "    \n",
    "    return iter(dataset), predictor.predict(dataset)\n",
    "     \n",
    "    \n",
    "duck = [f'BOX_160_055_3{i}' for i in np.arange(42, 50, 1)]    \n",
    "\n",
    "arima_ts_it, arima_forecast_it = rforecast_transect(\n",
    "    transects=duck,\n",
    "    dataset=test_ds,\n",
    "    method='arima',\n",
    "    prediction_length=15\n",
    ")\n",
    "\n",
    "ets_ts_it, ets_forecast_it = rforecast_transect(\n",
    "    transects=duck,\n",
    "    dataset=test_ds,\n",
    "    method='ets',\n",
    "    prediction_length=15\n",
    ")        \n",
    "    \n",
    "    \n"
   ]
  },
  {
   "cell_type": "code",
   "execution_count": 76,
   "metadata": {},
   "outputs": [
    {
     "data": {
      "image/png": "[encoded data removed]",
      "text/plain": [
       "<Figure size 518.4x320.4 with 1 Axes>"
      ]
     },
     "metadata": {
      "needs_background": "light"
     },
     "output_type": "display_data"
    }
   ],
   "source": [
    "from matplotlib.ticker import ScalarFormatter, AutoMinorLocator\n",
    "import matplotlib as mpl\n",
    "\n",
    "plt.style.use(os.path.join(configuration_dir, 'PaperSingleFig.mplstyle'))\n",
    "\n",
    "def plot_prob_forecast(ax, ts_entry, fcst_entry):\n",
    "    \n",
    "    prediction_intervals = (50.0, 90.0)\n",
    "    legend = [f\"{ts_entry['item_id']}\", \"median prediction\"] + [f\"{k}% prediction interval\" for k in prediction_intervals][::-1]\n",
    "    \n",
    "    ts_idx = pd.date_range(\n",
    "        start=ts_entry[\"start\"],\n",
    "        periods=len(ts_entry[\"target\"]),\n",
    "        freq=\"AS\"\n",
    "    )\n",
    "    \n",
    "    \n",
    "    ts = pd.Series(ts_entry[\"target\"], index=ts_idx)\n",
    "    ts.plot(ax=ax)  # plot the time series\n",
    "    \n",
    "    fcst_entry.plot(\n",
    "        prediction_intervals=prediction_intervals,\n",
    "        color='g'\n",
    "    ) \n",
    "    \n",
    "    ax.set_ylabel('Relative shoreline position (m)')\n",
    "    ax.set_xlabel('Time (yrs)')\n",
    "    ax.grid(which=\"both\")\n",
    "    ax.legend(legend, loc=\"upper left\")\n",
    "    \n",
    "    return ax\n",
    "\n",
    "\n"
   ]
  },
  {
   "cell_type": "code",
   "execution_count": 78,
   "metadata": {},
   "outputs": [
    {
     "data": {
      "image/png": "[encoded data removed]",
      "text/plain": [
       "<Figure size 518.4x320.4 with 1 Axes>"
      ]
     },
     "metadata": {
      "needs_background": "light"
     },
     "output_type": "display_data"
    }
   ],
   "source": [
    "fig, ax = plt.subplots()\n",
    "plot_prob_forecast(ax, next(arima_ts_it), next(arima_forecast_it))\n",
    "plt.savefig(os.path.join(report_dir, 'images/arima.pdf'), dpi=300)\n",
    "plt.show()"
   ]
  },
  {
   "cell_type": "code",
   "execution_count": 81,
   "metadata": {},
   "outputs": [
    {
     "data": {
      "image/png": "[encoded data removed]",
      "text/plain": [
       "<Figure size 518.4x320.4 with 1 Axes>"
      ]
     },
     "metadata": {
      "needs_background": "light"
     },
     "output_type": "display_data"
    }
   ],
   "source": [
    "fig, ax = plt.subplots()\n",
    "plot_prob_forecast(ax, next(ets_ts_it), next(ets_forecast_it))\n",
    "plt.savefig(os.path.join(report_dir, 'images/ets.pdf'), dpi=300)\n",
    "plt.show()"
   ]
  },
  {
   "cell_type": "markdown",
   "metadata": {},
   "source": [
    "### Linear regression"
   ]
  },
  {
   "cell_type": "code",
   "execution_count": 8,
   "metadata": {},
   "outputs": [],
   "source": [
    "from scipy import stats\n",
    "\n",
    "from shorelineforecasting.utils.forecasting_metrics import evaluate \n",
    "# from utils import get_predictor_id\n",
    "\n",
    "y = lambda intercept, slope, x: intercept + slope * x\n",
    "\n",
    "def lr(obs, forecast=False):\n",
    "    x = range(len(obs))\n",
    "    slope, intercept, _, _, _ = stats.linregress(x, obs)\n",
    "    if forecast is True:\n",
    "        x = range(len(obs) + metadata[\"prediction_length\"])\n",
    "    return [y(intercept, slope, x) for x in x]\n",
    "\n",
    "def make_evaluation_predictions_lr(dataset, metrics: list):\n",
    "    dataset = dataset.list_data\n",
    "    results = []\n",
    "    for i in dataset:\n",
    "        fcast = lr(i[\"target\"][:-metadata[\"prediction_length\"]], forecast=True)\n",
    "        eval_dict = evaluate(actual = i[\"target\"][-metadata[\"prediction_length\"]:], \n",
    "                             predicted = fcast[-metadata[\"prediction_length\"]:], \n",
    "                             metrics = metrics)\n",
    "        eval_dict[\"item_id\"] = i[\"item_id\"]\n",
    "        results.append(eval_dict)\n",
    "    return results\n",
    "\n",
    "# results = make_evaluation_predictions_lr(test_ds, metrics=[\"mse\", \"mase\", \"mape\", \"smape\", \"rmse\", \"nrmse\", \"abs_error\", \"mae\"])\n",
    "# lr_metrics = pd.DataFrame(results)"
   ]
  },
  {
   "cell_type": "code",
   "execution_count": 29,
   "metadata": {},
   "outputs": [],
   "source": [
    "lr_metrics['predictor'] = 'linregress'\n",
    "lr_metrics['predictor_id'] = 0\n",
    "lr_metrics.columns = ['MSE', 'MASE', 'MAPE', 'sMAPE', 'RMSE', 'nRMSE', 'abs_error', 'MAE', 'item_id', 'predictor', 'predictor_id']\n",
    "lr_metrics"
   ]
  },
  {
   "cell_type": "code",
   "execution_count": 9,
   "metadata": {},
   "outputs": [
    {
     "name": "stderr",
     "output_type": "stream",
     "text": [
      "/media/storage/dev/shorelineforecasting/shorelineforecasting/venv/lib/python3.8/site-packages/numpy/core/fromnumeric.py:3256: RuntimeWarning: Mean of empty slice.\n",
      "  return _methods._mean(a, axis=axis, dtype=dtype,\n",
      "/media/storage/dev/shorelineforecasting/shorelineforecasting/venv/lib/python3.8/site-packages/numpy/core/_methods.py:161: RuntimeWarning: invalid value encountered in double_scalars\n",
      "  ret = ret.dtype.type(ret / rcount)\n",
      "/media/storage/dev/shorelineforecasting/shorelineforecasting/utils/forecasting_metrics.py:82: RuntimeWarning: divide by zero encountered in double_scalars\n",
      "  return rmse(actual, predicted) / (actual.max() - actual.min())\n",
      "/media/storage/dev/shorelineforecasting/shorelineforecasting/utils/forecasting_metrics.py:167: RuntimeWarning: divide by zero encountered in double_scalars\n",
      "  return mae(actual, predicted) / mae(actual[seasonality:], _naive_forecasting(actual, seasonality))\n"
     ]
    }
   ],
   "source": [
    "fpath = os.path.join(data_dir, 'sensitivity-metrics.csv')\n",
    "\n",
    "for prediction_length in np.arange(1, 12):\n",
    "    metadata['prediction_length'] = prediction_length\n",
    "    results = make_evaluation_predictions_lr(test_ds, metrics=[\"mse\", \"mase\", \"mape\", \"smape\", \"rmse\", \"nrmse\", \"abs_error\", \"mae\"])\n",
    "    lr_metrics = pd.DataFrame(results)\n",
    "    lr_metrics = pd.DataFrame(lr_metrics.mean()).T\n",
    "    lr_metrics.columns = ['MSE', 'MASE', 'MAPE', 'sMAPE', 'RMSE', 'nRMSE', 'abs_error', 'MAE']\n",
    "    lr_metrics['predictor_id'] = get_predictor_id\n",
    "    lr_metrics['predictor'] = 'linregress'\n",
    "    lr_metrics['prediction_length'] = prediction_length\n",
    "    params = pd.read_csv(fpath)\n",
    "    updated_params = pd.concat([params, lr_metrics], axis=0, ignore_index=True)\n",
    "    updated_params.to_csv(fpath, header=True, index=False)\n"
   ]
  },
  {
   "cell_type": "code",
   "execution_count": 25,
   "metadata": {},
   "outputs": [],
   "source": [
    "ets_arima_metrics = pd.read_pickle(\"/media/storage/data/shorelines/ets-arima-metrics.pkl\")\n",
    "lr_metrics = pd.read_pickle(\"/media/storage/data/shorelines/lr-metrics.pkl\")\n",
    "ets_metrics = ets_arima_metrics.loc[ets_arima_metrics[\"predictor\"]==\"ets\"]\n",
    "arima_metrics = ets_arima_metrics.loc[ets_arima_metrics[\"predictor\"]==\"arima\"]"
   ]
  },
  {
   "cell_type": "code",
   "execution_count": 26,
   "metadata": {},
   "outputs": [
    {
     "name": "stdout",
     "output_type": "stream",
     "text": [
      "0.05071888328463737\n",
      "0.04355436456437403\n",
      "0.04220988850904515\n"
     ]
    }
   ],
   "source": [
    "lr_metrics[\"MAPE\"] = lr_metrics[\"mape\"]\n",
    "for i in [lr_metrics, ets_metrics, arima_metrics]:\n",
    "    print(i[\"MAPE\"].mean())"
   ]
  },
  {
   "cell_type": "code",
   "execution_count": 40,
   "metadata": {},
   "outputs": [
    {
     "data": {
      "text/html": [
       "<div>\n",
       "<style scoped>\n",
       "    .dataframe tbody tr th:only-of-type {\n",
       "        vertical-align: middle;\n",
       "    }\n",
       "\n",
       "    .dataframe tbody tr th {\n",
       "        vertical-align: top;\n",
       "    }\n",
       "\n",
       "    .dataframe thead th {\n",
       "        text-align: right;\n",
       "    }\n",
       "</style>\n",
       "<table border=\"1\" class=\"dataframe\">\n",
       "  <thead>\n",
       "    <tr style=\"text-align: right;\">\n",
       "      <th></th>\n",
       "      <th>mse</th>\n",
       "      <th>mase</th>\n",
       "      <th>mape</th>\n",
       "      <th>smape</th>\n",
       "      <th>rmse</th>\n",
       "      <th>nrmse</th>\n",
       "      <th>MAPE</th>\n",
       "    </tr>\n",
       "  </thead>\n",
       "  <tbody>\n",
       "    <tr>\n",
       "      <th>0</th>\n",
       "      <td>2184.934204</td>\n",
       "      <td>1.303097</td>\n",
       "      <td>0.059512</td>\n",
       "      <td>0.061263</td>\n",
       "      <td>46.743280</td>\n",
       "      <td>0.472199</td>\n",
       "      <td>0.059512</td>\n",
       "    </tr>\n",
       "    <tr>\n",
       "      <th>1</th>\n",
       "      <td>1152.427279</td>\n",
       "      <td>4.259721</td>\n",
       "      <td>0.040382</td>\n",
       "      <td>0.041303</td>\n",
       "      <td>33.947419</td>\n",
       "      <td>1.024420</td>\n",
       "      <td>0.040382</td>\n",
       "    </tr>\n",
       "    <tr>\n",
       "      <th>2</th>\n",
       "      <td>1540.350971</td>\n",
       "      <td>0.742026</td>\n",
       "      <td>0.032867</td>\n",
       "      <td>0.031695</td>\n",
       "      <td>39.247305</td>\n",
       "      <td>0.366539</td>\n",
       "      <td>0.032867</td>\n",
       "    </tr>\n",
       "    <tr>\n",
       "      <th>3</th>\n",
       "      <td>49.398626</td>\n",
       "      <td>1.934156</td>\n",
       "      <td>0.008152</td>\n",
       "      <td>0.008115</td>\n",
       "      <td>7.028416</td>\n",
       "      <td>1.251164</td>\n",
       "      <td>0.008152</td>\n",
       "    </tr>\n",
       "    <tr>\n",
       "      <th>4</th>\n",
       "      <td>1298.588458</td>\n",
       "      <td>3.052631</td>\n",
       "      <td>0.113803</td>\n",
       "      <td>0.107121</td>\n",
       "      <td>36.035933</td>\n",
       "      <td>1.214348</td>\n",
       "      <td>0.113803</td>\n",
       "    </tr>\n",
       "    <tr>\n",
       "      <th>...</th>\n",
       "      <td>...</td>\n",
       "      <td>...</td>\n",
       "      <td>...</td>\n",
       "      <td>...</td>\n",
       "      <td>...</td>\n",
       "      <td>...</td>\n",
       "      <td>...</td>\n",
       "    </tr>\n",
       "    <tr>\n",
       "      <th>37107</th>\n",
       "      <td>652.911778</td>\n",
       "      <td>0.862765</td>\n",
       "      <td>0.036507</td>\n",
       "      <td>0.036816</td>\n",
       "      <td>25.552138</td>\n",
       "      <td>0.329099</td>\n",
       "      <td>0.036507</td>\n",
       "    </tr>\n",
       "    <tr>\n",
       "      <th>37108</th>\n",
       "      <td>406.047901</td>\n",
       "      <td>0.767782</td>\n",
       "      <td>0.034232</td>\n",
       "      <td>0.035460</td>\n",
       "      <td>20.150630</td>\n",
       "      <td>0.422489</td>\n",
       "      <td>0.034232</td>\n",
       "    </tr>\n",
       "    <tr>\n",
       "      <th>37109</th>\n",
       "      <td>274.882671</td>\n",
       "      <td>0.988831</td>\n",
       "      <td>0.021447</td>\n",
       "      <td>0.021444</td>\n",
       "      <td>16.579586</td>\n",
       "      <td>0.365029</td>\n",
       "      <td>0.021447</td>\n",
       "    </tr>\n",
       "    <tr>\n",
       "      <th>37110</th>\n",
       "      <td>2077.990451</td>\n",
       "      <td>0.844995</td>\n",
       "      <td>0.076780</td>\n",
       "      <td>0.075449</td>\n",
       "      <td>45.584981</td>\n",
       "      <td>0.384775</td>\n",
       "      <td>0.076780</td>\n",
       "    </tr>\n",
       "    <tr>\n",
       "      <th>37111</th>\n",
       "      <td>2456.012634</td>\n",
       "      <td>0.848592</td>\n",
       "      <td>0.058261</td>\n",
       "      <td>0.055954</td>\n",
       "      <td>49.558174</td>\n",
       "      <td>0.363290</td>\n",
       "      <td>0.058261</td>\n",
       "    </tr>\n",
       "  </tbody>\n",
       "</table>\n",
       "<p>37112 rows × 7 columns</p>\n",
       "</div>"
      ],
      "text/plain": [
       "               mse      mase      mape     smape       rmse     nrmse  \\\n",
       "0      2184.934204  1.303097  0.059512  0.061263  46.743280  0.472199   \n",
       "1      1152.427279  4.259721  0.040382  0.041303  33.947419  1.024420   \n",
       "2      1540.350971  0.742026  0.032867  0.031695  39.247305  0.366539   \n",
       "3        49.398626  1.934156  0.008152  0.008115   7.028416  1.251164   \n",
       "4      1298.588458  3.052631  0.113803  0.107121  36.035933  1.214348   \n",
       "...            ...       ...       ...       ...        ...       ...   \n",
       "37107   652.911778  0.862765  0.036507  0.036816  25.552138  0.329099   \n",
       "37108   406.047901  0.767782  0.034232  0.035460  20.150630  0.422489   \n",
       "37109   274.882671  0.988831  0.021447  0.021444  16.579586  0.365029   \n",
       "37110  2077.990451  0.844995  0.076780  0.075449  45.584981  0.384775   \n",
       "37111  2456.012634  0.848592  0.058261  0.055954  49.558174  0.363290   \n",
       "\n",
       "           MAPE  \n",
       "0      0.059512  \n",
       "1      0.040382  \n",
       "2      0.032867  \n",
       "3      0.008152  \n",
       "4      0.113803  \n",
       "...         ...  \n",
       "37107  0.036507  \n",
       "37108  0.034232  \n",
       "37109  0.021447  \n",
       "37110  0.076780  \n",
       "37111  0.058261  \n",
       "\n",
       "[37112 rows x 7 columns]"
      ]
     },
     "execution_count": 40,
     "metadata": {},
     "output_type": "execute_result"
    }
   ],
   "source": [
    "lr_metrics.select_dtypes(include=[np.float])"
   ]
  },
  {
   "cell_type": "code",
   "execution_count": 50,
   "metadata": {},
   "outputs": [
    {
     "name": "stdout",
     "output_type": "stream",
     "text": [
      "lr: mse: 2510.2638056759442\n",
      "lr: mase: inf\n",
      "lr: mape: 0.05071888328463737\n",
      "lr: smape: 0.032803455336974215\n",
      "lr: rmse: 22.44791489254638\n",
      "lr: nrmse: inf\n",
      "lr: MAPE: 0.05071888328463737\n",
      "------------------------------\n",
      "ets: MSE: 2020.3934760547181\n",
      "ets: abs_error: 117.39256498760469\n",
      "ets: abs_target_sum: 5148.112319531485\n",
      "ets: abs_target_mean: 735.4446170759264\n",
      "ets: seasonal_error: 13.435122173964707\n",
      "ets: MASE: 1.3533420920892136\n",
      "ets: MAPE: 0.04355436456437403\n",
      "ets: sMAPE: 0.02755854137872076\n",
      "ets: OWA: nan\n",
      "ets: MSIS: 16.74299618909899\n",
      "ets: QuantileLoss[0.1]: 58.11150861157645\n",
      "ets: Coverage[0.1]: 0.1339420441597635\n",
      "ets: QuantileLoss[0.2]: 86.49399645630605\n",
      "ets: Coverage[0.2]: 0.2253641486773627\n",
      "ets: QuantileLoss[0.3]: 104.1369874396795\n",
      "ets: Coverage[0.3]: 0.3153427462815262\n",
      "ets: QuantileLoss[0.4]: 113.592096165004\n",
      "ets: Coverage[0.4]: 0.40562159332368425\n",
      "ets: QuantileLoss[0.5]: 117.39256498760469\n",
      "ets: Coverage[0.5]: 0.5050849936870632\n",
      "ets: QuantileLoss[0.6]: 118.24652055553011\n",
      "ets: Coverage[0.6]: 0.5937471129861731\n",
      "ets: QuantileLoss[0.7]: 113.34837754202738\n",
      "ets: Coverage[0.7]: 0.6832907338404213\n",
      "ets: QuantileLoss[0.8]: 99.98252853768858\n",
      "ets: Coverage[0.8]: 0.7700320266067194\n",
      "ets: QuantileLoss[0.9]: 75.42025597254305\n",
      "ets: Coverage[0.9]: 0.8560380931851076\n",
      "------------------------------\n",
      "arima: MSE: 2055.4430486154274\n",
      "arima: abs_error: 121.2002600476669\n",
      "arima: abs_target_sum: 5148.112319531485\n",
      "arima: abs_target_mean: 735.4446170759264\n",
      "arima: seasonal_error: 13.435122173964707\n",
      "arima: MASE: 1.385394490726717\n",
      "arima: MAPE: 0.04220988850904515\n",
      "arima: sMAPE: 0.02866257658145589\n",
      "arima: OWA: nan\n",
      "arima: MSIS: 17.17932501415783\n",
      "arima: QuantileLoss[0.1]: 59.13133811925141\n",
      "arima: Coverage[0.1]: 0.12431481538508912\n",
      "arima: QuantileLoss[0.2]: 88.45241255232021\n",
      "arima: Coverage[0.2]: 0.21253810858251468\n",
      "arima: QuantileLoss[0.3]: 106.82850910887394\n",
      "arima: Coverage[0.3]: 0.30164675268684754\n",
      "arima: QuantileLoss[0.4]: 116.8019833546033\n",
      "arima: Coverage[0.4]: 0.3935577248791303\n",
      "arima: QuantileLoss[0.5]: 121.2002600476669\n",
      "arima: Coverage[0.5]: 0.5007044313737566\n",
      "arima: QuantileLoss[0.6]: 122.29973501859217\n",
      "arima: Coverage[0.6]: 0.5944245988975455\n",
      "arima: QuantileLoss[0.7]: 117.67985906643658\n",
      "arima: Coverage[0.7]: 0.6874980753241153\n",
      "arima: QuantileLoss[0.8]: 104.53164722788864\n",
      "arima: Coverage[0.8]: 0.7746858928956364\n",
      "arima: QuantileLoss[0.9]: 79.53901643318403\n",
      "arima: Coverage[0.9]: 0.8603301204077233\n",
      "------------------------------\n"
     ]
    }
   ],
   "source": [
    "for metrics, method in zip([lr_metrics, ets_metrics, arima_metrics], [\"lr\", \"ets\", \"arima\"]):\n",
    "    for i in list(metrics.select_dtypes(include=[np.float])):\n",
    "        print(f\"{method}: {i}: {metrics[i].mean()}\")\n",
    "    print(\"---\"*10)\n",
    "\n"
   ]
  }
 ],
 "metadata": {
  "colab": {
   "collapsed_sections": [],
   "name": "ets-arima.ipynb",
   "provenance": []
  },
  "kernelspec": {
   "display_name": "Python 3",
   "language": "python",
   "name": "python3"
  },
  "language_info": {
   "codemirror_mode": {
    "name": "ipython",
    "version": 3
   },
   "file_extension": ".py",
   "mimetype": "text/x-python",
   "name": "python",
   "nbconvert_exporter": "python",
   "pygments_lexer": "ipython3",
   "version": "3.8.5"
  }
 },
 "nbformat": 4,
 "nbformat_minor": 1
}
